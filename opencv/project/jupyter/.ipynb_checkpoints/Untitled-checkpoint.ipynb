{
 "cells": [
  {
   "cell_type": "code",
   "execution_count": 1,
   "id": "82c0793d-f2d5-4fd5-9202-7e7bb2577443",
   "metadata": {},
   "outputs": [
    {
     "data": {
      "application/vnd.jupyter.widget-view+json": {
       "model_id": "f0a6ffb3d36e43d39fdd857a91156a8b",
       "version_major": 2,
       "version_minor": 0
      },
      "text/plain": [
       "Canvas(height=720, width=640)"
      ]
     },
     "metadata": {},
     "output_type": "display_data"
    }
   ],
   "source": [
    "from ipycanvas import Canvas, hold_canvas\n",
    "from IPython.display import display\n",
    "from PIL import Image\n",
    "import numpy as np\n",
    "\n",
    "# Load your image\n",
    "img = Image.open('c.png')\n",
    "img_array = np.array(img)\n",
    "\n",
    "# Create a canvas with the same size as the image\n",
    "canvas = Canvas(width=img_array.shape[1], height=img_array.shape[0])\n",
    "\n",
    "# Draw the image onto the canvas\n",
    "canvas.put_image_data(img_array, 0, 0)\n",
    "\n",
    "# Display the canvas\n",
    "display(canvas)\n",
    "\n",
    "# Now you can draw on the canvas using various methods\n",
    "with hold_canvas(canvas):\n",
    "    canvas.fill_style = 'rgba(255, 0, 0, 0.5)'  # semi-transparent red\n",
    "    canvas.fill_rect(50, 50, 100, 100)  # example of drawing a rectangle\n"
   ]
  },
  {
   "cell_type": "code",
   "execution_count": null,
   "id": "f743d8e0-a62b-4a03-ab48-1522d2fccb38",
   "metadata": {},
   "outputs": [],
   "source": [
    "!jupyter labextension install @jupyter-widgets/jupyterlab-manager ipycanvas"
   ]
  },
  {
   "cell_type": "code",
   "execution_count": null,
   "id": "1a6f1297-26c6-477a-b957-c82afbcf23ae",
   "metadata": {},
   "outputs": [],
   "source": [
    "import cv2\n",
    "import numpy as np\n",
    "\n",
    "drawing = False\n",
    "ix, iy = -1, -1\n",
    "\n",
    "def draw_mask(event, x, y, flags, param):\n",
    "    global ix, iy, drawing, img, mask\n",
    "\n",
    "    if event == cv2.EVENT_LBUTTONDOWN:\n",
    "        drawing = True\n",
    "        ix, iy = x, y\n",
    "\n",
    "    elif event == cv2.EVENT_MOUSEMOVE:\n",
    "        if drawing == True:\n",
    "            cv2.line(img, (ix, iy), (x, y), (0, 255, 0), 2)\n",
    "            cv2.line(mask, (ix, iy), (x, y), 255, 2)\n",
    "            ix, iy = x, y\n",
    "\n",
    "    elif event == cv2.EVENT_LBUTTONUP:\n",
    "        drawing = False\n",
    "        cv2.line(img, (ix, iy), (x, y), (0, 255, 0), 2)\n",
    "        cv2.line(mask, (ix, iy), (x, y), 255, 2)\n",
    "\n",
    "# Load the image\n",
    "img = cv2.imread('c.png')\n",
    "mask = np.zeros(img.shape[:2], np.uint8)\n",
    "\n",
    "cv2.namedWindow('image')\n",
    "cv2.setMouseCallback('image', draw_mask)\n",
    "\n",
    "while(1):\n",
    "    cv2.imshow('image', img)\n",
    "    cv2.imshow('mask', mask)\n",
    "    k = cv2.waitKey(1) & 0xFF\n",
    "    if k == \"q\":  # ESC key to exit\n",
    "        break\n",
    "\n",
    "cv2.destroyAllWindows()"
   ]
  },
  {
   "cell_type": "code",
   "execution_count": null,
   "id": "ff365ac4-21d6-4c49-9884-89c4a8af7963",
   "metadata": {},
   "outputs": [],
   "source": []
  }
 ],
 "metadata": {
  "kernelspec": {
   "display_name": "Python 3 (ipykernel)",
   "language": "python",
   "name": "python3"
  },
  "language_info": {
   "codemirror_mode": {
    "name": "ipython",
    "version": 3
   },
   "file_extension": ".py",
   "mimetype": "text/x-python",
   "name": "python",
   "nbconvert_exporter": "python",
   "pygments_lexer": "ipython3",
   "version": "3.10.5"
  }
 },
 "nbformat": 4,
 "nbformat_minor": 5
}
