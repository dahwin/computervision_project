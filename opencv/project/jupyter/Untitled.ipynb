{
 "cells": [
  {
   "cell_type": "code",
   "execution_count": null,
   "id": "f743d8e0-a62b-4a03-ab48-1522d2fccb38",
   "metadata": {},
   "outputs": [],
   "source": [
    "!jupyter labextension install @jupyter-widgets/jupyterlab-manager ipycanvas"
   ]
  },
  {
   "cell_type": "code",
   "execution_count": 1,
   "id": "1a6f1297-26c6-477a-b957-c82afbcf23ae",
   "metadata": {},
   "outputs": [],
   "source": [
    "import cv2\n",
    "import numpy as np\n",
    "\n",
    "drawing = False\n",
    "ix, iy = -1, -1\n",
    "thickness = 2  # Initial thickness\n",
    "\n",
    "def draw_mask(event, x, y, flags, param):\n",
    "    global ix, iy, drawing, img, mask, thickness\n",
    "\n",
    "    if event == cv2.EVENT_LBUTTONDOWN:\n",
    "        drawing = True\n",
    "        ix, iy = x, y\n",
    "\n",
    "    elif event == cv2.EVENT_MOUSEMOVE:\n",
    "        if drawing:\n",
    "            cv2.line(img, (ix, iy), (x, y), (0, 255, 0), thickness)\n",
    "            cv2.line(mask, (ix, iy), (x, y), 255, thickness)\n",
    "            ix, iy = x, y\n",
    "\n",
    "    elif event == cv2.EVENT_LBUTTONUP:\n",
    "        drawing = False\n",
    "        cv2.line(img, (ix, iy), (x, y), (0, 255, 0), thickness)\n",
    "        cv2.line(mask, (ix, iy), (x, y), 255, thickness)\n",
    "\n",
    "def update_thickness(x):\n",
    "    global thickness\n",
    "    thickness = x\n",
    "\n",
    "# Load the image\n",
    "img = cv2.imread('al.png')\n",
    "if img is None:\n",
    "    print(\"Error: Could not load image 'c.png'.\")\n",
    "    exit()\n",
    "\n",
    "mask = np.zeros(img.shape[:2], np.uint8)\n",
    "\n",
    "cv2.namedWindow('image', cv2.WINDOW_NORMAL)\n",
    "cv2.resizeWindow('image', img.shape[1], img.shape[0])\n",
    "cv2.setMouseCallback('image', draw_mask)\n",
    "\n",
    "# Create a trackbar for thickness\n",
    "cv2.createTrackbar('Thickness', 'image', thickness, 50, update_thickness)\n",
    "\n",
    "while True:\n",
    "    cv2.imshow('image', img)\n",
    "    cv2.imshow('mask', mask)\n",
    "    k = cv2.waitKey(1) & 0xFF\n",
    "    if k == ord('q'):  # 'q' key to exit\n",
    "        break\n",
    "\n",
    "cv2.destroyAllWindows()\n"
   ]
  },
  {
   "cell_type": "code",
   "execution_count": null,
   "id": "ab542261-fd2d-47e5-85c6-f1c6ad2bdf99",
   "metadata": {},
   "outputs": [],
   "source": []
  }
 ],
 "metadata": {
  "kernelspec": {
   "display_name": "Python 3 (ipykernel)",
   "language": "python",
   "name": "python3"
  },
  "language_info": {
   "codemirror_mode": {
    "name": "ipython",
    "version": 3
   },
   "file_extension": ".py",
   "mimetype": "text/x-python",
   "name": "python",
   "nbconvert_exporter": "python",
   "pygments_lexer": "ipython3",
   "version": "3.10.5"
  }
 },
 "nbformat": 4,
 "nbformat_minor": 5
}
