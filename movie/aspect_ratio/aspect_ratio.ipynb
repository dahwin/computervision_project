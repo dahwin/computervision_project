{
 "cells": [
  {
   "cell_type": "code",
   "execution_count": 1,
   "id": "045d10c2-4787-43ee-980e-468b27e65c2c",
   "metadata": {},
   "outputs": [
    {
     "name": "stdout",
     "output_type": "stream",
     "text": [
      "Height: 1920.0\n",
      "Width: 1080.0\n",
      "Aspect Ratio: 0.56:1.00\n"
     ]
    }
   ],
   "source": [
    "import cv2\n",
    "'Instagram','Tiktok.mp4','Youtube.mp4'\n",
    "# Load the video\n",
    "video_path = \"Youtube.mp4\"\n",
    "cap = cv2.VideoCapture(video_path)\n",
    "\n",
    "# Get the width and height of the video\n",
    "width = cap.get(cv2.CAP_PROP_FRAME_WIDTH)\n",
    "height = cap.get(cv2.CAP_PROP_FRAME_HEIGHT)\n",
    "print(\"Height:\", height)\n",
    "print(\"Width:\", width)\n",
    "# Calculate the aspect ratio\n",
    "aspect_ratio = width / height\n",
    "\n",
    "print(\"Aspect Ratio: {:.2f}:{:.2f}\".format(aspect_ratio, 1))\n",
    "\n",
    "# Release the video capture\n",
    "cap.release()\n"
   ]
  },
  {
   "cell_type": "code",
   "execution_count": 2,
   "id": "fa09ea7c-9859-4bf8-9f02-af88b03d5c5e",
   "metadata": {},
   "outputs": [
    {
     "name": "stdout",
     "output_type": "stream",
     "text": [
      "Height: 1080.0\n",
      "Width: 1440.0\n",
      "Aspect Ratio: 1.33:1.00\n"
     ]
    }
   ],
   "source": [
    "import cv2\n",
    "'Instagram','Tiktok.mp4','Youtube.mp4'\n",
    "# Load the video\n",
    "video_path = r\"D:\\video\\Video\\Video\\twice\\“나로 바꾸자 Switch to me” by DAHYUN and CHAEYOUNG – Melody Project.mp4\"\n",
    "cap = cv2.VideoCapture(video_path)\n",
    "\n",
    "# Get the width and height of the video\n",
    "width = cap.get(cv2.CAP_PROP_FRAME_WIDTH)\n",
    "height = cap.get(cv2.CAP_PROP_FRAME_HEIGHT)\n",
    "print(\"Height:\", height)\n",
    "print(\"Width:\", width)\n",
    "# Calculate the aspect ratio\n",
    "aspect_ratio = width / height\n",
    "\n",
    "print(\"Aspect Ratio: {:.2f}:{:.2f}\".format(aspect_ratio, 1))\n",
    "\n",
    "# Release the video capture\n",
    "cap.release()"
   ]
  },
  {
   "cell_type": "code",
   "execution_count": 2,
   "id": "db4f1546-c6e6-4c39-9e83-be73e5894194",
   "metadata": {},
   "outputs": [
    {
     "name": "stdout",
     "output_type": "stream",
     "text": [
      "Height: 720.0\n",
      "Width: 1280.0\n",
      "Aspect Ratio: 1.78:1.00\n"
     ]
    }
   ],
   "source": [
    "import cv2\n",
    "'Instagram','Tiktok.mp4','Youtube.mp4'\n",
    "# Load the video\n",
    "video_path = r\"G:\\download\\Video\\clean.mp4\"\n",
    "cap = cv2.VideoCapture(video_path)\n",
    "\n",
    "# Get the width and height of the video\n",
    "width = cap.get(cv2.CAP_PROP_FRAME_WIDTH)\n",
    "height = cap.get(cv2.CAP_PROP_FRAME_HEIGHT)\n",
    "print(\"Height:\", height)\n",
    "print(\"Width:\", width)\n",
    "# Calculate the aspect ratio\n",
    "aspect_ratio = width / height\n",
    "\n",
    "print(\"Aspect Ratio: {:.2f}:{:.2f}\".format(aspect_ratio, 1))\n",
    "\n",
    "# Release the video capture\n",
    "cap.release()\n"
   ]
  },
  {
   "cell_type": "code",
   "execution_count": 1,
   "id": "11b06926-bf6b-4814-a850-e34bec6c7780",
   "metadata": {},
   "outputs": [
    {
     "name": "stdout",
     "output_type": "stream",
     "text": [
      "Height: 1024.0\n",
      "Width: 576.0\n",
      "Aspect Ratio: 0.56:1.00\n"
     ]
    }
   ],
   "source": [
    "import cv2\n",
    "'Instagram','Tiktok.mp4','Youtube.mp4'\n",
    "# Load the video\n",
    "video_path = r\"C:\\Users\\ALL USER\\Desktop\\computervision_project\\movie\\dubu.mp4\"\n",
    "cap = cv2.VideoCapture(video_path)\n",
    "\n",
    "# Get the width and height of the video\n",
    "width = cap.get(cv2.CAP_PROP_FRAME_WIDTH)\n",
    "height = cap.get(cv2.CAP_PROP_FRAME_HEIGHT)\n",
    "print(\"Height:\", height)\n",
    "print(\"Width:\", width)\n",
    "# Calculate the aspect ratio\n",
    "aspect_ratio = width / height\n",
    "\n",
    "print(\"Aspect Ratio: {:.2f}:{:.2f}\".format(aspect_ratio, 1))\n",
    "\n",
    "# Release the video capture\n",
    "cap.release()\n"
   ]
  },
  {
   "cell_type": "code",
   "execution_count": null,
   "id": "aaad115b-c8ab-4551-b6f1-f441eccd56b5",
   "metadata": {},
   "outputs": [],
   "source": []
  }
 ],
 "metadata": {
  "kernelspec": {
   "display_name": "Python 3 (ipykernel)",
   "language": "python",
   "name": "python3"
  },
  "language_info": {
   "codemirror_mode": {
    "name": "ipython",
    "version": 3
   },
   "file_extension": ".py",
   "mimetype": "text/x-python",
   "name": "python",
   "nbconvert_exporter": "python",
   "pygments_lexer": "ipython3",
   "version": "3.10.5"
  }
 },
 "nbformat": 4,
 "nbformat_minor": 5
}
