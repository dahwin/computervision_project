{
 "cells": [
  {
   "cell_type": "code",
   "execution_count": 2,
   "id": "4aee67f1-6a85-4574-9853-cb6ac8fa476d",
   "metadata": {},
   "outputs": [
    {
     "name": "stdout",
     "output_type": "stream",
     "text": [
      "Moviepy - Building video motion_on_black_background.mp4.\n",
      "MoviePy - Writing audio in motion_on_black_backgroundTEMP_MPY_wvf_snd.mp3\n"
     ]
    },
    {
     "name": "stderr",
     "output_type": "stream",
     "text": [
      "                                                                                                                       \r"
     ]
    },
    {
     "name": "stdout",
     "output_type": "stream",
     "text": [
      "MoviePy - Done.\n",
      "Moviepy - Writing video motion_on_black_background.mp4\n",
      "\n"
     ]
    },
    {
     "name": "stderr",
     "output_type": "stream",
     "text": [
      "                                                                                                                       \r"
     ]
    },
    {
     "name": "stdout",
     "output_type": "stream",
     "text": [
      "Moviepy - Done !\n",
      "Moviepy - video ready motion_on_black_background.mp4\n"
     ]
    }
   ],
   "source": [
    "from moviepy.editor import VideoFileClip, ColorClip, CompositeVideoClip\n",
    "from moviepy.editor import *\n",
    "# Load the motion clip\n",
    "clip = VideoFileClip(r\"Youtube.mp4\").subclip(0,6)\n",
    "# Load the motion clip\n",
    "clip_motion = VideoFileClip(r\"C:\\Users\\ALL USER\\Desktop\\computervision_project\\movie\\fancy.mp4\").subclip(0,6)\n",
    "\n",
    "# Define the width and height of the black background\n",
    "background_width = 1080\n",
    "background_height = 1920\n",
    "\n",
    "# Create a black color clip as the background\n",
    "background_clip = ColorClip((background_width, background_height), color=(0, 0, 0)).set_duration(6)\n",
    "\n",
    "# Calculate the position to center the motion clip on the background\n",
    "x_posc = (background_width - clip.w) // 2\n",
    "y_posc = (background_height - clip.h) // 2\n",
    "# Calculate the position to center the motion clip on the background\n",
    "x_pos = (background_width - clip_motion.w) // 2\n",
    "y_pos = (background_height - clip_motion.h) // 2\n",
    "\n",
    "# Composite the motion clip onto the black background\n",
    "final_clip = CompositeVideoClip([background_clip.set_position((x_pos, y_pos)), clip.set_position((x_posc, y_posc))])\n",
    "# Composite the motion clip onto the black background\n",
    "final_clip1 = CompositeVideoClip([background_clip.set_position((x_pos, y_pos)), clip_motion.set_position((x_pos, y_pos))])\n",
    "\n",
    "final = concatenate_videoclips([final_clip,final_clip1])\n",
    "# Write the final clip to a new file\n",
    "final.write_videofile(\"motion_on_black_background.mp4\", fps=24)"
   ]
  },
  {
   "cell_type": "code",
   "execution_count": 1,
   "id": "e0316d34-4d2e-412c-9700-d1cacba53377",
   "metadata": {},
   "outputs": [
    {
     "name": "stdout",
     "output_type": "stream",
     "text": [
      "Height: 1920.0\n",
      "Width: 1080.0\n",
      "0.5625\n",
      "True\n",
      "Height: 720.0\n",
      "Width: 1280.0\n",
      "1.7777777777777777\n",
      "Height: 1024.0\n",
      "Width: 576.0\n",
      "0.5625\n",
      "True\n",
      "42.04\n",
      "42.04\n",
      "Moviepy - Building video motion_on_black_background.mp4.\n",
      "MoviePy - Writing audio in motion_on_black_backgroundTEMP_MPY_wvf_snd.mp3\n"
     ]
    },
    {
     "name": "stderr",
     "output_type": "stream",
     "text": [
      "                                                                                                                       \r"
     ]
    },
    {
     "name": "stdout",
     "output_type": "stream",
     "text": [
      "MoviePy - Done.\n",
      "Moviepy - Writing video motion_on_black_background.mp4\n",
      "\n"
     ]
    },
    {
     "name": "stderr",
     "output_type": "stream",
     "text": [
      "                                                                                                                       \r"
     ]
    },
    {
     "name": "stdout",
     "output_type": "stream",
     "text": [
      "Moviepy - Done !\n",
      "Moviepy - video ready motion_on_black_background.mp4\n"
     ]
    }
   ],
   "source": [
    "from moviepy.editor import VideoFileClip, CompositeVideoClip,ColorClip\n",
    "from moviepy.editor import *\n",
    "import cv2\n",
    "# Define the width and height of the black background\n",
    "background_width = 1080\n",
    "background_height = 1920\n",
    "\n",
    "# Create a black color clip as the background\n",
    "background_clip = ColorClip((background_width, background_height), color=(0, 0, 0)).set_duration(6)\n",
    "\n",
    "# Step 1: Set the video filenames\n",
    "video_filenames = ['Youtube.mp4', 'fancy.mp4',r\"C:\\Users\\ALL USER\\Desktop\\computervision_project\\movie\\dubu.mp4\"]\n",
    "\n",
    "# Step 2: Create VideoFileClip objects from the videos\n",
    "video_clips = []\n",
    "total_duration = 0\n",
    "\n",
    "for filename in video_filenames:\n",
    "    cap = cv2.VideoCapture(filename)\n",
    "\n",
    "    # Get the width and height of the video\n",
    "    width = cap.get(cv2.CAP_PROP_FRAME_WIDTH)\n",
    "    height = cap.get(cv2.CAP_PROP_FRAME_HEIGHT)\n",
    "    print(\"Height:\", height)\n",
    "    print(\"Width:\", width)\n",
    "    # Calculate the aspect ratio\n",
    "    aspect_ratio = width / height\n",
    "    \n",
    "    video = VideoFileClip(filename)\n",
    "    # Calculate the position to center the motion clip on the background\n",
    "    x_pos = (background_width - video.w) // 2\n",
    "    y_pos = (background_height - video.h) // 2\n",
    "    print(aspect_ratio)\n",
    "\n",
    "    if aspect_ratio==0.5625:\n",
    "        video = video.resize(height=1920,width=1080)\n",
    "        print(True)\n",
    "        # Calculate the position to center the motion clip on the background\n",
    "        x_pos = (background_width - video.w) // 2\n",
    "        y_pos = (background_height - video.h) // 2\n",
    "\n",
    "    else:\n",
    "        pass\n",
    "    # # Calculate the position to center the motion clip on the background\n",
    "    # x_pos = (background_width - video.w) // 2\n",
    "    # y_pos = (background_height - video.h) // 2\n",
    "\n",
    "\n",
    "    video = video.set_position((x_pos, y_pos))  # Set video position to center\n",
    "    duration = video.duration\n",
    "    total_duration += duration\n",
    "    # Create a black color clip as the background\n",
    "    background_clip = ColorClip((background_width, background_height), color=(0, 0, 0)).set_duration(duration)\n",
    "    video = CompositeVideoClip([background_clip.set_position((x_pos, y_pos)), video])\n",
    "\n",
    "    video_clips.append(video)\n",
    "print(total_duration)\n",
    "# Calculate the total duration of the concatenated video\n",
    "final_duration = total_duration\n",
    "print(final_duration)\n",
    "final = concatenate_videoclips(video_clips)\n",
    "# Set the final video duration\n",
    "final = final.set_duration(final_duration)\n",
    "\n",
    "# Write the final clip to a new file\n",
    "final.write_videofile(\"motion_on_black_background.mp4\", fps=24)\n"
   ]
  },
  {
   "cell_type": "code",
   "execution_count": 2,
   "id": "4ccfe33d-6a38-4174-af3e-49424a0fe7e8",
   "metadata": {},
   "outputs": [
    {
     "name": "stdout",
     "output_type": "stream",
     "text": [
      "Moviepy - Building video motion_on_black_background.mp4.\n",
      "MoviePy - Writing audio in motion_on_black_backgroundTEMP_MPY_wvf_snd.mp3\n"
     ]
    },
    {
     "name": "stderr",
     "output_type": "stream",
     "text": [
      "                                                                                                                       \r"
     ]
    },
    {
     "name": "stdout",
     "output_type": "stream",
     "text": [
      "MoviePy - Done.\n",
      "Moviepy - Writing video motion_on_black_background.mp4\n",
      "\n"
     ]
    },
    {
     "name": "stderr",
     "output_type": "stream",
     "text": [
      "                                                                                                                       \r"
     ]
    },
    {
     "name": "stdout",
     "output_type": "stream",
     "text": [
      "Moviepy - Done !\n",
      "Moviepy - video ready motion_on_black_background.mp4\n"
     ]
    }
   ],
   "source": [
    "from moviepy.editor import VideoFileClip, CompositeVideoClip, ColorClip\n",
    "from moviepy.editor import *\n",
    "import cv2\n",
    "# Define the width and height of the black background\n",
    "background_width = 1080\n",
    "background_height = 1920\n",
    "\n",
    "# Create a black color clip as the background\n",
    "background_clip = ColorClip((background_width, background_height), color=(0, 0, 0)).set_duration(6)\n",
    "\n",
    "# Step 1: Set the video filenames\n",
    "video_filenames = ['Youtube.mp4', 'fancy.mp4', r\"C:\\Users\\ALL USER\\Desktop\\computervision_project\\movie\\dubu.mp4\"]\n",
    "\n",
    "# Step 2: Create VideoFileClip objects from the videos\n",
    "video_clips = []\n",
    "total_duration = 0\n",
    "\n",
    "for filename in video_filenames:\n",
    "    cap = cv2.VideoCapture(filename)\n",
    "\n",
    "    # Get the width and height of the video\n",
    "    width = cap.get(cv2.CAP_PROP_FRAME_WIDTH)\n",
    "    height = cap.get(cv2.CAP_PROP_FRAME_HEIGHT)\n",
    "    \n",
    "    # Calculate the aspect ratio\n",
    "    aspect_ratio = width / height\n",
    "    \n",
    "    video = VideoFileClip(filename)\n",
    "    \n",
    "    # Calculate the position to center the motion clip on the background\n",
    "    x_pos = (background_width - video.w) // 2\n",
    "    y_pos = (background_height - video.h) // 2\n",
    "\n",
    "    # Check if the aspect ratio falls within the desired range (0.55 to 0.57)\n",
    "    if 0.55 <= aspect_ratio <= 0.57:\n",
    "        # Resize the video to the specified resolution (1080x1920)\n",
    "        video = video.resize(height=1920, width=1080)\n",
    "        x_pos = (background_width - video.w) // 2\n",
    "        y_pos = (background_height - video.h) // 2\n",
    "\n",
    "    video = video.set_position((x_pos, y_pos))  # Set video position to center\n",
    "    duration = video.duration\n",
    "    total_duration += duration\n",
    "\n",
    "    # Create a black color clip as the background\n",
    "    background_clip = ColorClip((background_width, background_height), color=(0, 0, 0)).set_duration(duration)\n",
    "    video = CompositeVideoClip([background_clip.set_position((x_pos, y_pos)), video])\n",
    "\n",
    "    video_clips.append(video)\n",
    "\n",
    "# Calculate the total duration of the concatenated video\n",
    "final_duration = total_duration\n",
    "\n",
    "final = concatenate_videoclips(video_clips)\n",
    "# Set the final video duration\n",
    "final = final.set_duration(final_duration)\n",
    "\n",
    "# Write the final clip to a new file\n",
    "final.write_videofile(\"motion_on_black_background.mp4\", fps=24)\n"
   ]
  },
  {
   "cell_type": "code",
   "execution_count": 16,
   "id": "6418b0c3-53f7-48b4-9fa0-1b0a979ee53e",
   "metadata": {},
   "outputs": [
    {
     "name": "stdout",
     "output_type": "stream",
     "text": [
      "Moviepy - Building video fix.mp4.\n",
      "MoviePy - Writing audio in fixTEMP_MPY_wvf_snd.mp3\n"
     ]
    },
    {
     "name": "stderr",
     "output_type": "stream",
     "text": [
      "                                                                                                                       \r"
     ]
    },
    {
     "name": "stdout",
     "output_type": "stream",
     "text": [
      "MoviePy - Done.\n",
      "Moviepy - Writing video fix.mp4\n",
      "\n"
     ]
    },
    {
     "name": "stderr",
     "output_type": "stream",
     "text": [
      "                                                                                                                       \r"
     ]
    },
    {
     "name": "stdout",
     "output_type": "stream",
     "text": [
      "Moviepy - Done !\n",
      "Moviepy - video ready fix.mp4\n"
     ]
    }
   ],
   "source": [
    "from moviepy.editor import *\n",
    "import cv2\n",
    "# Step 1: Set the video filenames\n",
    "video_filenames =  ['Youtube.mp4', 'fancy.mp4', r\"C:\\Users\\ALL USER\\Desktop\\computervision_project\\movie\\dubu.mp4\"]\n",
    "\n",
    "# Step 2: Create VideoFileClip objects from the videos\n",
    "video_clips = []\n",
    "for filename in video_filenames:\n",
    "    video = VideoFileClip(filename)\n",
    "\n",
    "    video_clips.append(video)\n",
    "\n",
    "def load_in_protrait_clips(video_filenames, subclip_list):\n",
    "    # Define the width and height of the black background\n",
    "    background_width = 1080\n",
    "    background_height = 1920\n",
    "\n",
    "    # Create a black color clip as the background\n",
    "    background_clip = ColorClip((background_width, background_height), color=(0, 0, 0)).set_duration(6)\n",
    "    # Step 2: Create VideoFileClip objects from the videos\n",
    "    video_clips = []\n",
    "    total_duration = 0\n",
    "\n",
    "    for filename, subclip in zip(video_filenames, subclip_list):\n",
    "        cap = cv2.VideoCapture(filename)\n",
    "\n",
    "        # Get the width and height of the video\n",
    "        width = cap.get(cv2.CAP_PROP_FRAME_WIDTH)\n",
    "        height = cap.get(cv2.CAP_PROP_FRAME_HEIGHT)\n",
    "\n",
    "        # Calculate the aspect ratio\n",
    "        aspect_ratio = width / height\n",
    "\n",
    "        video = VideoFileClip(filename)\n",
    "\n",
    "        # Calculate the position to center the motion clip on the background\n",
    "        x_pos = (background_width - video.w) // 2\n",
    "        y_pos = (background_height - video.h) // 2\n",
    "\n",
    "        # Check if the aspect ratio falls within the desired range (0.55 to 0.57)\n",
    "        if 0.55 <= aspect_ratio <= 0.57:\n",
    "            # Resize the video to the specified resolution (1080x1920)\n",
    "            video = video.resize(height=1920, width=1080)\n",
    "            x_pos = (background_width - video.w) // 2\n",
    "            y_pos = (background_height - video.h) // 2\n",
    "\n",
    "        video = video.set_position((x_pos, y_pos))  # Set video position to center\n",
    "        subclip_start, subclip_end = subclip\n",
    "        video = video.subclip(subclip_start, subclip_end)\n",
    "\n",
    "        duration = video.duration\n",
    "        total_duration += duration\n",
    "\n",
    "        # Create a black color clip as the background\n",
    "        background_clip = ColorClip((background_width, background_height), color=(0, 0, 0)).set_duration(duration)\n",
    "        video = CompositeVideoClip([background_clip.set_position((x_pos, y_pos)), video])\n",
    "\n",
    "        video_clips.append(video)\n",
    "\n",
    "    return video_clips\n",
    "sub = [(0,6),(0,6),(0,6)]\n",
    "video = concatenate_videoclips(load_in_protrait_clips(video_filenames,sub))\n",
    "# video.set_duration(total_duration)\n",
    "# print(total_duration)\n",
    "video.write_videofile('fix.mp4',fps=20)"
   ]
  },
  {
   "cell_type": "code",
   "execution_count": null,
   "id": "024371e6-1bfc-47c6-9516-ea254aefb058",
   "metadata": {},
   "outputs": [],
   "source": []
  },
  {
   "cell_type": "code",
   "execution_count": null,
   "id": "6e04f2aa-ce71-414d-8ec0-b675331127cb",
   "metadata": {},
   "outputs": [],
   "source": []
  },
  {
   "cell_type": "code",
   "execution_count": null,
   "id": "40a729e6-1b75-49e2-8b9c-0a9919c13263",
   "metadata": {},
   "outputs": [],
   "source": []
  },
  {
   "cell_type": "code",
   "execution_count": null,
   "id": "b959c88d-d7ac-4dee-802e-4669f076e3a4",
   "metadata": {},
   "outputs": [],
   "source": []
  },
  {
   "cell_type": "code",
   "execution_count": null,
   "id": "c3914178-b2fc-42d3-ae64-3cd92a1c20e8",
   "metadata": {},
   "outputs": [],
   "source": []
  },
  {
   "cell_type": "code",
   "execution_count": null,
   "id": "9ccbcd57-0d3c-42de-bc01-2bc266970f34",
   "metadata": {},
   "outputs": [],
   "source": []
  },
  {
   "cell_type": "code",
   "execution_count": null,
   "id": "4defd130-0377-445e-8711-736f33f5d564",
   "metadata": {},
   "outputs": [],
   "source": []
  }
 ],
 "metadata": {
  "kernelspec": {
   "display_name": "Python 3 (ipykernel)",
   "language": "python",
   "name": "python3"
  },
  "language_info": {
   "codemirror_mode": {
    "name": "ipython",
    "version": 3
   },
   "file_extension": ".py",
   "mimetype": "text/x-python",
   "name": "python",
   "nbconvert_exporter": "python",
   "pygments_lexer": "ipython3",
   "version": "3.10.5"
  }
 },
 "nbformat": 4,
 "nbformat_minor": 5
}
