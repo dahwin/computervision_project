{
 "cells": [
  {
   "cell_type": "code",
   "execution_count": 9,
   "id": "6c06f577-f70a-45a9-abfe-dd2e39b93db3",
   "metadata": {},
   "outputs": [],
   "source": [
    "import cv2\n",
    "\n",
    "# Open the video file\n",
    "video_capture = cv2.VideoCapture(r\"G:\\download\\Video\\clean.mp4\")\n",
    "\n",
    "# Get the frames per second (fps) of the video\n",
    "fps = int(video_capture.get(cv2.CAP_PROP_FPS))\n",
    "\n",
    "# Create a VideoWriter object to write the output video\n",
    "fourcc = cv2.VideoWriter_fourcc(*'mp4v')  # Codec for MP4 format\n",
    "out = cv2.VideoWriter('myvideo_cv2.mp4', fourcc, fps, (720, 1280))  # Set target resolution (width, height)\n",
    "\n",
    "# Loop through the video frames for the first 5 seconds\n",
    "frame_count = 0\n",
    "while frame_count < 5 * fps:  # Read and write frames for 5 seconds\n",
    "    ret, frame = video_capture.read()\n",
    "    if not ret:\n",
    "        break  # Break if there are no more frames\n",
    "\n",
    "    # Resize the frame to the target resolution (720x1280)\n",
    "    resized_frame = cv2.resize(frame, (720, 1280))\n",
    "\n",
    "    out.write(resized_frame)\n",
    "    frame_count += 1\n",
    "\n",
    "# Release video objects\n",
    "video_capture.release()\n",
    "out.release()\n",
    "\n",
    "# Close all OpenCV windows (if any)\n",
    "cv2.destroyAllWindows()\n"
   ]
  },
  {
   "cell_type": "code",
   "execution_count": 1,
   "id": "a5a6d5df-bf20-4f25-809d-beddc1e78ea9",
   "metadata": {},
   "outputs": [
    {
     "name": "stdout",
     "output_type": "stream",
     "text": [
      "Moviepy - Building video myvideo_moviepy.mp4.\n",
      "Moviepy - Writing video myvideo_moviepy.mp4\n",
      "\n"
     ]
    },
    {
     "name": "stderr",
     "output_type": "stream",
     "text": [
      "                                                                                                                       \r"
     ]
    },
    {
     "name": "stdout",
     "output_type": "stream",
     "text": [
      "Moviepy - Done !\n",
      "Moviepy - video ready myvideo_moviepy.mp4\n"
     ]
    }
   ],
   "source": [
    "from moviepy.editor import VideoClip\n",
    "import cv2\n",
    "import numpy as np\n",
    "\n",
    "# Open the video file\n",
    "video_capture = cv2.VideoCapture(r\"G:\\download\\Video\\clean.mp4\")\n",
    "\n",
    "# Get the frames per second (fps) of the video\n",
    "fps = int(video_capture.get(cv2.CAP_PROP_FPS))\n",
    "\n",
    "# Create a list to store frames\n",
    "frames = []\n",
    "dura = 5\n",
    "# Loop through the video frames for the first 5 seconds\n",
    "frame_count = 0\n",
    "while frame_count < dura * fps:  # Read frames for 5 seconds\n",
    "    ret, frame = video_capture.read()\n",
    "    if not ret:\n",
    "        break  # Break if there are no more frames\n",
    "\n",
    "    # Resize the frame to the target resolution (720x1280)\n",
    "    resized_frame = cv2.resize(frame, (720, 1280))\n",
    "\n",
    "    # Convert from RGB to BGR\n",
    "    bgr_frame = cv2.cvtColor(resized_frame, cv2.COLOR_RGB2BGR)\n",
    "\n",
    "    # Append the BGR frame to the list of frames\n",
    "    frames.append(bgr_frame)\n",
    "    frame_count += 1\n",
    "\n",
    "# Release video objects\n",
    "video_capture.release()\n",
    "\n",
    "# Create a MoviePy VideoClip from the list of frames\n",
    "video_clip = VideoClip(lambda t: frames[int(t * fps)], duration=dura)\n",
    "\n",
    "# Export the MoviePy video clip\n",
    "video_clip.write_videofile(\"myvideo_moviepy.mp4\", fps=fps)\n",
    "\n"
   ]
  }
 ],
 "metadata": {
  "kernelspec": {
   "display_name": "Python 3 (ipykernel)",
   "language": "python",
   "name": "python3"
  },
  "language_info": {
   "codemirror_mode": {
    "name": "ipython",
    "version": 3
   },
   "file_extension": ".py",
   "mimetype": "text/x-python",
   "name": "python",
   "nbconvert_exporter": "python",
   "pygments_lexer": "ipython3",
   "version": "3.10.5"
  }
 },
 "nbformat": 4,
 "nbformat_minor": 5
}
