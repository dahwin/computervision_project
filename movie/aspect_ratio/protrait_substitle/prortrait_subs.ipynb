{
 "cells": [
  {
   "cell_type": "code",
   "execution_count": 1,
   "id": "2377f73c-c4ac-439d-a758-6fe9349f194b",
   "metadata": {},
   "outputs": [
    {
     "name": "stdout",
     "output_type": "stream",
     "text": [
      "Black video saved as black_video.mp4\n"
     ]
    }
   ],
   "source": [
    "import cv2\n",
    "import numpy as np\n",
    "# Specify the video parameters\n",
    "output_video_path = 'black_video.mp4'\n",
    "frame_width, frame_height = 1920, 1080\n",
    "frame_rate = 30  # Frames per second\n",
    "duration = 10  # Duration in seconds\n",
    "\n",
    "# Create a VideoWriter object\n",
    "fourcc = cv2.VideoWriter_fourcc(*'mp4v')  # Codec for MP4 format\n",
    "out = cv2.VideoWriter(output_video_path, fourcc, frame_rate, (frame_width, frame_height))\n",
    "\n",
    "# Create black frames and write them to the video\n",
    "for _ in range(duration * frame_rate):\n",
    "    black_frame = np.zeros((frame_height, frame_width, 3), dtype=np.uint8)\n",
    "    out.write(black_frame)\n",
    "\n",
    "# Release the VideoWriter\n",
    "out.release()\n",
    "\n",
    "print(f'Black video saved as {output_video_path}')"
   ]
  },
  {
   "cell_type": "code",
   "execution_count": null,
   "id": "7b222174-9acc-4577-b028-77592b4e5386",
   "metadata": {},
   "outputs": [],
   "source": [
    "from moviepy.editor import VideoFileClip, TextClip\n",
    "from moviepy.editor import CompositeVideoClip\n",
    "from moviepy.editor import *\n",
    "import pysrt\n",
    "import os\n",
    "\n",
    "video_path = r\"G:\\download\\Video\\clean.mp4\"\n",
    "subtitle_path = \"output.srt\"\n",
    "clip1 = VideoFileClip('black_video.mp4').subclip(0,2.5)\n",
    "\n",
    "clip2 = VideoFileClip(video_path).subclip(0,20).without_audio()\n",
    "videos = concatenate_videoclips([clip1,clip2],method=\"compose\")\n",
    "\n",
    "# Load the subtitle file\n",
    "subtitle = pysrt.open(subtitle_path)\n",
    "\n",
    "def generate_text_clip(subtitle_item):\n",
    "    start = subtitle_item.start.seconds + subtitle_item.start.minutes * 60\n",
    "    end = subtitle_item.end.seconds + subtitle_item.end.minutes * 60\n",
    "    text = subtitle_item.text\n",
    "\n",
    "    return (TextClip(text, fontsize=60, color='white')\n",
    "            .set_position(('center', 'bottom'))\n",
    "            .set_duration(end - start)\n",
    "            .set_start(start))\n",
    "\n",
    "text_clips = [generate_text_clip(subtitle_item) for subtitle_item in subtitle]\n",
    "\n",
    "# Overlay the subtitle clips onto the video clip\n",
    "final_clip = CompositeVideoClip([videos] + text_clips)\n",
    "# # Set the target resolution to HD (1920x1080)\n",
    "# target_resolution = (1920, 1080)\n",
    "# final_clip = final_clip.resize(height=target_resolution[1], width=target_resolution[0])\n",
    "\n",
    "output_path = \"video_subtitles.mp4\"\n",
    "# Set the bitrate for video and audio (adjust these values as needed)\n",
    "final_clip.write_videofile(output_path, codec='libx264', audio_codec='aac', fps=24)"
   ]
  },
  {
   "cell_type": "code",
   "execution_count": null,
   "id": "ac0c39e8-9fdb-4d5a-a2f0-979991567dcb",
   "metadata": {},
   "outputs": [],
   "source": [
    "from moviepy.editor import VideoFileClip, TextClip\n",
    "from moviepy.editor import CompositeVideoClip\n",
    "from moviepy.editor import *\n",
    "import pysrt\n",
    "import os\n",
    "\n",
    "video_path = r\"G:\\download\\Video\\clean.mp4\"\n",
    "subtitle_path = \"output.srt\"\n",
    "\n",
    "\n",
    "clip2 = VideoFileClip(video_path).subclip(0,22).without_audio()\n",
    "# videos = concatenate_videoclips([clip1,clip2],method=\"compose\")\n",
    "\n",
    "# Load the subtitle file\n",
    "subtitle = pysrt.open(subtitle_path)\n",
    "\n",
    "def generate_text_clip(subtitle_item):\n",
    "    start = subtitle_item.start.seconds + subtitle_item.start.minutes * 60\n",
    "    end = subtitle_item.end.seconds + subtitle_item.end.minutes * 60\n",
    "    text = subtitle_item.text\n",
    "\n",
    "    return (TextClip(text, fontsize=60, color='white')\n",
    "            .set_position(('center', 'bottom'))\n",
    "            .set_duration(end - start)\n",
    "            .set_start(start))\n",
    "\n",
    "text_clips = [generate_text_clip(subtitle_item) for subtitle_item in subtitle]\n",
    "\n",
    "# Overlay the subtitle clips onto the video clip\n",
    "final_clip = CompositeVideoClip([clip2] + text_clips)\n",
    "\n",
    "\n",
    "output_path = \"video_subtitles.mp4\"\n",
    "# Set the bitrate for video and audio (adjust these values as needed)\n",
    "final_clip.write_videofile(output_path, codec='libx264', audio_codec='aac', fps=24)"
   ]
  },
  {
   "cell_type": "code",
   "execution_count": 2,
   "id": "58a35eb8-f0be-4a47-aafe-dd111408fbc7",
   "metadata": {},
   "outputs": [
    {
     "name": "stdout",
     "output_type": "stream",
     "text": [
      "Moviepy - Building video video_subtitles.mp4.\n",
      "Moviepy - Writing video video_subtitles.mp4\n",
      "\n"
     ]
    },
    {
     "name": "stderr",
     "output_type": "stream",
     "text": [
      "                                                                                                                       \r"
     ]
    },
    {
     "name": "stdout",
     "output_type": "stream",
     "text": [
      "Moviepy - Done !\n",
      "Moviepy - video ready video_subtitles.mp4\n"
     ]
    }
   ],
   "source": [
    "from moviepy.editor import VideoClip\n",
    "import cv2\n",
    "import numpy as np\n",
    "\n",
    "# Open the video file\n",
    "video_capture = cv2.VideoCapture(r\"G:\\download\\Video\\clean.mp4\")\n",
    "\n",
    "# Get the frames per second (fps) of the video\n",
    "fps = int(video_capture.get(cv2.CAP_PROP_FPS))\n",
    "\n",
    "# Create a list to store frames\n",
    "frames = []\n",
    "dura = 22\n",
    "# Loop through the video frames for the first 5 seconds\n",
    "frame_count = 0\n",
    "while frame_count < dura * fps:  # Read frames for 5 seconds\n",
    "    ret, frame = video_capture.read()\n",
    "    if not ret:\n",
    "        break  # Break if there are no more frames\n",
    "\n",
    "    # Resize the frame to the target resolution (720x1280)\n",
    "    resized_frame = cv2.resize(frame, (720, 1280))\n",
    "\n",
    "    # Convert from RGB to BGR\n",
    "    bgr_frame = cv2.cvtColor(resized_frame, cv2.COLOR_RGB2BGR)\n",
    "\n",
    "    # Append the BGR frame to the list of frames\n",
    "    frames.append(bgr_frame)\n",
    "    frame_count += 1\n",
    "\n",
    "# Release video objects\n",
    "video_capture.release()\n",
    "\n",
    "# Create a MoviePy VideoClip from the list of frames\n",
    "video_clip = VideoClip(lambda t: frames[int(t * fps)], duration=dura)\n",
    "\n",
    "\n",
    "\n",
    "subtitle_path = \"output.srt\"\n",
    "\n",
    "\n",
    "clip2 = video_clip.without_audio()\n",
    "# videos = concatenate_videoclips([clip1,clip2],method=\"compose\")\n",
    "\n",
    "# Load the subtitle file\n",
    "subtitle = pysrt.open(subtitle_path)\n",
    "\n",
    "def generate_text_clip(subtitle_item):\n",
    "    start = subtitle_item.start.seconds + subtitle_item.start.minutes * 60\n",
    "    end = subtitle_item.end.seconds + subtitle_item.end.minutes * 60\n",
    "    text = subtitle_item.text\n",
    "\n",
    "    return (TextClip(text, fontsize=60, color='white')\n",
    "            .set_position(('center', 'bottom'))\n",
    "            .set_duration(end - start)\n",
    "            .set_start(start))\n",
    "\n",
    "text_clips = [generate_text_clip(subtitle_item) for subtitle_item in subtitle]\n",
    "\n",
    "# Overlay the subtitle clips onto the video clip\n",
    "final_clip = CompositeVideoClip([clip2] + text_clips)\n",
    "\n",
    "\n",
    "output_path = \"video_subtitles.mp4\"\n",
    "# Set the bitrate for video and audio (adjust these values as needed)\n",
    "final_clip.write_videofile(output_path, codec='libx264', audio_codec='aac', fps=24)"
   ]
  },
  {
   "cell_type": "code",
   "execution_count": null,
   "id": "eec078a7-540f-4ea0-ac68-adebf3db63f4",
   "metadata": {},
   "outputs": [],
   "source": []
  },
  {
   "cell_type": "code",
   "execution_count": null,
   "id": "530a6eac-7946-48c3-9644-c7844bde45b8",
   "metadata": {},
   "outputs": [],
   "source": []
  }
 ],
 "metadata": {
  "kernelspec": {
   "display_name": "Python 3 (ipykernel)",
   "language": "python",
   "name": "python3"
  },
  "language_info": {
   "codemirror_mode": {
    "name": "ipython",
    "version": 3
   },
   "file_extension": ".py",
   "mimetype": "text/x-python",
   "name": "python",
   "nbconvert_exporter": "python",
   "pygments_lexer": "ipython3",
   "version": "3.10.5"
  }
 },
 "nbformat": 4,
 "nbformat_minor": 5
}
