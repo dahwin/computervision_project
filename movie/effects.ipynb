{
 "cells": [
  {
   "cell_type": "code",
   "execution_count": 1,
   "id": "d5a886bc-c3e4-47a1-b149-37c72caa7b84",
   "metadata": {},
   "outputs": [],
   "source": [
    "from moviepy.editor import VideoFileClip, concatenate_videoclips\n",
    "\n",
    "def cut_video_clips(file_list, subclip_list):\n",
    "    # Check if the lengths of the file list and subclip list are the same\n",
    "    if len(file_list) != len(subclip_list):\n",
    "        raise ValueError(\"The file list and subclip list must have the same length.\")\n",
    "\n",
    "    clip_list = []\n",
    "\n",
    "    # Iterate over the file list and subclip list\n",
    "    for file, subclip in zip(file_list, subclip_list):\n",
    "        # Load the video clip from the file\n",
    "        clip = VideoFileClip(file,target_resolution=(1080, 1920))\n",
    "\n",
    "        # Extract the start and end times from the subclip tuple\n",
    "        subclip_start, subclip_end = subclip\n",
    "\n",
    "        # Check if the subclip start and end times are valid\n",
    "        if subclip_start < 0 or subclip_end > clip.duration or subclip_start >= subclip_end:\n",
    "            raise ValueError(\"Invalid subclip duration.\")\n",
    "\n",
    "        # Cut the video clip using the subclip start and end times\n",
    "        cut_clip = clip.subclip(subclip_start, subclip_end)\n",
    "        clip_list.append(cut_clip)\n",
    "\n",
    "    return clip_list\n",
    "\n",
    "# Example usage\n",
    "file_list = ['feel.mp4','black_test.mp4', 'cv2imagesfacny.mp4','fancy.mp4','black_test.mp4','feel.mp4','fancy.mp4']  # List of video file names\n",
    "subclip_list = [(0, 6), (0, 6),(0, 6), (0, 6),(0, 6),(0, 6), (0, 6)]  # List of subclip durations (start and end times)\n",
    "\n",
    "more_clips = cut_video_clips(file_list, subclip_list)"
   ]
  },
  {
   "cell_type": "code",
   "execution_count": 2,
   "id": "d03b642f-462d-42e5-937f-0858d1c13125",
   "metadata": {},
   "outputs": [
    {
     "name": "stdout",
     "output_type": "stream",
     "text": [
      "Moviepy - Building video dahyun.mp4.\n",
      "MoviePy - Writing audio in dahyunTEMP_MPY_wvf_snd.mp3\n"
     ]
    },
    {
     "name": "stderr",
     "output_type": "stream",
     "text": [
      "                                                                                                                       \r"
     ]
    },
    {
     "name": "stdout",
     "output_type": "stream",
     "text": [
      "MoviePy - Done.\n",
      "Moviepy - Writing video dahyun.mp4\n",
      "\n"
     ]
    },
    {
     "name": "stderr",
     "output_type": "stream",
     "text": [
      "                                                                                                                       \r"
     ]
    },
    {
     "name": "stdout",
     "output_type": "stream",
     "text": [
      "Moviepy - Done !\n",
      "Moviepy - video ready dahyun.mp4\n"
     ]
    }
   ],
   "source": [
    "from moviepy.editor import VideoFileClip, concatenate_videoclips,vfx , AudioFileClip\n",
    "from moviepy import editor\n",
    "from moviepy.editor import transfx\n",
    "x = dir(transfx)\n",
    "clip1 = VideoFileClip(r\"D:\\video\\Video\\Video\\twice\\feelspecial.mp4\",target_resolution=(1080, 1920)).subclip(126,132)\n",
    "clip2 = VideoFileClip('feel.mp4',target_resolution=(1080, 1920)).subclip(0,6)\n",
    "\n",
    "combined = concatenate_videoclips([clip1,clip2])\n",
    "combined.write_videofile('dahyun.mp4')"
   ]
  },
  {
   "cell_type": "code",
   "execution_count": null,
   "id": "2ba84ebb-eb2e-4dab-9988-91ed84d04c4f",
   "metadata": {},
   "outputs": [],
   "source": []
  }
 ],
 "metadata": {
  "kernelspec": {
   "display_name": "Python 3 (ipykernel)",
   "language": "python",
   "name": "python3"
  },
  "language_info": {
   "codemirror_mode": {
    "name": "ipython",
    "version": 3
   },
   "file_extension": ".py",
   "mimetype": "text/x-python",
   "name": "python",
   "nbconvert_exporter": "python",
   "pygments_lexer": "ipython3",
   "version": "3.10.5"
  }
 },
 "nbformat": 4,
 "nbformat_minor": 5
}
