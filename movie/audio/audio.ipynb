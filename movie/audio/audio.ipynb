{
 "cells": [
  {
   "cell_type": "markdown",
   "id": "124738cd-28e3-4b28-a3e6-8f224889620d",
   "metadata": {},
   "source": [
    "## dahyun+darwin = dahwin"
   ]
  },
  {
   "cell_type": "code",
   "execution_count": 1,
   "id": "6452d28b-59a0-458c-ba23-52c09b6b52f7",
   "metadata": {},
   "outputs": [
    {
     "ename": "TypeError",
     "evalue": "AudioFileClip.__init__() got an unexpected keyword argument 'duration'",
     "output_type": "error",
     "traceback": [
      "\u001b[1;31m---------------------------------------------------------------------------\u001b[0m",
      "\u001b[1;31mTypeError\u001b[0m                                 Traceback (most recent call last)",
      "Cell \u001b[1;32mIn[1], line 13\u001b[0m\n\u001b[0;32m     10\u001b[0m start_time \u001b[38;5;241m=\u001b[39m \u001b[38;5;241m6\u001b[39m\n\u001b[0;32m     12\u001b[0m \u001b[38;5;66;03m# Create a blank audio clip with the duration of the video clip\u001b[39;00m\n\u001b[1;32m---> 13\u001b[0m blank_audio \u001b[38;5;241m=\u001b[39m \u001b[43mAudioFileClip\u001b[49m\u001b[43m(\u001b[49m\u001b[38;5;124;43m\"\u001b[39;49m\u001b[38;5;124;43mblank_audio.wav\u001b[39;49m\u001b[38;5;124;43m\"\u001b[39;49m\u001b[43m,\u001b[49m\u001b[43m \u001b[49m\u001b[43mduration\u001b[49m\u001b[38;5;241;43m=\u001b[39;49m\u001b[43mvideo_clip\u001b[49m\u001b[38;5;241;43m.\u001b[39;49m\u001b[43mduration\u001b[49m\u001b[43m)\u001b[49m\n\u001b[0;32m     15\u001b[0m \u001b[38;5;66;03m# Add the audio clip to the blank audio clip at the specified start time\u001b[39;00m\n\u001b[0;32m     16\u001b[0m composite_audio \u001b[38;5;241m=\u001b[39m CompositeAudioClip([blank_audio, audio_clip\u001b[38;5;241m.\u001b[39mset_start(start_time)])\n",
      "\u001b[1;31mTypeError\u001b[0m: AudioFileClip.__init__() got an unexpected keyword argument 'duration'"
     ]
    }
   ],
   "source": [
    "from moviepy.editor import VideoFileClip, AudioFileClip, CompositeAudioClip\n",
    "\n",
    "# Load the video clip\n",
    "video_clip = VideoFileClip(r\"D:\\video\\Video\\Video\\twice\\likey.mp4\").subclip(0,50).without_audio()\n",
    "\n",
    "# Load the audio clip\n",
    "audio_clip = AudioFileClip(\"audio.mp3\")\n",
    "\n",
    "\n",
    "start_time = 6\n",
    "\n",
    "# Create a blank audio clip with the duration of the video clip\n",
    "blank_audio = AudioFileClip(\"blank_audio.wav\", duration=video_clip.duration)\n",
    "\n",
    "# Add the audio clip to the blank audio clip at the specified start time\n",
    "composite_audio = CompositeAudioClip([blank_audio, audio_clip.set_start(start_time)])\n",
    "\n",
    "# Set the audio of the video clip to the composite audio\n",
    "video_clip = video_clip.set_audio(composite_audio)\n",
    "\n",
    "# Export the final video with the added audio\n",
    "video_clip.write_videofile(\"output.mp4\", codec=\"libx264\", audio_codec=\"aac\")"
   ]
  },
  {
   "cell_type": "code",
   "execution_count": null,
   "id": "e40f4fa0-22a4-4105-a683-6c8f0e11f55f",
   "metadata": {},
   "outputs": [],
   "source": [
    "from moviepy.editor import VideoFileClip\n",
    "from pydub import AudioSegment\n",
    "import os\n",
    "\n",
    "# Load the video clip\n",
    "video_clip = VideoFileClip(\"/content/video.webm\").subclip(0, 50).without_audio()\n",
    "\n",
    "# Load the audio clip\n",
    "audio_clip = AudioSegment.from_file(\"audio.mp3\")\n",
    "\n",
    "start_time = 6\n",
    "\n",
    "# Create a blank audio segment with the duration of the video clip\n",
    "blank_audio = AudioSegment.silent(duration=int(video_clip.duration * 1000))\n",
    "\n",
    "# Add the audio clip to the blank audio segment at the specified start time\n",
    "blank_audio = blank_audio.overlay(audio_clip, position=start_time * 1000)\n",
    "\n",
    "# Export the audio segment as a temporary audio file\n",
    "blank_audio.export(\"temp_audio.wav\", format=\"wav\")\n",
    "\n",
    "# Load the temporary audio file as an audio clip\n",
    "temp_audio_clip = AudioFileClip(\"temp_audio.wav\")\n",
    "\n",
    "# Set the audio of the video clip to the temporary audio clip\n",
    "video_clip = video_clip.set_audio(temp_audio_clip)\n",
    "\n",
    "# Remove the temporary audio file\n",
    "os.remove(\"temp_audio.wav\")\n",
    "\n",
    "# Export the final video with the added audio\n",
    "video_clip.write_videofile(\"output.mp4\", codec=\"libx264\", audio_codec=\"aac\")\n",
    "\n"
   ]
  },
  {
   "cell_type": "code",
   "execution_count": null,
   "id": "ecacd2fe-1564-49f6-8f00-6c10a1c56ad2",
   "metadata": {},
   "outputs": [],
   "source": [
    "from moviepy.editor import VideoFileClip\n",
    "from pydub import AudioSegment\n",
    "import io\n",
    "import tempfile\n",
    "\n",
    "# Load the video clip\n",
    "video_clip = VideoFileClip(\"/content/video.webm\").subclip(0, 50).without_audio()\n",
    "\n",
    "# Load the audio clip\n",
    "audio_clip = AudioSegment.from_file(\"audio.mp3\").duration_seconds(10)\n",
    "\n",
    "start_time = 6\n",
    "\n",
    "# Create a blank audio segment with the duration of the video clip\n",
    "blank_audio = AudioSegment.silent(duration=int(video_clip.duration * 1000))\n",
    "\n",
    "# Add the audio clip to the blank audio segment at the specified start time\n",
    "blank_audio = blank_audio.overlay(audio_clip, position=start_time * 1000)\n",
    "\n",
    "# Export the audio segment as an in-memory file\n",
    "audio_file = io.BytesIO()\n",
    "blank_audio.export(audio_file, format=\"wav\")\n",
    "\n",
    "# Create a temporary file and write the in-memory file content to it\n",
    "temp_file = tempfile.NamedTemporaryFile(delete=False, suffix=\".wav\")\n",
    "temp_file.write(audio_file.getvalue())\n",
    "temp_file.close()\n",
    "\n",
    "# Create an AudioFileClip from the temporary file\n",
    "temp_audio_clip = AudioFileClip(temp_file.name)\n",
    "\n",
    "# Set the audio of the video clip to the temporary audio clip\n",
    "video_clip = video_clip.set_audio(temp_audio_clip)\n",
    "\n",
    "# Export the final video with the added audio\n",
    "video_clip.write_videofile(\"output.mp4\", codec=\"libx264\", audio_codec=\"aac\")"
   ]
  }
 ],
 "metadata": {
  "kernelspec": {
   "display_name": "Python 3 (ipykernel)",
   "language": "python",
   "name": "python3"
  },
  "language_info": {
   "codemirror_mode": {
    "name": "ipython",
    "version": 3
   },
   "file_extension": ".py",
   "mimetype": "text/x-python",
   "name": "python",
   "nbconvert_exporter": "python",
   "pygments_lexer": "ipython3",
   "version": "3.10.5"
  }
 },
 "nbformat": 4,
 "nbformat_minor": 5
}
