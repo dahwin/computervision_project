{
 "cells": [
  {
   "cell_type": "markdown",
   "id": "277feb72-2f6e-43f0-bbfe-fdf9b1f3f127",
   "metadata": {},
   "source": [
    "# '''dahyun+darwin= dahwin'''"
   ]
  },
  {
   "cell_type": "markdown",
   "id": "cbdc1566-56e4-4fd0-98a8-0008a7d71b3b",
   "metadata": {},
   "source": [
    "# cv2 with moviepy\n"
   ]
  },
  {
   "cell_type": "code",
   "execution_count": 6,
   "id": "b6552b2a-ce21-4e9d-be5d-344f786bb1fc",
   "metadata": {},
   "outputs": [
    {
     "name": "stdout",
     "output_type": "stream",
     "text": [
      "Moviepy - Building video output.mp4.\n",
      "Moviepy - Writing video output.mp4\n",
      "\n"
     ]
    },
    {
     "name": "stderr",
     "output_type": "stream",
     "text": [
      "                                                                                                                       \r"
     ]
    },
    {
     "name": "stdout",
     "output_type": "stream",
     "text": [
      "Moviepy - Done !\n",
      "Moviepy - video ready output.mp4\n"
     ]
    }
   ],
   "source": [
    "from moviepy.editor import VideoFileClip, concatenate_videoclips, ImageClip\n",
    "from moviepy.editor import VideoFileClip, vfx\n",
    "from moviepy.editor import ImageClip, concatenate_videoclips, VideoFileClip,CompositeVideoClip\n",
    "import cv2\n",
    "import numpy as np\n",
    "\n",
    "clip1 = VideoFileClip('likey.mp4').subclip(0, 6)\n",
    "clip2 = VideoFileClip('feel.mp4').subclip(0, 6)\n",
    "\n",
    "duration = 30  # in frames\n",
    "\n",
    "frames1 = [frame for frame in clip1.iter_frames()][:-duration]\n",
    "duration_frames = [frame for frame in clip1.iter_frames()][-duration:]\n",
    "\n",
    "frames2 = [frame for frame in clip2.iter_frames()]\n",
    "\n",
    "height, width, _ = frames1[0].shape\n",
    "transition_frames = []\n",
    "\n",
    "for i in range(duration):\n",
    "    # Calculate the translation distance based on the frame index\n",
    "    # For slide-in effect from right, clip1 moves to the left and clip2 comes from the right\n",
    "    tx = int((width / duration) * i)\n",
    "    tx_clip1 = -tx\n",
    "    tx_clip2 = width - tx\n",
    "\n",
    "    # Create a blank frame\n",
    "    blank_frame = np.zeros_like(frames1[0])\n",
    "\n",
    "    # Apply translation to clip1\n",
    "    frame_clip1 = cv2.warpAffine(duration_frames[i], np.float32([[1, 0, tx_clip1], [0, 1, 0]]), (width, height))\n",
    "\n",
    "    # Apply translation to clip2\n",
    "    frame_clip2 = cv2.warpAffine(frames2[i], np.float32([[1, 0, tx_clip2], [0, 1, 0]]), (width, height))\n",
    "\n",
    "    alpha = i / duration  # Linearly increasing alpha value\n",
    "\n",
    "    blend_frame = cv2.addWeighted(frame_clip1, 1 - alpha, frame_clip2, alpha, 0)\n",
    "\n",
    "    transition_frames.append(blend_frame)\n",
    "\n",
    "remaining_frames = frames2[duration:]\n",
    "\n",
    "final_frames = frames1 + transition_frames + remaining_frames\n",
    "\n",
    "fps = clip1.fps\n",
    "\n",
    "# Convert each frame to an ImageClip\n",
    "final_clips = [ImageClip(frame, duration=1/fps) for frame in final_frames]\n",
    "\n",
    "# Concatenate the clips\n",
    "ex = concatenate_videoclips(final_clips, method='compose')\n",
    "\n",
    "# Write the output video\n",
    "ex.write_videofile('output.mp4', fps=fps, codec=\"libx264\", audio_codec=\"aac\", bitrate=\"5000k\")\n"
   ]
  },
  {
   "cell_type": "code",
   "execution_count": null,
   "id": "2cc5fc95-7e05-4424-b86d-0795d31e930d",
   "metadata": {},
   "outputs": [],
   "source": [
    "from moviepy.editor import VideoFileClip, concatenate_videoclips,vfx , AudioFileClip\n",
    "from moviepy import editor\n",
    "\n",
    "clip1 = VideoFileClip('fancy.mp4').subclip(0,6)\n",
    "clip2 = VideoFileClip('feel.mp4').subclip(0,6)\n",
    "\n",
    "combined = concatenate_videoclips([clip1,clip2])\n",
    "combined.write_videofile('dahyun.mp4')"
   ]
  },
  {
   "cell_type": "code",
   "execution_count": 8,
   "id": "4bd6cdbb-32b6-4a7d-819e-a67db489f8bb",
   "metadata": {},
   "outputs": [
    {
     "name": "stdout",
     "output_type": "stream",
     "text": [
      "Moviepy - Building video imagewithvideos.mp4.\n",
      "MoviePy - Writing audio in imagewithvideosTEMP_MPY_wvf_snd.mp3\n"
     ]
    },
    {
     "name": "stderr",
     "output_type": "stream",
     "text": [
      "                                                                                                                       \r"
     ]
    },
    {
     "name": "stdout",
     "output_type": "stream",
     "text": [
      "MoviePy - Done.\n",
      "Moviepy - Writing video imagewithvideos.mp4\n",
      "\n"
     ]
    },
    {
     "name": "stderr",
     "output_type": "stream",
     "text": [
      "                                                                                                                       \r"
     ]
    },
    {
     "name": "stdout",
     "output_type": "stream",
     "text": [
      "Moviepy - Done !\n",
      "Moviepy - video ready imagewithvideos.mp4\n"
     ]
    }
   ],
   "source": [
    "import numpy as np\n",
    "from moviepy.editor import *\n",
    "\n",
    "video = VideoFileClip('feel.mp4',target_resolution=(1080, 1920))\n",
    "image = ImageClip('n.jpeg',).set_duration(video.duration)\n",
    "image.resize(height=100)\n",
    "def possition(t):\n",
    "    return 0,0\n",
    "image = image.set_position('center')\n",
    "# Set the target resolution to HD (1920x1080)\n",
    "target_resolution = (1920, 1080)\n",
    "final = CompositeVideoClip([video,image])\n",
    "final =final.resize(height=target_resolution[1], width=target_resolution[0])\n",
    "final.write_videofile('imagewithvideos.mp4',fps=24)"
   ]
  },
  {
   "cell_type": "markdown",
   "id": "a768159d-e2ec-45f9-a942-357598158d05",
   "metadata": {},
   "source": [
    "# image overlay"
   ]
  },
  {
   "cell_type": "code",
   "execution_count": 15,
   "id": "e2827196-c4e0-4c65-a114-520d2ad12395",
   "metadata": {},
   "outputs": [
    {
     "name": "stdout",
     "output_type": "stream",
     "text": [
      "Moviepy - Building video imagewithvideos.mp4.\n",
      "MoviePy - Writing audio in imagewithvideosTEMP_MPY_wvf_snd.mp3\n"
     ]
    },
    {
     "name": "stderr",
     "output_type": "stream",
     "text": [
      "                                                                                                                       \r"
     ]
    },
    {
     "name": "stdout",
     "output_type": "stream",
     "text": [
      "MoviePy - Done.\n",
      "Moviepy - Writing video imagewithvideos.mp4\n",
      "\n"
     ]
    },
    {
     "name": "stderr",
     "output_type": "stream",
     "text": [
      "                                                                                                                       \r"
     ]
    },
    {
     "name": "stdout",
     "output_type": "stream",
     "text": [
      "Moviepy - Done !\n",
      "Moviepy - video ready imagewithvideos.mp4\n"
     ]
    }
   ],
   "source": [
    "from moviepy.editor import *\n",
    "\n",
    "video = VideoFileClip('feel.mp4', target_resolution=(1080, 1920))\n",
    "image = ImageClip('n.jpeg').set_duration(video.duration)\n",
    "\n",
    "# Resize the image to a specific size, e.g., (100, 80)\n",
    "image = image.fx(vfx.resize, width=600, height=400).fx(vfx.blackwhite)\n",
    "\n",
    "def position(t):\n",
    "    return 0, 0\n",
    "\n",
    "image = image.set_position(position)\n",
    "\n",
    "# Set the target resolution to HD (1920x1080)\n",
    "target_resolution = (1920, 1080)\n",
    "final = CompositeVideoClip([video, image])\n",
    "final = final.resize(height=target_resolution[1], width=target_resolution[0])\n",
    "final.write_videofile('imagewithvideos.mp4', fps=24)\n",
    "\n",
    "\n",
    "\n"
   ]
  },
  {
   "cell_type": "code",
   "execution_count": null,
   "id": "da6aa41a-1253-4cf1-873c-10f21cefb5af",
   "metadata": {},
   "outputs": [],
   "source": []
  }
 ],
 "metadata": {
  "kernelspec": {
   "display_name": "Python 3 (ipykernel)",
   "language": "python",
   "name": "python3"
  },
  "language_info": {
   "codemirror_mode": {
    "name": "ipython",
    "version": 3
   },
   "file_extension": ".py",
   "mimetype": "text/x-python",
   "name": "python",
   "nbconvert_exporter": "python",
   "pygments_lexer": "ipython3",
   "version": "3.10.5"
  }
 },
 "nbformat": 4,
 "nbformat_minor": 5
}
