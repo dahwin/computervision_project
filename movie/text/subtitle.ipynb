{
 "cells": [
  {
   "cell_type": "code",
   "execution_count": null,
   "id": "8d78f1a8-61ba-4590-826a-0cf84708002d",
   "metadata": {},
   "outputs": [],
   "source": [
    "from moviepy.editor import *\n",
    "from moviepy.video.tools.subtitles import SubtitlesClip\n",
    "\n",
    "def split_subtitle(text, max_words_per_line=10):\n",
    "    words = text.split()\n",
    "    lines = [words[i:i+max_words_per_line] for i in range(0, len(words), max_words_per_line)]\n",
    "    return '\\n'.join([' '.join(line) for line in lines])\n",
    "\n",
    "def multiline_text_generator(txt):\n",
    "    font = 'Arial'\n",
    "    fontsize = 70\n",
    "    color = 'white'\n",
    "    return TextClip(split_subtitle(txt), font=font, fontsize=fontsize, color=color,bg_color='blue')\n",
    "\n",
    "subtitles = SubtitlesClip(\"outputd.srt\", multiline_text_generator)\n",
    "\n",
    "video = VideoFileClip(\"video.mp4\").subclip(0, 8)\n",
    "result = CompositeVideoClip([video, subtitles.set_pos(('center', 'bottom'))])\n",
    "\n",
    "result.write_videofile(\"outsubtitle10.mp4\", fps=video.fps, temp_audiofile=\"temp-audio.m4a\", remove_temp=True, codec=\"libx264\", audio_codec=\"aac\")"
   ]
  },
  {
   "cell_type": "code",
   "execution_count": 1,
   "id": "e4dcc99b-a4f9-4eb6-be00-797e46d237a4",
   "metadata": {},
   "outputs": [
    {
     "data": {
      "text/plain": [
       "494"
      ]
     },
     "execution_count": 1,
     "metadata": {},
     "output_type": "execute_result"
    }
   ],
   "source": [
    "from moviepy.editor import *\n",
    "len(TextClip.list('font'))"
   ]
  },
  {
   "cell_type": "code",
   "execution_count": 6,
   "id": "fe916e70-763e-4b4a-bdc4-ce5ef40ddca1",
   "metadata": {
    "scrolled": true
   },
   "outputs": [
    {
     "name": "stderr",
     "output_type": "stream",
     "text": [
      "t:   1%|▊                                                                  | 3/240 [8:59:10<00:12, 18.53it/s, now=None]"
     ]
    },
    {
     "name": "stdout",
     "output_type": "stream",
     "text": [
      "Moviepy - Building video outsubtitle_with_border.mp4.\n",
      "MoviePy - Writing audio in temp-audio.m4a\n"
     ]
    },
    {
     "name": "stderr",
     "output_type": "stream",
     "text": [
      "\n",
      "chunk:   0%|                                                                         | 0/177 [00:00<?, ?it/s, now=None]\u001b[A\n",
      "chunk:  16%|██████████                                                      | 28/177 [00:01<00:07, 20.19it/s, now=None]\u001b[A\n",
      "chunk:  84%|███████████████████████████████████████████████████▊          | 148/177 [00:01<00:00, 130.24it/s, now=None]\u001b[A\n",
      "t:   1%|▊                                                                  | 3/240 [8:59:11<00:12, 18.53it/s, now=None]\u001b[A"
     ]
    },
    {
     "name": "stdout",
     "output_type": "stream",
     "text": [
      "MoviePy - Done.\n",
      "Moviepy - Writing video outsubtitle_with_border.mp4\n",
      "\n"
     ]
    },
    {
     "name": "stderr",
     "output_type": "stream",
     "text": [
      "\n",
      "t:   0%|                                                                             | 0/240 [00:00<?, ?it/s, now=None]\u001b[A\n",
      "t:   1%|▊                                                                    | 3/240 [00:00<00:27,  8.60it/s, now=None]\u001b[A\n",
      "t:   2%|█▍                                                                   | 5/240 [00:00<00:23,  9.83it/s, now=None]\u001b[A\n",
      "t:   3%|██                                                                   | 7/240 [00:00<00:22, 10.55it/s, now=None]\u001b[A\n",
      "t:   4%|██▌                                                                  | 9/240 [00:00<00:21, 10.97it/s, now=None]\u001b[A\n",
      "t:   5%|███                                                                 | 11/240 [00:01<00:19, 11.69it/s, now=None]\u001b[A\n",
      "t:   5%|███▋                                                                | 13/240 [00:01<00:19, 11.91it/s, now=None]\u001b[A\n",
      "t:   6%|████▎                                                               | 15/240 [00:01<00:18, 12.40it/s, now=None]\u001b[A\n",
      "t:   7%|████▊                                                               | 17/240 [00:01<00:17, 12.76it/s, now=None]\u001b[A\n",
      "t:   8%|█████▍                                                              | 19/240 [00:01<00:17, 12.40it/s, now=None]\u001b[A\n",
      "t:   9%|█████▉                                                              | 21/240 [00:01<00:17, 12.46it/s, now=None]\u001b[A\n",
      "t:  10%|██████▌                                                             | 23/240 [00:01<00:17, 12.17it/s, now=None]\u001b[A\n",
      "t:  10%|███████                                                             | 25/240 [00:02<00:17, 12.20it/s, now=None]\u001b[A\n",
      "t:  11%|███████▋                                                            | 27/240 [00:02<00:17, 12.32it/s, now=None]\u001b[A\n",
      "t:  12%|████████▏                                                           | 29/240 [00:02<00:16, 12.54it/s, now=None]\u001b[A\n",
      "t:  13%|████████▊                                                           | 31/240 [00:02<00:16, 12.77it/s, now=None]\u001b[A\n",
      "t:  14%|█████████▎                                                          | 33/240 [00:02<00:16, 12.89it/s, now=None]\u001b[A\n",
      "t:  15%|█████████▉                                                          | 35/240 [00:02<00:15, 12.87it/s, now=None]\u001b[A\n",
      "t:  15%|██████████▍                                                         | 37/240 [00:03<00:15, 12.96it/s, now=None]\u001b[A\n",
      "t:  16%|███████████                                                         | 39/240 [00:03<00:15, 13.07it/s, now=None]\u001b[A\n",
      "t:  17%|███████████▌                                                        | 41/240 [00:03<00:15, 13.05it/s, now=None]\u001b[A\n",
      "t:  18%|████████████▏                                                       | 43/240 [00:03<00:15, 12.91it/s, now=None]\u001b[A\n",
      "t:  19%|████████████▊                                                       | 45/240 [00:03<00:15, 12.69it/s, now=None]\u001b[A\n",
      "t:  20%|█████████████▎                                                      | 47/240 [00:03<00:15, 12.45it/s, now=None]\u001b[A\n",
      "t:  20%|█████████████▉                                                      | 49/240 [00:04<00:15, 12.12it/s, now=None]\u001b[A\n",
      "t:  21%|██████████████▍                                                     | 51/240 [00:04<00:15, 11.89it/s, now=None]\u001b[A\n",
      "t:  22%|███████████████                                                     | 53/240 [00:04<00:15, 12.02it/s, now=None]\u001b[A\n",
      "t:  23%|███████████████▌                                                    | 55/240 [00:04<00:15, 11.88it/s, now=None]\u001b[A\n",
      "t:  24%|████████████████▏                                                   | 57/240 [00:04<00:15, 11.91it/s, now=None]\u001b[A\n",
      "t:  25%|████████████████▋                                                   | 59/240 [00:04<00:15, 11.66it/s, now=None]\u001b[A\n",
      "t:  25%|█████████████████▎                                                  | 61/240 [00:05<00:15, 11.72it/s, now=None]\u001b[A\n",
      "t:  26%|█████████████████▊                                                  | 63/240 [00:05<00:15, 11.45it/s, now=None]\u001b[A\n",
      "t:  27%|██████████████████▍                                                 | 65/240 [00:05<00:15, 11.29it/s, now=None]\u001b[A\n",
      "t:  28%|██████████████████▉                                                 | 67/240 [00:05<00:15, 11.26it/s, now=None]\u001b[A\n",
      "t:  29%|███████████████████▌                                                | 69/240 [00:05<00:15, 11.31it/s, now=None]\u001b[A\n",
      "t:  30%|████████████████████                                                | 71/240 [00:05<00:14, 11.39it/s, now=None]\u001b[A\n",
      "t:  30%|████████████████████▋                                               | 73/240 [00:06<00:15, 10.93it/s, now=None]\u001b[A\n",
      "t:  31%|█████████████████████▎                                              | 75/240 [00:06<00:14, 11.02it/s, now=None]\u001b[A\n",
      "t:  32%|█████████████████████▊                                              | 77/240 [00:06<00:15, 10.85it/s, now=None]\u001b[A\n",
      "t:  33%|██████████████████████▍                                             | 79/240 [00:06<00:14, 11.02it/s, now=None]\u001b[A\n",
      "t:  34%|██████████████████████▉                                             | 81/240 [00:06<00:14, 11.26it/s, now=None]\u001b[A\n",
      "t:  35%|███████████████████████▌                                            | 83/240 [00:07<00:13, 11.46it/s, now=None]\u001b[A\n",
      "t:  35%|████████████████████████                                            | 85/240 [00:07<00:13, 11.15it/s, now=None]\u001b[A\n",
      "t:  36%|████████████████████████▋                                           | 87/240 [00:07<00:13, 11.08it/s, now=None]\u001b[A\n",
      "t:  37%|█████████████████████████▏                                          | 89/240 [00:07<00:13, 11.26it/s, now=None]\u001b[A\n",
      "t:  38%|█████████████████████████▊                                          | 91/240 [00:07<00:12, 11.71it/s, now=None]\u001b[A\n",
      "t:  39%|██████████████████████████▎                                         | 93/240 [00:07<00:12, 11.63it/s, now=None]\u001b[A\n",
      "t:  40%|██████████████████████████▉                                         | 95/240 [00:08<00:13, 11.13it/s, now=None]\u001b[A\n",
      "t:  40%|███████████████████████████▍                                        | 97/240 [00:08<00:12, 11.43it/s, now=None]\u001b[A\n",
      "t:  41%|████████████████████████████                                        | 99/240 [00:08<00:12, 11.47it/s, now=None]\u001b[A\n",
      "t:  42%|████████████████████████████▏                                      | 101/240 [00:08<00:11, 11.80it/s, now=None]\u001b[A\n",
      "t:  43%|████████████████████████████▊                                      | 103/240 [00:08<00:12, 11.33it/s, now=None]\u001b[A\n",
      "t:  44%|█████████████████████████████▎                                     | 105/240 [00:08<00:12, 11.23it/s, now=None]\u001b[A\n",
      "t:  45%|█████████████████████████████▊                                     | 107/240 [00:09<00:11, 11.53it/s, now=None]\u001b[A\n",
      "t:  45%|██████████████████████████████▍                                    | 109/240 [00:09<00:11, 11.70it/s, now=None]\u001b[A\n",
      "t:  46%|██████████████████████████████▉                                    | 111/240 [00:09<00:11, 11.62it/s, now=None]\u001b[A\n",
      "t:  47%|███████████████████████████████▌                                   | 113/240 [00:09<00:10, 11.64it/s, now=None]\u001b[A\n",
      "t:  48%|████████████████████████████████                                   | 115/240 [00:09<00:10, 11.68it/s, now=None]\u001b[A\n",
      "t:  49%|████████████████████████████████▋                                  | 117/240 [00:09<00:10, 11.77it/s, now=None]\u001b[A\n",
      "t:  50%|█████████████████████████████████▏                                 | 119/240 [00:10<00:10, 11.41it/s, now=None]\u001b[A\n",
      "t:  50%|█████████████████████████████████▊                                 | 121/240 [00:10<00:10, 11.47it/s, now=None]\u001b[A\n",
      "t:  51%|██████████████████████████████████▎                                | 123/240 [00:10<00:10, 11.29it/s, now=None]\u001b[A\n",
      "t:  52%|██████████████████████████████████▉                                | 125/240 [00:10<00:10, 11.03it/s, now=None]\u001b[A\n",
      "t:  53%|███████████████████████████████████▍                               | 127/240 [00:10<00:10, 11.04it/s, now=None]\u001b[A\n",
      "t:  54%|████████████████████████████████████                               | 129/240 [00:11<00:09, 11.14it/s, now=None]\u001b[A\n",
      "t:  55%|████████████████████████████████████▌                              | 131/240 [00:11<00:09, 11.32it/s, now=None]\u001b[A\n",
      "t:  55%|█████████████████████████████████████▏                             | 133/240 [00:11<00:09, 11.46it/s, now=None]\u001b[A\n",
      "t:  56%|█████████████████████████████████████▋                             | 135/240 [00:11<00:09, 11.47it/s, now=None]\u001b[A\n",
      "t:  57%|██████████████████████████████████████▏                            | 137/240 [00:11<00:09, 11.27it/s, now=None]\u001b[A\n",
      "t:  58%|██████████████████████████████████████▊                            | 139/240 [00:11<00:08, 11.39it/s, now=None]\u001b[A\n",
      "t:  59%|███████████████████████████████████████▎                           | 141/240 [00:12<00:08, 11.44it/s, now=None]\u001b[A\n",
      "t:  60%|███████████████████████████████████████▉                           | 143/240 [00:12<00:08, 11.44it/s, now=None]\u001b[A\n",
      "t:  60%|████████████████████████████████████████▍                          | 145/240 [00:12<00:08, 11.70it/s, now=None]\u001b[A\n",
      "t:  61%|█████████████████████████████████████████                          | 147/240 [00:12<00:07, 11.91it/s, now=None]\u001b[A\n",
      "t:  62%|█████████████████████████████████████████▌                         | 149/240 [00:12<00:07, 12.04it/s, now=None]\u001b[A\n",
      "t:  63%|██████████████████████████████████████████▏                        | 151/240 [00:12<00:07, 12.15it/s, now=None]\u001b[A\n",
      "t:  64%|██████████████████████████████████████████▋                        | 153/240 [00:13<00:07, 12.19it/s, now=None]\u001b[A\n",
      "t:  65%|███████████████████████████████████████████▎                       | 155/240 [00:13<00:06, 12.24it/s, now=None]\u001b[A\n",
      "t:  65%|███████████████████████████████████████████▊                       | 157/240 [00:13<00:06, 12.18it/s, now=None]\u001b[A\n",
      "t:  66%|████████████████████████████████████████████▍                      | 159/240 [00:13<00:06, 11.86it/s, now=None]\u001b[A\n",
      "t:  67%|████████████████████████████████████████████▉                      | 161/240 [00:13<00:06, 12.07it/s, now=None]\u001b[A\n",
      "t:  68%|█████████████████████████████████████████████▌                     | 163/240 [00:13<00:06, 12.05it/s, now=None]\u001b[A\n",
      "t:  69%|██████████████████████████████████████████████                     | 165/240 [00:14<00:06, 11.96it/s, now=None]\u001b[A\n",
      "t:  70%|██████████████████████████████████████████████▌                    | 167/240 [00:14<00:06, 11.86it/s, now=None]\u001b[A\n",
      "t:  70%|███████████████████████████████████████████████▏                   | 169/240 [00:14<00:05, 11.92it/s, now=None]\u001b[A\n",
      "t:  71%|███████████████████████████████████████████████▋                   | 171/240 [00:14<00:05, 11.90it/s, now=None]\u001b[A\n",
      "t:  72%|████████████████████████████████████████████████▎                  | 173/240 [00:14<00:05, 11.94it/s, now=None]\u001b[A\n",
      "t:  73%|████████████████████████████████████████████████▊                  | 175/240 [00:15<00:06,  9.75it/s, now=None]\u001b[A\n",
      "t:  74%|█████████████████████████████████████████████████▍                 | 177/240 [00:15<00:06, 10.46it/s, now=None]\u001b[A\n",
      "t:  75%|█████████████████████████████████████████████████▉                 | 179/240 [00:15<00:05, 10.84it/s, now=None]\u001b[A\n",
      "t:  75%|██████████████████████████████████████████████████▌                | 181/240 [00:15<00:05, 11.31it/s, now=None]\u001b[A\n",
      "t:  76%|███████████████████████████████████████████████████                | 183/240 [00:15<00:04, 11.44it/s, now=None]\u001b[A\n",
      "t:  77%|███████████████████████████████████████████████████▋               | 185/240 [00:15<00:04, 11.56it/s, now=None]\u001b[A\n",
      "t:  78%|████████████████████████████████████████████████████▏              | 187/240 [00:16<00:04, 11.85it/s, now=None]\u001b[A\n",
      "t:  79%|████████████████████████████████████████████████████▊              | 189/240 [00:16<00:04, 11.74it/s, now=None]\u001b[A\n",
      "t:  80%|█████████████████████████████████████████████████████▎             | 191/240 [00:16<00:04, 12.03it/s, now=None]\u001b[A\n",
      "t:  80%|█████████████████████████████████████████████████████▉             | 193/240 [00:16<00:03, 11.99it/s, now=None]\u001b[A\n",
      "t:  81%|██████████████████████████████████████████████████████▍            | 195/240 [00:16<00:03, 12.14it/s, now=None]\u001b[A\n",
      "t:  82%|██████████████████████████████████████████████████████▉            | 197/240 [00:16<00:03, 12.21it/s, now=None]\u001b[A\n",
      "t:  83%|███████████████████████████████████████████████████████▌           | 199/240 [00:17<00:03, 12.05it/s, now=None]\u001b[A\n",
      "t:  84%|████████████████████████████████████████████████████████           | 201/240 [00:17<00:03, 11.88it/s, now=None]\u001b[A\n",
      "t:  85%|████████████████████████████████████████████████████████▋          | 203/240 [00:17<00:03, 11.76it/s, now=None]\u001b[A\n",
      "t:  85%|█████████████████████████████████████████████████████████▏         | 205/240 [00:17<00:02, 11.92it/s, now=None]\u001b[A\n",
      "t:  86%|█████████████████████████████████████████████████████████▊         | 207/240 [00:17<00:02, 12.07it/s, now=None]\u001b[A\n",
      "t:  87%|██████████████████████████████████████████████████████████▎        | 209/240 [00:17<00:02, 11.79it/s, now=None]\u001b[A\n",
      "t:  88%|██████████████████████████████████████████████████████████▉        | 211/240 [00:18<00:02, 11.95it/s, now=None]\u001b[A\n",
      "t:  89%|███████████████████████████████████████████████████████████▍       | 213/240 [00:18<00:02, 12.11it/s, now=None]\u001b[A\n",
      "t:  90%|████████████████████████████████████████████████████████████       | 215/240 [00:18<00:02, 12.05it/s, now=None]\u001b[A\n",
      "t:  90%|████████████████████████████████████████████████████████████▌      | 217/240 [00:18<00:01, 12.08it/s, now=None]\u001b[A\n",
      "t:  91%|█████████████████████████████████████████████████████████████▏     | 219/240 [00:18<00:01, 11.79it/s, now=None]\u001b[A\n",
      "t:  92%|█████████████████████████████████████████████████████████████▋     | 221/240 [00:18<00:01, 11.46it/s, now=None]\u001b[A\n",
      "t:  93%|██████████████████████████████████████████████████████████████▎    | 223/240 [00:19<00:01, 11.36it/s, now=None]\u001b[A\n",
      "t:  94%|██████████████████████████████████████████████████████████████▊    | 225/240 [00:19<00:01, 11.21it/s, now=None]\u001b[A\n",
      "t:  95%|███████████████████████████████████████████████████████████████▎   | 227/240 [00:19<00:01, 11.01it/s, now=None]\u001b[A\n",
      "t:  95%|███████████████████████████████████████████████████████████████▉   | 229/240 [00:19<00:01, 10.80it/s, now=None]\u001b[A\n",
      "t:  96%|████████████████████████████████████████████████████████████████▍  | 231/240 [00:19<00:00, 10.79it/s, now=None]\u001b[A\n",
      "t:  97%|█████████████████████████████████████████████████████████████████  | 233/240 [00:20<00:00, 10.87it/s, now=None]\u001b[A\n",
      "t:  98%|█████████████████████████████████████████████████████████████████▌ | 235/240 [00:20<00:00, 10.77it/s, now=None]\u001b[A\n",
      "t:  99%|██████████████████████████████████████████████████████████████████▏| 237/240 [00:20<00:00, 10.75it/s, now=None]\u001b[A\n",
      "t: 100%|██████████████████████████████████████████████████████████████████▋| 239/240 [00:20<00:00, 10.77it/s, now=None]\u001b[A\n",
      "t:   1%|▊                                                                  | 3/240 [8:59:33<00:12, 18.53it/s, now=None]\u001b[A"
     ]
    },
    {
     "name": "stdout",
     "output_type": "stream",
     "text": [
      "Moviepy - Done !\n",
      "Moviepy - video ready outsubtitle_with_border.mp4\n"
     ]
    }
   ],
   "source": [
    "from moviepy.editor import *\n",
    "from moviepy.video.tools.subtitles import SubtitlesClip\n",
    "\n",
    "def split_subtitle(text, max_words_per_line=10):\n",
    "    words = text.split()\n",
    "    lines = [words[i:i+max_words_per_line] for i in range(0, len(words), max_words_per_line)]\n",
    "    return '\\n'.join([' '.join(line) for line in lines])\n",
    "\n",
    "def multiline_text_generator(txt):\n",
    "    font = 'Arial'\n",
    "    fontsize = 70\n",
    "    color = 'white'\n",
    "    bg_color = 'black'\n",
    "    stroke_color = 'white'  # Color of the white border\n",
    "    stroke_width = 1 # Width of the white border\n",
    "    return TextClip(split_subtitle(txt), font=font, fontsize=fontsize, color=color, bg_color=bg_color, stroke_color=None, stroke_width=None)\n",
    "\n",
    "subtitles = SubtitlesClip(\"outputd.srt\", multiline_text_generator)\n",
    "\n",
    "video = VideoFileClip(\"video.mp4\").subclip(0, 8)\n",
    "result = CompositeVideoClip([video, subtitles.set_pos(('center', 'bottom'))])\n",
    "\n",
    "result.write_videofile(\"outsubtitle_with_border.mp4\", fps=video.fps, temp_audiofile=\"temp-audio.m4a\", remove_temp=True, codec=\"libx264\", audio_codec=\"aac\")\n",
    "\n"
   ]
  },
  {
   "cell_type": "code",
   "execution_count": null,
   "id": "23ad87e5-d5f0-45d5-b99e-976058664806",
   "metadata": {},
   "outputs": [],
   "source": [
    "from moviepy.editor import *\n",
    "from moviepy.video.tools.subtitles import SubtitlesClip\n",
    "\n",
    "subtitles = SubtitlesClip(\"outputd.srt\", lambda txt: TextClip(txt, fontsize=70, color='white', bg_color='blue'))\n",
    "\n",
    "video = VideoFileClip(\"video.mp4\").subclip(0, 8)\n",
    "result = CompositeVideoClip([video.set_audio(None), subtitles.set_position(('center', 'bottom'))])\n",
    "\n",
    "result.write_videofile(\"outsubtitle_with_bg.mp4\", fps=video.fps, temp_audiofile=\"temp-audio.m4a\", remove_temp=True, codec=\"libx264\", audio_codec=\"aac\")\n"
   ]
  },
  {
   "cell_type": "code",
   "execution_count": null,
   "id": "e1ef4aa5-df4a-44cc-b2ae-0b407b33cd99",
   "metadata": {},
   "outputs": [],
   "source": [
    "from moviepy.editor import *\n",
    "from moviepy.video.tools.subtitles import SubtitlesClip\n",
    "\n",
    "def split_subtitle(text, max_words_per_line=10):\n",
    "    words = text.split()\n",
    "    lines = [words[i:i+max_words_per_line] for i in range(0, len(words), max_words_per_line)]\n",
    "    return '\\n'.join([' '.join(line) for line in lines])\n",
    "\n",
    "def multiline_text_generator(txt, bgcolor=(0, 0, 0), txtcolor=(255, 255, 255)):\n",
    "    font = 'Arial'\n",
    "    fontsize = 70\n",
    "    return TextClip(split_subtitle(txt), font=font, fontsize=fontsize, color=txtcolor, bg_color=bgcolor)\n",
    "\n",
    "subtitles = SubtitlesClip(\"outputd.srt\", lambda txt: multiline_text_generator(txt, bgcolor=(0, 0, 0), txtcolor=(255, 255, 255)))\n",
    "\n",
    "video = VideoFileClip(\"video.mp4\").subclip(0, 8)\n",
    "result = CompositeVideoClip([video, subtitles.set_position(('center', 'bottom'))])\n",
    "\n",
    "result.write_videofile(\"outsubtitle_with_bg.mp4\", fps=video.fps, temp_audiofile=\"temp-audio.m4a\", remove_temp=True, codec=\"libx264\", audio_codec=\"aac\")\n",
    "\n",
    "\n"
   ]
  },
  {
   "cell_type": "code",
   "execution_count": null,
   "id": "9e92f462-fa8f-477c-b852-49fe3489094e",
   "metadata": {},
   "outputs": [],
   "source": []
  },
  {
   "cell_type": "code",
   "execution_count": 5,
   "id": "48f0cddf-8c44-4efc-b6c3-3662897e925f",
   "metadata": {},
   "outputs": [
    {
     "name": "stdout",
     "output_type": "stream",
     "text": [
      "Moviepy - Building video dahwin_fancy.mp4.\n",
      "MoviePy - Writing audio in temp-audio.m4a\n"
     ]
    },
    {
     "name": "stderr",
     "output_type": "stream",
     "text": [
      "                                                                                                                       \r"
     ]
    },
    {
     "name": "stdout",
     "output_type": "stream",
     "text": [
      "MoviePy - Done.\n",
      "Moviepy - Writing video dahwin_fancy.mp4\n",
      "\n"
     ]
    },
    {
     "name": "stderr",
     "output_type": "stream",
     "text": [
      "                                                                                                                       \r"
     ]
    },
    {
     "name": "stdout",
     "output_type": "stream",
     "text": [
      "Moviepy - Done !\n",
      "Moviepy - video ready dahwin_fancy.mp4\n"
     ]
    }
   ],
   "source": [
    "from moviepy.editor import *\n",
    "def subtitile_effect(subtitle:dict,):\n",
    "\n",
    "    from moviepy.video.tools.subtitles import SubtitlesClip\n",
    "\n",
    "    def split_subtitle(text, max_words_per_line=6):\n",
    "        words = text.split()\n",
    "        lines = [words[i:i + max_words_per_line] for i in range(0, len(words), max_words_per_line)]\n",
    "        return '\\n'.join([' '.join(line) for line in lines])\n",
    "\n",
    "    def multiline_text_generator(txt):\n",
    "        font = subtitle['font']\n",
    "        fontsize = subtitle['fontsize']\n",
    "        color = subtitle['color']\n",
    "        bg_color = subtitle['bg_color']\n",
    "        # stroke_color = 'white'  # Color of the white border\n",
    "        # stroke_width = 1  # Width of the white border\n",
    "        if bg_color=='None':\n",
    "\n",
    "            text= TextClip(split_subtitle(txt), font=font, fontsize=fontsize, color=color, bg_color=None,\n",
    "                        stroke_color=None, stroke_width=None)\n",
    "        else:\n",
    "            text = TextClip(split_subtitle(txt), font=font, fontsize=fontsize, color=color, bg_color=bg_color,\n",
    "                            stroke_color=None, stroke_width=None)\n",
    "\n",
    "        return text\n",
    "\n",
    "    subtitles = SubtitlesClip(\"outputd.srt\", multiline_text_generator)\n",
    "    # Open the video file\n",
    "    video_path = r\"C:\\Users\\ALL USER\\Desktop\\computervision_project\\movie\\tofu.mp4\"\n",
    "\n",
    "    video = VideoFileClip(video_path).subclip(0, 8)\n",
    "\n",
    "    \n",
    "    result = CompositeVideoClip([video, subtitles.set_pos(('center', 'center'))])\n",
    "    result.write_videofile(\"dahwin_fancy.mp4\", fps=video.fps, temp_audiofile=\"temp-audio.m4a\",\n",
    "                               remove_temp=True, codec=\"libx264\", audio_codec=\"aac\")\n",
    "\n",
    "d = {'font':'Arial','fontsize':40,'bg_color':'blue','color':'white'}\n",
    "subtitile_effect(d)"
   ]
  },
  {
   "cell_type": "code",
   "execution_count": 1,
   "id": "4898778b-7571-4b1a-8e6f-12a206ee6f6e",
   "metadata": {},
   "outputs": [
    {
     "name": "stdout",
     "output_type": "stream",
     "text": [
      "Aspect Ratio: 1.7777777777777777\n",
      "Moviepy - Building video dahwin_fancy.mp4.\n",
      "MoviePy - Writing audio in temp-audio.m4a\n"
     ]
    },
    {
     "name": "stderr",
     "output_type": "stream",
     "text": [
      "                                                                                                                       \r"
     ]
    },
    {
     "name": "stdout",
     "output_type": "stream",
     "text": [
      "MoviePy - Done.\n",
      "Moviepy - Writing video dahwin_fancy.mp4\n",
      "\n"
     ]
    },
    {
     "name": "stderr",
     "output_type": "stream",
     "text": [
      "                                                                                                                       \r"
     ]
    },
    {
     "name": "stdout",
     "output_type": "stream",
     "text": [
      "Moviepy - Done !\n",
      "Moviepy - video ready dahwin_fancy.mp4\n"
     ]
    }
   ],
   "source": [
    "from moviepy.editor import *\n",
    "from moviepy.video.tools.subtitles import SubtitlesClip\n",
    "import cv2\n",
    "def subtitile_effect(subtitle:dict,landscpae=None):\n",
    "    # Open the video file\n",
    "    video_path = r\"video.mp4\"\n",
    "    cap = cv2.VideoCapture(video_path)\n",
    "    \n",
    "    # Get the width and height of the video\n",
    "    width = int(cap.get(cv2.CAP_PROP_FRAME_WIDTH))\n",
    "    height = int(cap.get(cv2.CAP_PROP_FRAME_HEIGHT))\n",
    "    \n",
    "    # Calculate the aspect ratio\n",
    "    aspect_ratio = width / height\n",
    "    \n",
    "    # Release the video capture object\n",
    "    cap.release()\n",
    "    \n",
    "    # Print the aspect ratio\n",
    "    print(\"Aspect Ratio:\", aspect_ratio)\n",
    "    \n",
    "    \n",
    "    \n",
    "    def interpolate_tree_price(desired_height=None, known_height1=None, price1=None, known_height2=None, price2=None):\n",
    "        # Given prices and heights\n",
    "        known_height1 = 0.56  # feet\n",
    "        price1 = 40  # price in currency (e.g., dollars)\n",
    "        known_height2 = 1.77  # feet\n",
    "        price2 = 70  # price in currency (e.g., dollars)\n",
    "    \n",
    "        \"\"\"\n",
    "        Interpolate the price of a tree of desired height based on known prices for two different heights.\n",
    "    \n",
    "        Args:\n",
    "        - desired_height (float): The height of the tree for which you want to calculate the price.\n",
    "        - known_height1 (float): The height of the first known tree.\n",
    "        - price1 (float): The price of the first known tree.\n",
    "        - known_height2 (float): The height of the second known tree.\n",
    "        - price2 (float): The price of the second known tree.\n",
    "    \n",
    "        Returns:\n",
    "        - float: The estimated price of the tree with the desired height based on linear interpolation.\n",
    "        \"\"\"\n",
    "        # Perform linear interpolation\n",
    "        price = price1 + (desired_height - known_height1) * (price2 - price1) / (known_height2 - known_height1)\n",
    "        return price\n",
    "    \n",
    "    \n",
    "    # Desired height for which to calculate the price\n",
    "    desired_height = aspect_ratio\n",
    "    \n",
    "    # Calculate the price of the 0.80 feet tree using linear interpolation\n",
    "    fontsize = interpolate_tree_price(desired_height=desired_height)\n",
    "    if landscpae is not None:\n",
    "        max_word = 8\n",
    "    else:\n",
    "        max_word = 6\n",
    "\n",
    "    def split_subtitle(text, max_words_per_line=max_word):\n",
    "        words = text.split()\n",
    "        lines = [words[i:i + max_words_per_line] for i in range(0, len(words), max_words_per_line)]\n",
    "        return '\\n'.join([' '.join(line) for line in lines])\n",
    "\n",
    "    def multiline_text_generator(txt):\n",
    "        font = subtitle['font']\n",
    "        # fontsize = subtitle['fontsize']\n",
    "        color = subtitle['color']\n",
    "        bg_color = subtitle['bg_color']\n",
    "        # stroke_color = 'white'  # Color of the white border\n",
    "        # stroke_width = 1  # Width of the white border\n",
    "        if bg_color=='None':\n",
    "\n",
    "            text= TextClip(split_subtitle(txt), font=font, fontsize=fontsize, color=color, bg_color=None,\n",
    "                        stroke_color=None, stroke_width=None)\n",
    "        else:\n",
    "            text = TextClip(split_subtitle(txt), font=font, fontsize=fontsize, color=color, bg_color=bg_color,\n",
    "                            stroke_color=None, stroke_width=None)\n",
    "\n",
    "        return text\n",
    "    return text\n",
    "\n",
    "    subtitles = SubtitlesClip(\"outputd.srt\", multiline_text_generator)\n",
    "    # Open the video file\n",
    "    video_path = video_path \n",
    "\n",
    "    video = VideoFileClip(video_path).subclip(0, 8)\n",
    "\n",
    "    \n",
    "    result = CompositeVideoClip([video, subtitles.set_pos(('center', 'center'))])\n",
    "    result.write_videofile(\"dahwin_fancy.mp4\", fps=video.fps, temp_audiofile=\"temp-audio.m4a\",\n",
    "                               remove_temp=True, codec=\"libx264\", audio_codec=\"aac\")\n",
    "\n",
    "d = {'font':'Arial','fontsize':23,'bg_color':'blue','color':'white'}\n",
    "subtitile_effect(d)"
   ]
  },
  {
   "cell_type": "code",
   "execution_count": null,
   "id": "f4a9f85c-9142-4b5d-9428-f121a5aea3f6",
   "metadata": {},
   "outputs": [],
   "source": [
    "print(b'\\n'.join(TextClip.list('color')).decode())"
   ]
  },
  {
   "cell_type": "code",
   "execution_count": 10,
   "id": "8ac8980c-7964-4a04-a799-8b0e003639b6",
   "metadata": {},
   "outputs": [
    {
     "name": "stdout",
     "output_type": "stream",
     "text": [
      "Number of color names: 681\n"
     ]
    }
   ],
   "source": [
    "from moviepy.editor import TextClip\n",
    "\n",
    "color_names = b'\\n'.join(TextClip.list('color')).decode()\n",
    "color_names_list = color_names.split('\\n')\n",
    "\n",
    "print(\"Number of color names:\", len(color_names_list))\n"
   ]
  },
  {
   "cell_type": "code",
   "execution_count": 1,
   "id": "90a5e40b-9936-42dd-a3b5-04f6ec1b368e",
   "metadata": {},
   "outputs": [
    {
     "ename": "AttributeError",
     "evalue": "type object 'ColorClip' has no attribute 'list'",
     "output_type": "error",
     "traceback": [
      "\u001b[1;31m---------------------------------------------------------------------------\u001b[0m",
      "\u001b[1;31mAttributeError\u001b[0m                            Traceback (most recent call last)",
      "Cell \u001b[1;32mIn[1], line 3\u001b[0m\n\u001b[0;32m      1\u001b[0m \u001b[38;5;28;01mfrom\u001b[39;00m \u001b[38;5;21;01mmoviepy\u001b[39;00m\u001b[38;5;21;01m.\u001b[39;00m\u001b[38;5;21;01mvideo\u001b[39;00m\u001b[38;5;21;01m.\u001b[39;00m\u001b[38;5;21;01mVideoClip\u001b[39;00m \u001b[38;5;28;01mimport\u001b[39;00m ColorClip\n\u001b[1;32m----> 3\u001b[0m color_clips \u001b[38;5;241m=\u001b[39m \u001b[43mColorClip\u001b[49m\u001b[38;5;241;43m.\u001b[39;49m\u001b[43mlist\u001b[49m(\u001b[38;5;124m'\u001b[39m\u001b[38;5;124mcolor\u001b[39m\u001b[38;5;124m'\u001b[39m)\n\u001b[0;32m      4\u001b[0m \u001b[38;5;28mprint\u001b[39m(\u001b[38;5;124m\"\u001b[39m\u001b[38;5;124mNumber of color clips:\u001b[39m\u001b[38;5;124m\"\u001b[39m, \u001b[38;5;28mlen\u001b[39m(color_clips))\n",
      "\u001b[1;31mAttributeError\u001b[0m: type object 'ColorClip' has no attribute 'list'"
     ]
    }
   ],
   "source": [
    "from moviepy.video.VideoClip import ColorClip\n",
    "from moviepy.editor import TextClip\n",
    "color_clips = TextClip.\n",
    "print(\"Number of color clips:\", len(color_clips))\n"
   ]
  },
  {
   "cell_type": "code",
   "execution_count": 12,
   "id": "bb2bef8a-e0a7-4513-8477-f92cc6a42215",
   "metadata": {},
   "outputs": [
    {
     "name": "stdout",
     "output_type": "stream",
     "text": [
      "Aspect Ratio: 1.7777777777777777\n"
     ]
    }
   ],
   "source": [
    "import cv2\n",
    "\n",
    "# Open the video file\n",
    "video_path = r\"video.mp4\"\n",
    "cap = cv2.VideoCapture(video_path)\n",
    "\n",
    "# Get the width and height of the video\n",
    "width = int(cap.get(cv2.CAP_PROP_FRAME_WIDTH))\n",
    "height = int(cap.get(cv2.CAP_PROP_FRAME_HEIGHT))\n",
    "\n",
    "# Calculate the aspect ratio\n",
    "aspect_ratio = width / height\n",
    "\n",
    "# Release the video capture object\n",
    "cap.release()\n",
    "\n",
    "# Print the aspect ratio\n",
    "print(\"Aspect Ratio:\", aspect_ratio)\n"
   ]
  },
  {
   "cell_type": "code",
   "execution_count": 15,
   "id": "792ad0b8-7750-40ad-8e73-4b727a2f11e7",
   "metadata": {},
   "outputs": [
    {
     "name": "stdout",
     "output_type": "stream",
     "text": [
      "The estimated price for a 1.8 feet tree is $70.74\n"
     ]
    }
   ],
   "source": [
    "def interpolate_tree_price(desired_height, known_height1, price1, known_height2, price2):\n",
    "    # Given prices and heights\n",
    "    known_height1 = 0.56  # feet\n",
    "    price1 = 40  # price in currency (e.g., dollars)\n",
    "    known_height2 = 1.77  # feet\n",
    "    price2 = 70  # price in currency (e.g., dollars)\n",
    "\n",
    "    \"\"\"\n",
    "    Interpolate the price of a tree of desired height based on known prices for two different heights.\n",
    "    \n",
    "    Args:\n",
    "    - desired_height (float): The height of the tree for which you want to calculate the price.\n",
    "    - known_height1 (float): The height of the first known tree.\n",
    "    - price1 (float): The price of the first known tree.\n",
    "    - known_height2 (float): The height of the second known tree.\n",
    "    - price2 (float): The price of the second known tree.\n",
    "    \n",
    "    Returns:\n",
    "    - float: The estimated price of the tree with the desired height based on linear interpolation.\n",
    "    \"\"\"\n",
    "    # Perform linear interpolation\n",
    "    price = price1 + (desired_height - known_height1) * (price2 - price1) / (known_height2 - known_height1)\n",
    "    return price\n",
    "\n",
    "\n",
    "# Desired height for which to calculate the price\n",
    "desired_height = 1.8  # feet\n",
    "\n",
    "# Calculate the price of the 0.80 feet tree using linear interpolation\n",
    "estimated_price = interpolate_tree_price(desired_height, known_height1, price1, known_height2, price2)\n",
    "\n",
    "# Print the estimated price\n",
    "print(f\"The estimated price for a {desired_height} feet tree is ${estimated_price:.2f}\")\n"
   ]
  },
  {
   "cell_type": "code",
   "execution_count": null,
   "id": "c8f3a9a5-f5b2-4c5f-856d-bc5df3c6cf35",
   "metadata": {},
   "outputs": [],
   "source": []
  }
 ],
 "metadata": {
  "kernelspec": {
   "display_name": "Python 3 (ipykernel)",
   "language": "python",
   "name": "python3"
  },
  "language_info": {
   "codemirror_mode": {
    "name": "ipython",
    "version": 3
   },
   "file_extension": ".py",
   "mimetype": "text/x-python",
   "name": "python",
   "nbconvert_exporter": "python",
   "pygments_lexer": "ipython3",
   "version": "3.10.5"
  }
 },
 "nbformat": 4,
 "nbformat_minor": 5
}
