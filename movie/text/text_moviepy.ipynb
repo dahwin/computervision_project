{
 "cells": [
  {
   "cell_type": "code",
   "execution_count": 2,
   "id": "dd57c6ab-b3c2-465c-8f2c-39cbfcd4d2ac",
   "metadata": {},
   "outputs": [],
   "source": [
    "from moviepy.editor import *\n",
    "# We don't need to define a 'bg_color' anymore\n",
    "#\n",
    "text_clip = TextClip(txt=\"Python is Awesome!\",\n",
    "                     size=(400, 0),\n",
    "                     font=\"Lane\",\n",
    "                     color=\"black\")\n",
    "\n",
    "image_width, image_height = text_clip.size\n",
    "\n",
    "padding_width = 80     # 40 pixels on each side\n",
    "padding_height = 20    # 10 pixels on each side\n",
    "# We create the ColorClip object after creating the TextClip object\n",
    "#\n",
    "color_clip = ColorClip(size=(image_width + padding_width, \n",
    "                             image_height + padding_height),\n",
    "                       color=(0, 255, 255))\n",
    "# Let's make the background a little transparent     \n",
    "#\n",
    "color_clip = color_clip.set_opacity(.5)\n",
    "# Now we need to set the position of 'text_clip' to 'center'\n",
    "#\n",
    "text_clip = text_clip.set_position('center')\n",
    "# Now we overlay 'text_clip' on top of 'color_clip'\n",
    "#\n",
    "final_clip = CompositeVideoClip([color_clip, text_clip])\n",
    "final_clip.save_frame(\"out.png\")"
   ]
  },
  {
   "cell_type": "code",
   "execution_count": 2,
   "id": "b42ec573-6785-45c9-82ae-2c38fd36e449",
   "metadata": {},
   "outputs": [],
   "source": [
    "from moviepy.editor import *\n",
    "image_clip = ImageClip(\"twice.jpg\")\n",
    "text_clip = TextClip(txt=\"Welcome to TwiceLand!\".upper(),\n",
    "                     size=(.8*image_clip.size[0], 0),\n",
    "                     font=\"Lane\",\n",
    "                     color=\"black\")\n",
    "text_clip = text_clip.set_position('center')\n",
    "im_width, im_height = text_clip.size\n",
    "color_clip = ColorClip(size=(int(im_width*1.1), int(im_height*1.4)),\n",
    "                       color=(0, 255, 255))\n",
    "color_clip = color_clip.set_opacity(.6)\n",
    "clip_to_overlay = CompositeVideoClip([color_clip, text_clip])\n",
    "clip_to_overlay = clip_to_overlay.set_position('center')\n",
    "final_clip = CompositeVideoClip([image_clip, clip_to_overlay])\n",
    "final_clip.save_frame(\"out.png\")"
   ]
  },
  {
   "cell_type": "code",
   "execution_count": 16,
   "id": "80931f28-413c-4414-a25d-2fcb3d33eec9",
   "metadata": {},
   "outputs": [],
   "source": [
    "from moviepy.editor import ImageClip, TextClip, ColorClip, CompositeVideoClip\n",
    "\n",
    "image_clip = ImageClip(\"twice.jpg\")\n",
    "text_clip = TextClip(txt=\"Welcome to TwiceLand!\".upper(),\n",
    "                     size=(.4 * image_clip.size[0], 0),  # Adjust the size here\n",
    "                     font=\"Lane\",\n",
    "                     color=\"black\")\n",
    "text_clip = text_clip.set_position('bottom')\n",
    "im_width, im_height = text_clip.size\n",
    "color_clip = ColorClip(size=(int(im_width * 1.1), int(im_height * 1.4)),\n",
    "                       color=(0, 255, 255))\n",
    "color_clip = color_clip.set_opacity(.6)\n",
    "clip_to_overlay = CompositeVideoClip([color_clip, text_clip])\n",
    "clip_to_overlay = clip_to_overlay.set_position('bottom')\n",
    "final_clip = CompositeVideoClip([image_clip, clip_to_overlay])\n",
    "final_clip.save_frame(\"out.png\")\n"
   ]
  },
  {
   "cell_type": "code",
   "execution_count": null,
   "id": "a185c823-c6a2-43db-a204-947d0d51f02d",
   "metadata": {},
   "outputs": [],
   "source": []
  }
 ],
 "metadata": {
  "kernelspec": {
   "display_name": "Python 3 (ipykernel)",
   "language": "python",
   "name": "python3"
  },
  "language_info": {
   "codemirror_mode": {
    "name": "ipython",
    "version": 3
   },
   "file_extension": ".py",
   "mimetype": "text/x-python",
   "name": "python",
   "nbconvert_exporter": "python",
   "pygments_lexer": "ipython3",
   "version": "3.10.5"
  }
 },
 "nbformat": 4,
 "nbformat_minor": 5
}
