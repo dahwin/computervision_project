{
 "cells": [
  {
   "cell_type": "code",
   "execution_count": 2,
   "id": "acf38c54-503c-48e5-9c53-b3a1884bed7a",
   "metadata": {},
   "outputs": [
    {
     "name": "stdout",
     "output_type": "stream",
     "text": [
      "Moviepy - Building video output_video_with_text.mp4.\n",
      "MoviePy - Writing audio in output_video_with_textTEMP_MPY_wvf_snd.mp3\n"
     ]
    },
    {
     "name": "stderr",
     "output_type": "stream",
     "text": [
      "                                                                                                                       \r"
     ]
    },
    {
     "name": "stdout",
     "output_type": "stream",
     "text": [
      "MoviePy - Done.\n",
      "Moviepy - Writing video output_video_with_text.mp4\n",
      "\n"
     ]
    },
    {
     "name": "stderr",
     "output_type": "stream",
     "text": [
      "                                                                                                                       \r"
     ]
    },
    {
     "name": "stdout",
     "output_type": "stream",
     "text": [
      "Moviepy - Done !\n",
      "Moviepy - video ready output_video_with_text.mp4\n"
     ]
    }
   ],
   "source": [
    "from moviepy.editor import VideoFileClip, TextClip, ColorClip, CompositeVideoClip\n",
    "\n",
    "# Load the video subclip and set the duration\n",
    "video_clip = VideoFileClip(\"likey.mp4\").subclip(0, 5)\n",
    "duration = video_clip.duration\n",
    "\n",
    "text = \"Welcome to TwiceLand!\"\n",
    "\n",
    "# Create a text clip with specified parameters\n",
    "txt_clip = TextClip(text, color=\"black\", font=\"Lane\", fontsize=60)\n",
    "txt_clip = txt_clip.set_position(('bottom')).set_duration(duration)\n",
    "\n",
    "# Create a color clip to serve as the background\n",
    "im_width, im_height = txt_clip.size\n",
    "color_clip = ColorClip(size=(int(im_width * 1.1), int(im_height * 1.4)), color=(0, 255, 255))\n",
    "color_clip = color_clip.set_opacity(.6)\n",
    "\n",
    "# Overlay the text and color clips on the video clip\n",
    "clip_to_overlay = CompositeVideoClip([color_clip, txt_clip])\n",
    "clip_to_overlay = clip_to_overlay.set_position('bottom')\n",
    "\n",
    "final_clip = CompositeVideoClip([video_clip, clip_to_overlay])\n",
    "final_clip.duration = duration\n",
    "final_clip.write_videofile(\"output_video_with_text.mp4\", codec=\"libx264\", fps=24)\n",
    "\n"
   ]
  },
  {
   "cell_type": "code",
   "execution_count": null,
   "id": "1a4a603a-d4d4-4c31-9fba-77a913eb5eab",
   "metadata": {},
   "outputs": [],
   "source": [
    "from moviepy.editor import VideoFileClip, TextClip, ColorClip, CompositeVideoClip\n",
    "\n",
    "# Load the video subclip and set the duration\n",
    "video_clip = VideoFileClip(\"likey.mp4\").subclip(0, 5)\n",
    "duration = video_clip.duration\n",
    "\n",
    "text = \"Welcome to TwiceLand!\".upper()\n",
    "\n",
    "# Create a text clip with specified parameters\n",
    "txt_clip = TextClip(text, color=\"black\", font=\"Lane\", fontsize=30)\n",
    "txt_clip = txt_clip.set_position(('left','top')).set_duration(duration)\n",
    "\n",
    "# Create a color clip to serve as the background\n",
    "im_width, im_height = txt_clip.size\n",
    "color_clip = ColorClip(size=(int(im_width * 1.1), int(im_height * 1.4)), color=(0, 255, 255))\n",
    "color_clip = color_clip.set_opacity(.6)\n",
    "\n",
    "# Overlay the text and color clips on the video clip\n",
    "clip_to_overlay = CompositeVideoClip([color_clip, txt_clip])\n",
    "clip_to_overlay = clip_to_overlay.set_position(('left', 'top'))  # Use center position for the text overlay\n",
    "\n",
    "final_clip = CompositeVideoClip([video_clip, clip_to_overlay])\n",
    "final_clip.duration = duration\n",
    "final_clip.write_videofile(\"output_video_with_text.mp4\", codec=\"libx264\", fps=24)"
   ]
  },
  {
   "cell_type": "markdown",
   "id": "81eb4c84-ac17-47fe-b6d7-fd28ab99c769",
   "metadata": {},
   "source": [
    "# Multiple"
   ]
  },
  {
   "cell_type": "code",
   "execution_count": 2,
   "id": "5fef2646-31cd-4699-b20c-33c4de1bed1c",
   "metadata": {},
   "outputs": [
    {
     "name": "stdout",
     "output_type": "stream",
     "text": [
      "Moviepy - Building video output_video_with_text.mp4.\n",
      "MoviePy - Writing audio in output_video_with_textTEMP_MPY_wvf_snd.mp3\n"
     ]
    },
    {
     "name": "stderr",
     "output_type": "stream",
     "text": [
      "                                                                                                                       \r"
     ]
    },
    {
     "name": "stdout",
     "output_type": "stream",
     "text": [
      "MoviePy - Done.\n",
      "Moviepy - Writing video output_video_with_text.mp4\n",
      "\n"
     ]
    },
    {
     "name": "stderr",
     "output_type": "stream",
     "text": [
      "                                                                                                                       \r"
     ]
    },
    {
     "name": "stdout",
     "output_type": "stream",
     "text": [
      "Moviepy - Done !\n",
      "Moviepy - video ready output_video_with_text.mp4\n"
     ]
    }
   ],
   "source": [
    "from moviepy.editor import VideoFileClip, TextClip, ColorClip, CompositeVideoClip\n",
    "\n",
    "# Load the video subclip and set the duration\n",
    "video_clip = VideoFileClip(\"likey.mp4\").subclip(0, 5)\n",
    "duration = video_clip.duration\n",
    "\n",
    "# Text for the upper part\n",
    "upper_text = \"Welcome to TwiceLand!\".upper()\n",
    "upper_txt_clip = TextClip(upper_text, color=\"black\", font=\"Lane\", fontsize=60)\n",
    "upper_txt_clip = upper_txt_clip.set_position(('left', 'top')).set_duration(duration)\n",
    "\n",
    "# Text for the bottom part\n",
    "bottom_text = \"Original\"\n",
    "bottom_txt_clip = TextClip(bottom_text, color=\"black\", font=\"Lane\", fontsize=40)\n",
    "bottom_txt_clip = bottom_txt_clip.set_position(('bottom')).set_duration(duration)\n",
    "\n",
    "# Create a color clip to serve as the background for both texts\n",
    "background_color = (0, 255, 255)\n",
    "im_width, im_height = upper_txt_clip.size\n",
    "color_clip = ColorClip(size=(int(im_width * 1.1), int(im_height * 1.4)), color=background_color)\n",
    "color_clip = color_clip.set_opacity(.6)\n",
    "\n",
    "# Overlay the upper text on the background color clip\n",
    "upper_clip = CompositeVideoClip([color_clip, upper_txt_clip])\n",
    "upper_clip = upper_clip.set_position(('left', 'top'))\n",
    "\n",
    "# Overlay the bottom text on a separate background color clip\n",
    "im_width, im_height = bottom_txt_clip.size\n",
    "color_clip1 = ColorClip(size=(int(im_width * 1.1), int(im_height * 1.4)), color=background_color)\n",
    "color_clip1 = color_clip1.set_opacity(.9)\n",
    "\n",
    "or_clip = CompositeVideoClip([color_clip1, bottom_txt_clip])\n",
    "or_clip = or_clip.set_position(('bottom'))\n",
    "\n",
    "# Overlay the upper and bottom text clips on the video clip\n",
    "final_clip = CompositeVideoClip([video_clip, upper_clip, or_clip])\n",
    "final_clip.duration = duration\n",
    "final_clip.write_videofile(\"output_video_with_text.mp4\", codec=\"libx264\", fps=24)\n",
    "\n"
   ]
  },
  {
   "cell_type": "markdown",
   "id": "5ebf9e56-a206-4ee2-be94-95945704de76",
   "metadata": {},
   "source": [
    "# Coordinate"
   ]
  },
  {
   "cell_type": "code",
   "execution_count": null,
   "id": "3c3c1e05-b746-4207-b53d-c362dab9cf6e",
   "metadata": {},
   "outputs": [],
   "source": [
    "from moviepy.editor import VideoFileClip, TextClip, ColorClip, CompositeVideoClip\n",
    "\n",
    "# Load the video subclip and set the duration\n",
    "video_clip = VideoFileClip(\"likey.mp4\").subclip(0, 5)\n",
    "duration = video_clip.duration\n",
    "\n",
    "text = \"Welcome to TwiceLand!\".upper()\n",
    "\n",
    "# Create a text clip with specified parameters\n",
    "txt_clip = TextClip(text, color=\"black\", font=\"Lane\", fontsize=30)\n",
    "txt_clip = txt_clip.set_position(('bottom')).set_duration(duration)\n",
    "\n",
    "# Create a color clip to serve as the background\n",
    "im_width, im_height = txt_clip.size\n",
    "border_size = 10  # Adjust border size as needed\n",
    "color_clip = ColorClip(size=(int(im_width * 1.1) + 2 * border_size, int(im_height * 1.4) + 2 * border_size),\n",
    "                       color=(255,255,255))  # Black border\n",
    "color_clip = color_clip.set_position((500,100)).set_opacity(1)  # Set opacity to 1 for solid black\n",
    "\n",
    "# Create the inner color clip with original size and opacity\n",
    "inner_color_clip = ColorClip(size=(int(im_width * 1.1), int(im_height * 1.4)), color=(0, 255, 255))\n",
    "inner_color_clip = inner_color_clip.set_position((500,100)).set_opacity(.6)\n",
    "\n",
    "# Overlay the inner color clip and text clip on the video clip\n",
    "clip_to_overlay = CompositeVideoClip([inner_color_clip, txt_clip])\n",
    "clip_to_overlay = clip_to_overlay.set_position((500,100))\n",
    "\n",
    "# Overlay the outer color clip and the inner overlay on the video clip\n",
    "final_clip = CompositeVideoClip([video_clip, color_clip, clip_to_overlay])\n",
    "final_clip.duration = duration\n",
    "final_clip.write_videofile(\"output_video_with_text.mp4\", codec=\"libx264\", fps=24)\n"
   ]
  },
  {
   "cell_type": "code",
   "execution_count": null,
   "id": "449566e6-6ac6-4d6d-86b6-452d734ac6c4",
   "metadata": {},
   "outputs": [],
   "source": []
  }
 ],
 "metadata": {
  "kernelspec": {
   "display_name": "Python 3 (ipykernel)",
   "language": "python",
   "name": "python3"
  },
  "language_info": {
   "codemirror_mode": {
    "name": "ipython",
    "version": 3
   },
   "file_extension": ".py",
   "mimetype": "text/x-python",
   "name": "python",
   "nbconvert_exporter": "python",
   "pygments_lexer": "ipython3",
   "version": "3.10.5"
  }
 },
 "nbformat": 4,
 "nbformat_minor": 5
}
