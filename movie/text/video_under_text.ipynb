{
 "cells": [
  {
   "cell_type": "code",
   "execution_count": 12,
   "id": "59020b93-735d-4df0-85ba-44f2a848e6e3",
   "metadata": {},
   "outputs": [
    {
     "name": "stdout",
     "output_type": "stream",
     "text": [
      "Moviepy - Building video output_under_text.mp4.\n",
      "MoviePy - Writing audio in output_under_textTEMP_MPY_wvf_snd.mp3\n"
     ]
    },
    {
     "name": "stderr",
     "output_type": "stream",
     "text": [
      "                                                                                                                       \r"
     ]
    },
    {
     "name": "stdout",
     "output_type": "stream",
     "text": [
      "MoviePy - Done.\n",
      "Moviepy - Writing video output_under_text.mp4\n",
      "\n"
     ]
    },
    {
     "name": "stderr",
     "output_type": "stream",
     "text": [
      "                                                                                                                       \r"
     ]
    },
    {
     "name": "stdout",
     "output_type": "stream",
     "text": [
      "Moviepy - Done !\n",
      "Moviepy - video ready output_under_text.mp4\n"
     ]
    }
   ],
   "source": [
    "from moviepy.editor import VideoFileClip, TextClip, CompositeVideoClip\n",
    "\n",
    "# Load the video subclip and set the duration\n",
    "video_clip = VideoFileClip(\"likey.mp4\").subclip(0, 5)\n",
    "duration = video_clip.duration\n",
    "\n",
    "text = \"Welcome to TwiceLand!\"\n",
    "\n",
    "# Create a text clip with specified parameters\n",
    "txt_clip = TextClip(text, color=\"black\", font=\"Lane\", fontsize=60, bg_color=\"transparent\")\n",
    "txt_clip = txt_clip.set_position(('bottom')).set_duration(duration)\n",
    "\n",
    "# Overlay the text clip on top of the video clip\n",
    "clip_to_overlay = CompositeVideoClip([video_clip, txt_clip])\n",
    "\n",
    "\n",
    "\n",
    "\n",
    "final_clip.duration = duration\n",
    "final_clip.write_videofile(\"output_under_text.mp4\", codec=\"libx264\", fps=24)\n"
   ]
  },
  {
   "cell_type": "code",
   "execution_count": 13,
   "id": "205dcf27-4586-4c76-b8b2-f8270ba4a684",
   "metadata": {},
   "outputs": [
    {
     "name": "stdout",
     "output_type": "stream",
     "text": [
      "Moviepy - Building video text.mp4.\n",
      "Moviepy - Writing video text.mp4\n",
      "\n"
     ]
    },
    {
     "name": "stderr",
     "output_type": "stream",
     "text": [
      "                                                                                                                       \r"
     ]
    },
    {
     "name": "stdout",
     "output_type": "stream",
     "text": [
      "Moviepy - Done !\n",
      "Moviepy - video ready text.mp4\n"
     ]
    }
   ],
   "source": [
    "from moviepy.editor import VideoClip, TextClip, CompositeVideoClip\n",
    "import numpy as np\n",
    "def create_text_clip(text, duration, fontsize=90,font=\"Lane\", color='white', bg_color='transparent'):\n",
    "    # Create a TextClip with the specified text and properties\n",
    "    text_clip = TextClip(text, fontsize=fontsize,font=font, color=color, bg_color=bg_color)\n",
    "\n",
    "    # Set the duration of the text clip\n",
    "    text_clip = text_clip.set_duration(duration)\n",
    "\n",
    "    return text_clip\n",
    "\n",
    "# Create a function for generating frames with a black background\n",
    "def make_black_frame(t):\n",
    "    # Define the frame with a black background\n",
    "    return (255 * np.zeros((720, 1280, 3))).astype('uint8')\n",
    "\n",
    "# Create a video clip with a black background using the function\n",
    "background_clip = VideoClip(make_frame=make_black_frame, duration=4)\n",
    "\n",
    "# Create a text clip with your desired text\n",
    "text = \"I Love Dahyun!\"\n",
    "text_clip = create_text_clip(text, duration=5)\n",
    "\n",
    "# Position the text clip in the center of the video\n",
    "text_clip = text_clip.set_position(('center', 'center'))\n",
    "\n",
    "# Composite the text clip on top of the background clip\n",
    "final_video = CompositeVideoClip([background_clip, text_clip])\n",
    "\n",
    "# Export the final video to a file\n",
    "final_video.write_videofile(\"text.mp4\", fps=24)\n",
    "\n"
   ]
  },
  {
   "cell_type": "code",
   "execution_count": 14,
   "id": "26a69662-dbf8-48f6-a61f-9a68b315bcac",
   "metadata": {},
   "outputs": [],
   "source": [
    "final_video.save_frame('text.png')"
   ]
  },
  {
   "cell_type": "code",
   "execution_count": 46,
   "id": "b89a23a4-642d-4aea-b6d7-cb30b05a7418",
   "metadata": {},
   "outputs": [],
   "source": [
    "from PIL import Image, ImageDraw, ImageFont\n",
    "\n",
    "# Create a black image with an RGBA color mode (A stands for alpha, which controls transparency)\n",
    "width, height = 1280, 720\n",
    "image = Image.new('RGBA', (width, height), (0, 0, 0, 255))  # (0, 0, 0, 255) is black\n",
    "\n",
    "# Create a drawing object\n",
    "draw = ImageDraw.Draw(image)\n",
    "\n",
    "# Define the text you want to add\n",
    "text = \"Your Transparent Text\"\n",
    "\n",
    "# Define a font (you can specify a path to a font file or use a default font)\n",
    "font = ImageFont.truetype(\"LiberationSans-BoldItalic.ttf\", 60)  # Change \"arial.ttf\" to the path of your desired font\n",
    "\n",
    "# Calculate the position to center the text\n",
    "text_width, text_height = draw.textsize(text, font)\n",
    "x = (width - text_width) / 2\n",
    "y = (height - text_height) / 2\n",
    "\n",
    "# Define the text color (0, 0, 0) is black text\n",
    "text_color = (0, 0, 0, 0)  # (0, 0, 0, 0) is fully transparent\n",
    "\n",
    "# Add the text to the image\n",
    "draw.text((x, y), text, fill=text_color, font=font)\n",
    "\n",
    "# Save the image with transparent text\n",
    "image.save(\"transparent_text_image.png\")\n",
    "\n",
    "# Show the image (optional)\n",
    "image.show()\n"
   ]
  },
  {
   "cell_type": "code",
   "execution_count": 28,
   "id": "a1ca98f9-3c78-4ea1-9e4d-7d7f11547137",
   "metadata": {},
   "outputs": [],
   "source": [
    "# Install MoviePy if you haven't already\n",
    "# !pip install moviepy\n",
    "\n",
    "from moviepy.editor import *\n",
    "  \n",
    "# text\n",
    "text = \"Dahyun+Darwin=Dahwin\"\n",
    "\n",
    "clip = TextClip(text, font =\"Arial-Bold\", fontsize = 70, color =\"green\")\n",
    "clip.save_frame('t.png')"
   ]
  },
  {
   "cell_type": "code",
   "execution_count": 45,
   "id": "df40b8c9-a54f-4b5a-b29d-a506e13ceacb",
   "metadata": {},
   "outputs": [
    {
     "name": "stdout",
     "output_type": "stream",
     "text": [
      "['Alef-Bold.ttf', 'Alef-Regular.ttf', 'Amiri-Bold.ttf', 'Amiri-BoldItalic.ttf', 'Amiri-Italic.ttf', 'Amiri-Regular.ttf', 'AmiriQuran.ttf', 'arial.ttf', 'arialbd.ttf', 'arialbi.ttf', 'ariali.ttf', 'ariblk.ttf', 'bahnschrift.ttf', 'Caladea-Bold.ttf', 'Caladea-BoldItalic.ttf', 'Caladea-Italic.ttf', 'Caladea-Regular.ttf', 'calibri.ttf', 'calibrib.ttf', 'calibrii.ttf', 'calibril.ttf', 'calibrili.ttf', 'calibriz.ttf', 'cambriab.ttf', 'cambriai.ttf', 'cambriaz.ttf', 'Candara.ttf', 'Candarab.ttf', 'Candarai.ttf', 'Candaral.ttf', 'Candarali.ttf', 'Candaraz.ttf', 'Carlito-Bold.ttf', 'Carlito-BoldItalic.ttf', 'Carlito-Italic.ttf', 'Carlito-Regular.ttf', 'CascadiaCode.ttf', 'CascadiaMono.ttf', 'comic.ttf', 'comicbd.ttf', 'comici.ttf', 'comicz.ttf', 'consola.ttf', 'consolab.ttf', 'consolai.ttf', 'consolaz.ttf', 'constan.ttf', 'constanb.ttf', 'constani.ttf', 'constanz.ttf', 'corbel.ttf', 'corbelb.ttf', 'corbeli.ttf', 'corbell.ttf', 'corbelli.ttf', 'corbelz.ttf', 'cour.ttf', 'courbd.ttf', 'courbi.ttf', 'couri.ttf', 'DavidLibre-Bold.ttf', 'DavidLibre-Regular.ttf', 'DejaVuMathTeXGyre.ttf', 'DejaVuSans-Bold.ttf', 'DejaVuSans-BoldOblique.ttf', 'DejaVuSans-ExtraLight.ttf', 'DejaVuSans-Oblique.ttf', 'DejaVuSans.ttf', 'DejaVuSansCondensed-Bold.ttf', 'DejaVuSansCondensed-BoldOblique.ttf', 'DejaVuSansCondensed-Oblique.ttf', 'DejaVuSansCondensed.ttf', 'DejaVuSansMono-Bold.ttf', 'DejaVuSansMono-BoldOblique.ttf', 'DejaVuSansMono-Oblique.ttf', 'DejaVuSansMono.ttf', 'DejaVuSerif-Bold.ttf', 'DejaVuSerif-BoldItalic.ttf', 'DejaVuSerif-Italic.ttf', 'DejaVuSerif.ttf', 'DejaVuSerifCondensed-Bold.ttf', 'DejaVuSerifCondensed-BoldItalic.ttf', 'DejaVuSerifCondensed-Italic.ttf', 'DejaVuSerifCondensed.ttf', 'ebrima.ttf', 'ebrimabd.ttf', 'framd.ttf', 'framdit.ttf', 'FrankRuehlCLM-Bold.ttf', 'FrankRuehlCLM-BoldOblique.ttf', 'FrankRuehlCLM-Medium.ttf', 'FrankRuehlCLM-MediumOblique.ttf', 'Gabriola.ttf', 'gadugi.ttf', 'gadugib.ttf', 'GenBasB.ttf', 'GenBasBI.ttf', 'GenBasI.ttf', 'GenBasR.ttf', 'GenBkBasB.ttf', 'GenBkBasBI.ttf', 'GenBkBasI.ttf', 'GenBkBasR.ttf', 'georgia.ttf', 'georgiab.ttf', 'georgiai.ttf', 'georgiaz.ttf', 'himalaya.ttf', 'holomdl2.ttf', 'impact.ttf', 'Inkfree.ttf', 'javatext.ttf', 'LeelaUIb.ttf', 'LeelawUI.ttf', 'LeelUIsl.ttf', 'LiberationMono-Bold.ttf', 'LiberationMono-BoldItalic.ttf', 'LiberationMono-Italic.ttf', 'LiberationMono-Regular.ttf', 'LiberationSans-Bold.ttf', 'LiberationSans-BoldItalic.ttf', 'LiberationSans-Italic.ttf', 'LiberationSans-Regular.ttf', 'LiberationSansNarrow-Bold.ttf', 'LiberationSansNarrow-BoldItalic.ttf', 'LiberationSansNarrow-Italic.ttf', 'LiberationSansNarrow-Regular.ttf', 'LiberationSerif-Bold.ttf', 'LiberationSerif-BoldItalic.ttf', 'LiberationSerif-Italic.ttf', 'LiberationSerif-Regular.ttf', 'LinBiolinum_RB_G.ttf', 'LinBiolinum_RI_G.ttf', 'LinBiolinum_R_G.ttf', 'LinLibertine_DR_G.ttf', 'LinLibertine_RBI_G.ttf', 'LinLibertine_RB_G.ttf', 'LinLibertine_RI_G.ttf', 'LinLibertine_RZI_G.ttf', 'LinLibertine_RZ_G.ttf', 'LinLibertine_R_G.ttf', 'lucon.ttf', 'l_10646.ttf', 'malgun.ttf', 'malgunbd.ttf', 'malgunsl.ttf', 'marlett.ttf', 'micross.ttf', 'MiriamCLM-Bold.ttf', 'MiriamCLM-Book.ttf', 'MiriamMonoCLM-Bold.ttf', 'MiriamMonoCLM-BoldOblique.ttf', 'MiriamMonoCLM-Book.ttf', 'MiriamMonoCLM-BookOblique.ttf', 'mmrtext.ttf', 'mmrtextb.ttf', 'monbaiti.ttf', 'msyi.ttf', 'mvboli.ttf', 'Nirmala.ttf', 'NirmalaB.ttf', 'NirmalaS.ttf', 'NotoKufiArabic-Bold.ttf', 'NotoKufiArabic-Regular.ttf', 'NotoMono-Regular.ttf', 'NotoNaskhArabic-Bold.ttf', 'NotoNaskhArabic-Regular.ttf', 'NotoNaskhArabicUI-Bold.ttf', 'NotoNaskhArabicUI-Regular.ttf', 'NotoSans-Bold.ttf', 'NotoSans-BoldItalic.ttf', 'NotoSans-Condensed.ttf', 'NotoSans-CondensedBold.ttf', 'NotoSans-CondensedBoldItalic.ttf', 'NotoSans-CondensedItalic.ttf', 'NotoSans-Italic.ttf', 'NotoSans-Light.ttf', 'NotoSans-LightItalic.ttf', 'NotoSans-Regular.ttf', 'NotoSansArabic-Bold.ttf', 'NotoSansArabic-Regular.ttf', 'NotoSansArabicUI-Bold.ttf', 'NotoSansArabicUI-Regular.ttf', 'NotoSansArmenian-Bold.ttf', 'NotoSansArmenian-Regular.ttf', 'NotoSansGeorgian-Bold.ttf', 'NotoSansGeorgian-Regular.ttf', 'NotoSansHebrew-Bold.ttf', 'NotoSansHebrew-Regular.ttf', 'NotoSansLao-Bold.ttf', 'NotoSansLao-Regular.ttf', 'NotoSansLisu-Regular.ttf', 'NotoSerif-Bold.ttf', 'NotoSerif-BoldItalic.ttf', 'NotoSerif-Condensed.ttf', 'NotoSerif-CondensedBold.ttf', 'NotoSerif-CondensedBoldItalic.ttf', 'NotoSerif-CondensedItalic.ttf', 'NotoSerif-Italic.ttf', 'NotoSerif-Light.ttf', 'NotoSerif-LightItalic.ttf', 'NotoSerif-Regular.ttf', 'NotoSerifArmenian-Bold.ttf', 'NotoSerifArmenian-Regular.ttf', 'NotoSerifGeorgian-Bold.ttf', 'NotoSerifGeorgian-Regular.ttf', 'NotoSerifHebrew-Bold.ttf', 'NotoSerifHebrew-Regular.ttf', 'NotoSerifLao-Bold.ttf', 'NotoSerifLao-Regular.ttf', 'ntailu.ttf', 'ntailub.ttf', 'opens___.ttf', 'pala.ttf', 'palab.ttf', 'palabi.ttf', 'palai.ttf', 'phagspa.ttf', 'phagspab.ttf', 'ReemKufi-Bold.ttf', 'ReemKufi-Regular.ttf', 'Rubik-Bold.ttf', 'Rubik-BoldItalic.ttf', 'Rubik-Italic.ttf', 'Rubik-Regular.ttf', 'Scheherazade-Bold.ttf', 'Scheherazade-Regular.ttf', 'segmdl2.ttf', 'segoepr.ttf', 'segoeprb.ttf', 'segoesc.ttf', 'segoescb.ttf', 'segoeui.ttf', 'segoeuib.ttf', 'segoeuii.ttf', 'segoeuil.ttf', 'segoeuisl.ttf', 'segoeuiz.ttf', 'seguibl.ttf', 'seguibli.ttf', 'seguiemj.ttf', 'seguihis.ttf', 'seguili.ttf', 'seguisb.ttf', 'seguisbi.ttf', 'seguisli.ttf', 'seguisym.ttf', 'simsunb.ttf', 'SourceSansPro-Black.ttf', 'SourceSansPro-BlackIt.ttf', 'SourceSansPro-Bold.ttf', 'SourceSansPro-BoldIt.ttf', 'SourceSansPro-ExtraLight.ttf', 'SourceSansPro-ExtraLightIt.ttf', 'SourceSansPro-It.ttf', 'SourceSansPro-Light.ttf', 'SourceSansPro-LightIt.ttf', 'SourceSansPro-Regular.ttf', 'SourceSansPro-Semibold.ttf', 'SourceSansPro-SemiboldIt.ttf', 'sylfaen.ttf', 'symbol.ttf', 'tahoma.ttf', 'tahomabd.ttf', 'taile.ttf', 'taileb.ttf', 'times.ttf', 'timesbd.ttf', 'timesbi.ttf', 'timesi.ttf', 'trebuc.ttf', 'trebucbd.ttf', 'trebucbi.ttf', 'trebucit.ttf', 'verdana.ttf', 'verdanab.ttf', 'verdanai.ttf', 'verdanaz.ttf', 'webdings.ttf', 'wingding.ttf']\n"
     ]
    }
   ],
   "source": [
    "import win32com.client\n",
    "\n",
    "shell = win32com.client.Dispatch(\"WScript.Shell\")\n",
    "font_folder = shell.SpecialFolders(\"Fonts\")\n",
    "\n",
    "font_list = [font_name for font_name in os.listdir(font_folder) if font_name.endswith('.ttf')]\n",
    "\n",
    "# for font_name in font_list:\n",
    "    # print(font_name)\n",
    "print(font_list)"
   ]
  },
  {
   "cell_type": "code",
   "execution_count": null,
   "id": "8583fc62-fefc-4b60-9219-eb23242da5fe",
   "metadata": {},
   "outputs": [],
   "source": []
  }
 ],
 "metadata": {
  "kernelspec": {
   "display_name": "Python 3 (ipykernel)",
   "language": "python",
   "name": "python3"
  },
  "language_info": {
   "codemirror_mode": {
    "name": "ipython",
    "version": 3
   },
   "file_extension": ".py",
   "mimetype": "text/x-python",
   "name": "python",
   "nbconvert_exporter": "python",
   "pygments_lexer": "ipython3",
   "version": "3.10.5"
  }
 },
 "nbformat": 4,
 "nbformat_minor": 5
}
