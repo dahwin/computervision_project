{
 "cells": [
  {
   "cell_type": "code",
   "execution_count": 5,
   "id": "486dc633-c158-4380-bd1f-65a1f9148d42",
   "metadata": {},
   "outputs": [
    {
     "name": "stdout",
     "output_type": "stream",
     "text": [
      "File upload successful.\n",
      "{'filename': 'fancy.mp4', 'content_type': None}\n"
     ]
    }
   ],
   "source": [
    "import requests\n",
    "\n",
    "# Define the URL of your FastAPI application's endpoint\n",
    "url = 'https://3b6f-34-145-253-67.ngrok-free.app/file/upload'\n",
    "\n",
    "# Define the video file path\n",
    "video_file_path = \"fancy.mp4\"  # Replace with the actual path to your video file\n",
    "\n",
    "# Create a dictionary for the file upload\n",
    "files = {\n",
    "    'file': open(video_file_path, 'rb')\n",
    "}\n",
    "\n",
    "# Send a POST request to upload the video file\n",
    "try:\n",
    "    response = requests.post(url, files=files)\n",
    "    response.raise_for_status()  # Raise an exception if the request was not successful\n",
    "    print(\"File upload successful.\")\n",
    "    print(response.json())  # Print the response from the FastAPI application\n",
    "except requests.exceptions.RequestException as e:\n",
    "    print(\"File upload failed:\", str(e))"
   ]
  },
  {
   "cell_type": "code",
   "execution_count": null,
   "id": "789805c9-d10c-4c37-982e-65747322ed15",
   "metadata": {},
   "outputs": [],
   "source": []
  }
 ],
 "metadata": {
  "kernelspec": {
   "display_name": "Python 3 (ipykernel)",
   "language": "python",
   "name": "python3"
  },
  "language_info": {
   "codemirror_mode": {
    "name": "ipython",
    "version": 3
   },
   "file_extension": ".py",
   "mimetype": "text/x-python",
   "name": "python",
   "nbconvert_exporter": "python",
   "pygments_lexer": "ipython3",
   "version": "3.10.5"
  }
 },
 "nbformat": 4,
 "nbformat_minor": 5
}
