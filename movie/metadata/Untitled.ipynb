{
 "cells": [
  {
   "cell_type": "code",
   "execution_count": 2,
   "id": "215eb41e-f2eb-4c87-9334-4da92a23d37e",
   "metadata": {},
   "outputs": [
    {
     "name": "stdout",
     "output_type": "stream",
     "text": [
      "Moviepy - Building video carrot_with_metadata.mp4.\n",
      "Moviepy - Writing video carrot_with_metadata.mp4\n",
      "\n"
     ]
    },
    {
     "name": "stderr",
     "output_type": "stream",
     "text": [
      "                                                                                                                       \r"
     ]
    },
    {
     "name": "stdout",
     "output_type": "stream",
     "text": [
      "Moviepy - Done !\n",
      "Moviepy - video ready carrot_with_metadata.mp4\n"
     ]
    }
   ],
   "source": [
    "from moviepy.editor import VideoFileClip\n",
    "from PIL import Image\n",
    "\n",
    "# Replace these values with your desired metadata\n",
    "title = \"Carrot Farming Tips\"\n",
    "author = \"dahyun\"\n",
    "description = \"Learn the best practices for growing carrots.\"\n",
    "year = \"2023\"\n",
    "image_path = \"path_to_thumbnail_image.jpg\"  # Replace with the actual path to your thumbnail image\n",
    "output_file = \"carrot_with_metadata.mp4\"\n",
    "input_file = \"carrot.mp4\"  # Make sure \"carrot.mp4\" exists in the same directory\n",
    "\n",
    "# Extract a thumbnail from the image file\n",
    "# thumbnail = Image.open(image_path)\n",
    "\n",
    "# Open the input video file\n",
    "video = VideoFileClip(input_file)\n",
    "\n",
    "# Set the video metadata\n",
    "video.reader.infos['title'] = title\n",
    "video.reader.infos['author'] = author\n",
    "video.reader.infos['comment'] = description\n",
    "video.reader.infos['year'] = year\n",
    "\n",
    "# Set the video thumbnail\n",
    "# video.reader.infos['thumbnail'] = thumbnail.tobytes()\n",
    "\n",
    "# Write the modified video with metadata\n",
    "video.write_videofile(output_file, codec='libx264', threads=4)\n",
    "\n",
    "# Close the video clip\n",
    "video.close()\n"
   ]
  },
  {
   "cell_type": "code",
   "execution_count": 10,
   "id": "7e0cadb6-3eaf-41d5-a03c-d10fc256f754",
   "metadata": {},
   "outputs": [
    {
     "name": "stdout",
     "output_type": "stream",
     "text": [
      "Metadata added to carrot.mp4.\n"
     ]
    }
   ],
   "source": [
    "import subprocess\n",
    "\n",
    "input_file = \"carrot.mp4\"  # Replace with the path to your video\n",
    "\n",
    "# Metadata to add\n",
    "metadata = {\n",
    "    'title': \"Carrot Farming Tips\",\n",
    "    'author': \"dahyun\",\n",
    "    'description': \"Learn the best practices for growing carrots.\",\n",
    "    'year': \"2023\"\n",
    "}\n",
    "\n",
    "# Construct the ffmpeg command to add metadata\n",
    "ffmpeg_cmd = [\n",
    "    'ffmpeg',\n",
    "    '-i', input_file,\n",
    "    '-metadata', f'title={metadata[\"title\"]}',\n",
    "    '-metadata', f'author={metadata[\"author\"]}',\n",
    "    '-metadata', f'description={metadata[\"description\"]}',\n",
    "    '-metadata', f'year={metadata[\"year\"]}',\n",
    "    '-c:v', 'copy',\n",
    "    '-c:a', 'copy',\n",
    "    'output.mp4'  # Replace with the desired output file name\n",
    "]\n",
    "\n",
    "# Run the ffmpeg command\n",
    "subprocess.run(ffmpeg_cmd, text=True, check=True)\n",
    "\n",
    "print(f\"Metadata added to {input_file}.\")\n",
    "\n"
   ]
  },
  {
   "cell_type": "code",
   "execution_count": 14,
   "id": "8e0809c2-8ca4-4ffe-a386-0d746777b023",
   "metadata": {},
   "outputs": [
    {
     "name": "stdout",
     "output_type": "stream",
     "text": [
      "{\n",
      "    \"streams\": [\n",
      "        {\n",
      "            \"index\": 0,\n",
      "            \"codec_name\": \"h264\",\n",
      "            \"codec_long_name\": \"H.264 / AVC / MPEG-4 AVC / MPEG-4 part 10\",\n",
      "            \"profile\": \"High\",\n",
      "            \"codec_type\": \"video\",\n",
      "            \"codec_time_base\": \"1/48\",\n",
      "            \"codec_tag_string\": \"avc1\",\n",
      "            \"codec_tag\": \"0x31637661\",\n",
      "            \"width\": 1920,\n",
      "            \"height\": 1080,\n",
      "            \"coded_width\": 1920,\n",
      "            \"coded_height\": 1080,\n",
      "            \"has_b_frames\": 2,\n",
      "            \"sample_aspect_ratio\": \"0:1\",\n",
      "            \"display_aspect_ratio\": \"0:1\",\n",
      "            \"pix_fmt\": \"yuv420p\",\n",
      "            \"level\": 40,\n",
      "            \"chroma_location\": \"left\",\n",
      "            \"refs\": 1,\n",
      "            \"is_avc\": \"true\",\n",
      "            \"nal_length_size\": \"4\",\n",
      "            \"r_frame_rate\": \"24/1\",\n",
      "            \"avg_frame_rate\": \"24/1\",\n",
      "            \"time_base\": \"1/12288\",\n",
      "            \"start_pts\": 0,\n",
      "            \"start_time\": \"0.000000\",\n",
      "            \"duration_ts\": 122880,\n",
      "            \"duration\": \"10.000000\",\n",
      "            \"bit_rate\": \"204463\",\n",
      "            \"bits_per_raw_sample\": \"8\",\n",
      "            \"nb_frames\": \"240\",\n",
      "            \"disposition\": {\n",
      "                \"default\": 1,\n",
      "                \"dub\": 0,\n",
      "                \"original\": 0,\n",
      "                \"comment\": 0,\n",
      "                \"lyrics\": 0,\n",
      "                \"karaoke\": 0,\n",
      "                \"forced\": 0,\n",
      "                \"hearing_impaired\": 0,\n",
      "                \"visual_impaired\": 0,\n",
      "                \"clean_effects\": 0,\n",
      "                \"attached_pic\": 0\n",
      "            },\n",
      "            \"tags\": {\n",
      "                \"language\": \"und\",\n",
      "                \"handler_name\": \"VideoHandler\"\n",
      "            }\n",
      "        }\n",
      "    ],\n",
      "    \"format\": {\n",
      "        \"filename\": \"output.mp4\",\n",
      "        \"nb_streams\": 1,\n",
      "        \"nb_programs\": 0,\n",
      "        \"format_name\": \"mov,mp4,m4a,3gp,3g2,mj2\",\n",
      "        \"format_long_name\": \"QuickTime / MOV\",\n",
      "        \"start_time\": \"0.000000\",\n",
      "        \"duration\": \"10.000000\",\n",
      "        \"size\": \"259311\",\n",
      "        \"bit_rate\": \"207448\",\n",
      "        \"probe_score\": 100,\n",
      "        \"tags\": {\n",
      "            \"major_brand\": \"isom\",\n",
      "            \"minor_version\": \"512\",\n",
      "            \"compatible_brands\": \"isomiso2avc1mp41\",\n",
      "            \"title\": \"Carrot Farming Tips\",\n",
      "            \"encoder\": \"Lavf58.29.100\",\n",
      "            \"description\": \"Learn the best practices for growing carrots.\"\n",
      "        }\n",
      "    }\n",
      "}\n"
     ]
    }
   ],
   "source": [
    "!ffprobe -v quiet -print_format json -show_format -show_streams output.mp4"
   ]
  },
  {
   "cell_type": "code",
   "execution_count": null,
   "id": "eb4f3fd8-1ee4-4205-a901-071e74c3ea3e",
   "metadata": {},
   "outputs": [],
   "source": []
  }
 ],
 "metadata": {
  "kernelspec": {
   "display_name": "Python 3 (ipykernel)",
   "language": "python",
   "name": "python3"
  },
  "language_info": {
   "codemirror_mode": {
    "name": "ipython",
    "version": 3
   },
   "file_extension": ".py",
   "mimetype": "text/x-python",
   "name": "python",
   "nbconvert_exporter": "python",
   "pygments_lexer": "ipython3",
   "version": "3.10.5"
  }
 },
 "nbformat": 4,
 "nbformat_minor": 5
}
