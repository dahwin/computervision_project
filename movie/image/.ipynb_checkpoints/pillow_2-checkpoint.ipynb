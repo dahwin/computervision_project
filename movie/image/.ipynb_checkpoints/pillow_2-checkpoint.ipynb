{
 "cells": [
  {
   "cell_type": "code",
   "execution_count": 1,
   "id": "6c9b7e7d-e483-4d8f-a794-a0ab4e69c87c",
   "metadata": {},
   "outputs": [],
   "source": [
    "from PIL import Image\n",
    "import numpy as np\n",
    "\n",
    "# Image size (width, height)\n",
    "width, height = 1920, 1080  # You can adjust these dimensions as needed\n",
    "\n",
    "# Create a black image using numpy\n",
    "black_image = np.zeros((height, width, 3), dtype=np.uint8)\n",
    "\n",
    "# Create a PIL Image from the numpy array\n",
    "pil_image = Image.fromarray(black_image)\n",
    "\n",
    "# Save or display the image\n",
    "pil_image.save(\"black_image.png\")  # Save the image as a PNG file\n"
   ]
  },
  {
   "cell_type": "code",
   "execution_count": 27,
   "id": "2d001f74-110e-4601-82b0-847b5e5c6bda",
   "metadata": {},
   "outputs": [
    {
     "name": "stdout",
     "output_type": "stream",
     "text": [
      "Image resized and saved to: hd.png\n"
     ]
    }
   ],
   "source": [
    "from PIL import Image\n",
    "\n",
    "# Define the HD dimensions\n",
    "hd_width = 1920\n",
    "hd_height = 1080\n",
    "\n",
    "# Specify the path to the input image\n",
    "image_path = r\"C:\\Users\\ALL USER\\Desktop\\al.png\"\n",
    "\n",
    "# Open the image\n",
    "original_image = Image.open(image_path)\n",
    "\n",
    "# Resize the image to HD dimensions\n",
    "resized_image = original_image.resize((hd_width, hd_height))\n",
    "\n",
    "# Specify the path to save the resized image\n",
    "output_path = r\"hd.png\"\n",
    "\n",
    "# Save the resized image\n",
    "resized_image.save(output_path)\n",
    "\n",
    "print(f\"Image resized and saved to: {output_path}\")\n"
   ]
  },
  {
   "cell_type": "code",
   "execution_count": 26,
   "id": "71d9e3d2-0996-4271-a688-41bb97e7d18f",
   "metadata": {},
   "outputs": [
    {
     "name": "stdout",
     "output_type": "stream",
     "text": [
      "Width: 1554 pixels\n",
      "Height: 977 pixels\n"
     ]
    }
   ],
   "source": [
    "from PIL import Image\n",
    "\n",
    "# Open the image file\n",
    "image_path =r\"C:\\Users\\ALL USER\\Desktop\\al.png\"\n",
    "img = Image.open(image_path)\n",
    "\n",
    "# Get the size of the image\n",
    "width, height = img.size\n",
    "\n",
    "# Print the size\n",
    "print(f\"Width: {width} pixels\")\n",
    "print(f\"Height: {height} pixels\")\n"
   ]
  },
  {
   "cell_type": "code",
   "execution_count": 28,
   "id": "7d0d17c0-41a9-4221-ba8d-e650a2a4390e",
   "metadata": {},
   "outputs": [],
   "source": [
    "from PIL import Image\n",
    "\n",
    "# Open the image file\n",
    "image_path = r\"hd.png\"\n",
    "img = Image.open(image_path)\n",
    "\n",
    "# Set the desired HD resolution\n",
    "hd_resolution = (1920, 1080)\n",
    "\n",
    "# Create a thumbnail with the desired HD resolution, maintaining the aspect ratio\n",
    "img.thumbnail(hd_resolution)\n"
   ]
  },
  {
   "cell_type": "code",
   "execution_count": 29,
   "id": "9b084f47-f17b-4940-9900-be7f5a917f97",
   "metadata": {},
   "outputs": [],
   "source": [
    "img.save('dubu.png')"
   ]
  },
  {
   "cell_type": "code",
   "execution_count": 31,
   "id": "daa9c0a3-e4eb-49f3-a0eb-5663cf02b99a",
   "metadata": {},
   "outputs": [],
   "source": [
    "from PIL import Image\n",
    "\n",
    "# Open the images\n",
    "black_image_path = \"black_image.png\"\n",
    "dubu_image_path = \"hd.png\"\n",
    "\n",
    "background = Image.open(black_image_path)\n",
    "dubu = Image.open(dubu_image_path)\n",
    "\n",
    "# Get the size of the background image\n",
    "bg_width, bg_height = background.size\n",
    "\n",
    "# Get the size of the Dubu image\n",
    "dubu_width, dubu_height = dubu.size\n",
    "\n",
    "# Calculate the position to paste Dubu in the center\n",
    "paste_x = (bg_width - dubu_width) // 2\n",
    "paste_y = (bg_height - dubu_height) // 2\n",
    "\n",
    "# Paste Dubu onto the background image\n",
    "background.paste(dubu, (paste_x, paste_y))\n",
    "\n",
    "# Save the result\n",
    "background.save(\"result_image.png\")\n",
    "\n",
    "# Display or do anything else with the result as needed\n"
   ]
  },
  {
   "cell_type": "code",
   "execution_count": null,
   "id": "064e2466-f323-4729-8375-e2871c0f624f",
   "metadata": {},
   "outputs": [],
   "source": []
  }
 ],
 "metadata": {
  "kernelspec": {
   "display_name": "Python 3 (ipykernel)",
   "language": "python",
   "name": "python3"
  },
  "language_info": {
   "codemirror_mode": {
    "name": "ipython",
    "version": 3
   },
   "file_extension": ".py",
   "mimetype": "text/x-python",
   "name": "python",
   "nbconvert_exporter": "python",
   "pygments_lexer": "ipython3",
   "version": "3.10.5"
  }
 },
 "nbformat": 4,
 "nbformat_minor": 5
}
