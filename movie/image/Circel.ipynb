{
 "cells": [
  {
   "cell_type": "code",
   "execution_count": 4,
   "id": "8e715c67-0cf1-44cb-96ad-de87bb76607a",
   "metadata": {},
   "outputs": [
    {
     "data": {
      "text/plain": [
       "'dahyun+darwin=dahwin'"
      ]
     },
     "execution_count": 4,
     "metadata": {},
     "output_type": "execute_result"
    }
   ],
   "source": [
    "'dahyun+darwin=dahwin'"
   ]
  },
  {
   "cell_type": "code",
   "execution_count": 5,
   "id": "2881c82b-d6cf-49b4-9995-85566bfedcc9",
   "metadata": {},
   "outputs": [],
   "source": [
    "from PIL import Image\n",
    "\n",
    "# Load the original image\n",
    "original_image_path = \"user.png\"\n",
    "original_image = Image.open(original_image_path)\n",
    "\n",
    "# Set the desired aspect ratio (16:9)\n",
    "aspect_ratio = (16, 9)\n",
    "\n",
    "# Calculate the new dimensions while maintaining the aspect ratio\n",
    "width, height = original_image.size\n",
    "new_width = width\n",
    "new_height = int(width * (aspect_ratio[1] / aspect_ratio[0]))\n",
    "\n",
    "# Resize the image\n",
    "resized_image = original_image.resize((new_width, new_height))\n",
    "\n",
    "# Save the resized image\n",
    "resized_image_path = \"user.png\"\n",
    "resized_image.save(resized_image_path)\n",
    "\n",
    "# Optional: Display the resized image\n",
    "resized_image.show()\n"
   ]
  },
  {
   "cell_type": "code",
   "execution_count": 2,
   "id": "d4b98c3c-73f0-4527-a173-c98d9a853914",
   "metadata": {},
   "outputs": [],
   "source": [
    "from PIL import Image, ImageDraw, ImageOps\n",
    "\n",
    "# Load the original image\n",
    "original_image_path = \"user.png\"\n",
    "original_image = Image.open(original_image_path)\n",
    "\n",
    "# Create a circular mask\n",
    "mask = Image.new(\"L\", original_image.size, 0)\n",
    "draw = ImageDraw.Draw(mask)\n",
    "draw.ellipse((0, 0, original_image.width, original_image.height), fill=255)\n",
    "\n",
    "# Apply the circular mask to the original image\n",
    "circular_image = ImageOps.fit(original_image, mask.size, method=0, bleed=0.0, centering=(0.5, 0.5))\n",
    "circular_image.putalpha(mask)\n",
    "\n",
    "# Save the circular image\n",
    "circular_image_path =original_image_path\n",
    "circular_image.save(circular_image_path)\n",
    "\n",
    "# Optional: Display the circular image\n",
    "circular_image.show()\n"
   ]
  },
  {
   "cell_type": "code",
   "execution_count": 3,
   "id": "939cc4a8-15c3-46b6-94c5-9f33623f533e",
   "metadata": {},
   "outputs": [
    {
     "data": {
      "text/plain": [
       "1"
      ]
     },
     "execution_count": 3,
     "metadata": {},
     "output_type": "execute_result"
    }
   ],
   "source": [
    "1920//1080"
   ]
  }
 ],
 "metadata": {
  "kernelspec": {
   "display_name": "Python 3 (ipykernel)",
   "language": "python",
   "name": "python3"
  },
  "language_info": {
   "codemirror_mode": {
    "name": "ipython",
    "version": 3
   },
   "file_extension": ".py",
   "mimetype": "text/x-python",
   "name": "python",
   "nbconvert_exporter": "python",
   "pygments_lexer": "ipython3",
   "version": "3.10.5"
  }
 },
 "nbformat": 4,
 "nbformat_minor": 5
}
