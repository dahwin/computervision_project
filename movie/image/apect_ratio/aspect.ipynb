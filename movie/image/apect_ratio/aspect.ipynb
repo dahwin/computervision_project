{
 "cells": [
  {
   "cell_type": "code",
   "execution_count": 1,
   "id": "b89dd696-e07c-46c7-ad5a-12e8a654af96",
   "metadata": {},
   "outputs": [
    {
     "name": "stdout",
     "output_type": "stream",
     "text": [
      "Image resized and saved to queendahyun_resized.jpg\n"
     ]
    },
    {
     "name": "stderr",
     "output_type": "stream",
     "text": [
      "C:\\Users\\ALL USER\\AppData\\Local\\Temp\\ipykernel_12896\\1254951519.py:12: DeprecationWarning: ANTIALIAS is deprecated and will be removed in Pillow 10 (2023-07-01). Use LANCZOS or Resampling.LANCZOS instead.\n",
      "  resized_image = original_image.resize((new_width, new_height), Image.ANTIALIAS)\n"
     ]
    }
   ],
   "source": [
    "from PIL import Image\n",
    "\n",
    "# Open the image file\n",
    "image_path = \"queendahyun.jpg\"\n",
    "original_image = Image.open(image_path)\n",
    "\n",
    "# Define the new size you want (e.g., width and height)\n",
    "new_width = 300  # You can change this to your desired width\n",
    "new_height = int(original_image.height * (new_width / original_image.width))\n",
    "\n",
    "# Resize the image with the new size and maintaining aspect ratio\n",
    "resized_image = original_image.resize((new_width, new_height), Image.ANTIALIAS)\n",
    "\n",
    "# Save the resized image to a new file\n",
    "resized_image_path = \"queendahyun_resized.jpg\"\n",
    "resized_image.save(resized_image_path)\n",
    "\n",
    "# Close the original image\n",
    "original_image.close()\n",
    "\n",
    "print(f\"Image resized and saved to {resized_image_path}\")\n"
   ]
  },
  {
   "cell_type": "code",
   "execution_count": null,
   "id": "fffbdd20-5b67-4c59-bb43-e94467d72d0f",
   "metadata": {},
   "outputs": [],
   "source": []
  }
 ],
 "metadata": {
  "kernelspec": {
   "display_name": "Python 3 (ipykernel)",
   "language": "python",
   "name": "python3"
  },
  "language_info": {
   "codemirror_mode": {
    "name": "ipython",
    "version": 3
   },
   "file_extension": ".py",
   "mimetype": "text/x-python",
   "name": "python",
   "nbconvert_exporter": "python",
   "pygments_lexer": "ipython3",
   "version": "3.10.5"
  }
 },
 "nbformat": 4,
 "nbformat_minor": 5
}
