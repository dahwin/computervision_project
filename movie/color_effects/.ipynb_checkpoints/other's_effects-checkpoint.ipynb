{
 "cells": [
  {
   "cell_type": "code",
   "execution_count": null,
   "id": "3ec8a022-5220-4b39-ada4-61c7c1e9f38b",
   "metadata": {},
   "outputs": [],
   "source": [
    "# final_clip = concatenate_videoclips([video_clips[0].subclip(0, video_clips[0].duration - 1), slidein(video_clips[0],video_clips[1]), video_clips[1].subclip(1.3, None)], method='compose')\n",
    "import cv2\n",
    "import numpy as np\n",
    "from moviepy.editor import *\n",
    "\n",
    "# Step 1: Set the video filenames\n",
    "video_filenames = ['fancy.mp4',\"feel\"]\n",
    "\n",
    "# Step 2: Create VideoFileClip objects from the videos\n",
    "video_clips = []\n",
    "for filename in video_filenames:\n",
    "    video = VideoFileClip(filename).subclip(0,6)\n",
    "    video = video.resize(height=1080)\n",
    "    video = video.set_position((\"center\", \"center\"))  # Set video position to center\n",
    "    \n",
    "    video_clips.append(video)\n",
    "\n",
    "def crossfade(video0,video1):\n",
    "        # Step 3: Define transition duration\n",
    "    transition_duration = 1  # Duration of the slide-in transition in seconds\n",
    "    \n",
    "    # Step 4: Extract the last one second of clip1 and the first one second of clip2\n",
    "    clip1_last_second = video0.subclip(-1, None)\n",
    "    clip2_first_second = video1.subclip(0, 1.3)\n",
    "    clips[clip1_last_second,clip2_first_second]\n",
    "    padding = 0.6\n",
    "    video_fx_list = [clips[0]]\n",
    "    idx = clips[0].duration - padding\n",
    "\n",
    "    for video in clips[1:]:\n",
    "        video_fx_list.append(video.set_start(idx).crossfadein(padding))\n",
    "        idx += video.duration - padding\n",
    "\n",
    "    # final_width = max(clip.w for clip in clips)\n",
    "    # final_height = max(clip.h for clip in clips)\n",
    "    # final_video = CompositeVideoClip(video_fx_list, size=(final_width, final_height))\n",
    "    final_video = CompositeVideoClip(video_fx_list)\n",
    "    # final_video = concatenate_videoclips(video_fx_list,method='compose')\n",
    "\n",
    "    return final_video\n",
    "    \n",
    "# Use the convert_string_to_final_clip function to get the final_clip\n",
    "# final_clip_str = convert_string_to_final_clip(input_string1)\n",
    "video = video_clips[0]\n",
    "# Evaluate the final_clip_str to get the final_clip video clip object\n",
    "final_clip = concatenate_videoclips([video_clips[0].subclip(0, video_clips[0].duration - 1),crossfade(video_clips[0],video_clips[1]), video_clips[1].subclip(1.3, video_clips[1].duration - 1)],method='compose')\n",
    "\n",
    "\n",
    "target_resolution = (1920, 1080)\n",
    "\n",
    "# Resize the combined clip to the target resolution\n",
    "final_clips = final_clip.resize(height=target_resolution[1], width=target_resolution[0])\n",
    "# Step 8: Write the final video to a file\n",
    "final_clips.write_videofile(\"1transitionclip.mp4\", codec=\"libx264\", fps=video.fps)"
   ]
  }
 ],
 "metadata": {
  "kernelspec": {
   "display_name": "Python 3 (ipykernel)",
   "language": "python",
   "name": "python3"
  },
  "language_info": {
   "codemirror_mode": {
    "name": "ipython",
    "version": 3
   },
   "file_extension": ".py",
   "mimetype": "text/x-python",
   "name": "python",
   "nbconvert_exporter": "python",
   "pygments_lexer": "ipython3",
   "version": "3.10.5"
  }
 },
 "nbformat": 4,
 "nbformat_minor": 5
}
