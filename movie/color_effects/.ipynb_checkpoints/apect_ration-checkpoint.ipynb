{
 "cells": [
  {
   "cell_type": "code",
   "execution_count": 77,
   "id": "038957ad-3bc4-45ee-b1d7-6aae86b90a6e",
   "metadata": {},
   "outputs": [
    {
     "name": "stdout",
     "output_type": "stream",
     "text": [
      "719\n",
      "960\n"
     ]
    },
    {
     "data": {
      "text/plain": [
       "True"
      ]
     },
     "execution_count": 77,
     "metadata": {},
     "output_type": "execute_result"
    }
   ],
   "source": [
    "import cv2\n",
    "import numpy as np\n",
    "def add_padding(image_path, top, bottom, left, right, padding_color=(0, 0, 0)):\n",
    "    # Read the original image using cv2\n",
    "    image = cv2.imread(image_path)\n",
    "\n",
    "    # Get the original image's dimensions\n",
    "    height, width, _ = image.shape\n",
    "\n",
    "    # Calculate the new dimensions for padding\n",
    "    new_width = width + left + right\n",
    "    new_height = height + top + bottom\n",
    "\n",
    "    # Create a new blank image with the desired dimensions and color\n",
    "    padded_image = np.ones((new_height, new_width, 3), dtype=np.uint8) * padding_color\n",
    "\n",
    "    # Paste the original image onto the blank image at the desired position\n",
    "    padded_image[top:top+height, left:left+width] = image\n",
    "\n",
    "    return padded_image\n",
    "\n",
    "# Example usage\n",
    "image_path = \"glass.jpg\"\n",
    "from PIL import Image\n",
    "\n",
    "def get_image_size(image_path):\n",
    "    with Image.open(image_path) as img:\n",
    "        width, height = img.size\n",
    "    return width, height\n",
    "\n",
    "width, height = get_image_size(image_path)\n",
    "print(height)\n",
    "print(width)\n",
    "heightt = int((1080-height)/2)\n",
    "widthh = int((1920-width)/2)\n",
    "top_padding = heightt\n",
    "bottom_padding = heightt\n",
    "left_padding = widthh\n",
    "right_padding = widthh\n",
    "\n",
    "padded_image = add_padding(image_path, top_padding, bottom_padding, left_padding, right_padding)\n",
    "\n",
    "# Save the padded image\n",
    "output_path = \"padded_image.jpg\"\n",
    "cv2.imwrite(output_path, padded_image)\n",
    "\n",
    "\n",
    "\n"
   ]
  },
  {
   "cell_type": "code",
   "execution_count": 3,
   "id": "69a90ce2-1841-48fe-baf8-54b5d9d4f108",
   "metadata": {},
   "outputs": [
    {
     "ename": "KeyboardInterrupt",
     "evalue": "",
     "output_type": "error",
     "traceback": [
      "\u001b[1;31m---------------------------------------------------------------------------\u001b[0m",
      "\u001b[1;31mKeyboardInterrupt\u001b[0m                         Traceback (most recent call last)",
      "Cell \u001b[1;32mIn[3], line 10\u001b[0m\n\u001b[0;32m      7\u001b[0m     exit()\n\u001b[0;32m      9\u001b[0m cv2\u001b[38;5;241m.\u001b[39mimshow(\u001b[38;5;124m\"\u001b[39m\u001b[38;5;124mImage\u001b[39m\u001b[38;5;124m\"\u001b[39m, image)\n\u001b[1;32m---> 10\u001b[0m \u001b[43mcv2\u001b[49m\u001b[38;5;241;43m.\u001b[39;49m\u001b[43mwaitKey\u001b[49m\u001b[43m(\u001b[49m\u001b[38;5;241;43m0\u001b[39;49m\u001b[43m)\u001b[49m\n",
      "\u001b[1;31mKeyboardInterrupt\u001b[0m: "
     ]
    }
   ],
   "source": [
    "import cv2\n",
    "\n",
    "image = cv2.imread(image_filename)\n",
    "\n",
    "if image is None:\n",
    "    print(\"Error loading image\")\n",
    "    exit()\n",
    "\n",
    "cv2.imshow(\"Image\", image)\n",
    "cv2.waitKey(0)\n"
   ]
  },
  {
   "cell_type": "code",
   "execution_count": 64,
   "id": "b342fabb-7110-4b5e-bce4-dc8ce196a844",
   "metadata": {},
   "outputs": [
    {
     "data": {
      "text/plain": [
       "1.1385603244339304"
      ]
     },
     "execution_count": 64,
     "metadata": {},
     "output_type": "execute_result"
    }
   ],
   "source": [
    "d= 3369/2959\n",
    "d"
   ]
  },
  {
   "cell_type": "code",
   "execution_count": 66,
   "id": "10c5b88f-5f73-415a-952b-ee9bb056d2f4",
   "metadata": {},
   "outputs": [
    {
     "data": {
      "text/plain": [
       "1229"
      ]
     },
     "execution_count": 66,
     "metadata": {},
     "output_type": "execute_result"
    }
   ],
   "source": [
    "w = int(1080*d)\n",
    "w"
   ]
  },
  {
   "cell_type": "code",
   "execution_count": 62,
   "id": "6acd03e3-f0fa-4bb5-be2f-a6750e419681",
   "metadata": {},
   "outputs": [
    {
     "name": "stdout",
     "output_type": "stream",
     "text": [
      "The width of the image is: 318\n",
      "The height of the image is: 318\n"
     ]
    }
   ],
   "source": [
    "from PIL import Image\n",
    "\n",
    "def get_image_size(image_path):\n",
    "    with Image.open(image_path) as img:\n",
    "        width, height = img.size\n",
    "    return width, height\n",
    "\n",
    "# Example usage\n",
    "image_path = \"image.jpg\"\n",
    "width, height = get_image_size(image_path)\n",
    "print(f\"The width of the image is: {width}\")\n",
    "print(f\"The height of the image is: {height}\")\n",
    "\n"
   ]
  },
  {
   "cell_type": "code",
   "execution_count": 42,
   "id": "4c50a4a4-2155-44cc-9f0f-d9f4919b20af",
   "metadata": {},
   "outputs": [
    {
     "data": {
      "text/plain": [
       "801.0"
      ]
     },
     "execution_count": 42,
     "metadata": {},
     "output_type": "execute_result"
    }
   ],
   "source": [
    "d = (1920-318)/2\n",
    "d"
   ]
  },
  {
   "cell_type": "code",
   "execution_count": 68,
   "id": "6f4072e7-3a6a-46c5-8b00-7116f89fc4cd",
   "metadata": {},
   "outputs": [
    {
     "name": "stderr",
     "output_type": "stream",
     "text": [
      "C:\\Users\\ALL USER\\AppData\\Local\\Temp\\ipykernel_7944\\1501105043.py:8: DeprecationWarning: ANTIALIAS is deprecated and will be removed in Pillow 10 (2023-07-01). Use LANCZOS or Resampling.LANCZOS instead.\n",
      "  resized_image = image.resize(target_size, Image.ANTIALIAS)\n"
     ]
    }
   ],
   "source": [
    "from PIL import Image\n",
    "\n",
    "def convert_and_resize_to_png(input_image, output_image, target_size=(1100, 1080)):\n",
    "    # Open the image using Pillow (PIL)\n",
    "    image = Image.open(input_image)\n",
    "\n",
    "    # Resize the image to the target size\n",
    "    resized_image = image.resize(target_size, Image.ANTIALIAS)\n",
    "\n",
    "    # Save the resized image in PNG format\n",
    "    resized_image.save(output_image, format='PNG')\n",
    "\n",
    "# Example usage\n",
    "input_image = \"dahyun.jpeg\"\n",
    "output_image = \"dahyun.png\"\n",
    "\n",
    "convert_and_resize_to_png(input_image, output_image)\n",
    "\n"
   ]
  },
  {
   "cell_type": "code",
   "execution_count": null,
   "id": "e426669f-e244-42c2-83a7-562a06bb5490",
   "metadata": {},
   "outputs": [],
   "source": []
  }
 ],
 "metadata": {
  "kernelspec": {
   "display_name": "Python 3 (ipykernel)",
   "language": "python",
   "name": "python3"
  },
  "language_info": {
   "codemirror_mode": {
    "name": "ipython",
    "version": 3
   },
   "file_extension": ".py",
   "mimetype": "text/x-python",
   "name": "python",
   "nbconvert_exporter": "python",
   "pygments_lexer": "ipython3",
   "version": "3.10.5"
  }
 },
 "nbformat": 4,
 "nbformat_minor": 5
}
