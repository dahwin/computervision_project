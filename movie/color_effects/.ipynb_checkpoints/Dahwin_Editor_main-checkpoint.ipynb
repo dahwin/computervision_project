{
  "nbformat": 4,
  "nbformat_minor": 0,
  "metadata": {
    "colab": {
      "provenance": []
    },
    "kernelspec": {
      "name": "python3",
      "display_name": "Python 3"
    },
    "language_info": {
      "name": "python"
    }
  },
  "cells": [
    {
      "cell_type": "markdown",
      "source": [
        "## dahyun+darwin = dahwin"
      ],
      "metadata": {
        "id": "wO02A1tkErB9"
      }
    },
    {
      "cell_type": "code",
      "source": [
        "!brew install pango pkg-config\n",
        "!apt install libpango1.0-dev pkg-config python3-dev\n",
        "!pip install gizeh manimgl youtube-search pysrt pexels-api-py\n",
        "!pip install chromadb -q\n",
        "!pip install sentence-transformers -q\n",
        "from IPython.display import clear_output\n",
        "clear_output()\n"
      ],
      "metadata": {
        "id": "SFKPZ7rHEwyb"
      },
      "execution_count": 1,
      "outputs": []
    },
    {
      "cell_type": "code",
      "source": [
        "from pexelsapi.pexels import Pexels\n",
        "pexel = Pexels('bQIOjmj4iXtKGndYCYCyrMFiBAstTTdGxYmxkQ6J7Gb1NLF9okeD5XQQ')\n",
        "popular_videos = pexel.popular_videos(min_width='1920', min_height='1080', min_duration='', max_duration='', page=1, per_page=15)\n",
        "for video in popular_videos[\"videos\"]:\n",
        "    video_id = video[\"id\"]\n",
        "    width = video[\"width\"]\n",
        "    height = video[\"height\"]\n",
        "    duration = video[\"duration\"]\n",
        "    url = video[\"url\"]\n",
        "    image = video[\"image\"]\n",
        "    user_id = video[\"user\"][\"id\"]\n",
        "    user_name = video[\"user\"][\"name\"]\n",
        "    user_url = video[\"user\"][\"url\"]\n",
        "\n",
        "    video_details = f\"Video ID: {video_id}, Width: {width}, Height: {height}, Duration: {duration}, URL: {url}, Image: {image}, User ID: {user_id}, User Name: {user_name}, User URL: {user_url}\"\n",
        "    print(video_details)"
      ],
      "metadata": {
        "colab": {
          "base_uri": "https://localhost:8080/"
        },
        "id": "Lqg2rOhd51I0",
        "outputId": "c3dca6bd-6d09-4175-b4c3-4ccae5a01cc2"
      },
      "execution_count": null,
      "outputs": [
        {
          "output_type": "stream",
          "name": "stdout",
          "text": [
            "Video ID: 1526909, Width: 1920, Height: 1080, Duration: 10, URL: https://www.pexels.com/video/seal-on-the-beach-1526909/, Image: https://images.pexels.com/videos/1526909/free-video-1526909.jpg?auto=compress&cs=tinysrgb&fit=crop&h=630&w=1200, User ID: 574687, User Name: Ruvim Miksanskiy, User URL: https://www.pexels.com/@digitech\n",
            "Video ID: 5386411, Width: 2160, Height: 4096, Duration: 15, URL: https://www.pexels.com/video/a-monk-meditating-on-a-tree-5386411/, Image: https://images.pexels.com/videos/5386411/pexels-photo-5386411.jpeg?auto=compress&cs=tinysrgb&fit=crop&h=1200&w=630, User ID: 1437723, User Name: cottonbro studio, User URL: https://www.pexels.com/@cottonbro\n",
            "Video ID: 7438482, Width: 2363, Height: 4096, Duration: 9, URL: https://www.pexels.com/video/close-up-video-of-a-flowers-7438482/, Image: https://images.pexels.com/videos/7438482/pexels-photo-7438482.jpeg?auto=compress&cs=tinysrgb&fit=crop&h=1200&w=630, User ID: 2678846, User Name: ROMAN ODINTSOV, User URL: https://www.pexels.com/@roman-odintsov\n",
            "Video ID: 1409899, Width: 3840, Height: 2160, Duration: 21, URL: https://www.pexels.com/video/waves-rushing-and-splashing-to-the-shore-1409899/, Image: https://images.pexels.com/videos/1409899/free-video-1409899.jpg?auto=compress&cs=tinysrgb&fit=crop&h=630&w=1200, User ID: 439094, User Name: Michal Marek, User URL: https://www.pexels.com/@michalmarek\n",
            "Video ID: 2169880, Width: 3840, Height: 2160, Duration: 86, URL: https://www.pexels.com/video/aerial-view-of-beautiful-resort-2169880/, Image: https://images.pexels.com/videos/2169880/free-video-2169880.jpg?auto=compress&cs=tinysrgb&fit=crop&h=630&w=1200, User ID: 3052, User Name: Tom Fisk, User URL: https://www.pexels.com/@tomfisk\n",
            "Video ID: 857251, Width: 1920, Height: 1280, Duration: 14, URL: https://www.pexels.com/video/beautiful-timelapse-of-the-night-sky-with-reflections-in-a-lake-857251/, Image: https://images.pexels.com/videos/857251/free-video-857251.jpg?auto=compress&cs=tinysrgb&fit=crop&h=630&w=1200, User ID: 121938, User Name: eberhard grossgasteiger, User URL: https://www.pexels.com/@eberhardgross\n",
            "Video ID: 856973, Width: 4096, Height: 2304, Duration: 14, URL: https://www.pexels.com/video/time-lapse-video-sunset-856973/, Image: https://images.pexels.com/videos/856973/free-video-856973.jpg?auto=compress&cs=tinysrgb&fit=crop&h=630&w=1200, User ID: 2659, User Name: Pixabay, User URL: https://www.pexels.com/@pixabay\n",
            "Video ID: 3163534, Width: 3840, Height: 2160, Duration: 30, URL: https://www.pexels.com/video/changes-in-form-and-appearance-of-a-submerged-material-3163534/, Image: https://images.pexels.com/videos/3163534/free-video-3163534.jpg?auto=compress&cs=tinysrgb&fit=crop&h=630&w=1200, User ID: 755060, User Name: Oleg Gamulinskii, User URL: https://www.pexels.com/@oleg-gamulinskii-755060\n",
            "Video ID: 1093662, Width: 1920, Height: 1080, Duration: 8, URL: https://www.pexels.com/video/water-crashing-over-the-rocks-1093662/, Image: https://images.pexels.com/videos/1093662/free-video-1093662.jpg?auto=compress&cs=tinysrgb&fit=crop&h=630&w=1200, User ID: 417939, User Name: Peter Fowler, User URL: https://www.pexels.com/@peter-fowler-417939\n",
            "Video ID: 2098989, Width: 3840, Height: 2160, Duration: 36, URL: https://www.pexels.com/video/beauty-of-waterfalls-2098989/, Image: https://images.pexels.com/videos/2098989/free-video-2098989.jpg?auto=compress&cs=tinysrgb&fit=crop&h=630&w=1200, User ID: 631997, User Name: Engin Akyurt, User URL: https://www.pexels.com/@enginakyurt\n",
            "Video ID: 1580455, Width: 1920, Height: 1080, Duration: 9, URL: https://www.pexels.com/video/autumn-season-1580455/, Image: https://images.pexels.com/videos/1580455/free-video-1580455.jpg?auto=compress&cs=tinysrgb&fit=crop&h=630&w=1200, User ID: 43782, User Name: David Bartus, User URL: https://www.pexels.com/@david-bartus-43782\n",
            "Video ID: 5329239, Width: 2160, Height: 4096, Duration: 64, URL: https://www.pexels.com/video/couple-talking-to-each-other-while-standing-near-their-pickup-truck-5329239/, Image: https://images.pexels.com/videos/5329239/pexels-photo-5329239.jpeg?auto=compress&cs=tinysrgb&fit=crop&h=1200&w=630, User ID: 1437723, User Name: cottonbro studio, User URL: https://www.pexels.com/@cottonbro\n",
            "Video ID: 1757800, Width: 3840, Height: 2160, Duration: 48, URL: https://www.pexels.com/video/waves-rushing-to-the-shore-1757800/, Image: https://images.pexels.com/videos/1757800/free-video-1757800.jpg?auto=compress&cs=tinysrgb&fit=crop&h=630&w=1200, User ID: 631997, User Name: Engin Akyurt, User URL: https://www.pexels.com/@enginakyurt\n",
            "Video ID: 856065, Width: 1920, Height: 1080, Duration: 14, URL: https://www.pexels.com/video/cows-eating-856065/, Image: https://images.pexels.com/videos/856065/free-video-856065.jpg?auto=compress&cs=tinysrgb&fit=crop&h=630&w=1200, User ID: 2659, User Name: Pixabay, User URL: https://www.pexels.com/@pixabay\n",
            "Video ID: 3015510, Width: 1920, Height: 1080, Duration: 19, URL: https://www.pexels.com/video/a-view-of-hot-air-balloons-in-the-air-and-woman-riding-her-vehicle-3015510/, Image: https://images.pexels.com/videos/3015510/free-video-3015510.jpg?auto=compress&cs=tinysrgb&fit=crop&h=630&w=1200, User ID: 1522664, User Name: Taryn Elliott, User URL: https://www.pexels.com/@taryn-elliott\n"
          ]
        }
      ]
    },
    {
      "cell_type": "code",
      "source": [
        "import json\n",
        "from pexelsapi.pexels import Pexels\n",
        "\n",
        "pexel = Pexels('bQIOjmj4iXtKGndYCYCyrMFiBAstTTdGxYmxkQ6J7Gb1NLF9okeD5XQQ')\n",
        "search_videos = pexel.search_videos(query='ocean', orientation='', size='', color='', locale='', page=60, per_page=50)\n",
        "\n",
        "for video in search_videos[\"videos\"]:\n",
        "    video_id = video[\"id\"]\n",
        "    width = video[\"width\"]\n",
        "    height = video[\"height\"]\n",
        "    duration = video[\"duration\"]\n",
        "    url = video[\"url\"]\n",
        "    image = video[\"image\"]\n",
        "    user_id = video[\"user\"][\"id\"]\n",
        "    user_name = video[\"user\"][\"name\"]\n",
        "    user_url = video[\"user\"][\"url\"]\n",
        "\n",
        "    video_details = f\"Video ID: {video_id}, Width: {width}, Height: {height}, Duration: {duration}, URL: {url}, Image: {image}, User ID: {user_id}, User Name: {user_name}, User URL: {user_url}\"\n",
        "    print(video_details)\n"
      ],
      "metadata": {
        "id": "xV4y8F3XEw9a",
        "colab": {
          "base_uri": "https://localhost:8080/"
        },
        "outputId": "f5a50e36-7867-4a94-b7cf-e831606f1bb7"
      },
      "execution_count": null,
      "outputs": [
        {
          "output_type": "stream",
          "name": "stdout",
          "text": [
            "Video ID: 1526909, Width: 1920, Height: 1080, Duration: 10, URL: https://www.pexels.com/video/seal-on-the-beach-1526909/, Image: https://images.pexels.com/videos/1526909/free-video-1526909.jpg?auto=compress&cs=tinysrgb&fit=crop&h=630&w=1200, User ID: 574687, User Name: Ruvim Miksanskiy, User URL: https://www.pexels.com/@digitech\n",
            "Video ID: 5386411, Width: 2160, Height: 4096, Duration: 15, URL: https://www.pexels.com/video/a-monk-meditating-on-a-tree-5386411/, Image: https://images.pexels.com/videos/5386411/pexels-photo-5386411.jpeg?auto=compress&cs=tinysrgb&fit=crop&h=1200&w=630, User ID: 1437723, User Name: cottonbro studio, User URL: https://www.pexels.com/@cottonbro\n",
            "Video ID: 6963395, Width: 1080, Height: 1920, Duration: 7, URL: https://www.pexels.com/video/a-person-holding-a-eucalyptus-plant-with-soil-6963395/, Image: https://images.pexels.com/videos/6963395/eco-friendly-environment-environmentally-friendly-mothernature-6963395.jpeg?auto=compress&cs=tinysrgb&fit=crop&h=1200&w=630, User ID: 3716105, User Name: Cup of  Couple, User URL: https://www.pexels.com/@cup-of-couple\n",
            "Video ID: 7438482, Width: 2363, Height: 4096, Duration: 9, URL: https://www.pexels.com/video/close-up-video-of-a-flowers-7438482/, Image: https://images.pexels.com/videos/7438482/pexels-photo-7438482.jpeg?auto=compress&cs=tinysrgb&fit=crop&h=1200&w=630, User ID: 2678846, User Name: ROMAN ODINTSOV, User URL: https://www.pexels.com/@roman-odintsov\n",
            "Video ID: 1409899, Width: 3840, Height: 2160, Duration: 21, URL: https://www.pexels.com/video/waves-rushing-and-splashing-to-the-shore-1409899/, Image: https://images.pexels.com/videos/1409899/free-video-1409899.jpg?auto=compress&cs=tinysrgb&fit=crop&h=630&w=1200, User ID: 439094, User Name: Michal Marek, User URL: https://www.pexels.com/@michalmarek\n",
            "Video ID: 2169880, Width: 3840, Height: 2160, Duration: 86, URL: https://www.pexels.com/video/aerial-view-of-beautiful-resort-2169880/, Image: https://images.pexels.com/videos/2169880/free-video-2169880.jpg?auto=compress&cs=tinysrgb&fit=crop&h=630&w=1200, User ID: 3052, User Name: Tom Fisk, User URL: https://www.pexels.com/@tomfisk\n",
            "Video ID: 857251, Width: 1920, Height: 1280, Duration: 14, URL: https://www.pexels.com/video/beautiful-timelapse-of-the-night-sky-with-reflections-in-a-lake-857251/, Image: https://images.pexels.com/videos/857251/free-video-857251.jpg?auto=compress&cs=tinysrgb&fit=crop&h=630&w=1200, User ID: 121938, User Name: eberhard grossgasteiger, User URL: https://www.pexels.com/@eberhardgross\n",
            "Video ID: 856973, Width: 4096, Height: 2304, Duration: 14, URL: https://www.pexels.com/video/time-lapse-video-sunset-856973/, Image: https://images.pexels.com/videos/856973/free-video-856973.jpg?auto=compress&cs=tinysrgb&fit=crop&h=630&w=1200, User ID: 2659, User Name: Pixabay, User URL: https://www.pexels.com/@pixabay\n",
            "Video ID: 3163534, Width: 3840, Height: 2160, Duration: 30, URL: https://www.pexels.com/video/changes-in-form-and-appearance-of-a-submerged-material-3163534/, Image: https://images.pexels.com/videos/3163534/free-video-3163534.jpg?auto=compress&cs=tinysrgb&fit=crop&h=630&w=1200, User ID: 755060, User Name: Oleg Gamulinskii, User URL: https://www.pexels.com/@oleg-gamulinskii-755060\n",
            "Video ID: 857195, Width: 1280, Height: 720, Duration: 7, URL: https://www.pexels.com/video/time-lapse-video-of-night-sky-857195/, Image: https://images.pexels.com/videos/857195/free-video-857195.jpg?auto=compress&cs=tinysrgb&fit=crop&h=630&w=1200, User ID: 290933, User Name: Vimeo, User URL: https://www.pexels.com/@vimeo\n",
            "Video ID: 1093662, Width: 1920, Height: 1080, Duration: 8, URL: https://www.pexels.com/video/water-crashing-over-the-rocks-1093662/, Image: https://images.pexels.com/videos/1093662/free-video-1093662.jpg?auto=compress&cs=tinysrgb&fit=crop&h=630&w=1200, User ID: 417939, User Name: Peter Fowler, User URL: https://www.pexels.com/@peter-fowler-417939\n",
            "Video ID: 2098989, Width: 3840, Height: 2160, Duration: 36, URL: https://www.pexels.com/video/beauty-of-waterfalls-2098989/, Image: https://images.pexels.com/videos/2098989/free-video-2098989.jpg?auto=compress&cs=tinysrgb&fit=crop&h=630&w=1200, User ID: 631997, User Name: Engin Akyurt, User URL: https://www.pexels.com/@enginakyurt\n",
            "Video ID: 1580455, Width: 1920, Height: 1080, Duration: 9, URL: https://www.pexels.com/video/autumn-season-1580455/, Image: https://images.pexels.com/videos/1580455/free-video-1580455.jpg?auto=compress&cs=tinysrgb&fit=crop&h=630&w=1200, User ID: 43782, User Name: David Bartus, User URL: https://www.pexels.com/@david-bartus-43782\n",
            "Video ID: 5329239, Width: 2160, Height: 4096, Duration: 64, URL: https://www.pexels.com/video/couple-talking-to-each-other-while-standing-near-their-pickup-truck-5329239/, Image: https://images.pexels.com/videos/5329239/pexels-photo-5329239.jpeg?auto=compress&cs=tinysrgb&fit=crop&h=1200&w=630, User ID: 1437723, User Name: cottonbro studio, User URL: https://www.pexels.com/@cottonbro\n",
            "Video ID: 1757800, Width: 3840, Height: 2160, Duration: 48, URL: https://www.pexels.com/video/waves-rushing-to-the-shore-1757800/, Image: https://images.pexels.com/videos/1757800/free-video-1757800.jpg?auto=compress&cs=tinysrgb&fit=crop&h=630&w=1200, User ID: 631997, User Name: Engin Akyurt, User URL: https://www.pexels.com/@enginakyurt\n"
          ]
        }
      ]
    },
    {
      "cell_type": "code",
      "source": [
        "import json\n",
        "from pexelsapi.pexels import Pexels\n",
        "\n",
        "pexel = Pexels('bQIOjmj4iXtKGndYCYCyrMFiBAstTTdGxYmxkQ6J7Gb1NLF9okeD5XQQ')\n",
        "popular_videos = pexel.popular_videos(min_width='', min_height='', min_duration='', max_duration='40', page=1, per_page=80)\n",
        "\n",
        "# Create a list to store the video details\n",
        "video_list = []\n",
        "\n",
        "for video in popular_videos[\"videos\"]:\n",
        "    video_id = video[\"id\"]\n",
        "    width = video[\"width\"]\n",
        "    height = video[\"height\"]\n",
        "    duration = video[\"duration\"]\n",
        "    url = video[\"url\"]\n",
        "    image = video[\"image\"]\n",
        "    user_id = video[\"user\"][\"id\"]\n",
        "    user_name = video[\"user\"][\"name\"]\n",
        "    user_url = video[\"user\"][\"url\"]\n",
        "\n",
        "    video_details = {\n",
        "        \"video_id\": video_id,\n",
        "        \"width\": width,\n",
        "        \"height\": height,\n",
        "        \"duration\": duration,\n",
        "        \"url\": url,\n",
        "        \"image\": image,\n",
        "        \"user_id\": user_id,\n",
        "        \"user_name\": user_name,\n",
        "        \"user_url\": user_url\n",
        "    }\n",
        "\n",
        "    video_list.append(video_details)\n",
        "\n",
        "# Save the video list to a JSON file\n",
        "with open(\"popular_videos.json\", \"w\") as json_file:\n",
        "    json.dump(video_list, json_file, indent=4)\n",
        "\n",
        "print(\"Popular videos data saved successfully.\")\n"
      ],
      "metadata": {
        "colab": {
          "base_uri": "https://localhost:8080/"
        },
        "id": "0VKB5ueIiSzw",
        "outputId": "a03ae7dd-40ca-4a31-c35c-f69b688fb35a"
      },
      "execution_count": null,
      "outputs": [
        {
          "output_type": "stream",
          "name": "stdout",
          "text": [
            "Popular videos data saved successfully.\n"
          ]
        }
      ]
    },
    {
      "cell_type": "code",
      "source": [
        "import json\n",
        "from pexelsapi.pexels import Pexels\n",
        "\n",
        "pexel = Pexels('bQIOjmj4iXtKGndYCYCyrMFiBAstTTdGxYmxkQ6J7Gb1NLF9okeD5XQQ')\n",
        "\n",
        "# Create a list to store the video details\n",
        "video_list = []\n",
        "\n",
        "for page in range(1, 61):\n",
        "    popular_videos = pexel.popular_videos(min_width='', min_height='', min_duration='', max_duration='40', page=page, per_page=80)\n",
        "\n",
        "    for video in popular_videos[\"videos\"]:\n",
        "        video_id = video[\"id\"]\n",
        "        width = video[\"width\"]\n",
        "        height = video[\"height\"]\n",
        "        duration = video[\"duration\"]\n",
        "        url = video[\"url\"]\n",
        "        image = video[\"image\"]\n",
        "        user_id = video[\"user\"][\"id\"]\n",
        "        user_name = video[\"user\"][\"name\"]\n",
        "        user_url = video[\"user\"][\"url\"]\n",
        "\n",
        "        video_details = {\n",
        "            \"video_id\": video_id,\n",
        "            \"width\": width,\n",
        "            \"height\": height,\n",
        "            \"duration\": duration,\n",
        "            \"url\": url,\n",
        "            \"image\": image,\n",
        "            \"user_id\": user_id,\n",
        "            \"user_name\": user_name,\n",
        "            \"user_url\": user_url\n",
        "        }\n",
        "\n",
        "        video_list.append(video_details)\n",
        "\n",
        "# Save the video list to a JSON file\n",
        "with open(\"popular_videos.json\", \"w\") as json_file:\n",
        "    json.dump(video_list, json_file, indent=4)\n",
        "\n",
        "print(\"Popular videos data saved successfully.\")\n"
      ],
      "metadata": {
        "colab": {
          "base_uri": "https://localhost:8080/"
        },
        "id": "3ztB-M0D8bQ1",
        "outputId": "bb81aa9f-ca00-4506-a1f5-3119b3d221e0"
      },
      "execution_count": null,
      "outputs": [
        {
          "output_type": "stream",
          "name": "stdout",
          "text": [
            "Popular videos data saved successfully.\n"
          ]
        }
      ]
    },
    {
      "cell_type": "code",
      "source": [
        "import json\n",
        "\n",
        "# Open the JSON file\n",
        "with open(\"popular_videos.json\", \"r\") as json_file:\n",
        "    video_list = json.load(json_file)\n",
        "\n",
        "# Iterate over the video list\n",
        "for video in video_list:\n",
        "    # Remove the unwanted part from the video URL\n",
        "    video_id = video[\"video_id\"]\n",
        "    url = video[\"url\"]\n",
        "    modified_url = url.rsplit(\"/\", 2)[0] + f\"/{video_id}/\"+'download'\n",
        "\n",
        "    # Print the modified URL\n",
        "    print(modified_url)\n",
        "\n",
        "\n"
      ],
      "metadata": {
        "colab": {
          "base_uri": "https://localhost:8080/"
        },
        "id": "aZWsm1R4ORxg",
        "outputId": "edc71606-4f1f-4357-c66c-1d7c5f143f23"
      },
      "execution_count": null,
      "outputs": [
        {
          "output_type": "stream",
          "name": "stdout",
          "text": [
            "https://www.pexels.com/video/1526909/download\n",
            "https://www.pexels.com/video/5386411/download\n",
            "https://www.pexels.com/video/7438482/download\n",
            "https://www.pexels.com/video/1409899/download\n",
            "https://www.pexels.com/video/857251/download\n",
            "https://www.pexels.com/video/856973/download\n",
            "https://www.pexels.com/video/3163534/download\n",
            "https://www.pexels.com/video/1093662/download\n",
            "https://www.pexels.com/video/2098989/download\n",
            "https://www.pexels.com/video/1580455/download\n",
            "https://www.pexels.com/video/856065/download\n",
            "https://www.pexels.com/video/3015510/download\n",
            "https://www.pexels.com/video/1494284/download\n",
            "https://www.pexels.com/video/4895485/download\n",
            "https://www.pexels.com/video/5894605/download\n"
          ]
        }
      ]
    },
    {
      "cell_type": "code",
      "source": [
        "import json\n",
        "import requests\n",
        "from urllib.parse import urlparse\n",
        "\n",
        "# Open the JSON file\n",
        "with open(\"popular_videos.json\", \"r\") as json_file:\n",
        "    video_list = json.load(json_file)\n",
        "\n",
        "# Iterate over the video list\n",
        "for video in video_list:\n",
        "    # Remove the unwanted part from the video URL\n",
        "    video_id = video[\"video_id\"]\n",
        "    url = video[\"url\"]\n",
        "    duration = video[\"duration\"]\n",
        "    modified_url = url.rsplit(\"/\", 2)[0] + f\"/{video_id}/download\"\n",
        "\n",
        "    # Extract the desired part of the URL to use as the file name\n",
        "    parsed_url = urlparse(url)\n",
        "    file_name = parsed_url.path.rsplit(\"/\", 2)[1]\n",
        "    if file_name.endswith(f\"-{video_id}\"):\n",
        "        file_name = file_name[:-len(f\"-{video_id}\")]\n",
        "    file_name += f\" duration_{duration}_second.mp4\"\n",
        "    print(file_name)\n",
        "\n",
        "\n",
        "    # Download the modified URL\n",
        "    response = requests.get(modified_url)\n",
        "\n",
        "    # Check if the download was successful\n",
        "    if response.status_code == 200:\n",
        "        # Save the downloaded file with the desired file name\n",
        "        with open(file_name, \"wb\") as file:\n",
        "            file.write(response.content)\n",
        "        print(f\"Video {video_id} downloaded successfully as {file_name}!\")\n",
        "    else:\n",
        "        print(f\"Failed to download video {video_id}. Status code: {response.status_code}\")\n"
      ],
      "metadata": {
        "colab": {
          "base_uri": "https://localhost:8080/"
        },
        "id": "peosjK0275ii",
        "outputId": "ebd13fe6-9b54-45c7-8d3b-4d548fe38a43"
      },
      "execution_count": null,
      "outputs": [
        {
          "output_type": "stream",
          "name": "stdout",
          "text": [
            "seal-on-the-beach duration_10_second.mp4\n",
            "Video 1526909 downloaded successfully as seal-on-the-beach duration_10_second.mp4!\n",
            "a-monk-meditating-on-a-tree duration_15_second.mp4\n",
            "Video 5386411 downloaded successfully as a-monk-meditating-on-a-tree duration_15_second.mp4!\n",
            "close-up-video-of-a-flowers duration_9_second.mp4\n",
            "Video 7438482 downloaded successfully as close-up-video-of-a-flowers duration_9_second.mp4!\n",
            "waves-rushing-and-splashing-to-the-shore duration_21_second.mp4\n",
            "Video 1409899 downloaded successfully as waves-rushing-and-splashing-to-the-shore duration_21_second.mp4!\n",
            "beautiful-timelapse-of-the-night-sky-with-reflections-in-a-lake duration_14_second.mp4\n",
            "Video 857251 downloaded successfully as beautiful-timelapse-of-the-night-sky-with-reflections-in-a-lake duration_14_second.mp4!\n",
            "time-lapse-video-sunset duration_14_second.mp4\n",
            "Video 856973 downloaded successfully as time-lapse-video-sunset duration_14_second.mp4!\n",
            "changes-in-form-and-appearance-of-a-submerged-material duration_30_second.mp4\n",
            "Video 3163534 downloaded successfully as changes-in-form-and-appearance-of-a-submerged-material duration_30_second.mp4!\n",
            "water-crashing-over-the-rocks duration_8_second.mp4\n",
            "Video 1093662 downloaded successfully as water-crashing-over-the-rocks duration_8_second.mp4!\n",
            "beauty-of-waterfalls duration_36_second.mp4\n",
            "Video 2098989 downloaded successfully as beauty-of-waterfalls duration_36_second.mp4!\n",
            "autumn-season duration_9_second.mp4\n",
            "Video 1580455 downloaded successfully as autumn-season duration_9_second.mp4!\n",
            "cows-eating duration_14_second.mp4\n",
            "Video 856065 downloaded successfully as cows-eating duration_14_second.mp4!\n",
            "a-view-of-hot-air-balloons-in-the-air-and-woman-riding-her-vehicle duration_19_second.mp4\n",
            "Video 3015510 downloaded successfully as a-view-of-hot-air-balloons-in-the-air-and-woman-riding-her-vehicle duration_19_second.mp4!\n",
            "red-autumn-leaves duration_19_second.mp4\n",
            "Video 1494284 downloaded successfully as red-autumn-leaves duration_19_second.mp4!\n",
            "a-little-girl-singing-a-song-for-her-father duration_13_second.mp4\n",
            "Video 4895485 downloaded successfully as a-little-girl-singing-a-song-for-her-father duration_13_second.mp4!\n",
            "father-making-a-braid-on-his-daughter duration_15_second.mp4\n",
            "Video 5894605 downloaded successfully as father-making-a-braid-on-his-daughter duration_15_second.mp4!\n"
          ]
        }
      ]
    },
    {
      "cell_type": "code",
      "source": [
        "import json\n",
        "import requests\n",
        "import os\n",
        "from urllib.parse import urlparse\n",
        "\n",
        "# Create the \"videos\" folder if it doesn't exist\n",
        "if not os.path.exists(\"videos\"):\n",
        "    os.makedirs(\"videos\")\n",
        "\n",
        "# Open the JSON file\n",
        "with open(\"popular_videos.json\", \"r\") as json_file:\n",
        "    video_list = json.load(json_file)\n",
        "\n",
        "# Iterate over the video list\n",
        "for video in video_list[:4]:\n",
        "    # Remove the unwanted part from the video URL\n",
        "    video_id = video[\"video_id\"]\n",
        "    url = video[\"url\"]\n",
        "    duration = video[\"duration\"]\n",
        "    modified_url = url.rsplit(\"/\", 2)[0] + f\"/{video_id}/download\"\n",
        "\n",
        "    # Extract the desired part of the URL to use as the file name\n",
        "    parsed_url = urlparse(url)\n",
        "    file_name = parsed_url.path.rsplit(\"/\", 2)[1]\n",
        "    if file_name.endswith(f\"-{video_id}\"):\n",
        "        file_name = file_name[:-len(f\"-{video_id}\")]\n",
        "    file_name += f\"_duration_{duration}_second.mp4\"\n",
        "    file_path = os.path.join(\"videos\", file_name)\n",
        "\n",
        "    # Download the modified URL\n",
        "    response = requests.get(modified_url)\n",
        "\n",
        "    # Check if the download was successful\n",
        "    if response.status_code == 200:\n",
        "        # Save the downloaded file with the desired file name in the \"videos\" folder\n",
        "        with open(file_path, \"wb\") as file:\n",
        "            file.write(response.content)\n",
        "        print(f\"Video {video_id} downloaded successfully as {file_name}!\")\n",
        "    else:\n",
        "        print(f\"Failed to download video {video_id}. Status code: {response.status_code}\")\n"
      ],
      "metadata": {
        "colab": {
          "base_uri": "https://localhost:8080/"
        },
        "id": "RfT396o5nkE_",
        "outputId": "dcd0bbe7-ffd4-437d-e617-d77c2830277c"
      },
      "execution_count": null,
      "outputs": [
        {
          "output_type": "stream",
          "name": "stdout",
          "text": [
            "Video 1526909 downloaded successfully as seal-on-the-beach_duration_10_second.mp4!\n",
            "Video 5386411 downloaded successfully as a-monk-meditating-on-a-tree_duration_15_second.mp4!\n",
            "Video 6963395 downloaded successfully as a-person-holding-a-eucalyptus-plant-with-soil_duration_7_second.mp4!\n",
            "Video 7438482 downloaded successfully as close-up-video-of-a-flowers_duration_9_second.mp4!\n"
          ]
        }
      ]
    },
    {
      "cell_type": "code",
      "source": [
        "import json\n",
        "\n",
        "# Open the JSON file\n",
        "with open(\"popular_videos.json\", \"r\") as json_file:\n",
        "    video_list = json.load(json_file)\n",
        "\n",
        "# Create a set to store unique video IDs\n",
        "unique_ids = set()\n",
        "\n",
        "# Iterate over the video list\n",
        "for video in video_list:\n",
        "    # Get the video ID\n",
        "    video_id = video[\"video_id\"]\n",
        "\n",
        "    # Check if the video ID is already in the set\n",
        "    if video_id in unique_ids:\n",
        "        print(f\"Duplicate video ID found: {video_id}\")\n",
        "    else:\n",
        "        # Add the video ID to the set\n",
        "        unique_ids.add(video_id)\n",
        "\n",
        "print(\"Video ID uniqueness check complete.\")\n"
      ],
      "metadata": {
        "colab": {
          "base_uri": "https://localhost:8080/"
        },
        "id": "jDOf3sxI-A8m",
        "outputId": "75c2ea4a-a718-44d9-b37a-8bd952b69ea3"
      },
      "execution_count": null,
      "outputs": [
        {
          "output_type": "stream",
          "name": "stdout",
          "text": [
            "Video ID uniqueness check complete.\n"
          ]
        }
      ]
    },
    {
      "cell_type": "code",
      "source": [
        "import glob\n",
        "\n",
        "# Specify the path of the folder\n",
        "folder_path = \"/content/videos\"\n",
        "\n",
        "# Use glob.glob() to retrieve the file paths inside the folder\n",
        "file_paths = glob.glob(folder_path + \"/*.mp4\")\n",
        "\n",
        "\n",
        "first_file_path = file_paths[:5]\n",
        "print(first_file_path)\n"
      ],
      "metadata": {
        "colab": {
          "base_uri": "https://localhost:8080/"
        },
        "id": "wMLty8Cqpn-m",
        "outputId": "0fa5835c-29e5-434d-e17d-f5746675b165"
      },
      "execution_count": null,
      "outputs": [
        {
          "output_type": "stream",
          "name": "stdout",
          "text": [
            "['/content/videos/waves-rushing-and-splashing-to-the-shore_duration_21_second.mp4', '/content/videos/time-lapse-video-sunset_duration_14_second.mp4', '/content/videos/close-up-video-of-a-flowers_duration_9_second.mp4', '/content/videos/beauty-of-waterfalls_duration_36_second.mp4', '/content/videos/a-view-of-hot-air-balloons-in-the-air-and-woman-riding-her-vehicle_duration_19_second.mp4']\n"
          ]
        }
      ]
    },
    {
      "cell_type": "code",
      "source": [
        "from chromadb.config import Settings\n",
        "import chromadb\n",
        "client = chromadb.Client(Settings(\n",
        "    chroma_db_impl=\"duckdb+parquet\",\n",
        "    persist_directory=\"dahyunvideo\"\n",
        "))\n",
        "\n"
      ],
      "metadata": {
        "id": "bQpv_FtNvNK4"
      },
      "execution_count": null,
      "outputs": []
    },
    {
      "cell_type": "code",
      "source": [
        "collection = client.create_collection(\"dahyun\")\n",
        "collection = client.get_collection('dahyun')"
      ],
      "metadata": {
        "id": "BPxa5oiSIJv8"
      },
      "execution_count": null,
      "outputs": []
    },
    {
      "cell_type": "code",
      "source": [
        "\n",
        "collection.add(\n",
        "    documents=file_paths,\n",
        "    ids=[f\"id{i+1}\" for i in range(len(file_paths))]\n",
        ")"
      ],
      "metadata": {
        "id": "A3BbSm-RIKNb"
      },
      "execution_count": null,
      "outputs": []
    },
    {
      "cell_type": "code",
      "source": [
        "results = collection.query(\n",
        "    query_texts=[\"flower\"],\n",
        "    n_results=2\n",
        ")\n",
        "results"
      ],
      "metadata": {
        "colab": {
          "base_uri": "https://localhost:8080/"
        },
        "id": "r0X1lylveGhS",
        "outputId": "a74ca2c2-29fc-415b-f486-91cf44244cbb"
      },
      "execution_count": null,
      "outputs": [
        {
          "output_type": "execute_result",
          "data": {
            "text/plain": [
              "{'ids': [['id3', 'id12']],\n",
              " 'embeddings': None,\n",
              " 'documents': [['/content/videos/close-up-video-of-a-flowers_duration_9_second.mp4',\n",
              "   '/content/videos/red-autumn-leaves_duration_19_second.mp4']],\n",
              " 'metadatas': [[None, None]],\n",
              " 'distances': [[1.078215479850769, 1.4615685939788818]]}"
            ]
          },
          "metadata": {},
          "execution_count": 14
        }
      ]
    },
    {
      "cell_type": "code",
      "source": [
        "client.persist()"
      ],
      "metadata": {
        "colab": {
          "base_uri": "https://localhost:8080/"
        },
        "id": "TmJWW9uhEHep",
        "outputId": "51919189-3a1b-49f2-9387-801ffa43f579"
      },
      "execution_count": null,
      "outputs": [
        {
          "output_type": "execute_result",
          "data": {
            "text/plain": [
              "True"
            ]
          },
          "metadata": {},
          "execution_count": 15
        }
      ]
    },
    {
      "cell_type": "markdown",
      "source": [
        "# Subtitle parsing"
      ],
      "metadata": {
        "id": "O22WK-wUycWT"
      }
    },
    {
      "cell_type": "code",
      "source": [
        "import pysrt\n",
        "import datetime\n",
        "\n",
        "# Load the subtitle file\n",
        "subtitle_path = \"/content/output.srt\"\n",
        "subtitle = pysrt.open(subtitle_path)\n",
        "allsubtitle = []\n",
        "\n",
        "# Iterate through each subtitle item\n",
        "for subtitle_item in subtitle:\n",
        "    # Store the subtitle start and end times\n",
        "    start_time = subtitle_item.start.to_time()\n",
        "    end_time = subtitle_item.end.to_time()\n",
        "\n",
        "    # Convert start and end times to datetime.datetime objects\n",
        "    start_datetime = datetime.datetime.combine(datetime.datetime.min.date(), start_time)\n",
        "    end_datetime = datetime.datetime.combine(datetime.datetime.min.date(), end_time)\n",
        "\n",
        "    # Calculate the duration by subtracting the end datetime from the start datetime\n",
        "    duration = end_datetime - start_datetime\n",
        "\n",
        "    # Format the time values as (hh:mm:ss)\n",
        "    start_time_str = start_time.strftime(\"%H:%M:%S\")\n",
        "    end_time_str = end_time.strftime(\"%H:%M:%S\")\n",
        "\n",
        "    # Store the subtitle text and duration as a tuple\n",
        "    subtitle_tuple = (start_time_str, end_time_str, subtitle_item.text, str(duration))\n",
        "\n",
        "    # Append the subtitle tuple to the list\n",
        "    allsubtitle.append(subtitle_tuple)\n",
        "\n",
        "text = allsubtitle[0][2]\n",
        "text_duration = allsubtitle[0][3]\n",
        "# Print the first subtitle and its duration\n",
        "print(text)\n",
        "print(text_duration)\n",
        "\n"
      ],
      "metadata": {
        "colab": {
          "base_uri": "https://localhost:8080/"
        },
        "id": "QrBE80niOO0K",
        "outputId": "8a7109fd-f06b-41e7-aff6-51293a06b13a"
      },
      "execution_count": 2,
      "outputs": [
        {
          "output_type": "stream",
          "name": "stdout",
          "text": [
            " It's been a long time since I've done a live broadcast, so I'm a little nervous, but I'll do my best.\n",
            "0:00:11\n"
          ]
        }
      ]
    },
    {
      "cell_type": "code",
      "source": [
        "!zip -r dahyunv.zip ./dahyunvideo"
      ],
      "metadata": {
        "colab": {
          "base_uri": "https://localhost:8080/"
        },
        "id": "KOtu2bxzsm6n",
        "outputId": "8a2e37ad-5704-4179-ca0d-a9b421f63d3c"
      },
      "execution_count": null,
      "outputs": [
        {
          "output_type": "stream",
          "name": "stdout",
          "text": [
            "  adding: dahyunvideo/ (stored 0%)\n",
            "  adding: dahyunvideo/chroma-embeddings.parquet (deflated 19%)\n",
            "  adding: dahyunvideo/index/ (stored 0%)\n",
            "  adding: dahyunvideo/index/uuid_to_id_6d2d54b3-ecbd-4031-bd85-d98fa0c84a79.pkl (deflated 36%)\n",
            "  adding: dahyunvideo/index/index_metadata_6d2d54b3-ecbd-4031-bd85-d98fa0c84a79.pkl (deflated 14%)\n",
            "  adding: dahyunvideo/index/id_to_uuid_6d2d54b3-ecbd-4031-bd85-d98fa0c84a79.pkl (deflated 25%)\n",
            "  adding: dahyunvideo/index/index_6d2d54b3-ecbd-4031-bd85-d98fa0c84a79.bin (deflated 14%)\n",
            "  adding: dahyunvideo/chroma-collections.parquet (deflated 50%)\n"
          ]
        }
      ]
    },
    {
      "cell_type": "code",
      "source": [
        "!unzip dahyunv.zip"
      ],
      "metadata": {
        "colab": {
          "base_uri": "https://localhost:8080/"
        },
        "id": "2o4G_rbRtZ7E",
        "outputId": "92f91353-48af-4426-db33-23a11469f910"
      },
      "execution_count": null,
      "outputs": [
        {
          "output_type": "stream",
          "name": "stdout",
          "text": [
            "Archive:  dahyunv.zip\n",
            "  inflating: dahyunvideo/chroma-embeddings.parquet  \n",
            "   creating: dahyunvideo/index/\n",
            "  inflating: dahyunvideo/index/uuid_to_id_6d2d54b3-ecbd-4031-bd85-d98fa0c84a79.pkl  \n",
            "  inflating: dahyunvideo/index/index_metadata_6d2d54b3-ecbd-4031-bd85-d98fa0c84a79.pkl  \n",
            "  inflating: dahyunvideo/index/id_to_uuid_6d2d54b3-ecbd-4031-bd85-d98fa0c84a79.pkl  \n",
            "  inflating: dahyunvideo/index/index_6d2d54b3-ecbd-4031-bd85-d98fa0c84a79.bin  \n",
            "  inflating: dahyunvideo/chroma-collections.parquet  \n"
          ]
        }
      ]
    },
    {
      "cell_type": "code",
      "source": [
        "from chromadb.config import Settings\n",
        "import chromadb\n",
        "client = chromadb.Client(Settings(\n",
        "    chroma_db_impl=\"duckdb+parquet\",\n",
        "    persist_directory=\"dahyunvideo\" # Optional, defaults to .chromadb/ in the current directory\n",
        "))\n",
        "\n"
      ],
      "metadata": {
        "id": "xPuK7RWHAzlI"
      },
      "execution_count": null,
      "outputs": []
    },
    {
      "cell_type": "code",
      "source": [
        "collection = client.get_collection('dahyun')"
      ],
      "metadata": {
        "id": "44782q_KBpHj"
      },
      "execution_count": null,
      "outputs": []
    },
    {
      "cell_type": "code",
      "source": [
        "results = collection.query(\n",
        "    query_texts=[\"flower\"],\n",
        "    n_results=2\n",
        ")\n",
        "results"
      ],
      "metadata": {
        "colab": {
          "base_uri": "https://localhost:8080/"
        },
        "id": "fUgCPs4rCm21",
        "outputId": "9b625e2c-9f94-43ee-d4e1-401b2bb8f558"
      },
      "execution_count": null,
      "outputs": [
        {
          "output_type": "stream",
          "name": "stderr",
          "text": [
            "/root/.cache/chroma/onnx_models/all-MiniLM-L6-v2/onnx.tar.gz: 100%|██████████| 79.3M/79.3M [00:00<00:00, 84.1MiB/s]\n"
          ]
        },
        {
          "output_type": "execute_result",
          "data": {
            "text/plain": [
              "{'ids': [['id3', 'id12']],\n",
              " 'embeddings': None,\n",
              " 'documents': [['/content/videos/close-up-video-of-a-flowers_duration_9_second.mp4',\n",
              "   '/content/videos/red-autumn-leaves_duration_19_second.mp4']],\n",
              " 'metadatas': [[None, None]],\n",
              " 'distances': [[1.078215479850769, 1.4615685939788818]]}"
            ]
          },
          "metadata": {},
          "execution_count": 11
        }
      ]
    },
    {
      "cell_type": "code",
      "source": [
        "import re\n",
        "\n",
        "def get_duration_from_title(video_path):\n",
        "    pattern = r'_duration_(\\d+)_second\\.mp4'\n",
        "    match = re.search(pattern, video_path)\n",
        "\n",
        "    if match:\n",
        "        duration = int(match.group(1))\n",
        "        if duration > 15:\n",
        "            duration = 15\n",
        "        return duration\n",
        "\n",
        "    return None\n",
        "\n",
        "\n",
        "def get_duration_and_path(query: str, text_duration: int):\n",
        "    results = collection.query(\n",
        "        query_texts=[query],\n",
        "        n_results=4\n",
        "    )\n",
        "    documents = results['documents']\n",
        "    video_paths = []\n",
        "    durations = []\n",
        "    total_duration = text_duration\n",
        "\n",
        "    for doc_list in documents:\n",
        "        for doc in doc_list:\n",
        "            duration = get_duration_from_title(doc)\n",
        "            if duration is not None:\n",
        "                if total_duration > duration:\n",
        "                    durations.append((0, duration))\n",
        "                    video_paths.append(doc)\n",
        "                    total_duration -= duration\n",
        "                else:\n",
        "                    durations.append((0, total_duration))\n",
        "                    video_paths.append(doc)\n",
        "                    total_duration = 0\n",
        "                    break\n",
        "\n",
        "    return durations, video_paths\n",
        "\n",
        "\n",
        "text_duration=30\n",
        "output_durations, output_video_paths = get_duration_and_path('hi', text_duration)\n",
        "print(output_durations)\n",
        "print(output_video_paths)"
      ],
      "metadata": {
        "colab": {
          "base_uri": "https://localhost:8080/"
        },
        "id": "TKVtnaTqAbNK",
        "outputId": "e93a0235-6829-492d-e5e8-fe11346b59e9"
      },
      "execution_count": null,
      "outputs": [
        {
          "output_type": "stream",
          "name": "stdout",
          "text": [
            "[(0, 14), (0, 15), (0, 1)]\n",
            "['/content/videos/time-lapse-video-sunset_duration_14_second.mp4', '/content/videos/waves-rushing-and-splashing-to-the-shore_duration_21_second.mp4', '/content/videos/beautiful-timelapse-of-the-night-sky-with-reflections-in-a-lake_duration_14_second.mp4']\n"
          ]
        }
      ]
    },
    {
      "cell_type": "markdown",
      "source": [
        "# perfect 15 second"
      ],
      "metadata": {
        "id": "N60x8-aB0Gb4"
      }
    },
    {
      "cell_type": "code",
      "source": [
        "import re\n",
        "\n",
        "def get_duration_from_title(video_path):\n",
        "    pattern = r'_duration_(\\d+)_second\\.mp4'\n",
        "    match = re.search(pattern, video_path)\n",
        "\n",
        "    if match:\n",
        "        duration = int(match.group(1))\n",
        "        if duration > 15:\n",
        "            duration = 15\n",
        "        return duration\n",
        "\n",
        "    return None\n",
        "\n",
        "\n",
        "def get_duration_and_path(query: str, text_duration: int):\n",
        "    results = collection.query(\n",
        "        query_texts=[query],\n",
        "        n_results=4\n",
        "    )\n",
        "    documents = results['documents']\n",
        "    video_paths = []\n",
        "    durations = []\n",
        "    total_duration = text_duration\n",
        "\n",
        "    for doc_list in documents:\n",
        "        for doc in doc_list:\n",
        "            duration = get_duration_from_title(doc)\n",
        "            if duration is not None:\n",
        "                if total_duration > duration:\n",
        "                    if duration < 15:\n",
        "                        duration -= 1\n",
        "                    durations.append((0, duration))\n",
        "                    video_paths.append(doc)\n",
        "                    total_duration -= duration\n",
        "                else:\n",
        "                    durations.append((0, total_duration))\n",
        "                    video_paths.append(doc)\n",
        "                    total_duration = 0\n",
        "                    break\n",
        "\n",
        "    return durations, video_paths\n",
        "\n",
        "\n",
        "text_duration = 30\n",
        "output_durations, output_video_paths = get_duration_and_path(text, text_duration)\n",
        "print(output_durations)\n",
        "print(output_video_paths)"
      ],
      "metadata": {
        "colab": {
          "base_uri": "https://localhost:8080/"
        },
        "id": "WzdTARVYEStR",
        "outputId": "38abad0e-51ec-43b6-d1b0-5e78f32341bc"
      },
      "execution_count": null,
      "outputs": [
        {
          "output_type": "stream",
          "name": "stdout",
          "text": [
            "[(0, 15), (0, 8), (0, 7)]\n",
            "['/content/videos/waves-rushing-and-splashing-to-the-shore_duration_21_second.mp4', '/content/videos/autumn-season_duration_9_second.mp4', '/content/videos/seal-on-the-beach_duration_10_second.mp4']\n"
          ]
        }
      ]
    },
    {
      "cell_type": "code",
      "source": [
        "from moviepy.editor import VideoFileClip, concatenate_videoclips\n",
        "\n",
        "def cut_video_clips(file_list, subclip_list):\n",
        "    # Check if the lengths of the file list and subclip list are the same\n",
        "    if len(file_list) != len(subclip_list):\n",
        "        raise ValueError(\"The file list and subclip list must have the same length.\")\n",
        "\n",
        "    clip_list = []\n",
        "\n",
        "    # Iterate over the file list and subclip list\n",
        "    for file, subclip in zip(file_list, subclip_list):\n",
        "        # Load the video clip from the file\n",
        "        clip = VideoFileClip(file,target_resolution=(1080, 1920))\n",
        "\n",
        "        # Extract the start and end times from the subclip tuple\n",
        "        subclip_start, subclip_end = subclip\n",
        "\n",
        "        # Check if the subclip start and end times are valid\n",
        "        if subclip_start < 0 or subclip_end > clip.duration or subclip_start >= subclip_end:\n",
        "            raise ValueError(\"Invalid subclip duration.\")\n",
        "\n",
        "        # Cut the video clip using the subclip start and end times\n",
        "        cut_clip = clip.subclip(subclip_start, subclip_end)\n",
        "        clip_list.append(cut_clip)\n",
        "\n",
        "    return clip_list\n",
        "\n",
        "\n",
        "# more_clips = cut_video_clips(file_list, subclip_list)\n",
        "more_clips = cut_video_clips(output_video_paths, output_durations)\n"
      ],
      "metadata": {
        "colab": {
          "base_uri": "https://localhost:8080/"
        },
        "id": "LbqUfnz6LOxZ",
        "outputId": "542199b4-853b-49f8-f9be-e20c7b831f06"
      },
      "execution_count": null,
      "outputs": [
        {
          "output_type": "stream",
          "name": "stdout",
          "text": [
            "[(0, 15), (0, 8), (0, 7)]\n",
            "['/content/videos/waves-rushing-and-splashing-to-the-shore_duration_21_second.mp4', '/content/videos/autumn-season_duration_9_second.mp4', '/content/videos/seal-on-the-beach_duration_10_second.mp4']\n"
          ]
        }
      ]
    },
    {
      "cell_type": "code",
      "source": [
        "cut = concatenate_videoclips(more_clips)\n",
        "cut.write_videofile('first_dahwin_media_g.mp4', fps=30, codec=\"libx264\", audio_codec=\"aac\", bitrate=\"5000k\")"
      ],
      "metadata": {
        "colab": {
          "base_uri": "https://localhost:8080/"
        },
        "id": "iIgiw5FaGM81",
        "outputId": "3b084715-803b-447f-bd9f-b45b7c9bfa25"
      },
      "execution_count": null,
      "outputs": [
        {
          "output_type": "stream",
          "name": "stdout",
          "text": [
            "Moviepy - Building video first_dahwin_media_g.mp4.\n",
            "MoviePy - Writing audio in first_dahwin_media_gTEMP_MPY_wvf_snd.mp4\n"
          ]
        },
        {
          "output_type": "stream",
          "name": "stderr",
          "text": []
        },
        {
          "output_type": "stream",
          "name": "stdout",
          "text": [
            "MoviePy - Done.\n",
            "Moviepy - Writing video first_dahwin_media_g.mp4\n",
            "\n"
          ]
        },
        {
          "output_type": "stream",
          "name": "stderr",
          "text": []
        },
        {
          "output_type": "stream",
          "name": "stdout",
          "text": [
            "Moviepy - Done !\n",
            "Moviepy - video ready first_dahwin_media_g.mp4\n"
          ]
        }
      ]
    },
    {
      "cell_type": "markdown",
      "source": [
        "# Effects"
      ],
      "metadata": {
        "id": "bkCM8VShAmJK"
      }
    },
    {
      "cell_type": "code",
      "source": [],
      "metadata": {
        "id": "5cN57TDUAilL"
      },
      "execution_count": null,
      "outputs": []
    },
    {
      "cell_type": "code",
      "source": [
        "!rm -rf dahyunvideo/"
      ],
      "metadata": {
        "id": "-PGRuwfaDiDC"
      },
      "execution_count": null,
      "outputs": []
    }
  ]
}