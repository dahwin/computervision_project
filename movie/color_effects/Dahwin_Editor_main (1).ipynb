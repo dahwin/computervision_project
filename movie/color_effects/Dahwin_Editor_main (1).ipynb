{
 "cells": [
  {
   "cell_type": "markdown",
   "metadata": {
    "id": "wO02A1tkErB9"
   },
   "source": [
    "## dahyun+darwin = dahwin"
   ]
  },
  {
   "cell_type": "code",
   "execution_count": 1,
   "metadata": {
    "id": "SFKPZ7rHEwyb"
   },
   "outputs": [],
   "source": [
    "!brew install pango pkg-config\n",
    "!apt install libpango1.0-dev pkg-config python3-dev\n",
    "!pip install gizeh manimgl youtube-search pysrt pexels-api-py\n",
    "!pip install chromadb==0.3.26\n",
    "!pip install sentence-transformers -q\n",
    "from IPython.display import clear_output\n",
    "clear_output()\n"
   ]
  },
  {
   "cell_type": "code",
   "execution_count": 2,
   "metadata": {
    "colab": {
     "base_uri": "https://localhost:8080/"
    },
    "id": "P1xWVNe-UzFj",
    "outputId": "d9988af2-79b7-45f3-fbfe-e68bab43dc07"
   },
   "outputs": [
    {
     "name": "stdout",
     "output_type": "stream",
     "text": [
      "Mounted at /content/drive\n"
     ]
    }
   ],
   "source": [
    "from google.colab import drive\n",
    "drive.mount('/content/drive')"
   ]
  },
  {
   "cell_type": "code",
   "execution_count": 3,
   "metadata": {
    "colab": {
     "base_uri": "https://localhost:8080/"
    },
    "id": "WM6_tPavATRo",
    "outputId": "89d0be50-60c7-44c5-a697-dd8cb6501a51"
   },
   "outputs": [
    {
     "name": "stdout",
     "output_type": "stream",
     "text": [
      "Folder extracted successfully.\n"
     ]
    }
   ],
   "source": [
    "import zipfile\n",
    "\n",
    "zip_path = 'videos.zip'\n",
    "\n",
    "with zipfile.ZipFile(zip_path, 'r') as zip_ref:\n",
    "    zip_ref.extractall()\n",
    "\n",
    "print(\"Folder extracted successfully.\")\n"
   ]
  },
  {
   "cell_type": "code",
   "execution_count": null,
   "metadata": {
    "colab": {
     "base_uri": "https://localhost:8080/"
    },
    "id": "EcJfB0eKV3Zu",
    "outputId": "79080b12-e115-4465-f580-6e69253be69e"
   },
   "outputs": [
    {
     "name": "stdout",
     "output_type": "stream",
     "text": [
      "Directory zipped successfully.\n"
     ]
    }
   ],
   "source": [
    "import os\n",
    "import zipfile\n",
    "# Specify the path of the directory to be zipped\n",
    "directory_to_zip = r\"/content/videos\"\n",
    "\n",
    "# Extract the folder name from the directory path\n",
    "folder_name = os.path.basename(directory_to_zip)\n",
    "\n",
    "# Specify the path for the resulting zip file\n",
    "zip_file_path = f\"{folder_name}.zip\"\n",
    "\n",
    "# Open a new zip file\n",
    "with zipfile.ZipFile(zip_file_path, 'w', compression=zipfile.ZIP_STORED) as zipf:\n",
    "    # Iterate over all the files and folders in the directory\n",
    "    for root, _, files in os.walk(directory_to_zip):\n",
    "        # Get the relative path of each file\n",
    "        for file in files:\n",
    "            file_path = os.path.join(root, file)\n",
    "            relative_path = os.path.relpath(file_path, directory_to_zip)\n",
    "            # Add each file with its relative path to the zip file\n",
    "            zipf.write(file_path, arcname=os.path.join(folder_name, relative_path))\n",
    "\n",
    "print(\"Directory zipped successfully.\")\n"
   ]
  },
  {
   "cell_type": "code",
   "execution_count": null,
   "metadata": {
    "colab": {
     "base_uri": "https://localhost:8080/"
    },
    "id": "jDOf3sxI-A8m",
    "outputId": "75c2ea4a-a718-44d9-b37a-8bd952b69ea3"
   },
   "outputs": [
    {
     "name": "stdout",
     "output_type": "stream",
     "text": [
      "Video ID uniqueness check complete.\n"
     ]
    }
   ],
   "source": [
    "import json\n",
    "\n",
    "# Open the JSON file\n",
    "with open(\"popular_videos.json\", \"r\") as json_file:\n",
    "    video_list = json.load(json_file)\n",
    "\n",
    "# Create a set to store unique video IDs\n",
    "unique_ids = set()\n",
    "\n",
    "# Iterate over the video list\n",
    "for video in video_list:\n",
    "    # Get the video ID\n",
    "    video_id = video[\"video_id\"]\n",
    "\n",
    "    # Check if the video ID is already in the set\n",
    "    if video_id in unique_ids:\n",
    "        print(f\"Duplicate video ID found: {video_id}\")\n",
    "    else:\n",
    "        # Add the video ID to the set\n",
    "        unique_ids.add(video_id)\n",
    "\n",
    "print(\"Video ID uniqueness check complete.\")\n"
   ]
  },
  {
   "cell_type": "code",
   "execution_count": null,
   "metadata": {
    "colab": {
     "base_uri": "https://localhost:8080/"
    },
    "id": "wMLty8Cqpn-m",
    "outputId": "35303b34-b208-49ce-da60-71b9d2b8cad0"
   },
   "outputs": [
    {
     "name": "stdout",
     "output_type": "stream",
     "text": [
      "/content/videos/view-of-sunset-with-dramatic-sky_duration_35_second.mp4\n",
      "/content/videos/woman-in-colorful-dress-dancing_duration_9_second.mp4\n",
      "/content/videos/woman-holding-a-frame_duration_22_second.mp4\n",
      "/content/videos/a-happy-young-couple-in-the-sunlight_duration_25_second.mp4\n",
      "/content/videos/tulips-plantation-in-an-agricultural-field_duration_8_second.mp4\n",
      "/content/videos/girl-walking-between-red-poppy-flowers_duration_17_second.mp4\n",
      "/content/videos/woman-walking-over-the-dried-leaves-by-the-river_duration_13_second.mp4\n",
      "/content/videos/red-maple-leaves_duration_20_second.mp4\n",
      "/content/videos/high-angle-footage-of-a-mountain-peak-with-snow-residue_duration_30_second.mp4\n",
      "/content/videos/view-of-sunset-over-the-horizon-on-a-beach_duration_17_second.mp4\n",
      "/content/videos/a-monk-meditating-on-a-tree_duration_15_second.mp4\n",
      "/content/videos/a-woman-running-towards-the-sea-water_duration_25_second.mp4\n",
      "/content/videos/healthy-light-landscape-nature_duration_19_second.mp4\n",
      "/content/videos/woman-doing-jump-rope-exercise_duration_23_second.mp4\n",
      "/content/videos/a-dog-fights-with-his-reflection-in-the-mirror_duration_17_second.mp4\n",
      "/content/videos/drone-view-of-a-winter-landscape_duration_10_second.mp4\n",
      "/content/videos/group-of-young-people-dancing-inside-a-church_duration_13_second.mp4\n",
      "/content/videos/smartphone-on-white-surface-against-white-background_duration_11_second.mp4\n",
      "/content/videos/aerial-view-of-beautiful-resort_duration_38_second.mp4\n",
      "/content/videos/a-couple-embracing-each-other_duration_18_second.mp4\n",
      "/content/videos/beach-waves-and-sunset_duration_20_second.mp4\n",
      "/content/videos/blazing-fire_duration_30_second.mp4\n",
      "/content/videos/low-lying-clouds-covers-the-mountain-side_duration_28_second.mp4\n",
      "/content/videos/a-couple-meets-and-kissed-at-a-middle-of-a-flower-field_duration_22_second.mp4\n",
      "/content/videos/a-person-feeding-a-corgi_duration_36_second.mp4\n",
      "/content/videos/a-person-standing-on-rocks-atop-a-mountain_duration_24_second.mp4\n",
      "/content/videos/woman-having-a-video-chat-while-inside-a-car_duration_11_second.mp4\n",
      "/content/videos/two-hand-in-physical-touches-connoting-emotions-and-affections_duration_16_second.mp4\n",
      "/content/videos/aerial-view-of-bridge-and-river_duration_31_second.mp4\n",
      "/content/videos/waves-crashing-to-the-rocks_duration_40_second.mp4\n",
      "/content/videos/women-having-a-conversation_duration_38_second.mp4\n",
      "/content/videos/a-man-drinking-while-using-his-laptop_duration_28_second.mp4\n",
      "/content/videos/mixture-of-different-colors-of-ink-in-liquid_duration_20_second.mp4\n",
      "/content/videos/big-waves-of-the-sea_duration_31_second.mp4\n",
      "/content/videos/a-tracking-shot-of-an-empty-theater_duration_21_second.mp4\n",
      "/content/videos/a-couple-celebrates-the-great-view-of-a-waterfalls_duration_23_second.mp4\n",
      "/content/videos/close-up-of-a-cream-beige-furred-cat-sleeping-on-its-back_duration_6_second.mp4\n",
      "/content/videos/flame-of-a-gas-lamp_duration_15_second.mp4\n",
      "/content/videos/light-blue-abstract-tunnel_duration_5_second.mp4\n",
      "/content/videos/an-octagon-shaped-tunnel_duration_20_second.mp4\n",
      "/content/videos/a-mother-watching-on-a-laptop-with-her-kids_duration_10_second.mp4\n",
      "/content/videos/a-colorful-sunset-by-the-beach_duration_9_second.mp4\n",
      "/content/videos/video-of-forest_duration_32_second.mp4\n",
      "/content/videos/big-beak-bird-on-a-tree-branch_duration_22_second.mp4\n",
      "/content/videos/close-up-video-of-mug-on-the-ground_duration_10_second.mp4\n",
      "/content/videos/a-park-s-view-of-autumn-trees-on-a-foggy-day_duration_30_second.mp4\n",
      "/content/videos/a-burst-of-white-powder-thrown-in-the-air_duration_21_second.mp4\n",
      "/content/videos/rainy-day_duration_11_second.mp4\n",
      "/content/videos/a-team-of-gamers-celebrating-a-win_duration_11_second.mp4\n",
      "/content/videos/a-couple-bonding_duration_24_second.mp4\n",
      "/content/videos/tractor-cutting-grass-in-the-field_duration_13_second.mp4\n",
      "/content/videos/a-foggy-landscape_duration_15_second.mp4\n",
      "/content/videos/woman-walking-on-white-sand-of-sea-water_duration_8_second.mp4\n",
      "/content/videos/lotus-dancing-in-the-wind_duration_19_second.mp4\n",
      "/content/videos/video-presentation-of-the-outer-space_duration_28_second.mp4\n",
      "/content/videos/horseback-riding-on-top-of-plateau-meadow_duration_12_second.mp4\n",
      "/content/videos/happy-elderly-women-sitting-in-a-bathtub-together_duration_11_second.mp4\n",
      "/content/videos/running-a-light-of-digital-information_duration_20_second.mp4\n",
      "/content/videos/a-very-fashionable-woman_duration_19_second.mp4\n",
      "/content/videos/rainfall-at-the-court_duration_25_second.mp4\n",
      "/content/videos/woman-walking-in-the-middle-of-the-road_duration_24_second.mp4\n",
      "/content/videos/woman-coffee-laptop-girl_duration_18_second.mp4\n",
      "/content/videos/bird-s-eye-view-of-a-beautiful-park-with-water-fountain_duration_28_second.mp4\n",
      "/content/videos/a-couple-outdoor-moments-filled-with-laughter-and-love_duration_19_second.mp4\n",
      "/content/videos/a-motorboat-crossing-a-bridge_duration_31_second.mp4\n",
      "/content/videos/men-women-freedom-indoors_duration_30_second.mp4\n",
      "/content/videos/a-person-holding-a-eucalyptus-plant-with-soil_duration_7_second.mp4\n",
      "/content/videos/woman-in-black-fitness-wear_duration_30_second.mp4\n",
      "/content/videos/man-fishing-on-the-lake_duration_12_second.mp4\n",
      "/content/videos/silhouette-of-a-man-sitting-on-the-roof_duration_18_second.mp4\n",
      "/content/videos/a-rocky-river-in-the-forest_duration_30_second.mp4\n",
      "/content/videos/blue-water_duration_32_second.mp4\n",
      "/content/videos/sensual-couple-in-a-bedroom_duration_38_second.mp4\n",
      "/content/videos/digital-presentation-of-data-and-information_duration_20_second.mp4\n",
      "/content/videos/selective-focus-of-red-poppy-flowers-while-swaying_duration_17_second.mp4\n",
      "/content/videos/people-in-a-party-raising-their-glasses-for-a-toss-while-confetti-are-falling_duration_9_second.mp4\n",
      "/content/videos/walking-in-the-field_duration_33_second.mp4\n",
      "/content/videos/father-and-son-playing-outdoors_duration_7_second.mp4\n",
      "/content/videos/two-women-making-a-dance-video_duration_11_second.mp4\n",
      "/content/videos/aerial-view-of-a-boat-sailing_duration_40_second.mp4\n",
      "/content/videos/woman-standing-on-a-mountain-cliff-overlooking-a-town_duration_18_second.mp4\n",
      "/content/videos/doctor-writing-a-prescription_duration_21_second.mp4\n",
      "/content/videos/an-island-in-the-middle-of-the-sea_duration_12_second.mp4\n",
      "/content/videos/running-a-rose-flower-on-a-woman-s-back_duration_14_second.mp4\n",
      "/content/videos/light-dawn-sky-art_duration_12_second.mp4\n",
      "/content/videos/drone-footage-of-sunflower-field-under-blue-sky_duration_12_second.mp4\n",
      "/content/videos/mountains-forest-hiking-travel_duration_7_second.mp4\n",
      "/content/videos/milky-way-glowing-at-night_duration_21_second.mp4\n",
      "/content/videos/animated-abstract-burning-effect_duration_6_second.mp4\n",
      "/content/videos/women-making-a-video-to-upload_duration_9_second.mp4\n",
      "/content/videos/fogs-over-the-mountain_duration_18_second.mp4\n",
      "/content/videos/time-lapse-of-cumulus-clouds_duration_33_second.mp4\n",
      "/content/videos/young-woman-with-glitter-on-face_duration_30_second.mp4\n",
      "/content/videos/rowena-crest-viewpoint_duration_26_second.mp4\n",
      "/content/videos/beautiful-flowers-blooming_duration_20_second.mp4\n",
      "/content/videos/cold-snow-man-holiday_duration_32_second.mp4\n",
      "/content/videos/close-up-video-of-chicks_duration_14_second.mp4\n",
      "/content/videos/aerial-footage-of-a-lake-surrounded-by-mountains_duration_16_second.mp4\n",
      "/content/videos/two-modern-buildings-with-glass-exterior_duration_13_second.mp4\n",
      "/content/videos/a-woman-reflection-on-the-side-mirror-of-a-moving-vehicle_duration_22_second.mp4\n",
      "/content/videos/a-man-putting-sunglasses-to-his-dog_duration_3_second.mp4\n",
      "/content/videos/mother-and-kids-watching-a-movie-on-the-tablet_duration_18_second.mp4\n",
      "/content/videos/an-animation-of-a-squared-tunnel_duration_20_second.mp4\n",
      "/content/videos/scenery-of-starry-night-sky_duration_8_second.mp4\n",
      "/content/videos/high-rise-buildings_duration_17_second.mp4\n",
      "/content/videos/back-view-of-a-man-typing-on-laptop_duration_12_second.mp4\n",
      "/content/videos/reflection-of-trees-on-water-surface_duration_28_second.mp4\n",
      "/content/videos/father-making-a-braid-on-his-daughter_duration_15_second.mp4\n",
      "/content/videos/video-of-different-sweet-foods_duration_12_second.mp4\n",
      "/content/videos/woman-stepping-in-the-sand_duration_20_second.mp4\n",
      "/content/videos/wood-sea-landscape-nature_duration_13_second.mp4\n",
      "/content/videos/boulders-of-rock-lying-along-the-coastline-of-the-sea-in-cape-town-south-africa_duration_20_second.mp4\n",
      "/content/videos/penguin-underwater_duration_12_second.mp4\n",
      "/content/videos/people-riding-horses-entering-a-tunnel_duration_13_second.mp4\n",
      "/content/videos/waves-rushing-and-splashing-to-the-shore_duration_21_second.mp4\n",
      "/content/videos/road-trip_duration_22_second.mp4\n",
      "/content/videos/bangkok-thailande-etal-de-nourriture_duration_20_second.mp4\n",
      "/content/videos/man-coffee-desk-laptop_duration_36_second.mp4\n",
      "/content/videos/wave-abstract-white-background_duration_5_second.mp4\n",
      "/content/videos/a-happy-couple-posing-with-the-baby-bump_duration_10_second.mp4\n",
      "/content/videos/black-and-white-video-of-busy-street_duration_14_second.mp4\n",
      "/content/videos/sea-sunset-water-blue_duration_6_second.mp4\n",
      "/content/videos/sea-waves-crashing-the-cliff-coast_duration_16_second.mp4\n",
      "/content/videos/view-of-coniferous-trees-in-winter_duration_10_second.mp4\n",
      "/content/videos/a-footage-of-books-and-a-laptop-on-a-table_duration_22_second.mp4\n",
      "/content/videos/seal-on-the-beach_duration_10_second.mp4\n",
      "/content/videos/drone-footage-of-a-dense-forest_duration_18_second.mp4\n",
      "/content/videos/thunderbolt_duration_10_second.mp4\n",
      "/content/videos/a-man-holding-a-gourd-over-his-face_duration_7_second.mp4\n",
      "/content/videos/view-of-city-in-timelapse-mode_duration_6_second.mp4\n",
      "/content/videos/man-touching-a-woman-s-leg_duration_37_second.mp4\n",
      "/content/videos/women-dancing-in-celebration-of-african-holidays_duration_9_second.mp4\n",
      "/content/videos/a-woman-in-a-fitness-gym-doing-lifting-exercises-regimen_duration_29_second.mp4\n",
      "/content/videos/a-colored-liquid-mixing-slowly-with-clear-water_duration_30_second.mp4\n",
      "/content/videos/drone-footage-of-rocks-formation-in-the-sea_duration_25_second.mp4\n",
      "/content/videos/red-autumn-leaves_duration_19_second.mp4\n",
      "/content/videos/person-using-smartphone-while-looking-bitcoin_duration_9_second.mp4\n",
      "/content/videos/an-elevated-highway-in-the-mountain-valley-in-hawaii_duration_16_second.mp4\n",
      "/content/videos/aerial-footage-of-scenic-landscape-of-luscious-mountains-in-daylight_duration_34_second.mp4\n",
      "/content/videos/a-woman-looking-at-a-thick-fog-covering-the-bridge_duration_10_second.mp4\n",
      "/content/videos/thorny-plant-soaking-wet-in-rain-water_duration_20_second.mp4\n",
      "/content/videos/couple-dancing-on-sunset-background_duration_19_second.mp4\n",
      "/content/videos/a-wooden-bench-besides-a-foggy-lake_duration_20_second.mp4\n",
      "/content/videos/close-up-video-of-a-wavy-plastic_duration_6_second.mp4\n",
      "/content/videos/man-couple-woman-apple_duration_26_second.mp4\n",
      "/content/videos/elderly-woman-on-her-phone-holding-heels_duration_23_second.mp4\n",
      "/content/videos/digital-projection-of-abstract-geometrical-lines_duration_40_second.mp4\n",
      "/content/videos/women-sitting-on-skateboards_duration_7_second.mp4\n",
      "/content/videos/an-open-book_duration_18_second.mp4\n",
      "/content/videos/woman-feet-legs-girl_duration_24_second.mp4\n",
      "/content/videos/abstract-image-of-a-black-and-white-ink_duration_40_second.mp4\n",
      "/content/videos/top-view-of-black-fabric-texture_duration_10_second.mp4\n",
      "/content/videos/pregnant-woman-using-a-phone_duration_18_second.mp4\n",
      "/content/videos/young-woman-partying-taking-selfie_duration_27_second.mp4\n",
      "/content/videos/river-between-trees_duration_15_second.mp4\n",
      "/content/videos/video-of-doing-yoga-on-seashore_duration_18_second.mp4\n",
      "/content/videos/hands-desk-laptop-office_duration_20_second.mp4\n",
      "/content/videos/aerial-view-of-a-town-in-tennessee_duration_21_second.mp4\n",
      "/content/videos/cows-eating_duration_14_second.mp4\n",
      "/content/videos/woman-coffee-apple-iphone_duration_26_second.mp4\n",
      "/content/videos/person-editing-some-videos_duration_19_second.mp4\n",
      "/content/videos/a-woman-doing-push-up-exercise-on-the-floor_duration_12_second.mp4\n",
      "/content/videos/cold-man-vacation-couple_duration_19_second.mp4\n",
      "/content/videos/couple-having-maternity-shoot_duration_26_second.mp4\n",
      "/content/videos/children-playing-in-a-park-getting-wet-by-the-rain_duration_24_second.mp4\n",
      "/content/videos/a-rocky-coast_duration_37_second.mp4\n",
      "/content/videos/astronauts-looking-around-in-a-desolate-area_duration_11_second.mp4\n",
      "/content/videos/bright-autumn-colors_duration_13_second.mp4\n",
      "/content/videos/car-drives-in-the-snow-through-a-forest_duration_20_second.mp4\n",
      "/content/videos/sea-waves-rushing-to-the-shore_duration_39_second.mp4\n",
      "/content/videos/long-narrow-road_duration_19_second.mp4\n",
      "/content/videos/a-halloween-pumpkin-and-a-candle_duration_19_second.mp4\n",
      "/content/videos/video-editing-process_duration_15_second.mp4\n",
      "/content/videos/view-of-beach-with-blue-waters_duration_23_second.mp4\n",
      "/content/videos/woman-apple-iphone-smartphone_duration_18_second.mp4\n",
      "/content/videos/people-having-fun-at-a-concert_duration_13_second.mp4\n",
      "/content/videos/a-woman-driving-a-car_duration_16_second.mp4\n",
      "/content/videos/dipping-cinnamon-in-lemon-honey-teas_duration_10_second.mp4\n",
      "/content/videos/a-group-of-people-discussing-in-a-business-meeting_duration_10_second.mp4\n",
      "/content/videos/lake-surrounded-by-mountains_duration_35_second.mp4\n",
      "/content/videos/man-standing-with-overlooking-view_duration_8_second.mp4\n",
      "/content/videos/star-gazing-on-a-clear-night_duration_28_second.mp4\n",
      "/content/videos/cold-snow-road-landscape_duration_16_second.mp4\n",
      "/content/videos/a-bee-on-a-yellow-flower_duration_15_second.mp4\n",
      "/content/videos/time-lapse-video-of-star-gazing-on-a-starry-night_duration_11_second.mp4\n",
      "/content/videos/marketing-landscape-man-people_duration_7_second.mp4\n",
      "/content/videos/a-close-up-of-the-moon-in-eclipse_duration_14_second.mp4\n",
      "/content/videos/woman-waiting-for-a-taxi_duration_35_second.mp4\n",
      "/content/videos/time-lapse-video-of-mountain-scenery-during-golden-hour_duration_10_second.mp4\n",
      "/content/videos/a-woman-seated-on-the-beach-sand-enjoying-the-table-mountain-view_duration_30_second.mp4\n",
      "/content/videos/a-woman-dancing-expressively-with-a-glass-of-wine-on-hand_duration_8_second.mp4\n",
      "/content/videos/waterfall-in-the-forest_duration_12_second.mp4\n",
      "/content/videos/an-engaged-couple-taking-a-video-of-themselves-using-a-smartphone_duration_18_second.mp4\n",
      "/content/videos/a-magical-background_duration_30_second.mp4\n",
      "/content/videos/one-busy-day_duration_30_second.mp4\n",
      "/content/videos/video-of-funny-cat_duration_23_second.mp4\n",
      "/content/videos/father-and-child-watching-the-waterfalls_duration_8_second.mp4\n",
      "/content/videos/landscape-nature-field-flowers_duration_22_second.mp4\n",
      "/content/videos/a-couple-walking-towards-the-mountain-edge_duration_39_second.mp4\n",
      "/content/videos/man-looking-at-the-wonder-of-nature_duration_7_second.mp4\n",
      "/content/videos/a-mother-loving-moments-with-her-two-children-lying-in-bed-together_duration_15_second.mp4\n",
      "/content/videos/view-of-city-at-dusk_duration_19_second.mp4\n",
      "/content/videos/super-8-footage-of-a-window-view_duration_5_second.mp4\n",
      "/content/videos/series-of-sea-waves-kissing-the-coastline_duration_19_second.mp4\n",
      "/content/videos/a-woman-reading-a-book_duration_9_second.mp4\n",
      "/content/videos/couple-walking-on-a-beach-filmed-with-a-drone_duration_27_second.mp4\n",
      "/content/videos/waterfall-in-the-forest_duration_17_second.mp4\n",
      "/content/videos/day-of-the-dead-celebration_duration_19_second.mp4\n",
      "/content/videos/man-people-apple-iphone_duration_29_second.mp4\n",
      "/content/videos/hands-gift-present-knife_duration_19_second.mp4\n",
      "/content/videos/rocks-on-the-bottom-of-the-river_duration_21_second.mp4\n",
      "/content/videos/kaleidoscope-effects_duration_5_second.mp4\n",
      "/content/videos/drone-view-of-big-waves-rushing-to-the-shore_duration_33_second.mp4\n",
      "/content/videos/water-crashing-over-the-rocks_duration_8_second.mp4\n",
      "/content/videos/the-strong-force-of-niagara-falls_duration_6_second.mp4\n",
      "/content/videos/a-woman-with-her-cat-on-the-bed_duration_27_second.mp4\n",
      "/content/videos/person-holding-a-dove_duration_11_second.mp4\n",
      "/content/videos/man-proposing-to-his-woman_duration_14_second.mp4\n",
      "/content/videos/a-beautiful-view-of-sunset_duration_16_second.mp4\n",
      "/content/videos/footage-of-the-beach-under-the-coconut-tree_duration_17_second.mp4\n",
      "/content/videos/ocean-waves-video_duration_10_second.mp4\n",
      "/content/videos/slow-motion-video-of-bonfire_duration_15_second.mp4\n",
      "/content/videos/man-walking-on-road-among-pine-trees_duration_7_second.mp4\n",
      "/content/videos/person-walking-on-the-field_duration_20_second.mp4\n",
      "/content/videos/two-persons-holding-each-other-s-hands_duration_14_second.mp4\n",
      "/content/videos/mother-and-daughter-using-laptop-while-sitting-on-the-couch_duration_8_second.mp4\n",
      "/content/videos/close-up-video-of-a-flowers_duration_9_second.mp4\n",
      "/content/videos/lighted-candle-in-a-ceramic-candle-holder_duration_12_second.mp4\n",
      "/content/videos/mother-and-daughter-sitting-on-a-sofa_duration_10_second.mp4\n",
      "/content/videos/digital-formation-of-a-dna-in-an-animated-presentation_duration_25_second.mp4\n",
      "/content/videos/aerial-shot-of-forest-covered-in-snow_duration_28_second.mp4\n",
      "/content/videos/man-holding-a-camera_duration_9_second.mp4\n",
      "/content/videos/the-sun-illuminating-earth-s-surface_duration_16_second.mp4\n",
      "/content/videos/waves-rushing-to-seashore-in-slow-motion_duration_26_second.mp4\n",
      "/content/videos/boy-playing-the-drums_duration_11_second.mp4\n",
      "/content/videos/waterfalls-cascading-through-vine-plants-covering-the-cliffs_duration_15_second.mp4\n",
      "/content/videos/a-heart-shaped-made-from-palm-leaves-for-photo-shots-background_duration_9_second.mp4\n",
      "/content/videos/two-women-photo-shooting-in-studio_duration_30_second.mp4\n",
      "/content/videos/funny-video-of-man-and-woman-in-a-gym_duration_23_second.mp4\n",
      "/content/videos/couple-walking-down-the-road-towards-the-hot-air-balloon-festival_duration_19_second.mp4\n",
      "/content/videos/laptop-computer-on-white-table_duration_12_second.mp4\n",
      "/content/videos/aerial-footage-of-a-couples-walking-on-the-dock-at-the-lake_duration_30_second.mp4\n",
      "/content/videos/person-walking-alone-in-the-woods_duration_30_second.mp4\n",
      "/content/videos/autumn-foliage-along-the-river_duration_11_second.mp4\n",
      "/content/videos/a-group-of-young-people-in-discussion-of-a-group-project_duration_17_second.mp4\n",
      "/content/videos/girl-sitting-on-beach_duration_13_second.mp4\n",
      "/content/videos/a-scenic-view-of-the-sunrise-from-the-shore_duration_14_second.mp4\n",
      "/content/videos/people-walking-by-on-a-sidewalk_duration_16_second.mp4\n",
      "/content/videos/couple-walking-at-the-beach_duration_12_second.mp4\n",
      "/content/videos/girl-walking-between-red-poppy-flowers_duration_13_second.mp4\n",
      "/content/videos/lush-of-greens-in-the-seaside_duration_14_second.mp4\n",
      "/content/videos/a-woman-floating-in-the-pool_duration_7_second.mp4\n",
      "/content/videos/abstract-video_duration_10_second.mp4\n",
      "/content/videos/a-man-taking-photos-of-the-beautiful-nature-using-a-camera_duration_25_second.mp4\n",
      "/content/videos/woman-feet-legs-girl_duration_14_second.mp4\n",
      "/content/videos/digital-projection-of-a-planet-geometrical-symmetry-with-relation-to-outer-space_duration_20_second.mp4\n",
      "/content/videos/a-surfer-riding-the-waves-in-a-beach_duration_8_second.mp4\n",
      "/content/videos/a-female-model-pictorial-in-the-flower-field_duration_13_second.mp4\n",
      "/content/videos/a-cute-puppy-jumping_duration_17_second.mp4\n",
      "/content/videos/person-working-on-his-laptop_duration_18_second.mp4\n",
      "/content/videos/snow-light-landscape-nature_duration_21_second.mp4\n",
      "/content/videos/a-man-walking-by-the-roadside-in-the-city-at-nighttime_duration_11_second.mp4\n",
      "/content/videos/woman-walking-on-red-poppy-flower-field-while-carrying-her-child_duration_16_second.mp4\n",
      "/content/videos/a-plant-with-swaying-leaves_duration_25_second.mp4\n",
      "/content/videos/the-view-of-the-sunset-in-the-horizon_duration_16_second.mp4\n",
      "/content/videos/star-gazing-on-a-clear-night-sky_duration_12_second.mp4\n",
      "/content/videos/people-having-a-meeting_duration_18_second.mp4\n",
      "/content/videos/purple-and-blue-kaleidoscope_duration_10_second.mp4\n",
      "/content/videos/a-gay-couple-expressing-love-for-each-other_duration_31_second.mp4\n",
      "/content/videos/the-silhouette-of-the-sea-during-the-golden-hour_duration_31_second.mp4\n",
      "/content/videos/aerial-footage-of-a-colorful-lights-in-the-street-at-night_duration_10_second.mp4\n",
      "/content/videos/chickens-looking-for-food_duration_14_second.mp4\n",
      "/content/videos/woman-doing-a-yoga-on-the-outdoors_duration_8_second.mp4\n",
      "/content/videos/a-woman-dancing-at-home_duration_20_second.mp4\n",
      "/content/videos/smoke-with-colors_duration_39_second.mp4\n",
      "/content/videos/group-of-jellyfish-swimming-underwater_duration_7_second.mp4\n",
      "/content/videos/digital-projection-of-the-earth-s-mass-in-orange-lights_duration_30_second.mp4\n",
      "/content/videos/the-rocky-coastline-of-in-northern-california_duration_24_second.mp4\n",
      "/content/videos/a-woman-taking-photo-in-black-and-white-film_duration_7_second.mp4\n",
      "/content/videos/aerial-view-of-a-foggy-landscape_duration_37_second.mp4\n",
      "/content/videos/an-eyebrow-with-flowers_duration_16_second.mp4\n",
      "/content/videos/water-droplets-on-a-glass_duration_15_second.mp4\n",
      "/content/videos/an-astronaut-couple-walking-on-mars_duration_10_second.mp4\n",
      "/content/videos/sea-water-blue-ocean_duration_19_second.mp4\n",
      "/content/videos/waterfall-in-the-forest_duration_18_second.mp4\n",
      "/content/videos/man-walking-barefoot-on-desert-sand_duration_29_second.mp4\n",
      "/content/videos/a-person-touching-the-window-in-the-airplane_duration_11_second.mp4\n",
      "/content/videos/star-gazing-on-a-clear-starry-night_duration_20_second.mp4\n",
      "/content/videos/a-woman-dancing-at-home_duration_11_second.mp4\n",
      "/content/videos/woman-doing-yoga_duration_18_second.mp4\n",
      "/content/videos/man-love-art-faceless_duration_4_second.mp4\n",
      "/content/videos/woman-taking-notes-while-talking-to-someone-over-the-phone_duration_23_second.mp4\n",
      "/content/videos/stencil-board-show-a-no-war-statement-from-its-projected-shadow-off-the-wall_duration_4_second.mp4\n",
      "/content/videos/a-gift-box-item-price-on-sale_duration_12_second.mp4\n",
      "/content/videos/women-couple-listening-to-music-in-a-park_duration_10_second.mp4\n",
      "/content/videos/a-woman-dancing-happily-in-the-middle-of-the-field-of-flowers_duration_17_second.mp4\n",
      "/content/videos/sea-waves-under-sunset_duration_9_second.mp4\n",
      "/content/videos/thunder-and-flash-of-lightning_duration_5_second.mp4\n",
      "/content/videos/a-person-holding-a-lightstick_duration_38_second.mp4\n",
      "/content/videos/aeerial-view-of-city-with-tall-buildings_duration_23_second.mp4\n",
      "/content/videos/a-beautiful-beach-with-turquoise-water_duration_21_second.mp4\n",
      "/content/videos/mix-candies-on-plate_duration_6_second.mp4\n",
      "/content/videos/waves-crashing_duration_29_second.mp4\n",
      "/content/videos/a-magnificent-view-of-the-waterfalls_duration_14_second.mp4\n",
      "/content/videos/girl-taking-off-her-bra-from-the-back_duration_20_second.mp4\n",
      "/content/videos/a-woman-doing-stretch-exercises-at-home_duration_24_second.mp4\n",
      "/content/videos/thunderstorms-and-lightnings_duration_17_second.mp4\n",
      "/content/videos/a-sad-woman-in-bed_duration_16_second.mp4\n",
      "/content/videos/couple-kissing-each-other-and-having-a-dinner-date-on-rocky-shore_duration_34_second.mp4\n",
      "/content/videos/a-woman-on-a-telephone-call_duration_4_second.mp4\n",
      "/content/videos/blurred-footage-of-trees-at-sunset_duration_7_second.mp4\n",
      "/content/videos/colored-paint-in-water-slow-motion_duration_26_second.mp4\n",
      "/content/videos/silhouette-of-a-gay-couple-radiating-love-for-each-other_duration_22_second.mp4\n",
      "/content/videos/wood-art-wave-curve_duration_13_second.mp4\n",
      "/content/videos/close-up-view-of-hand-holding-autumn-leaf_duration_21_second.mp4\n",
      "/content/videos/a-mask-hanged-on-a-stand_duration_8_second.mp4\n",
      "/content/videos/blurred-video-of-cars-stuck-in-traffic_duration_16_second.mp4\n",
      "/content/videos/two-vehicles-traveling-in-the-desert_duration_14_second.mp4\n",
      "/content/videos/laptop-computer-on-white-surface-near-white-lampshade_duration_13_second.mp4\n",
      "/content/videos/couple-dancing-on-bed_duration_10_second.mp4\n",
      "/content/videos/flowers-village-countryside-cereals_duration_17_second.mp4\n",
      "/content/videos/executive-man-pensive-while-observing_duration_5_second.mp4\n",
      "/content/videos/slow-motion-footage-of-children-and-adults-playing-in-the-water-fountains_duration_25_second.mp4\n",
      "/content/videos/beautiful-sight-of-nature_duration_34_second.mp4\n",
      "/content/videos/group-of-riders-riding-on-wet-roads-on-a-rainy-day_duration_10_second.mp4\n",
      "/content/videos/ocean-sunset-view_duration_30_second.mp4\n",
      "/content/videos/the-niagara-falls-in-a-close-up-video_duration_20_second.mp4\n",
      "/content/videos/old-footage-of-a-open-field_duration_9_second.mp4\n",
      "/content/videos/golden-gate-bridge-at-san-francisco_duration_3_second.mp4\n",
      "/content/videos/kids-eating-candies-together_duration_12_second.mp4\n",
      "/content/videos/apple-computer_duration_9_second.mp4\n",
      "/content/videos/time-lapse-video-sunset_duration_14_second.mp4\n",
      "/content/videos/a-little-girl-singing-a-song-for-her-father_duration_13_second.mp4\n",
      "/content/videos/man-working-with-his-laptop_duration_19_second.mp4\n",
      "/content/videos/black-and-white-video-of-people_duration_14_second.mp4\n",
      "/content/videos/two-women-having-a-bedroom-party_duration_8_second.mp4\n",
      "/content/videos/dog-jumping-towards-her-master_duration_14_second.mp4\n",
      "/content/videos/an-astronaut-in-the-space_duration_26_second.mp4\n",
      "/content/videos/a-couple-skating-in-frozen-lake-in-the-middle-of-the-forest_duration_16_second.mp4\n",
      "/content/videos/time-lapse-video-of-the-sky-with-clouds_duration_13_second.mp4\n",
      "/content/videos/drone-footage-of-landscape-of-the-mountains_duration_25_second.mp4\n",
      "/content/videos/the-sun-rising-on-the-horizon_duration_18_second.mp4\n",
      "/content/videos/woman-walking_duration_15_second.mp4\n",
      "/content/videos/close-up-view-of-group-of-jellyfish_duration_15_second.mp4\n",
      "/content/videos/hazelnuts_duration_9_second.mp4\n",
      "/content/videos/a-ripe-yellow-banana-fruits-in-motion_duration_15_second.mp4\n",
      "/content/videos/drone-footage-of-the-thick-fog-on-a-mountain-forest_duration_16_second.mp4\n",
      "/content/videos/view-of-sunset_duration_10_second.mp4\n",
      "/content/videos/a-highway-built-across-farm-lands_duration_11_second.mp4\n",
      "/content/videos/a-family-reading-a-book_duration_6_second.mp4\n",
      "/content/videos/vapor-in-different-colors_duration_37_second.mp4\n",
      "/content/videos/sailboat-sailing-during-sunset_duration_30_second.mp4\n",
      "/content/videos/a-vase-of-grass-fluffy-flowers_duration_13_second.mp4\n",
      "/content/videos/time-lapse-of-sunset_duration_6_second.mp4\n",
      "/content/videos/wind-turbine-on-a-field-at-sunrise_duration_9_second.mp4\n",
      "/content/videos/glass-ball-by-the-shore_duration_14_second.mp4\n",
      "/content/videos/footage-of-sunset-view_duration_25_second.mp4\n",
      "/content/videos/water-droplets-sliding-down-a-glass-window_duration_20_second.mp4\n",
      "/content/videos/woman-dancing_duration_27_second.mp4\n",
      "/content/videos/time-lapse-video-of-aurora-borealis_duration_4_second.mp4\n",
      "/content/videos/a-woman-sharing-a-live-dance-video-in-the-internet_duration_14_second.mp4\n",
      "/content/videos/wet-colorful-flowers_duration_20_second.mp4\n",
      "/content/videos/walking-on-a-carpet-with-sandals-on_duration_17_second.mp4\n",
      "/content/videos/a-person-typing-on-a-laptop-keyboard_duration_18_second.mp4\n",
      "/content/videos/woman-apple-iphone-smartphone_duration_16_second.mp4\n",
      "/content/videos/bird-s-eye-view-of-ocean-waves_duration_15_second.mp4\n",
      "/content/videos/mountains-summer-travel-camping_duration_8_second.mp4\n",
      "/content/videos/plexus-of-abstract-geometrical-lines-and-figures_duration_17_second.mp4\n",
      "/content/videos/a-view-of-the-mountain-ranges-with-snow-caps-at-the-peak_duration_39_second.mp4\n",
      "/content/videos/beautiful-timelapse-of-the-night-sky-with-reflections-in-a-lake_duration_14_second.mp4\n",
      "/content/videos/beauty-of-waterfalls_duration_36_second.mp4\n",
      "/content/videos/backside-of-a-woman-running-towards-the-beach_duration_37_second.mp4\n",
      "/content/videos/woman-posing-while-lying-on-the-floor_duration_8_second.mp4\n",
      "/content/videos/traffic-on-an-intersection-road-in-a-city_duration_37_second.mp4\n",
      "/content/videos/woman-walking-by-the-seaport-holding-a-yoga-mat-and-drinking-water_duration_28_second.mp4\n",
      "/content/videos/a-cute-dog-behind-a-chair_duration_10_second.mp4\n",
      "/content/videos/woman-face-safety-wear_duration_10_second.mp4\n",
      "/content/videos/a-woman-smiling-while-using-laptop_duration_17_second.mp4\n",
      "/content/videos/backside-of-a-woman-running-in-a-field-of-flowers_duration_32_second.mp4\n",
      "/content/videos/laptop-computer-on-white-surface-against-white-background_duration_13_second.mp4\n",
      "/content/videos/dropping-a-blue-liquid-on-a-clear-water-to-create-an-abstract-images_duration_21_second.mp4\n",
      "/content/videos/a-man-running-on-the-beach-shore_duration_13_second.mp4\n",
      "/content/videos/drone-flying-over-the-mountain-peak_duration_14_second.mp4\n",
      "/content/videos/cold-snow-nature-man_duration_21_second.mp4\n",
      "/content/videos/people-raising-glass-on-a-falling-confetti_duration_10_second.mp4\n",
      "/content/videos/time-lapse-video-of-milky-way-galaxy_duration_24_second.mp4\n",
      "/content/videos/slow-motion-footage-of-a-woman-s-legs-with-her-feet-wading-on-the-water-surface-of-a-swimming-pool_duration_18_second.mp4\n",
      "/content/videos/a-woman-walking-in-the-field-of-flowers_duration_20_second.mp4\n",
      "/content/videos/man-person-couple-love_duration_18_second.mp4\n",
      "/content/videos/a-woman-riding-a-longboard-while-walking-her-dog_duration_17_second.mp4\n",
      "/content/videos/kid-running-in-the-field-holding-a-guitar_duration_27_second.mp4\n",
      "/content/videos/the-changing-colors-of-the-forest-during-autumn-season_duration_5_second.mp4\n",
      "/content/videos/a-view-of-hot-air-balloons-in-the-air-and-woman-riding-her-vehicle_duration_19_second.mp4\n",
      "/content/videos/man-people-office-relationship_duration_25_second.mp4\n",
      "/content/videos/a-cute-puppy-looking-up_duration_10_second.mp4\n",
      "/content/videos/people-in-a-conference-room-for-a-business-meeting_duration_21_second.mp4\n",
      "/content/videos/cloudy-day-in-the-river_duration_10_second.mp4\n",
      "/content/videos/a-couple-riding-a-motorcycle-in-a-road-trip-to-the-countryside_duration_11_second.mp4\n",
      "/content/videos/time-lapse-video-of-clouds-and-sun_duration_28_second.mp4\n",
      "/content/videos/figure-skaters-in-costumes_duration_17_second.mp4\n",
      "/content/videos/time-lapse-of-night-sky_duration_4_second.mp4\n",
      "/content/videos/laptop-and-smartphone-on-the-table_duration_23_second.mp4\n",
      "/content/videos/time-lapse-video-of-starry-sky_duration_5_second.mp4\n",
      "/content/videos/a-golf-course-built-on-a-large-open-grassland_duration_35_second.mp4\n",
      "/content/videos/a-couple-trekking-a-mountain-trail-to-reach-the-top_duration_17_second.mp4\n",
      "/content/videos/a-worded-message-stenciled-on-a-board_duration_7_second.mp4\n",
      "/content/videos/woman-modeling-whie-posing_duration_19_second.mp4\n",
      "/content/videos/marketing-businessman-person-laptop_duration_9_second.mp4\n",
      "/content/videos/woman-holding-a-blue-painted-pumpkin_duration_19_second.mp4\n",
      "/content/videos/time-lapse-of-busy-street_duration_8_second.mp4\n",
      "/content/videos/man-hands-coffee-hand_duration_21_second.mp4\n",
      "/content/videos/man-and-woman-walking-outdoors_duration_4_second.mp4\n",
      "/content/videos/woman-laptop-girl-bed_duration_34_second.mp4\n",
      "/content/videos/woman-sleeping-in-a-bed_duration_14_second.mp4\n",
      "/content/videos/a-sailing-fishing-boat_duration_15_second.mp4\n",
      "/content/videos/video-of-car-travelling_duration_9_second.mp4\n",
      "/content/videos/white-in-spreading-in-different-direction_duration_20_second.mp4\n",
      "/content/videos/view-of-sunset-from-the-beach_duration_14_second.mp4\n",
      "/content/videos/boomerang-footage-a-woman-wearing-a-silver-dress-is-dancing-in-high-heels_duration_10_second.mp4\n",
      "/content/videos/woman-feet-legs-girl_duration_20_second.mp4\n",
      "/content/videos/silhouette-of-a-woman-looking-at-the-sunset_duration_34_second.mp4\n",
      "/content/videos/burning-candles-on-a-blury-background_duration_30_second.mp4\n",
      "/content/videos/changes-in-form-and-appearance-of-a-submerged-material_duration_30_second.mp4\n",
      "/content/videos/woman-coffee-girl-bed_duration_24_second.mp4\n",
      "/content/videos/three-people-meditating-outdoors_duration_8_second.mp4\n",
      "/content/videos/a-paper-boat-floating-over-a-roadside-water-canal_duration_13_second.mp4\n",
      "/content/videos/a-father-worried-about-a-daughter-game-addiction_duration_18_second.mp4\n",
      "/content/videos/people-surfing-during-sunset_duration_8_second.mp4\n",
      "/content/videos/water-droplets-on-a-leaf-of-plant_duration_30_second.mp4\n",
      "/content/videos/a-cat-walking-over-the-piano-keyboard_duration_19_second.mp4\n",
      "/content/videos/a-woman-running-in-the-field_duration_15_second.mp4\n",
      "/content/videos/a-winter-landscape-and-couple-crossing-the-bridge_duration_28_second.mp4\n",
      "/content/videos/time-lapse-video-of-milky-way_duration_6_second.mp4\n",
      "/content/videos/aerial-view-of-a-beach_duration_20_second.mp4\n",
      "/content/videos/an-aerial-view-of-coniferous-trees_duration_24_second.mp4\n",
      "/content/videos/hands-hand-faceless-holding_duration_10_second.mp4\n",
      "/content/videos/woman-going-near-the-waves_duration_19_second.mp4\n",
      "/content/videos/video-of-person-walking-on-seashore-barefoot_duration_23_second.mp4\n",
      "/content/videos/woman-recording-herself-cooking_duration_5_second.mp4\n",
      "/content/videos/the-busy-and-historic-times-square-in-new-york-city_duration_11_second.mp4\n",
      "/content/videos/two-people-in-front-of-a-campfire-pouring-water-from-a-kettle_duration_20_second.mp4\n",
      "/content/videos/a-time-lapse-of-a-night-sky_duration_17_second.mp4\n",
      "/content/videos/elderly-woman-sitting-on-chair_duration_25_second.mp4\n",
      "/content/videos/dash-camera-footage-of-traveling-a-road-built-on-a-desert_duration_20_second.mp4\n",
      "/content/videos/man-on-a-pier-at-a-beautiful-river_duration_21_second.mp4\n",
      "/content/videos/feet-walking-and-standing-on-tiptoes_duration_7_second.mp4\n",
      "/content/videos/people-walking-on-the-beach-while-holding-hands_duration_5_second.mp4\n",
      "/content/videos/clouds-of-paint-underwater_duration_9_second.mp4\n",
      "/content/videos/high-angle-shot-of-tablet-and-smart-watch_duration_29_second.mp4\n",
      "/content/videos/autumn-season_duration_9_second.mp4\n",
      "/content/videos/man-hiking-in-the-woods_duration_7_second.mp4\n",
      "/content/videos/a-woman-standing-by-the-wall-while-looking-serious_duration_10_second.mp4\n",
      "/content/videos/food-hand-texture-pasta_duration_23_second.mp4\n",
      "/content/videos/woman-feet-legs-girl_duration_17_second.mp4\n",
      "/content/videos/waves-rushing-to-the-shore_duration_23_second.mp4\n",
      "/content/videos/person-lighting-up-candle-near-window_duration_35_second.mp4\n",
      "/content/videos/drone-footage-of-sea_duration_26_second.mp4\n",
      "/content/videos/shades-of-lights-in-the-outer-space_duration_10_second.mp4\n",
      "/content/videos/women-talking-outside_duration_12_second.mp4\n",
      "/content/videos/tall-waterfall_duration_21_second.mp4\n",
      "/content/videos/marketing-businessman-person-hands_duration_11_second.mp4\n",
      "/content/videos/soft-waves-lapping-on-sandy-shores_duration_10_second.mp4\n",
      "/content/videos/aerial-shot-of-a-lighthouse_duration_21_second.mp4\n",
      "/content/videos/person-relaxes-at-a-lake_duration_10_second.mp4\n",
      "/content/videos/man-holding-a-surfboard_duration_9_second.mp4\n",
      "/content/videos/a-beautiful-view-of-sunset_duration_9_second.mp4\n",
      "/content/videos/footage-of-the-couple-making-love_duration_16_second.mp4\n",
      "/content/videos/empire-state-building-in-the-sunset_duration_12_second.mp4\n",
      "/content/videos/a-romantic-couple-by-the-seashore-with-view-of-sunset_duration_11_second.mp4\n",
      "/content/videos/patient-having-consultation-to-the-doctor_duration_13_second.mp4\n",
      "/content/videos/woman-girl-bed-bedroom_duration_22_second.mp4\n",
      "/content/videos/drawing-a-large-heart-figure-on-the-sand-of-a-seashore_duration_22_second.mp4\n",
      "/content/videos/time-lapse-video-of-night-sky_duration_7_second.mp4\n",
      "/content/videos/woman-sitting-and-holding-a-clipboard-while-writing_duration_6_second.mp4\n",
      "/content/videos/wheat-plants-in-field_duration_16_second.mp4\n",
      "/content/videos/computer-programmers-working_duration_7_second.mp4\n",
      "/content/videos/woman-doing-a-jump-rope-exercise_duration_25_second.mp4\n",
      "/content/videos/a-drone-shot-of-a-church-in-belalp_duration_12_second.mp4\n",
      "/content/videos/sweet-foods-causing-diabetes_duration_9_second.mp4\n",
      "/content/videos/amazing-view-of-sunset_duration_28_second.mp4\n",
      "/content/videos/digital-calculation-of-geometrical-space_duration_20_second.mp4\n",
      "/content/videos/scenic-footage-of-countryside-during-dawn_duration_22_second.mp4\n",
      "/content/videos/view-of-the-sea-and-waves-crashing_duration_30_second.mp4\n",
      "/content/videos/pebbles-on-the-shore_duration_40_second.mp4\n",
      "/content/videos/a-woman-dancing-from-the-palace-tower_duration_17_second.mp4\n",
      "/content/videos/yellow-paint-forms-in-different-shape-when-exposed_duration_40_second.mp4\n",
      "/content/videos/woman-sitting-by-the-table-while-reading-a-bible_duration_13_second.mp4\n",
      "/content/videos/white-fabric-blown-by-wind_duration_12_second.mp4\n",
      "/content/videos/905045_duration_20_second.mp4\n",
      "/content/videos/digital-presentation-of-information-on-a-screen-monitor_duration_20_second.mp4\n",
      "/content/videos/people-watching-hot-air-balloons-up-in-the-sky_duration_9_second.mp4\n",
      "/content/videos/sea-waves-during-overcast_duration_23_second.mp4\n",
      "/content/videos/woman-walking-barefooted-on-the-shore_duration_29_second.mp4\n",
      "/content/videos/hands-woman-relaxation-luxury_duration_37_second.mp4\n",
      "/content/videos/digital-projection-of-the-earth-mass-in-blue-lights_duration_30_second.mp4\n",
      "/content/videos/the-lucky-cat_duration_30_second.mp4\n",
      "/content/videos/old-footage-of-an-air-life-savers-floating-in-a-swimming-pool_duration_5_second.mp4\n",
      "/content/videos/person-holding-a-anthurium-flower_duration_10_second.mp4\n",
      "/content/videos/reflections-of-christmas-lights-decoration-on-the-wet-pavement-of-a-street-in-london_duration_11_second.mp4\n",
      "/content/videos/waves-of-the-sea-kissing-a-shoreline-of-trees_duration_12_second.mp4\n"
     ]
    }
   ],
   "source": [
    "import glob\n",
    "\n",
    "# Specify the path of the folder\n",
    "folder_path = \"/content/videos\"\n",
    "\n",
    "# Use glob.glob() to retrieve the file paths inside the folder\n",
    "file_paths = glob.glob(folder_path + \"/*.mp4\")\n",
    "\n",
    "\n",
    "# first_file_path = file_paths[:5]\n",
    "# print(first_file_path)\n",
    "print('\\n'.join(file_paths))"
   ]
  },
  {
   "cell_type": "code",
   "execution_count": null,
   "metadata": {
    "id": "bQpv_FtNvNK4"
   },
   "outputs": [],
   "source": [
    "from chromadb.config import Settings\n",
    "import chromadb\n",
    "client = chromadb.Client(Settings(\n",
    "    chroma_db_impl=\"duckdb+parquet\",\n",
    "    persist_directory=\"dahyunvideo\"\n",
    "))\n",
    "\n"
   ]
  },
  {
   "cell_type": "code",
   "execution_count": null,
   "metadata": {
    "id": "BPxa5oiSIJv8"
   },
   "outputs": [],
   "source": [
    "collection = client.create_collection(\"nocopyvideo\")\n",
    "collection = client.get_collection('nocopyvideo')"
   ]
  },
  {
   "cell_type": "code",
   "execution_count": null,
   "metadata": {
    "colab": {
     "base_uri": "https://localhost:8080/"
    },
    "id": "A3BbSm-RIKNb",
    "outputId": "d153e44f-5c8f-4faf-e822-b2f59749369a"
   },
   "outputs": [
    {
     "name": "stderr",
     "output_type": "stream",
     "text": [
      "/root/.cache/chroma/onnx_models/all-MiniLM-L6-v2/onnx.tar.gz: 100%|██████████| 79.3M/79.3M [00:01<00:00, 73.4MiB/s]\n"
     ]
    }
   ],
   "source": [
    "\n",
    "collection.add(\n",
    "    documents=file_paths,\n",
    "    ids=[f\"id{i+1}\" for i in range(len(file_paths))]\n",
    ")"
   ]
  },
  {
   "cell_type": "code",
   "execution_count": null,
   "metadata": {
    "colab": {
     "base_uri": "https://localhost:8080/"
    },
    "id": "r0X1lylveGhS",
    "outputId": "99ce9b51-66d4-4499-ef7a-037a36d73cdb"
   },
   "outputs": [
    {
     "data": {
      "text/plain": [
       "{'ids': [['id95', 'id362']],\n",
       " 'embeddings': None,\n",
       " 'documents': [['/content/videos/beautiful-flowers-blooming_duration_20_second.mp4',\n",
       "   '/content/videos/wet-colorful-flowers_duration_20_second.mp4']],\n",
       " 'metadatas': [[None, None]],\n",
       " 'distances': [[0.9298503994941711, 0.9414878487586975]]}"
      ]
     },
     "execution_count": 9,
     "metadata": {},
     "output_type": "execute_result"
    }
   ],
   "source": [
    "results = collection.query(\n",
    "    query_texts=[\"flower\"],\n",
    "    n_results=2\n",
    ")\n",
    "results"
   ]
  },
  {
   "cell_type": "code",
   "execution_count": null,
   "metadata": {
    "colab": {
     "base_uri": "https://localhost:8080/"
    },
    "id": "pb-WkX9yCEP9",
    "outputId": "dfb66efc-cf13-4437-a466-daa02b2d4faa"
   },
   "outputs": [
    {
     "name": "stdout",
     "output_type": "stream",
     "text": [
      "Total size of /content/dahyunvideo: 2.00 MB\n"
     ]
    }
   ],
   "source": [
    "import os\n",
    "\n",
    "folder_path = '/content/dahyunvideo'  # Folder path to calculate the size\n",
    "\n",
    "total_size = 0\n",
    "\n",
    "for root, _, files in os.walk(folder_path):\n",
    "    for file in files:\n",
    "        file_path = os.path.join(root, file)\n",
    "        total_size += os.path.getsize(file_path)\n",
    "\n",
    "total_size_mb = total_size / (1024 * 1024)  # Convert bytes to megabytes\n",
    "\n",
    "print(f\"Total size of {folder_path}: {total_size_mb:.2f} MB\")\n"
   ]
  },
  {
   "cell_type": "code",
   "execution_count": null,
   "metadata": {
    "colab": {
     "base_uri": "https://localhost:8080/"
    },
    "id": "TmJWW9uhEHep",
    "outputId": "c9ddca78-904a-48a6-ea64-c74ee540fb77"
   },
   "outputs": [
    {
     "data": {
      "text/plain": [
       "True"
      ]
     },
     "execution_count": 10,
     "metadata": {},
     "output_type": "execute_result"
    }
   ],
   "source": [
    "client.persist()"
   ]
  },
  {
   "cell_type": "code",
   "execution_count": null,
   "metadata": {
    "colab": {
     "base_uri": "https://localhost:8080/"
    },
    "id": "QrBE80niOO0K",
    "outputId": "ed5739b5-30e9-4bad-f77f-f53f7ea784ab"
   },
   "outputs": [
    {
     "name": "stdout",
     "output_type": "stream",
     "text": [
      " It's been a long time since I've done a live broadcast, so I'm a little nervous, but I'll do my best.\n",
      "0:00:05\n"
     ]
    }
   ],
   "source": [
    "import pysrt\n",
    "import datetime\n",
    "\n",
    "# Load the subtitle file\n",
    "subtitle_path = \"/content/output.srt\"\n",
    "subtitle = pysrt.open(subtitle_path)\n",
    "allsubtitle = []\n",
    "\n",
    "# Iterate through each subtitle item\n",
    "for subtitle_item in subtitle:\n",
    "    # Store the subtitle start and end times\n",
    "    start_time = subtitle_item.start.to_time()\n",
    "    end_time = subtitle_item.end.to_time()\n",
    "\n",
    "    # Convert start and end times to datetime.datetime objects\n",
    "    start_datetime = datetime.datetime.combine(datetime.datetime.min.date(), start_time)\n",
    "    end_datetime = datetime.datetime.combine(datetime.datetime.min.date(), end_time)\n",
    "\n",
    "    # Calculate the duration by subtracting the end datetime from the start datetime\n",
    "    duration = end_datetime - start_datetime\n",
    "\n",
    "    # Format the time values as (hh:mm:ss)\n",
    "    start_time_str = start_time.strftime(\"%H:%M:%S\")\n",
    "    end_time_str = end_time.strftime(\"%H:%M:%S\")\n",
    "\n",
    "    # Store the subtitle text and duration as a tuple\n",
    "    subtitle_tuple = (start_time_str, end_time_str, subtitle_item.text, str(duration))\n",
    "\n",
    "    # Append the subtitle tuple to the list\n",
    "    allsubtitle.append(subtitle_tuple)\n",
    "text_duration = allsubtitle[1][3]\n",
    "text = allsubtitle[1][2]\n",
    "\n",
    "# Print the first subtitle and its duration\n",
    "print(text)\n",
    "print(text_duration)\n",
    "\n"
   ]
  },
  {
   "cell_type": "code",
   "execution_count": null,
   "metadata": {
    "colab": {
     "base_uri": "https://localhost:8080/"
    },
    "id": "KOtu2bxzsm6n",
    "outputId": "e6212975-b5e7-44c7-a196-08a210d9b9db"
   },
   "outputs": [
    {
     "name": "stdout",
     "output_type": "stream",
     "text": [
      "  adding: dahyunvideo/ (stored 0%)\n",
      "  adding: dahyunvideo/chroma-embeddings.parquet (deflated 19%)\n",
      "  adding: dahyunvideo/chroma-collections.parquet (deflated 51%)\n",
      "  adding: dahyunvideo/index/ (stored 0%)\n",
      "  adding: dahyunvideo/index/index_metadata_9d28678c-ed32-4baa-9089-a86286f23e93.pkl (deflated 14%)\n",
      "  adding: dahyunvideo/index/index_9d28678c-ed32-4baa-9089-a86286f23e93.bin (deflated 13%)\n",
      "  adding: dahyunvideo/index/uuid_to_id_9d28678c-ed32-4baa-9089-a86286f23e93.pkl (deflated 39%)\n",
      "  adding: dahyunvideo/index/id_to_uuid_9d28678c-ed32-4baa-9089-a86286f23e93.pkl (deflated 35%)\n"
     ]
    }
   ],
   "source": [
    "!zip -r dahyunv.zip ./dahyunvideo"
   ]
  },
  {
   "cell_type": "code",
   "execution_count": 11,
   "metadata": {
    "colab": {
     "base_uri": "https://localhost:8080/"
    },
    "id": "2o4G_rbRtZ7E",
    "outputId": "22684124-cfeb-4b94-94f4-39952b7a83aa"
   },
   "outputs": [
    {
     "name": "stdout",
     "output_type": "stream",
     "text": [
      "Archive:  dahyunv.zip\n",
      "   creating: dahyunvideo/\n",
      "  inflating: dahyunvideo/chroma-embeddings.parquet  \n",
      "  inflating: dahyunvideo/chroma-collections.parquet  \n",
      "   creating: dahyunvideo/index/\n",
      "  inflating: dahyunvideo/index/index_metadata_9d28678c-ed32-4baa-9089-a86286f23e93.pkl  \n",
      "  inflating: dahyunvideo/index/index_9d28678c-ed32-4baa-9089-a86286f23e93.bin  \n",
      "  inflating: dahyunvideo/index/uuid_to_id_9d28678c-ed32-4baa-9089-a86286f23e93.pkl  \n",
      "  inflating: dahyunvideo/index/id_to_uuid_9d28678c-ed32-4baa-9089-a86286f23e93.pkl  \n"
     ]
    }
   ],
   "source": [
    "!unzip dahyunv.zip"
   ]
  },
  {
   "cell_type": "code",
   "execution_count": 18,
   "metadata": {
    "colab": {
     "base_uri": "https://localhost:8080/",
     "height": 1000
    },
    "id": "SO14dMoYZIZR",
    "outputId": "d8c34f54-e5a7-4311-a7b8-9c7cb408b761"
   },
   "outputs": [
    {
     "name": "stdout",
     "output_type": "stream",
     "text": [
      "Collecting chromadb==0.3.26\n",
      "  Downloading chromadb-0.3.26-py3-none-any.whl (123 kB)\n",
      "\u001b[?25l     \u001b[90m━━━━━━━━━━━━━━━━━━━━━━━━━━━━━━━━━━━━━━━━\u001b[0m \u001b[32m0.0/123.6 kB\u001b[0m \u001b[31m?\u001b[0m eta \u001b[36m-:--:--\u001b[0m\r",
      "\u001b[2K     \u001b[90m━━━━━━━━━━━━━━━━━━━━━━━━━━━━━━━━━━━━━━\u001b[0m \u001b[32m123.6/123.6 kB\u001b[0m \u001b[31m11.6 MB/s\u001b[0m eta \u001b[36m0:00:00\u001b[0m\n",
      "\u001b[?25hRequirement already satisfied: pandas>=1.3 in /usr/local/lib/python3.10/dist-packages (from chromadb==0.3.26) (1.5.3)\n",
      "Requirement already satisfied: requests>=2.28 in /usr/local/lib/python3.10/dist-packages (from chromadb==0.3.26) (2.31.0)\n",
      "Requirement already satisfied: pydantic>=1.9 in /usr/local/lib/python3.10/dist-packages (from chromadb==0.3.26) (1.10.11)\n",
      "Collecting hnswlib>=0.7 (from chromadb==0.3.26)\n",
      "  Downloading hnswlib-0.7.0.tar.gz (33 kB)\n",
      "  Installing build dependencies ... \u001b[?25l\u001b[?25hdone\n",
      "  Getting requirements to build wheel ... \u001b[?25l\u001b[?25hdone\n",
      "  Preparing metadata (pyproject.toml) ... \u001b[?25l\u001b[?25hdone\n",
      "Requirement already satisfied: clickhouse-connect>=0.5.7 in /usr/local/lib/python3.10/dist-packages (from chromadb==0.3.26) (0.6.6)\n",
      "Requirement already satisfied: duckdb>=0.7.1 in /usr/local/lib/python3.10/dist-packages (from chromadb==0.3.26) (0.7.1)\n",
      "Requirement already satisfied: fastapi>=0.85.1 in /usr/local/lib/python3.10/dist-packages (from chromadb==0.3.26) (0.99.1)\n",
      "Requirement already satisfied: uvicorn[standard]>=0.18.3 in /usr/local/lib/python3.10/dist-packages (from chromadb==0.3.26) (0.23.0)\n",
      "Requirement already satisfied: numpy>=1.21.6 in /usr/local/lib/python3.10/dist-packages (from chromadb==0.3.26) (1.22.4)\n",
      "Requirement already satisfied: posthog>=2.4.0 in /usr/local/lib/python3.10/dist-packages (from chromadb==0.3.26) (3.0.1)\n",
      "Requirement already satisfied: typing-extensions>=4.5.0 in /usr/local/lib/python3.10/dist-packages (from chromadb==0.3.26) (4.7.1)\n",
      "Requirement already satisfied: pulsar-client>=3.1.0 in /usr/local/lib/python3.10/dist-packages (from chromadb==0.3.26) (3.2.0)\n",
      "Requirement already satisfied: onnxruntime>=1.14.1 in /usr/local/lib/python3.10/dist-packages (from chromadb==0.3.26) (1.15.1)\n",
      "Requirement already satisfied: tokenizers>=0.13.2 in /usr/local/lib/python3.10/dist-packages (from chromadb==0.3.26) (0.13.3)\n",
      "Requirement already satisfied: tqdm>=4.65.0 in /usr/local/lib/python3.10/dist-packages (from chromadb==0.3.26) (4.65.0)\n",
      "Requirement already satisfied: overrides>=7.3.1 in /usr/local/lib/python3.10/dist-packages (from chromadb==0.3.26) (7.3.1)\n",
      "Requirement already satisfied: certifi in /usr/local/lib/python3.10/dist-packages (from clickhouse-connect>=0.5.7->chromadb==0.3.26) (2023.5.7)\n",
      "Requirement already satisfied: importlib-metadata in /usr/local/lib/python3.10/dist-packages (from clickhouse-connect>=0.5.7->chromadb==0.3.26) (6.8.0)\n",
      "Requirement already satisfied: urllib3>=1.26 in /usr/local/lib/python3.10/dist-packages (from clickhouse-connect>=0.5.7->chromadb==0.3.26) (1.26.16)\n",
      "Requirement already satisfied: pytz in /usr/local/lib/python3.10/dist-packages (from clickhouse-connect>=0.5.7->chromadb==0.3.26) (2022.7.1)\n",
      "Requirement already satisfied: zstandard in /usr/local/lib/python3.10/dist-packages (from clickhouse-connect>=0.5.7->chromadb==0.3.26) (0.21.0)\n",
      "Requirement already satisfied: lz4 in /usr/local/lib/python3.10/dist-packages (from clickhouse-connect>=0.5.7->chromadb==0.3.26) (4.3.2)\n",
      "Requirement already satisfied: starlette<0.28.0,>=0.27.0 in /usr/local/lib/python3.10/dist-packages (from fastapi>=0.85.1->chromadb==0.3.26) (0.27.0)\n",
      "Requirement already satisfied: coloredlogs in /usr/local/lib/python3.10/dist-packages (from onnxruntime>=1.14.1->chromadb==0.3.26) (15.0.1)\n",
      "Requirement already satisfied: flatbuffers in /usr/local/lib/python3.10/dist-packages (from onnxruntime>=1.14.1->chromadb==0.3.26) (23.5.26)\n",
      "Requirement already satisfied: packaging in /usr/local/lib/python3.10/dist-packages (from onnxruntime>=1.14.1->chromadb==0.3.26) (23.1)\n",
      "Requirement already satisfied: protobuf in /usr/local/lib/python3.10/dist-packages (from onnxruntime>=1.14.1->chromadb==0.3.26) (3.20.3)\n",
      "Requirement already satisfied: sympy in /usr/local/lib/python3.10/dist-packages (from onnxruntime>=1.14.1->chromadb==0.3.26) (1.11.1)\n",
      "Requirement already satisfied: python-dateutil>=2.8.1 in /usr/local/lib/python3.10/dist-packages (from pandas>=1.3->chromadb==0.3.26) (2.8.2)\n",
      "Requirement already satisfied: six>=1.5 in /usr/local/lib/python3.10/dist-packages (from posthog>=2.4.0->chromadb==0.3.26) (1.16.0)\n",
      "Requirement already satisfied: monotonic>=1.5 in /usr/local/lib/python3.10/dist-packages (from posthog>=2.4.0->chromadb==0.3.26) (1.6)\n",
      "Requirement already satisfied: backoff>=1.10.0 in /usr/local/lib/python3.10/dist-packages (from posthog>=2.4.0->chromadb==0.3.26) (2.2.1)\n",
      "Requirement already satisfied: charset-normalizer<4,>=2 in /usr/local/lib/python3.10/dist-packages (from requests>=2.28->chromadb==0.3.26) (2.0.12)\n",
      "Requirement already satisfied: idna<4,>=2.5 in /usr/local/lib/python3.10/dist-packages (from requests>=2.28->chromadb==0.3.26) (3.4)\n",
      "Requirement already satisfied: click>=7.0 in /usr/local/lib/python3.10/dist-packages (from uvicorn[standard]>=0.18.3->chromadb==0.3.26) (8.1.4)\n",
      "Requirement already satisfied: h11>=0.8 in /usr/local/lib/python3.10/dist-packages (from uvicorn[standard]>=0.18.3->chromadb==0.3.26) (0.14.0)\n",
      "Requirement already satisfied: httptools>=0.5.0 in /usr/local/lib/python3.10/dist-packages (from uvicorn[standard]>=0.18.3->chromadb==0.3.26) (0.6.0)\n",
      "Requirement already satisfied: python-dotenv>=0.13 in /usr/local/lib/python3.10/dist-packages (from uvicorn[standard]>=0.18.3->chromadb==0.3.26) (1.0.0)\n",
      "Requirement already satisfied: pyyaml>=5.1 in /usr/local/lib/python3.10/dist-packages (from uvicorn[standard]>=0.18.3->chromadb==0.3.26) (6.0)\n",
      "Requirement already satisfied: uvloop!=0.15.0,!=0.15.1,>=0.14.0 in /usr/local/lib/python3.10/dist-packages (from uvicorn[standard]>=0.18.3->chromadb==0.3.26) (0.17.0)\n",
      "Requirement already satisfied: watchfiles>=0.13 in /usr/local/lib/python3.10/dist-packages (from uvicorn[standard]>=0.18.3->chromadb==0.3.26) (0.19.0)\n",
      "Requirement already satisfied: websockets>=10.4 in /usr/local/lib/python3.10/dist-packages (from uvicorn[standard]>=0.18.3->chromadb==0.3.26) (11.0.3)\n",
      "Requirement already satisfied: anyio<5,>=3.4.0 in /usr/local/lib/python3.10/dist-packages (from starlette<0.28.0,>=0.27.0->fastapi>=0.85.1->chromadb==0.3.26) (3.7.1)\n",
      "Requirement already satisfied: humanfriendly>=9.1 in /usr/local/lib/python3.10/dist-packages (from coloredlogs->onnxruntime>=1.14.1->chromadb==0.3.26) (10.0)\n",
      "Requirement already satisfied: zipp>=0.5 in /usr/local/lib/python3.10/dist-packages (from importlib-metadata->clickhouse-connect>=0.5.7->chromadb==0.3.26) (3.16.1)\n",
      "Requirement already satisfied: mpmath>=0.19 in /usr/local/lib/python3.10/dist-packages (from sympy->onnxruntime>=1.14.1->chromadb==0.3.26) (1.3.0)\n",
      "Requirement already satisfied: sniffio>=1.1 in /usr/local/lib/python3.10/dist-packages (from anyio<5,>=3.4.0->starlette<0.28.0,>=0.27.0->fastapi>=0.85.1->chromadb==0.3.26) (1.3.0)\n",
      "Requirement already satisfied: exceptiongroup in /usr/local/lib/python3.10/dist-packages (from anyio<5,>=3.4.0->starlette<0.28.0,>=0.27.0->fastapi>=0.85.1->chromadb==0.3.26) (1.1.2)\n",
      "Building wheels for collected packages: hnswlib\n",
      "  Building wheel for hnswlib (pyproject.toml) ... \u001b[?25l\u001b[?25hdone\n",
      "  Created wheel for hnswlib: filename=hnswlib-0.7.0-cp310-cp310-linux_x86_64.whl size=2160416 sha256=240d34db4c864bc00974412f3c28c434c74eae691f83176ef663e4362e856ca4\n",
      "  Stored in directory: /root/.cache/pip/wheels/8a/ae/ec/235a682e0041fbaeee389843670581ec6c66872db856dfa9a4\n",
      "Successfully built hnswlib\n",
      "Installing collected packages: hnswlib, chromadb\n",
      "  Attempting uninstall: chromadb\n",
      "    Found existing installation: chromadb 0.4.0\n",
      "    Uninstalling chromadb-0.4.0:\n",
      "      Successfully uninstalled chromadb-0.4.0\n",
      "Successfully installed chromadb-0.3.26 hnswlib-0.7.0\n"
     ]
    },
    {
     "data": {
      "application/vnd.colab-display-data+json": {
       "pip_warning": {
        "packages": [
         "chromadb"
        ]
       }
      }
     },
     "metadata": {},
     "output_type": "display_data"
    }
   ],
   "source": [
    "!pip install chromadb==0.3.26"
   ]
  },
  {
   "cell_type": "code",
   "execution_count": 10,
   "metadata": {
    "id": "Iu5_53R-akJ9"
   },
   "outputs": [],
   "source": [
    "import shutil\n",
    "\n",
    "folder_path = \"/content/dahyunvideo\"\n",
    "\n",
    "# Delete the folder and its contents\n",
    "shutil.rmtree(folder_path)\n",
    "\n"
   ]
  },
  {
   "cell_type": "code",
   "execution_count": 1,
   "metadata": {
    "id": "xPuK7RWHAzlI"
   },
   "outputs": [],
   "source": [
    "from chromadb.config import Settings\n",
    "import chromadb\n",
    "client = chromadb.Client(Settings(\n",
    "    chroma_db_impl=\"duckdb+parquet\",\n",
    "    persist_directory=\"dahyunvideo\" # Optional, defaults to .chromadb/ in the current directory\n",
    "))\n",
    "\n"
   ]
  },
  {
   "cell_type": "code",
   "execution_count": 2,
   "metadata": {
    "id": "44782q_KBpHj"
   },
   "outputs": [],
   "source": [
    "collection = client.get_collection('nocopyvideo')"
   ]
  },
  {
   "cell_type": "code",
   "execution_count": 3,
   "metadata": {
    "colab": {
     "base_uri": "https://localhost:8080/"
    },
    "id": "fUgCPs4rCm21",
    "outputId": "0a1a5d1d-4fe7-49d4-aec0-d1bd9b023187"
   },
   "outputs": [
    {
     "name": "stderr",
     "output_type": "stream",
     "text": [
      "/root/.cache/chroma/onnx_models/all-MiniLM-L6-v2/onnx.tar.gz: 100%|██████████| 79.3M/79.3M [00:00<00:00, 97.5MiB/s]\n"
     ]
    },
    {
     "data": {
      "text/plain": [
       "{'ids': [['id64',\n",
       "   'id313',\n",
       "   'id269',\n",
       "   'id467',\n",
       "   'id28',\n",
       "   'id389',\n",
       "   'id20',\n",
       "   'id291',\n",
       "   'id309',\n",
       "   'id4',\n",
       "   'id24',\n",
       "   'id120',\n",
       "   'id201',\n",
       "   'id73',\n",
       "   'id36',\n",
       "   'id469',\n",
       "   'id295',\n",
       "   'id164',\n",
       "   'id199',\n",
       "   'id50']],\n",
       " 'embeddings': None,\n",
       " 'documents': [['/content/videos/a-couple-outdoor-moments-filled-with-laughter-and-love_duration_19_second.mp4',\n",
       "   '/content/videos/silhouette-of-a-gay-couple-radiating-love-for-each-other_duration_22_second.mp4',\n",
       "   '/content/videos/a-gay-couple-expressing-love-for-each-other_duration_31_second.mp4',\n",
       "   '/content/videos/footage-of-the-couple-making-love_duration_16_second.mp4',\n",
       "   '/content/videos/two-hand-in-physical-touches-connoting-emotions-and-affections_duration_16_second.mp4',\n",
       "   '/content/videos/man-person-couple-love_duration_18_second.mp4',\n",
       "   '/content/videos/a-couple-embracing-each-other_duration_18_second.mp4',\n",
       "   '/content/videos/man-love-art-faceless_duration_4_second.mp4',\n",
       "   '/content/videos/couple-kissing-each-other-and-having-a-dinner-date-on-rocky-shore_duration_34_second.mp4',\n",
       "   '/content/videos/a-happy-young-couple-in-the-sunlight_duration_25_second.mp4',\n",
       "   '/content/videos/a-couple-meets-and-kissed-at-a-middle-of-a-flower-field_duration_22_second.mp4',\n",
       "   '/content/videos/a-happy-couple-posing-with-the-baby-bump_duration_10_second.mp4',\n",
       "   '/content/videos/a-mother-loving-moments-with-her-two-children-lying-in-bed-together_duration_15_second.mp4',\n",
       "   '/content/videos/sensual-couple-in-a-bedroom_duration_38_second.mp4',\n",
       "   '/content/videos/a-couple-celebrates-the-great-view-of-a-waterfalls_duration_23_second.mp4',\n",
       "   '/content/videos/a-romantic-couple-by-the-seashore-with-view-of-sunset_duration_11_second.mp4',\n",
       "   '/content/videos/women-couple-listening-to-music-in-a-park_duration_10_second.mp4',\n",
       "   '/content/videos/couple-having-maternity-shoot_duration_26_second.mp4',\n",
       "   '/content/videos/a-couple-walking-towards-the-mountain-edge_duration_39_second.mp4',\n",
       "   '/content/videos/a-couple-bonding_duration_24_second.mp4']],\n",
       " 'metadatas': [[None,\n",
       "   None,\n",
       "   None,\n",
       "   None,\n",
       "   None,\n",
       "   None,\n",
       "   None,\n",
       "   None,\n",
       "   None,\n",
       "   None,\n",
       "   None,\n",
       "   None,\n",
       "   None,\n",
       "   None,\n",
       "   None,\n",
       "   None,\n",
       "   None,\n",
       "   None,\n",
       "   None,\n",
       "   None]],\n",
       " 'distances': [[1.1864509582519531,\n",
       "   1.1996086835861206,\n",
       "   1.2241278886795044,\n",
       "   1.248879313468933,\n",
       "   1.2682216167449951,\n",
       "   1.274632453918457,\n",
       "   1.325441598892212,\n",
       "   1.3436119556427002,\n",
       "   1.3439451456069946,\n",
       "   1.3510102033615112,\n",
       "   1.3535773754119873,\n",
       "   1.3734581470489502,\n",
       "   1.3838880062103271,\n",
       "   1.3939802646636963,\n",
       "   1.4309487342834473,\n",
       "   1.4352282285690308,\n",
       "   1.4499908685684204,\n",
       "   1.4708319902420044,\n",
       "   1.4744499921798706,\n",
       "   1.4758912324905396]]}"
      ]
     },
     "execution_count": 3,
     "metadata": {},
     "output_type": "execute_result"
    }
   ],
   "source": [
    "results = collection.query(\n",
    "    query_texts=[\"love\"],\n",
    "    n_results=20\n",
    ")\n",
    "results"
   ]
  },
  {
   "cell_type": "code",
   "execution_count": null,
   "metadata": {
    "colab": {
     "base_uri": "https://localhost:8080/"
    },
    "id": "U1uLjq7uh9s0",
    "outputId": "75995bdd-19cd-4b3c-e273-81d73065792a"
   },
   "outputs": [
    {
     "name": "stdout",
     "output_type": "stream",
     "text": [
      "['/content/videos/waves-rushing-and-splashing-to-the-shore_duration_21_second.mp4', '/content/videos/autumn-season_duration_9_second.mp4', '/content/videos/seal-on-the-beach_duration_10_second.mp4', '/content/videos/a-monk-meditating-on-a-tree_duration_15_second.mp4']\n",
      "21\n"
     ]
    }
   ],
   "source": [
    "import re\n",
    "\n",
    "def get_duration_from_title(video_path):\n",
    "    pattern = r'_duration_(\\d+)_second\\.mp4'\n",
    "    match = re.search(pattern, video_path)\n",
    "\n",
    "    if match:\n",
    "        duration = int(match.group(1))\n",
    "        return duration\n",
    "\n",
    "    return None\n",
    "\n",
    "\n",
    "def get_duration(query:str,text_duration):\n",
    "    results = collection.query(\n",
    "        query_texts=[query],\n",
    "        n_results=4\n",
    "    )\n",
    "    documents = results['documents']\n",
    "    video_paths = []\n",
    "\n",
    "\n",
    "    for doc_list in documents:\n",
    "        for doc in doc_list:\n",
    "            video_paths.append(doc)\n",
    "\n",
    "    if video_paths:\n",
    "        video_path = video_paths[0]\n",
    "        duration = get_duration_from_title(video_path)\n",
    "        print(video_paths)\n",
    "        return duration\n",
    "\n",
    "    return None\n",
    "\n",
    "\n",
    "output = get_duration(text,duration)\n",
    "print(output)\n",
    "\n"
   ]
  },
  {
   "cell_type": "code",
   "execution_count": null,
   "metadata": {
    "colab": {
     "base_uri": "https://localhost:8080/"
    },
    "id": "t7rfHu5F5erJ",
    "outputId": "8ac75108-17b3-4a45-bb6b-86ec8f5bd68f"
   },
   "outputs": [
    {
     "name": "stdout",
     "output_type": "stream",
     "text": [
      "[(0, 15), (0, 9), (0, 10), (0, 15)]\n",
      "['/content/videos/waves-rushing-and-splashing-to-the-shore_duration_21_second.mp4', '/content/videos/autumn-season_duration_9_second.mp4', '/content/videos/seal-on-the-beach_duration_10_second.mp4', '/content/videos/a-monk-meditating-on-a-tree_duration_15_second.mp4']\n"
     ]
    }
   ],
   "source": [
    "import re\n",
    "\n",
    "def get_duration_from_title(video_path):\n",
    "    pattern = r'_duration_(\\d+)_second\\.mp4'\n",
    "    match = re.search(pattern, video_path)\n",
    "\n",
    "    if match:\n",
    "        duration = int(match.group(1))\n",
    "        if duration > 15:\n",
    "            duration = 15\n",
    "        return duration\n",
    "\n",
    "    return None\n",
    "\n",
    "\n",
    "def get_duration_and_path(query: str,text_duration):\n",
    "    results = collection.query(\n",
    "        query_texts=[query],\n",
    "        n_results=4\n",
    "    )\n",
    "    documents = results['documents']\n",
    "    video_paths = []\n",
    "    durations = []\n",
    "\n",
    "    for doc_list in documents:\n",
    "        for doc in doc_list:\n",
    "            video_paths.append(doc)\n",
    "            duration = get_duration_from_title(doc)\n",
    "            durations.append((0, duration))  # Append the duration as a tuple\n",
    "\n",
    "    return durations, video_paths\n",
    "\n",
    "\n",
    "output_durations, output_video_paths = get_duration_and_path(text,text_duration)\n",
    "print(output_durations)\n",
    "print(output_video_paths)"
   ]
  },
  {
   "cell_type": "code",
   "execution_count": null,
   "metadata": {
    "colab": {
     "base_uri": "https://localhost:8080/"
    },
    "id": "TKVtnaTqAbNK",
    "outputId": "69d57886-067b-4790-d997-2dc523df2dd9"
   },
   "outputs": [
    {
     "name": "stdout",
     "output_type": "stream",
     "text": [
      "[(0, 15), (0, 12), (0, 3)]\n",
      "['/content/videos/people-in-a-conference-room-for-a-business-meeting_duration_21_second.mp4', '/content/videos/star-gazing-on-a-clear-night-sky_duration_12_second.mp4', '/content/videos/young-woman-partying-taking-selfie_duration_27_second.mp4']\n"
     ]
    }
   ],
   "source": [
    "import re\n",
    "\n",
    "def get_duration_from_title(video_path):\n",
    "    pattern = r'_duration_(\\d+)_second\\.mp4'\n",
    "    match = re.search(pattern, video_path)\n",
    "\n",
    "    if match:\n",
    "        duration = int(match.group(1))\n",
    "        if duration > 15:\n",
    "            duration = 15\n",
    "        return duration\n",
    "\n",
    "    return None\n",
    "\n",
    "\n",
    "def get_duration_and_path(query: str, text_duration: int):\n",
    "    results = collection.query(\n",
    "        query_texts=[query],\n",
    "        n_results=4\n",
    "    )\n",
    "    documents = results['documents']\n",
    "    video_paths = []\n",
    "    durations = []\n",
    "    total_duration = text_duration\n",
    "\n",
    "    for doc_list in documents:\n",
    "        for doc in doc_list:\n",
    "            duration = get_duration_from_title(doc)\n",
    "            if duration is not None:\n",
    "                if total_duration > duration:\n",
    "                    durations.append((0, duration))\n",
    "                    video_paths.append(doc)\n",
    "                    total_duration -= duration\n",
    "                else:\n",
    "                    durations.append((0, total_duration))\n",
    "                    video_paths.append(doc)\n",
    "                    total_duration = 0\n",
    "                    break\n",
    "\n",
    "    return durations, video_paths\n",
    "\n",
    "\n",
    "text_duration=30\n",
    "output_durations, output_video_paths = get_duration_and_path('hi', text_duration)\n",
    "print(output_durations)\n",
    "print(output_video_paths)"
   ]
  },
  {
   "cell_type": "code",
   "execution_count": null,
   "metadata": {
    "colab": {
     "base_uri": "https://localhost:8080/"
    },
    "id": "WzdTARVYEStR",
    "outputId": "3761870b-a69a-4684-aa17-a4a6c5dabd64"
   },
   "outputs": [
    {
     "name": "stdout",
     "output_type": "stream",
     "text": [
      "[(0, 11)]\n",
      "['/content/videos/day-of-the-dead-celebration_duration_19_second.mp4']\n"
     ]
    }
   ],
   "source": [
    "import re\n",
    "\n",
    "def get_duration_from_title(video_path):\n",
    "    pattern = r'_duration_(\\d+)_second\\.mp4'\n",
    "    match = re.search(pattern, video_path)\n",
    "\n",
    "    if match:\n",
    "        duration = int(match.group(1))\n",
    "        if duration > 15:\n",
    "            duration = 15\n",
    "        return duration\n",
    "\n",
    "    return None\n",
    "\n",
    "\n",
    "def get_duration_and_path(query: str, text_duration: int):\n",
    "    results = collection.query(\n",
    "        query_texts=[query],\n",
    "        n_results=4\n",
    "    )\n",
    "    documents = results['documents']\n",
    "    video_paths = []\n",
    "    durations = []\n",
    "    total_duration = text_duration\n",
    "\n",
    "    for doc_list in documents:\n",
    "        for doc in doc_list:\n",
    "            duration = get_duration_from_title(doc)\n",
    "            if duration is not None:\n",
    "                if total_duration > duration:\n",
    "                    if duration < 15:\n",
    "                        duration -= 1\n",
    "                    durations.append((0, duration))\n",
    "                    video_paths.append(doc)\n",
    "                    total_duration -= duration\n",
    "                else:\n",
    "                    durations.append((0, total_duration))\n",
    "                    video_paths.append(doc)\n",
    "                    total_duration = 0\n",
    "                    break\n",
    "\n",
    "    return durations, video_paths\n",
    "\n",
    "\n",
    "output_durations, output_video_paths = get_duration_and_path(text, 11)\n",
    "print(output_durations)\n",
    "print(output_video_paths)"
   ]
  },
  {
   "cell_type": "code",
   "execution_count": 3,
   "metadata": {
    "colab": {
     "base_uri": "https://localhost:8080/"
    },
    "id": "rf50fK8oKsfS",
    "outputId": "31821f3e-ffc3-476a-fee2-f6ff35e7cda0"
   },
   "outputs": [
    {
     "name": "stdout",
     "output_type": "stream",
     "text": [
      "[(0, 11), (0, 5), (0, 12), (0, 4), (0, 6), (0, 9), (0, 5), (0, 7), (0, 6), (0, 4)]\n",
      "['/content/videos/day-of-the-dead-celebration_duration_19_second.mp4', '/content/videos/day-of-the-dead-celebration_duration_19_second.mp4', '/content/videos/people-in-a-conference-room-for-a-business-meeting_duration_21_second.mp4', '/content/videos/black-and-white-video-of-busy-street_duration_14_second.mp4', '/content/videos/people-having-fun-at-a-concert_duration_13_second.mp4', '/content/videos/woman-face-safety-wear_duration_10_second.mp4', '/content/videos/person-holding-a-anthurium-flower_duration_10_second.mp4', '/content/videos/three-people-meditating-outdoors_duration_8_second.mp4', '/content/videos/a-monk-meditating-on-a-tree_duration_15_second.mp4', '/content/videos/sweet-foods-causing-diabetes_duration_9_second.mp4']\n"
     ]
    }
   ],
   "source": [
    "import pysrt\n",
    "import datetime\n",
    "import re\n",
    "\n",
    "def get_duration_from_title(video_path):\n",
    "    pattern = r'_duration_(\\d+)_second\\.mp4'\n",
    "    match = re.search(pattern, video_path)\n",
    "\n",
    "    if match:\n",
    "        duration = int(match.group(1))\n",
    "        if duration > 15:\n",
    "            duration = 15\n",
    "        return duration\n",
    "\n",
    "    return None\n",
    "\n",
    "\n",
    "def get_duration_and_path(query: str, text_duration: int):\n",
    "    results = collection.query(\n",
    "        query_texts=[query],\n",
    "        n_results=4\n",
    "    )\n",
    "    documents = results['documents']\n",
    "    video_paths = []\n",
    "    durations = []\n",
    "    total_duration = text_duration\n",
    "\n",
    "    for doc_list in documents:\n",
    "        for doc in doc_list:\n",
    "            duration = get_duration_from_title(doc)\n",
    "            if duration is not None:\n",
    "                if total_duration > duration:\n",
    "                    if duration < 15:\n",
    "                        duration -= 1\n",
    "                    durations.append((0, duration))\n",
    "                    video_paths.append(doc)\n",
    "                    total_duration -= duration\n",
    "                else:\n",
    "                    durations.append((0, total_duration))\n",
    "                    video_paths.append(doc)\n",
    "                    total_duration = 0\n",
    "                    break\n",
    "\n",
    "    return durations, video_paths\n",
    "\n",
    "\n",
    "# Load the subtitle file\n",
    "subtitle_path = \"/content/output.srt\"\n",
    "subtitle = pysrt.open(subtitle_path)\n",
    "allsubtitle = []\n",
    "\n",
    "# Iterate through each subtitle item\n",
    "for subtitle_item in subtitle:\n",
    "    # Store the subtitle start and end times\n",
    "    start_time = subtitle_item.start.to_time()\n",
    "    end_time = subtitle_item.end.to_time()\n",
    "\n",
    "    # Convert start and end times to datetime.datetime objects\n",
    "    start_datetime = datetime.datetime.combine(datetime.datetime.min.date(), start_time)\n",
    "    end_datetime = datetime.datetime.combine(datetime.datetime.min.date(), end_time)\n",
    "\n",
    "    # Calculate the duration by subtracting the end datetime from the start datetime\n",
    "    duration = end_datetime - start_datetime\n",
    "\n",
    "    # Format the time values as (hh:mm:ss)\n",
    "    start_time_str = start_time.strftime(\"%H:%M:%S\")\n",
    "    end_time_str = end_time.strftime(\"%H:%M:%S\")\n",
    "\n",
    "    # Store the subtitle text and duration as a tuple\n",
    "    subtitle_tuple = (start_time_str, end_time_str, subtitle_item.text, duration.total_seconds())\n",
    "\n",
    "    # Append the subtitle tuple to the list\n",
    "    allsubtitle.append(subtitle_tuple)\n",
    "duration_list = []\n",
    "video_path_list = []\n",
    "\n",
    "for subtitle_item in allsubtitle[:9]:\n",
    "    text_duration = int(subtitle_item[3])\n",
    "    text = subtitle_item[2]\n",
    "\n",
    "    output_durations, output_video_paths = get_duration_and_path(text, text_duration)\n",
    "    duration_list.extend(output_durations)\n",
    "    video_path_list.extend(output_video_paths)\n",
    "\n",
    "print(duration_list)\n",
    "print(video_path_list)\n",
    "\n"
   ]
  },
  {
   "cell_type": "code",
   "execution_count": 1,
   "metadata": {
    "colab": {
     "base_uri": "https://localhost:8080/"
    },
    "id": "LbqUfnz6LOxZ",
    "outputId": "9be6311f-2778-41b0-f109-0510d583765d"
   },
   "outputs": [
    {
     "ename": "NameError",
     "evalue": "name 'video_path_list' is not defined",
     "output_type": "error",
     "traceback": [
      "\u001b[1;31m---------------------------------------------------------------------------\u001b[0m",
      "\u001b[1;31mNameError\u001b[0m                                 Traceback (most recent call last)",
      "Cell \u001b[1;32mIn[1], line 29\u001b[0m\n\u001b[0;32m     26\u001b[0m     \u001b[38;5;28;01mreturn\u001b[39;00m clip_list\n\u001b[0;32m     28\u001b[0m \u001b[38;5;66;03m# more_clips = cut_video_clips(file_list, subclip_list)\u001b[39;00m\n\u001b[1;32m---> 29\u001b[0m more_clips \u001b[38;5;241m=\u001b[39m cut_video_clips(\u001b[43mvideo_path_list\u001b[49m, duration_list)\n\u001b[0;32m     30\u001b[0m more_clips\n",
      "\u001b[1;31mNameError\u001b[0m: name 'video_path_list' is not defined"
     ]
    }
   ],
   "source": [
    "from moviepy.editor import VideoFileClip, concatenate_videoclips\n",
    "\n",
    "def cut_video_clips(file_list, subclip_list):\n",
    "    # Check if the lengths of the file list and subclip list are the same\n",
    "    if len(file_list) != len(subclip_list):\n",
    "        raise ValueError(\"The file list and subclip list must have the same length.\")\n",
    "\n",
    "    clip_list = []\n",
    "\n",
    "    # Iterate over the file list and subclip list\n",
    "    for file, subclip in zip(file_list, subclip_list):\n",
    "        # Load the video clip from the file\n",
    "        clip = VideoFileClip(file,target_resolution=(1080, 1920))\n",
    "\n",
    "        # Extract the start and end times from the subclip tuple\n",
    "        subclip_start, subclip_end = subclip\n",
    "\n",
    "        # Check if the subclip start and end times are valid\n",
    "        if subclip_start < 0 or subclip_end > clip.duration or subclip_start >= subclip_end:\n",
    "            raise ValueError(\"Invalid subclip duration.\")\n",
    "\n",
    "        # Cut the video clip using the subclip start and end times\n",
    "        cut_clip = clip.subclip(subclip_start, subclip_end)\n",
    "        clip_list.append(cut_clip)\n",
    "\n",
    "    return clip_list\n",
    "\n",
    "# more_clips = cut_video_clips(file_list, subclip_list)\n",
    "more_clips = cut_video_clips(video_path_list, duration_list)\n",
    "more_clips"
   ]
  },
  {
   "cell_type": "code",
   "execution_count": null,
   "metadata": {
    "colab": {
     "base_uri": "https://localhost:8080/"
    },
    "id": "iIgiw5FaGM81",
    "outputId": "1416beeb-bc78-4e2a-cfa9-cfd57b6d4dd6"
   },
   "outputs": [
    {
     "name": "stdout",
     "output_type": "stream",
     "text": [
      "Moviepy - Building video first_dahwin_media_g.mp4.\n",
      "MoviePy - Writing audio in first_dahwin_media_gTEMP_MPY_wvf_snd.mp4\n"
     ]
    },
    {
     "name": "stderr",
     "output_type": "stream",
     "text": []
    },
    {
     "name": "stdout",
     "output_type": "stream",
     "text": [
      "MoviePy - Done.\n",
      "Moviepy - Writing video first_dahwin_media_g.mp4\n",
      "\n"
     ]
    },
    {
     "name": "stderr",
     "output_type": "stream",
     "text": []
    },
    {
     "name": "stdout",
     "output_type": "stream",
     "text": [
      "Moviepy - Done !\n",
      "Moviepy - video ready first_dahwin_media_g.mp4\n"
     ]
    }
   ],
   "source": [
    "cut = concatenate_videoclips(more_clips)\n",
    "cut.write_videofile('first_dahwin_media_g.mp4', fps=30, codec=\"libx264\", audio_codec=\"aac\", bitrate=\"5000k\")"
   ]
  },
  {
   "cell_type": "markdown",
   "metadata": {
    "id": "bkCM8VShAmJK"
   },
   "source": [
    "# Effects"
   ]
  },
  {
   "cell_type": "code",
   "execution_count": 4,
   "metadata": {
    "id": "imi4WeZiSL1d"
   },
   "outputs": [],
   "source": [
    "collection = client.get_or_create_collection('effects')"
   ]
  },
  {
   "cell_type": "code",
   "execution_count": 9,
   "metadata": {
    "id": "KkkorxYEAR44"
   },
   "outputs": [],
   "source": [
    "effects = ['create_crossfade_video', 'create_slidein']"
   ]
  },
  {
   "cell_type": "code",
   "execution_count": 10,
   "metadata": {
    "id": "IyWSf-Mr_9hR"
   },
   "outputs": [],
   "source": [
    "collection.add(\n",
    "    documents=effects,\n",
    "    ids=[f\"id{i+1}\" for i in range(len(effects))]\n",
    ")"
   ]
  },
  {
   "cell_type": "code",
   "execution_count": 5,
   "metadata": {
    "colab": {
     "base_uri": "https://localhost:8080/",
     "height": 53
    },
    "id": "yFA7zm3V_1H5",
    "outputId": "39ef53ad-0cb8-474e-ec49-881b6c3b4035"
   },
   "outputs": [
    {
     "name": "stderr",
     "output_type": "stream",
     "text": [
      "WARNING:chromadb.db.index.hnswlib:Number of requested results 6 is greater than number of elements in index 2, updating n_results = 2\n"
     ]
    },
    {
     "data": {
      "application/vnd.google.colaboratory.intrinsic+json": {
       "type": "string"
      },
      "text/plain": [
       "'create_slidein'"
      ]
     },
     "execution_count": 5,
     "metadata": {},
     "output_type": "execute_result"
    }
   ],
   "source": [
    "results = collection.query(\n",
    "    query_texts=[\"love\"],\n",
    "    n_results=6\n",
    ")\n",
    "results['documents'][0][0]"
   ]
  },
  {
   "cell_type": "code",
   "execution_count": null,
   "metadata": {
    "id": "f5Q7ajZwVwNt"
   },
   "outputs": [],
   "source": [
    "# Import the necessary libraries\n",
    "import pysrt\n",
    "import datetime\n",
    "\n",
    "# Load the subtitle file\n",
    "subtitle_path = \"/content/output.srt\"\n",
    "subtitle = pysrt.open(subtitle_path)\n",
    "allsubtitle = []\n",
    "\n",
    "# Iterate through each subtitle item\n",
    "for subtitle_item in subtitle:\n",
    "    # Store the subtitle start and end times\n",
    "    start_time = subtitle_item.start.to_time()\n",
    "    end_time = subtitle_item.end.to_time()\n",
    "\n",
    "    # Convert start and end times to datetime.datetime objects\n",
    "    start_datetime = datetime.datetime.combine(datetime.datetime.min.date(), start_time)\n",
    "    end_datetime = datetime.datetime.combine(datetime.datetime.min.date(), end_time)\n",
    "\n",
    "    # Calculate the duration by subtracting the end datetime from the start datetime\n",
    "    duration = end_datetime - start_datetime\n",
    "\n",
    "    # Format the time values as (hh:mm:ss)\n",
    "    start_time_str = start_time.strftime(\"%H:%M:%S\")\n",
    "    end_time_str = end_time.strftime(\"%H:%M:%S\")\n",
    "\n",
    "    # Store the subtitle text and duration as a tuple\n",
    "    subtitle_tuple = (start_time_str, end_time_str, subtitle_item.text, str(duration))\n",
    "\n",
    "    # Append the subtitle tuple to the list\n",
    "    allsubtitle.append(subtitle_tuple)\n",
    "\n",
    "# Function to query the text and return create_slidein\n",
    "def query_text(text):\n",
    "    results = collection.query(query_texts=[text], n_results=6)\n",
    "    return results['documents'][0][0]\n",
    "\n",
    "# Iterate over each subtitle and query the text\n",
    "result_list = []\n",
    "for subtitle_item in allsubtitle:\n",
    "    text = subtitle_item[2]\n",
    "    print(text)\n",
    "    result = query_text(text)\n",
    "    result_list.append(result)\n",
    "\n",
    "# Print the result list\n",
    "print(result_list)\n"
   ]
  },
  {
   "cell_type": "markdown",
   "metadata": {
    "id": "7jhkEv2pj8LX"
   },
   "source": [
    "# perfect"
   ]
  },
  {
   "cell_type": "code",
   "execution_count": 6,
   "metadata": {
    "colab": {
     "base_uri": "https://localhost:8080/"
    },
    "id": "6YkCxyCFlNBV",
    "outputId": "911e3112-6aa1-4026-e827-22502af155c0"
   },
   "outputs": [
    {
     "name": "stderr",
     "output_type": "stream",
     "text": [
      "WARNING:chromadb.db.index.hnswlib:Number of requested results 6 is greater than number of elements in index 2, updating n_results = 2\n",
      "WARNING:chromadb.db.index.hnswlib:Number of requested results 6 is greater than number of elements in index 2, updating n_results = 2\n",
      "WARNING:chromadb.db.index.hnswlib:Number of requested results 6 is greater than number of elements in index 2, updating n_results = 2\n",
      "WARNING:chromadb.db.index.hnswlib:Number of requested results 6 is greater than number of elements in index 2, updating n_results = 2\n",
      "WARNING:chromadb.db.index.hnswlib:Number of requested results 6 is greater than number of elements in index 2, updating n_results = 2\n",
      "WARNING:chromadb.db.index.hnswlib:Number of requested results 6 is greater than number of elements in index 2, updating n_results = 2\n",
      "WARNING:chromadb.db.index.hnswlib:Number of requested results 6 is greater than number of elements in index 2, updating n_results = 2\n",
      "WARNING:chromadb.db.index.hnswlib:Number of requested results 6 is greater than number of elements in index 2, updating n_results = 2\n",
      "WARNING:chromadb.db.index.hnswlib:Number of requested results 6 is greater than number of elements in index 2, updating n_results = 2\n"
     ]
    },
    {
     "name": "stdout",
     "output_type": "stream",
     "text": [
      "['create_crossfade_video', 'create_crossfade_video', 'create_crossfade_video', 'create_slidein', 'create_crossfade_video', 'create_crossfade_video', 'create_slidein', 'create_slidein', 'create_slidein']\n"
     ]
    }
   ],
   "source": [
    "# Import the necessary libraries\n",
    "import pysrt\n",
    "import datetime\n",
    "\n",
    "# Load the subtitle file\n",
    "subtitle_path = \"/content/output.srt\"\n",
    "subtitle = pysrt.open(subtitle_path)\n",
    "allsubtitle = []\n",
    "\n",
    "# Iterate through each subtitle item\n",
    "for subtitle_item in subtitle:\n",
    "    # Store the subtitle start and end times\n",
    "    start_time = subtitle_item.start.to_time()\n",
    "    end_time = subtitle_item.end.to_time()\n",
    "\n",
    "    # Convert start and end times to datetime.datetime objects\n",
    "    start_datetime = datetime.datetime.combine(datetime.datetime.min.date(), start_time)\n",
    "    end_datetime = datetime.datetime.combine(datetime.datetime.min.date(), end_time)\n",
    "\n",
    "    # Calculate the duration by subtracting the end datetime from the start datetime\n",
    "    duration = end_datetime - start_datetime\n",
    "\n",
    "    # Format the time values as (hh:mm:ss)\n",
    "    start_time_str = start_time.strftime(\"%H:%M:%S\")\n",
    "    end_time_str = end_time.strftime(\"%H:%M:%S\")\n",
    "\n",
    "    # Store the subtitle text and duration as a tuple\n",
    "    subtitle_tuple = (start_time_str, end_time_str, subtitle_item.text, str(duration))\n",
    "\n",
    "    # Append the subtitle tuple to the list\n",
    "    allsubtitle.append(subtitle_tuple)\n",
    "\n",
    "\n",
    "# Function to query the text and return create_slidein\n",
    "def query_text(text):\n",
    "    results = collection.query(query_texts=[text], n_results=6)\n",
    "    return results['documents'][0][0]\n",
    "\n",
    "# Iterate over each subtitle and query the text\n",
    "result_list = []\n",
    "for i in range(len(allsubtitle[:10]) - 1):  # Exclude the last subtitle\n",
    "    text = allsubtitle[i][2] + \" \" + allsubtitle[i+1][2]\n",
    "\n",
    "    result = query_text(text)\n",
    "    result_list.append(result)\n",
    "\n",
    "# Print the result list\n",
    "print(result_list)\n"
   ]
  },
  {
   "cell_type": "code",
   "execution_count": 16,
   "metadata": {
    "colab": {
     "base_uri": "https://localhost:8080/"
    },
    "id": "JzeVf_N4jUOR",
    "outputId": "d1a804b1-43d7-41d3-fc0e-48954368e489"
   },
   "outputs": [
    {
     "data": {
      "text/plain": [
       "8"
      ]
     },
     "execution_count": 16,
     "metadata": {},
     "output_type": "execute_result"
    }
   ],
   "source": [
    "len(result_list)"
   ]
  },
  {
   "cell_type": "code",
   "execution_count": 1,
   "metadata": {
    "colab": {
     "base_uri": "https://localhost:8080/"
    },
    "id": "tygJWggYjWwJ",
    "outputId": "b06c08e9-25cb-47fd-8ce8-203afdd5fdaa"
   },
   "outputs": [
    {
     "name": "stdout",
     "output_type": "stream",
     "text": [
      "['create_crossfade_video', 'create_crossfade_video', 'create_crossfade_video', 'create_crossfade_video', 'create_slidein', 'create_slidein', 'create_crossfade_video', 'create_crossfade_video', 'create_crossfade_video', 'create_slidein', 'create_slidein', 'create_slidein', 'create_slidein', 'create_crossfade_video', 'create_crossfade_video', 'create_slidein', 'create_slidein']\n"
     ]
    }
   ],
   "source": [
    "def add_more(result_list):\n",
    "    slices = []\n",
    "    count = 0\n",
    "    start = 0\n",
    "\n",
    "    for i, word in enumerate(result_list):\n",
    "        count += 1\n",
    "\n",
    "        if i == len(result_list) - 1 or word != result_list[i + 1]:\n",
    "            slices.append(slice(start, start + count))\n",
    "            start += count\n",
    "            count = 0\n",
    "\n",
    "    new_result_list = []\n",
    "    for sl in slices:\n",
    "        cluster = result_list[sl]\n",
    "        new_result_list.extend(cluster)\n",
    "        new_result_list.extend(cluster[:1])  # Add only one more occurrence of the cluster\n",
    "\n",
    "    return new_result_list\n",
    "\n",
    "result_list = ['create_crossfade_video', 'create_crossfade_video', 'create_crossfade_video', 'create_slidein',\n",
    "               'create_crossfade_video', 'create_crossfade_video', 'create_slidein', 'create_slidein',\n",
    "               'create_slidein', 'create_crossfade_video','create_slidein']\n",
    "\n",
    "new_result_list = add_more(result_list)\n",
    "print(new_result_list)\n"
   ]
  },
  {
   "cell_type": "code",
   "execution_count": 2,
   "metadata": {
    "colab": {
     "base_uri": "https://localhost:8080/"
    },
    "id": "h9cnQSDrUyiK",
    "outputId": "f43e4353-cec0-461e-9590-d88932769af3"
   },
   "outputs": [
    {
     "name": "stdout",
     "output_type": "stream",
     "text": [
      "[slice(0, 4, None), slice(4, 6, None), slice(6, 9, None), slice(9, 13, None), slice(13, 15, None), slice(15, 17, None)]\n"
     ]
    }
   ],
   "source": [
    "def create_slices(result_list):\n",
    "    slices = []\n",
    "    count = 0\n",
    "    start = 0\n",
    "\n",
    "    for i, word in enumerate(result_list):\n",
    "        count += 1\n",
    "\n",
    "        if i == len(result_list) - 1 or word != result_list[i + 1]:\n",
    "            slices.append(slice(start, start + count))\n",
    "            start += count\n",
    "            count = 0\n",
    "\n",
    "    return slices\n",
    "\n",
    "\n",
    "\n",
    "slice_of_videolist = create_slices(new_result_list)\n",
    "print(slice_of_videolist)\n",
    "# [slice(0, 4, None), slice(4, 6, None), slice(6, 9, None), slice(9, 13, None), slice(13, 15, None)]\n"
   ]
  },
  {
   "cell_type": "code",
   "execution_count": 3,
   "metadata": {
    "colab": {
     "base_uri": "https://localhost:8080/"
    },
    "id": "SWk6-BsCkdO4",
    "outputId": "06fe808e-e2d4-45cd-fbd6-805998444500"
   },
   "outputs": [
    {
     "name": "stdout",
     "output_type": "stream",
     "text": [
      "['create_crossfade_video', 'create_slidein', 'create_crossfade_video', 'create_slidein', 'create_crossfade_video', 'create_slidein']\n"
     ]
    }
   ],
   "source": [
    "def less(result_list):\n",
    "    slices = []\n",
    "    count = 0\n",
    "    start = 0\n",
    "\n",
    "    for i, word in enumerate(result_list):\n",
    "        count += 1\n",
    "\n",
    "        if i == len(result_list) - 1 or word != result_list[i + 1]:\n",
    "            slices.append(slice(start, start + count))\n",
    "            start += count\n",
    "            count = 0\n",
    "\n",
    "    new_result_list = [result_list[sl.start] for sl in slices]  # Extract the first name from each cluster\n",
    "\n",
    "    return new_result_list\n",
    "result_list = ['create_crossfade_video', 'create_crossfade_video', 'create_crossfade_video', 'create_slidein',\n",
    "               'create_crossfade_video', 'create_crossfade_video', 'create_slidein', 'create_slidein',\n",
    "               'create_slidein', 'create_crossfade_video','create_slidein', 'create_slidein','create_slidein', 'create_slidein']\n",
    "\n",
    "effect_list = less(result_list)\n",
    "print(effect_list)\n"
   ]
  },
  {
   "cell_type": "code",
   "execution_count": null,
   "metadata": {
    "id": "Rya0svdED4D2"
   },
   "outputs": [],
   "source": [
    "from moviepy.editor import VideoFileClip, concatenate_videoclips\n",
    "\n",
    "def cut_video_clips(file_list, subclip_list):\n",
    "    # Check if the lengths of the file list and subclip list are the same\n",
    "    if len(file_list) != len(subclip_list):\n",
    "        raise ValueError(\"The file list and subclip list must have the same length.\")\n",
    "\n",
    "    clip_list = []\n",
    "\n",
    "    # Iterate over the file list and subclip list\n",
    "    for file, subclip in zip(file_list, subclip_list):\n",
    "        # Load the video clip from the file\n",
    "        clip = VideoFileClip(file,target_resolution=(1080, 1920))\n",
    "\n",
    "        # Extract the start and end times from the subclip tuple\n",
    "        subclip_start, subclip_end = subclip\n",
    "\n",
    "        # Check if the subclip start and end times are valid\n",
    "        if subclip_start < 0 or subclip_end > clip.duration or subclip_start >= subclip_end:\n",
    "            raise ValueError(\"Invalid subclip duration.\")\n",
    "\n",
    "        # Cut the video clip using the subclip start and end times\n",
    "        cut_clip = clip.subclip(subclip_start, subclip_end)\n",
    "        clip_list.append(cut_clip)\n",
    "\n",
    "    return clip_list\n",
    "\n",
    "# Example usage\n",
    "file_list = ['feel.mp4','black_test.mp4', 'cv2imagesfacny.mp4','fancy.mp4','cv2imagesfacny.mp4','feel.mp4','feel.mp4','black_test.mp4', 'cv2imagesfacny.mp4','fancy.mp4','cv2imagesfacny.mp4','feel.mp4']  # List of video file names\n",
    "subclip_list = [(0, 6), (0, 6),(0, 6), (0, 6),(0, 6),(0, 6),(0, 6), (0, 6),(0, 6), (0, 6),(0, 6),(0, 6)]  # List of subclip durations (start and end times)\n",
    "\n",
    "more_clips = cut_video_clips(file_list, subclip_list)"
   ]
  },
  {
   "cell_type": "code",
   "execution_count": null,
   "metadata": {
    "id": "hqa6MtIbr0un"
   },
   "outputs": [],
   "source": [
    "from moviepy.editor import VideoFileClip, concatenate_videoclips\n",
    "\n",
    "def cut_video_clips(file_list, subclip_list):\n",
    "    # Check if the lengths of the file list and subclip list are the same\n",
    "    if len(file_list) != len(subclip_list):\n",
    "        raise ValueError(\"The file list and subclip list must have the same length.\")\n",
    "\n",
    "    clip_list = []\n",
    "\n",
    "    # Iterate over the file list and subclip list\n",
    "    for file, subclip in zip(file_list, subclip_list):\n",
    "        # Load the video clip from the file\n",
    "        clip = VideoFileClip(file,target_resolution=(1080, 1920))\n",
    "\n",
    "        # Extract the start and end times from the subclip tuple\n",
    "        subclip_start, subclip_end = subclip\n",
    "\n",
    "        # Check if the subclip start and end times are valid\n",
    "        if subclip_start < 0 or subclip_end > clip.duration or subclip_start >= subclip_end:\n",
    "            raise ValueError(\"Invalid subclip duration.\")\n",
    "\n",
    "        # Cut the video clip using the subclip start and end times\n",
    "        cut_clip = clip.subclip(subclip_start, subclip_end)\n",
    "        clip_list.append(cut_clip)\n",
    "\n",
    "    return clip_list\n",
    "\n",
    "# Example usage\n",
    "file_list = ['feel.mp4','black_test.mp4', 'cv2imagesfacny.mp4','fancy.mp4','cv2imagesfacny.mp4','feel.mp4','feel.mp4','black_test.mp4', 'cv2imagesfacny.mp4','fancy.mp4','cv2imagesfacny.mp4','feel.mp4','feel.mp4','black_test.mp4', 'cv2imagesfacny.mp4','fancy.mp4','cv2imagesfacny.mp4','feel.mp4','feel.mp4','black_test.mp4', 'cv2imagesfacny.mp4','fancy.mp4','cv2imagesfacny.mp4','feel.mp4']  # List of video file names\n",
    "subclip_list = [(0, 6), (0, 6),(0, 6), (0, 6),(0, 6),(0, 6),(0, 6), (0, 6),(0, 6), (0, 6),(0, 6),(0, 6),(0, 6), (0, 6),(0, 6), (0, 6),(0, 6),(0, 6),(0, 6), (0, 6),(0, 6), (0, 6),(0, 6),(0, 6)]  # List of subclip durations (start and end times)\n",
    "\n",
    "more_clips = cut_video_clips(file_list, subclip_list)"
   ]
  },
  {
   "cell_type": "code",
   "execution_count": null,
   "metadata": {
    "id": "OCJZkvX9W3BO"
   },
   "outputs": [],
   "source": [
    "from moviepy.editor import VideoFileClip, concatenate_videoclips\n",
    "\n",
    "def combine_video_clips(file_list, subclip_list, video_filenames):\n",
    "    # Check if the lengths of the file list and subclip list are the same\n",
    "    if len(file_list) != len(subclip_list):\n",
    "        raise ValueError(\"The file list and subclip list must have the same length.\")\n",
    "\n",
    "    clip_l = []\n",
    "    clip_list = []\n",
    "\n",
    "    # Step 1: Create VideoFileClip objects from the videos\n",
    "    for filename in file_list:\n",
    "        video = VideoFileClip(filename)\n",
    "        video = video.resize(height=1080)\n",
    "        video = video.set_position((\"center\", \"center\"))  # Set video position to center\n",
    "        clip_l.append(video)\n",
    "\n",
    "    # Step 2: Cut the video clips using the subclip durations\n",
    "    for file, subclip in zip(clip_l, subclip_list):\n",
    "        # Load the video clip from the file\n",
    "        clip = VideoFileClip(file.filename)\n",
    "\n",
    "        # Extract the start and end times from the subclip tuple\n",
    "        subclip_start, subclip_end = subclip\n",
    "\n",
    "        # Check if the subclip start and end times are valid\n",
    "        if subclip_start < 0 or subclip_end > clip.duration or subclip_start >= subclip_end:\n",
    "            raise ValueError(\"Invalid subclip duration.\")\n",
    "\n",
    "        # Cut the video clip using the subclip start and end times\n",
    "        cut_clip = clip.subclip(subclip_start, subclip_end)\n",
    "        clip_list.append(cut_clip)\n",
    "\n",
    "    return clip_list\n",
    "\n",
    "file_list = ['feel.mp4', 'fancy.mp4','feel.mp4','feel.mp4','fancy.mp4','feel.mp4']  # List of video file names\n",
    "subclip_list = [(0, 6), (0, 6),(0, 6), (0, 6),(0, 6),(0, 6)]  # List of subclip durations (start and end times)\n",
    "\n",
    "clip_list = combine_video_clips(file_list, subclip_list, file_list)\n",
    "final_clip = concatenate_videoclips(clip_list, method=\"compose\")\n"
   ]
  },
  {
   "cell_type": "code",
   "execution_count": 1,
   "metadata": {
    "colab": {
     "base_uri": "https://localhost:8080/"
    },
    "id": "aGtzS8IUBJMX",
    "outputId": "3753ff7d-5164-4314-d6e0-92b34a4f47de"
   },
   "outputs": [
    {
     "data": {
      "text/plain": [
       "[<moviepy.video.io.VideoFileClip.VideoFileClip at 0x1574991fc70>,\n",
       " <moviepy.video.io.VideoFileClip.VideoFileClip at 0x1574adc87c0>,\n",
       " <moviepy.video.io.VideoFileClip.VideoFileClip at 0x1574adc8490>,\n",
       " <moviepy.video.io.VideoFileClip.VideoFileClip at 0x1574adc8be0>,\n",
       " <moviepy.video.io.VideoFileClip.VideoFileClip at 0x1574adc9270>,\n",
       " <moviepy.video.io.VideoFileClip.VideoFileClip at 0x1574adc9900>,\n",
       " <moviepy.video.io.VideoFileClip.VideoFileClip at 0x1574adc9f90>,\n",
       " <moviepy.video.io.VideoFileClip.VideoFileClip at 0x1574adca620>,\n",
       " <moviepy.video.io.VideoFileClip.VideoFileClip at 0x1574adcacb0>,\n",
       " <moviepy.video.io.VideoFileClip.VideoFileClip at 0x1574adcb340>,\n",
       " <moviepy.video.io.VideoFileClip.VideoFileClip at 0x1574adcb9d0>,\n",
       " <moviepy.video.io.VideoFileClip.VideoFileClip at 0x1574ade8070>]"
      ]
     },
     "execution_count": 1,
     "metadata": {},
     "output_type": "execute_result"
    }
   ],
   "source": [
    "from moviepy.editor import VideoFileClip\n",
    "\n",
    "def load_and_cut_video_clips(video_filenames, subclip_list):\n",
    "    if len(video_filenames) != len(subclip_list):\n",
    "        raise ValueError(\"The video filenames and subclip list must have the same length.\")\n",
    "\n",
    "    clip_list = []\n",
    "    for filename, subclip in zip(video_filenames, subclip_list):\n",
    "        video = VideoFileClip(filename)\n",
    "        video = video.resize(height=1080)\n",
    "        video = video.set_position((\"center\", \"center\"))\n",
    "\n",
    "        subclip_start, subclip_end = subclip\n",
    "        if subclip_start < 0 or subclip_end > video.duration or subclip_start >= subclip_end:\n",
    "            raise ValueError(\"Invalid subclip duration.\")\n",
    "\n",
    "        cut_clip = video.subclip(subclip_start, subclip_end)\n",
    "        clip_list.append(cut_clip)\n",
    "\n",
    "    return clip_list\n",
    "\n",
    "# Example usage\n",
    "video_filenames = ['fancy.mp4', 'fancy.mp4','feel.mp4','feel.mp4','fancy.mp4','feel.mp4','feel.mp4', 'fancy.mp4','feel.mp4','feel.mp4','fancy.mp4','feel.mp4']\n",
    "subclip_list = [(0, 6), (0, 6),(0, 6), (0, 6),(0, 6),(0, 6),(0, 6), (0, 6),(0, 6), (0, 6),(0, 6),(0, 6)]\n",
    "\n",
    "video_clips = load_and_cut_video_clips(video_filenames, subclip_list)\n",
    "# final_clip = concatenate_videoclips(video_clips, method=\"compose\")\n",
    "video_clips"
   ]
  },
  {
   "cell_type": "code",
   "execution_count": null,
   "metadata": {
    "colab": {
     "base_uri": "https://localhost:8080/"
    },
    "id": "YSeZqDeG5D8l",
    "outputId": "bfb062f4-3255-4e29-88d0-65690d4d18d3"
   },
   "outputs": [
    {
     "name": "stdout",
     "output_type": "stream",
     "text": [
      "Moviepy - Building video videoeeex.mp4.\n",
      "MoviePy - Writing audio in videoeeexTEMP_MPY_wvf_snd.mp4\n"
     ]
    },
    {
     "name": "stderr",
     "output_type": "stream",
     "text": []
    },
    {
     "name": "stdout",
     "output_type": "stream",
     "text": [
      "MoviePy - Done.\n",
      "Moviepy - Writing video videoeeex.mp4\n",
      "\n"
     ]
    },
    {
     "name": "stderr",
     "output_type": "stream",
     "text": []
    },
    {
     "name": "stdout",
     "output_type": "stream",
     "text": [
      "Moviepy - Done !\n",
      "Moviepy - video ready videoeeex.mp4\n"
     ]
    }
   ],
   "source": [
    "# Step 4: Set the output video filename\n",
    "output_filename = \"videoeeex.mp4\"\n",
    "\n",
    "# Step 5: Write the video file\n",
    "final_clip.write_videofile(output_filename, codec=\"libx264\", audio_codec=\"aac\", bitrate=\"5000k\")"
   ]
  },
  {
   "cell_type": "code",
   "execution_count": 2,
   "metadata": {
    "id": "cBUvYzVdD4aV"
   },
   "outputs": [],
   "source": [
    "from moviepy.editor import *\n",
    "\n",
    "def create_crossfade_video(clips):\n",
    "    padding=0.6\n",
    "    video_fx_list = [clips[0]]\n",
    "    idx = clips[0].duration - padding\n",
    "\n",
    "    for video in clips[1:]:\n",
    "        video_fx_list.append(video.set_start(idx).crossfadein(padding))\n",
    "        idx += video.duration - padding\n",
    "\n",
    "    final_video = CompositeVideoClip(video_fx_list)\n",
    "    return final_video"
   ]
  },
  {
   "cell_type": "code",
   "execution_count": 7,
   "metadata": {
    "id": "1FlEzYQbD4dm"
   },
   "outputs": [],
   "source": [
    "from moviepy.editor import VideoFileClip, ImageSequenceClip\n",
    "import cv2\n",
    "import numpy as np\n",
    "\n",
    "def slidein(clip1, clip2):\n",
    "    duration = 30\n",
    "    frames1 = [frame for frame in clip1.iter_frames()][:-duration]\n",
    "    duration_frames = [frame for frame in clip1.iter_frames()][-duration:]\n",
    "\n",
    "    frames2 = [frame for frame in clip2.iter_frames()]\n",
    "\n",
    "    height, width, _ = frames1[0].shape\n",
    "    transition_frames = []\n",
    "\n",
    "    for i in range(duration):\n",
    "        # Calculate the translation distance based on the frame index\n",
    "        # For slide-in effect from right, clip1 moves to the left and clip2 comes from the right\n",
    "        tx = int((width / duration) * i)\n",
    "        tx_clip1 = -tx\n",
    "        tx_clip2 = width - tx\n",
    "\n",
    "        # Apply translation to clip1\n",
    "        frame_clip1 = cv2.warpAffine(duration_frames[i], np.float32([[1, 0, tx_clip1], [0, 1, 0]]), (width, height))\n",
    "\n",
    "        # Apply translation to clip2\n",
    "        frame_clip2 = cv2.warpAffine(frames2[i], np.float32([[1, 0, tx_clip2], [0, 1, 0]]), (width, height))\n",
    "\n",
    "        alpha = i / duration  # Linearly increasing alpha value\n",
    "\n",
    "        blend_frame = cv2.addWeighted(frame_clip1, 1 - alpha, frame_clip2, alpha, 0)\n",
    "\n",
    "        transition_frames.append(blend_frame)\n",
    "\n",
    "    remaining_frames = frames2[duration:]\n",
    "\n",
    "    final_frames = frames1 + transition_frames + remaining_frames\n",
    "\n",
    "    return final_frames\n",
    "\n",
    "\n",
    "\n",
    "def create_slidein(more_clips):\n",
    "    fps = more_clips[0].fps\n",
    "\n",
    "    def create_image_sequence_clip(previous_clip, next_clip):\n",
    "        return ImageSequenceClip(slidein(previous_clip, next_clip), fps=fps)\n",
    "\n",
    "    final_clip = more_clips[0]\n",
    "\n",
    "    for i in range(1, len(more_clips)):\n",
    "        final_clip = create_image_sequence_clip(final_clip, more_clips[i])\n",
    "\n",
    "    return final_clip"
   ]
  },
  {
   "cell_type": "markdown",
   "metadata": {
    "id": "pTCWy6sH4ipY"
   },
   "source": [
    "# image"
   ]
  },
  {
   "cell_type": "code",
   "execution_count": 3,
   "metadata": {
    "id": "qVwWCjS64hqA"
   },
   "outputs": [],
   "source": [
    "from moviepy.editor import VideoFileClip, ImageSequenceClip\n",
    "from moviepy.editor import *\n",
    "import cv2\n",
    "import numpy as np\n",
    "from moviepy.video.VideoClip import VideoClip\n",
    "def slidein(clip1, clip2):\n",
    "    duration = 30\n",
    "    frames1 = [frame for frame in clip1.iter_frames()][:-duration]\n",
    "    duration_frames = [frame for frame in clip1.iter_frames()][-duration:]\n",
    "\n",
    "    frames2 = [frame for frame in clip2.iter_frames()]\n",
    "\n",
    "    height, width, _ = frames1[0].shape\n",
    "    transition_frames = []\n",
    "\n",
    "    for i in range(duration):\n",
    "        # Calculate the translation distance based on the frame index\n",
    "        # For slide-in effect from right, clip1 moves to the left and clip2 comes from the right\n",
    "        tx = int((width / duration) * i)\n",
    "        tx_clip1 = -tx\n",
    "        tx_clip2 = width - tx\n",
    "\n",
    "        # Apply translation to clip1\n",
    "        frame_clip1 = cv2.warpAffine(duration_frames[i], np.float32([[1, 0, tx_clip1], [0, 1, 0]]), (width, height))\n",
    "\n",
    "        # Apply translation to clip2\n",
    "        frame_clip2 = cv2.warpAffine(frames2[i], np.float32([[1, 0, tx_clip2], [0, 1, 0]]), (width, height))\n",
    "\n",
    "        alpha = i / duration  # Linearly increasing alpha value\n",
    "\n",
    "        blend_frame = cv2.addWeighted(frame_clip1, 1 - alpha, frame_clip2, alpha, 0)\n",
    "\n",
    "        transition_frames.append(blend_frame)\n",
    "\n",
    "    remaining_frames = frames2[duration:]\n",
    "\n",
    "    final_frames = frames1 + transition_frames + remaining_frames\n",
    "\n",
    "    return final_frames\n",
    "\n",
    "\n",
    "\n",
    "import cv2\n",
    "import numpy as np\n",
    "from moviepy.editor import ImageSequenceClip\n",
    "\n",
    "def create_slidein(more_clips):\n",
    "    fps = more_clips[0].fps\n",
    "    width, height = 1920, 1080  # Desired output size\n",
    "\n",
    "    def create_image_sequence_clip(previous_clip, next_clip):\n",
    "        frames = slidein(previous_clip, next_clip)\n",
    "        resized_frames = []\n",
    "\n",
    "        for frame in frames:\n",
    "            # Resize the frame while maintaining the original aspect ratio\n",
    "            aspect_ratio = frame.shape[1] / frame.shape[0]\n",
    "            new_width = int(height * aspect_ratio)\n",
    "            frame_resized = cv2.resize(frame, (new_width, height))\n",
    "\n",
    "            # Create a black background frame of the desired size\n",
    "            background = np.zeros((height, width, 3), dtype=np.uint8)\n",
    "\n",
    "            # Calculate the position to place the resized frame on the background\n",
    "            x = (width - new_width) // 2\n",
    "\n",
    "            # Place the resized frame on the background\n",
    "            background[:, x:x+new_width] = frame_resized\n",
    "\n",
    "            resized_frames.append(background)\n",
    "\n",
    "        # Create an ImageSequenceClip from the resized and padded frames\n",
    "        video = ImageSequenceClip(resized_frames, fps=fps)\n",
    "\n",
    "        return video\n",
    "\n",
    "    final_clip = more_clips[0]\n",
    "\n",
    "    for i in range(1, len(more_clips)):\n",
    "        final_clip = create_image_sequence_clip(final_clip, more_clips[i])\n",
    "\n",
    "    return final_clip\n",
    "\n"
   ]
  },
  {
   "cell_type": "code",
   "execution_count": 7,
   "metadata": {},
   "outputs": [],
   "source": [
    "from moviepy.editor import VideoFileClip, ImageSequenceClip\n",
    "from moviepy.editor import *\n",
    "import cv2\n",
    "import numpy as np\n",
    "from moviepy.video.VideoClip import VideoClip\n",
    "def slidein(clip1, clip2):\n",
    "    duration = 30\n",
    "    frames1 = [frame for frame in clip1.iter_frames()][:-duration]\n",
    "    duration_frames = [frame for frame in clip1.iter_frames()][-duration:]\n",
    "\n",
    "    frames2 = [frame for frame in clip2.iter_frames()]\n",
    "\n",
    "    height, width, _ = frames1[0].shape\n",
    "    transition_frames = []\n",
    "\n",
    "    for i in range(duration):\n",
    "        # Calculate the translation distance based on the frame index\n",
    "        # For slide-in effect from right, clip1 moves to the left and clip2 comes from the right\n",
    "        tx = int((width / duration) * i)\n",
    "        tx_clip1 = -tx\n",
    "        tx_clip2 = width - tx\n",
    "\n",
    "        # Apply translation to clip1\n",
    "        frame_clip1 = cv2.warpAffine(duration_frames[i], np.float32([[1, 0, tx_clip1], [0, 1, 0]]), (width, height))\n",
    "\n",
    "        # Apply translation to clip2\n",
    "        frame_clip2 = cv2.warpAffine(frames2[i], np.float32([[1, 0, tx_clip2], [0, 1, 0]]), (width, height))\n",
    "\n",
    "        alpha = i / duration  # Linearly increasing alpha value\n",
    "\n",
    "        blend_frame = cv2.addWeighted(frame_clip1, 1 - alpha, frame_clip2, alpha, 0)\n",
    "\n",
    "        transition_frames.append(blend_frame)\n",
    "\n",
    "    remaining_frames = frames2[duration:]\n",
    "\n",
    "    final_frames = frames1 + transition_frames + remaining_frames\n",
    "\n",
    "    return final_frames\n",
    "\n",
    "\n",
    "\n",
    "\n",
    "import cv2\n",
    "import numpy as np\n",
    "from moviepy.editor import ImageSequenceClip\n",
    "\n",
    "def create_slidein(more_clips):\n",
    "    fps = more_clips[0].fps\n",
    "    width, height = 1920, 1080  # Desired output size\n",
    "\n",
    "    def create_image_sequence_clip(previous_clip, next_clip):\n",
    "        aspect_ratio = previous_clip.w / previous_clip.h\n",
    "\n",
    "        if aspect_ratio < 1.78:\n",
    "            frames = slidein(previous_clip, next_clip)\n",
    "            resized_frames = []\n",
    "\n",
    "            for frame in frames:\n",
    "                # Resize the frame while maintaining the original aspect ratio\n",
    "                aspect_ratio = frame.shape[1] / frame.shape[0]\n",
    "                new_width = int(height * aspect_ratio)\n",
    "                frame_resized = cv2.resize(frame, (new_width, height))\n",
    "\n",
    "                # Create a black background frame of the desired size\n",
    "                background = np.zeros((height, width, 3), dtype=np.uint8)\n",
    "\n",
    "                # Calculate the position to place the resized frame on the background\n",
    "                x = (width - new_width) // 2\n",
    "\n",
    "                # Place the resized frame on the background\n",
    "                background[:, x:x+new_width] = frame_resized\n",
    "\n",
    "                resized_frames.append(background)\n",
    "\n",
    "            # Create an ImageSequenceClip from the resized and padded frames\n",
    "            video = ImageSequenceClip(resized_frames, fps=fps)\n",
    "\n",
    "            return video\n",
    "        else:\n",
    "            return ImageSequenceClip(slidein(previous_clip, next_clip), fps=fps)\n",
    "\n",
    "    final_clip = more_clips[0]\n",
    "\n",
    "    for i in range(1, len(more_clips)):\n",
    "        final_clip = create_image_sequence_clip(final_clip, more_clips[i])\n",
    "\n",
    "    return final_clip\n"
   ]
  },
  {
   "cell_type": "code",
   "execution_count": 3,
   "metadata": {},
   "outputs": [],
   "source": [
    "from moviepy.editor import VideoFileClip, ImageSequenceClip\n",
    "import cv2\n",
    "import numpy as np\n",
    "\n",
    "def slidein(clip1, clip2):\n",
    "    duration = 30\n",
    "    frames1 = [frame for frame in clip1.iter_frames()][:-duration]\n",
    "    duration_frames = [frame for frame in clip1.iter_frames()][-duration:]\n",
    "\n",
    "    frames2 = [frame for frame in clip2.iter_frames()]\n",
    "\n",
    "    height, width, _ = frames1[0].shape\n",
    "    transition_frames = []\n",
    "\n",
    "    for i in range(duration):\n",
    "        # Calculate the translation distance based on the frame index\n",
    "        # For slide-in effect from right, clip1 moves to the left and clip2 comes from the right\n",
    "        tx = int((width / duration) * i)\n",
    "        tx_clip1 = -tx\n",
    "        tx_clip2 = width - tx\n",
    "\n",
    "        # Apply translation to clip1\n",
    "        frame_clip1 = cv2.warpAffine(duration_frames[i], np.float32([[1, 0, tx_clip1], [0, 1, 0]]), (width, height))\n",
    "\n",
    "        # Apply translation to clip2\n",
    "        frame_clip2 = cv2.warpAffine(frames2[i], np.float32([[1, 0, tx_clip2], [0, 1, 0]]), (width, height))\n",
    "\n",
    "        alpha = i / duration  # Linearly increasing alpha value\n",
    "\n",
    "        blend_frame = cv2.addWeighted(frame_clip1, 1 - alpha, frame_clip2, alpha, 0)\n",
    "\n",
    "        transition_frames.append(blend_frame)\n",
    "\n",
    "    remaining_frames = frames2[duration:]\n",
    "\n",
    "    final_frames = frames1 + transition_frames + remaining_frames\n",
    "\n",
    "    return final_frames\n",
    "\n",
    "\n",
    "\n",
    "def create_slidein(more_clips):\n",
    "    fps = more_clips[0].fps\n",
    "\n",
    "    def create_image_sequence_clip(previous_clip, next_clip):\n",
    "        frames = slidein(previous_clip, next_clip)\n",
    "        # Create a list of ImageClips from the frames\n",
    "        image_clips = []\n",
    "        for f in frames:\n",
    "            image_clip = ImageSequenceClip([f], fps=fps)\n",
    "            image_clips.append(image_clip)\n",
    "\n",
    "        video = concatenate_videoclips(image_clips,method=\"compose\")\n",
    "\n",
    "        return video\n",
    "\n",
    "    final_clip = more_clips[0]\n",
    "\n",
    "    for i in range(1, len(more_clips)):\n",
    "        final_clip = create_image_sequence_clip(final_clip, more_clips[i])\n",
    "\n",
    "    return final_clip\n"
   ]
  },
  {
   "cell_type": "code",
   "execution_count": 8,
   "metadata": {},
   "outputs": [
    {
     "name": "stdout",
     "output_type": "stream",
     "text": [
      "Video Aspect Ratio: 1.78:1\n"
     ]
    }
   ],
   "source": [
    "import cv2\n",
    "\n",
    "def print_video_aspect_ratio(video_path):\n",
    "    cap = cv2.VideoCapture(video_path)\n",
    "    width = cap.get(cv2.CAP_PROP_FRAME_WIDTH)\n",
    "    height = cap.get(cv2.CAP_PROP_FRAME_HEIGHT)\n",
    "    aspect_ratio = width / height\n",
    "    print(\"Video Aspect Ratio: {:.2f}:1\".format(aspect_ratio))\n",
    "    cap.release()\n",
    "\n",
    "# Provide the path to the video file\n",
    "video_path = \"fancy.mp4\"\n",
    "\n",
    "# Print the aspect ratio of the video\n",
    "print_video_aspect_ratio(video_path)\n"
   ]
  },
  {
   "cell_type": "code",
   "execution_count": 10,
   "metadata": {
    "colab": {
     "base_uri": "https://localhost:8080/",
     "height": 988
    },
    "id": "aQP5hnlPD4g1",
    "outputId": "534b069d-2089-4b76-e36c-018a241a7dfb"
   },
   "outputs": [
    {
     "ename": "TypeError",
     "evalue": "ignored",
     "output_type": "error",
     "traceback": [
      "\u001b[0;31m---------------------------------------------------------------------------\u001b[0m",
      "\u001b[0;31mTypeError\u001b[0m                                 Traceback (most recent call last)",
      "\u001b[0;32m<ipython-input-10-8dde490691ca>\u001b[0m in \u001b[0;36m<cell line: 29>\u001b[0;34m()\u001b[0m\n\u001b[1;32m     27\u001b[0m \u001b[0meffects\u001b[0m \u001b[0;34m=\u001b[0m \u001b[0;34m[\u001b[0m\u001b[0;34m'create_crossfade_video'\u001b[0m\u001b[0;34m,\u001b[0m \u001b[0;34m'create_slidein'\u001b[0m\u001b[0;34m,\u001b[0m \u001b[0;34m'create_slidein'\u001b[0m\u001b[0;34m,\u001b[0m \u001b[0;34m'create_crossfade_video'\u001b[0m\u001b[0;34m,\u001b[0m \u001b[0;34m'create_slidein'\u001b[0m\u001b[0;34m]\u001b[0m\u001b[0;34m\u001b[0m\u001b[0;34m\u001b[0m\u001b[0m\n\u001b[1;32m     28\u001b[0m \u001b[0;34m\u001b[0m\u001b[0m\n\u001b[0;32m---> 29\u001b[0;31m \u001b[0mcombine_clips\u001b[0m\u001b[0;34m(\u001b[0m\u001b[0mvideo_clips\u001b[0m\u001b[0;34m,\u001b[0m \u001b[0mnum_slice_of_videolist\u001b[0m\u001b[0;34m,\u001b[0m \u001b[0meffects\u001b[0m\u001b[0;34m)\u001b[0m\u001b[0;34m\u001b[0m\u001b[0;34m\u001b[0m\u001b[0m\n\u001b[0m",
      "\u001b[0;32m<ipython-input-10-8dde490691ca>\u001b[0m in \u001b[0;36mcombine_clips\u001b[0;34m(more_clips, num_slice_of_videolist, effect)\u001b[0m\n\u001b[1;32m     13\u001b[0m \u001b[0;34m\u001b[0m\u001b[0m\n\u001b[1;32m     14\u001b[0m         \u001b[0;31m# Apply the effect function to the sliced clips\u001b[0m\u001b[0;34m\u001b[0m\u001b[0;34m\u001b[0m\u001b[0m\n\u001b[0;32m---> 15\u001b[0;31m         \u001b[0meffect_clip\u001b[0m \u001b[0;34m=\u001b[0m \u001b[0meffect_func\u001b[0m\u001b[0;34m(\u001b[0m\u001b[0msliced_clips\u001b[0m\u001b[0;34m)\u001b[0m\u001b[0;34m\u001b[0m\u001b[0;34m\u001b[0m\u001b[0m\n\u001b[0m\u001b[1;32m     16\u001b[0m         \u001b[0mprocessed_clips\u001b[0m\u001b[0;34m.\u001b[0m\u001b[0mappend\u001b[0m\u001b[0;34m(\u001b[0m\u001b[0meffect_clip\u001b[0m\u001b[0;34m)\u001b[0m\u001b[0;34m\u001b[0m\u001b[0;34m\u001b[0m\u001b[0m\n\u001b[1;32m     17\u001b[0m \u001b[0;34m\u001b[0m\u001b[0m\n",
      "\u001b[0;32m<ipython-input-9-2d8517f49c4d>\u001b[0m in \u001b[0;36mcreate_slidein\u001b[0;34m(more_clips)\u001b[0m\n\u001b[1;32m     58\u001b[0m \u001b[0;34m\u001b[0m\u001b[0m\n\u001b[1;32m     59\u001b[0m     \u001b[0;32mfor\u001b[0m \u001b[0mi\u001b[0m \u001b[0;32min\u001b[0m \u001b[0mrange\u001b[0m\u001b[0;34m(\u001b[0m\u001b[0;36m1\u001b[0m\u001b[0;34m,\u001b[0m \u001b[0mlen\u001b[0m\u001b[0;34m(\u001b[0m\u001b[0mmore_clips\u001b[0m\u001b[0;34m)\u001b[0m\u001b[0;34m)\u001b[0m\u001b[0;34m:\u001b[0m\u001b[0;34m\u001b[0m\u001b[0;34m\u001b[0m\u001b[0m\n\u001b[0;32m---> 60\u001b[0;31m         \u001b[0mfinal_clip\u001b[0m \u001b[0;34m=\u001b[0m \u001b[0mcreate_image_sequence_clip\u001b[0m\u001b[0;34m(\u001b[0m\u001b[0mfinal_clip\u001b[0m\u001b[0;34m,\u001b[0m \u001b[0mmore_clips\u001b[0m\u001b[0;34m[\u001b[0m\u001b[0mi\u001b[0m\u001b[0;34m]\u001b[0m\u001b[0;34m)\u001b[0m\u001b[0;34m\u001b[0m\u001b[0;34m\u001b[0m\u001b[0m\n\u001b[0m\u001b[1;32m     61\u001b[0m \u001b[0;34m\u001b[0m\u001b[0m\n\u001b[1;32m     62\u001b[0m     \u001b[0;32mreturn\u001b[0m \u001b[0mfinal_clip\u001b[0m\u001b[0;34m\u001b[0m\u001b[0;34m\u001b[0m\u001b[0m\n",
      "\u001b[0;32m<ipython-input-9-2d8517f49c4d>\u001b[0m in \u001b[0;36mcreate_image_sequence_clip\u001b[0;34m(previous_clip, next_clip)\u001b[0m\n\u001b[1;32m     52\u001b[0m            \u001b[0mimage_clips\u001b[0m\u001b[0;34m.\u001b[0m\u001b[0mappend\u001b[0m\u001b[0;34m(\u001b[0m\u001b[0mimage_clip\u001b[0m\u001b[0;34m)\u001b[0m\u001b[0;34m\u001b[0m\u001b[0;34m\u001b[0m\u001b[0m\n\u001b[1;32m     53\u001b[0m            \u001b[0mvideo\u001b[0m \u001b[0;34m=\u001b[0m \u001b[0mconcatenate_videoclips\u001b[0m\u001b[0;34m(\u001b[0m\u001b[0mimage_clips\u001b[0m\u001b[0;34m)\u001b[0m\u001b[0;34m\u001b[0m\u001b[0;34m\u001b[0m\u001b[0m\n\u001b[0;32m---> 54\u001b[0;31m            \u001b[0mvideo\u001b[0m \u001b[0;34m=\u001b[0m \u001b[0mVideoClip\u001b[0m\u001b[0;34m(\u001b[0m\u001b[0mvideo\u001b[0m\u001b[0;34m)\u001b[0m\u001b[0;34m\u001b[0m\u001b[0;34m\u001b[0m\u001b[0m\n\u001b[0m\u001b[1;32m     55\u001b[0m         \u001b[0;32mreturn\u001b[0m \u001b[0mvideo\u001b[0m\u001b[0;34m\u001b[0m\u001b[0;34m\u001b[0m\u001b[0m\n\u001b[1;32m     56\u001b[0m \u001b[0;34m\u001b[0m\u001b[0m\n",
      "\u001b[0;32m/usr/local/lib/python3.10/dist-packages/moviepy/video/VideoClip.py\u001b[0m in \u001b[0;36m__init__\u001b[0;34m(self, make_frame, ismask, duration, has_constant_size)\u001b[0m\n\u001b[1;32m     84\u001b[0m         \u001b[0;32mif\u001b[0m \u001b[0mmake_frame\u001b[0m\u001b[0;34m:\u001b[0m\u001b[0;34m\u001b[0m\u001b[0;34m\u001b[0m\u001b[0m\n\u001b[1;32m     85\u001b[0m             \u001b[0mself\u001b[0m\u001b[0;34m.\u001b[0m\u001b[0mmake_frame\u001b[0m \u001b[0;34m=\u001b[0m \u001b[0mmake_frame\u001b[0m\u001b[0;34m\u001b[0m\u001b[0;34m\u001b[0m\u001b[0m\n\u001b[0;32m---> 86\u001b[0;31m             \u001b[0mself\u001b[0m\u001b[0;34m.\u001b[0m\u001b[0msize\u001b[0m \u001b[0;34m=\u001b[0m \u001b[0mself\u001b[0m\u001b[0;34m.\u001b[0m\u001b[0mget_frame\u001b[0m\u001b[0;34m(\u001b[0m\u001b[0;36m0\u001b[0m\u001b[0;34m)\u001b[0m\u001b[0;34m.\u001b[0m\u001b[0mshape\u001b[0m\u001b[0;34m[\u001b[0m\u001b[0;34m:\u001b[0m\u001b[0;36m2\u001b[0m\u001b[0;34m]\u001b[0m\u001b[0;34m[\u001b[0m\u001b[0;34m:\u001b[0m\u001b[0;34m:\u001b[0m\u001b[0;34m-\u001b[0m\u001b[0;36m1\u001b[0m\u001b[0;34m]\u001b[0m\u001b[0;34m\u001b[0m\u001b[0;34m\u001b[0m\u001b[0m\n\u001b[0m\u001b[1;32m     87\u001b[0m         \u001b[0mself\u001b[0m\u001b[0;34m.\u001b[0m\u001b[0mismask\u001b[0m \u001b[0;34m=\u001b[0m \u001b[0mismask\u001b[0m\u001b[0;34m\u001b[0m\u001b[0;34m\u001b[0m\u001b[0m\n\u001b[1;32m     88\u001b[0m         \u001b[0mself\u001b[0m\u001b[0;34m.\u001b[0m\u001b[0mhas_constant_size\u001b[0m\u001b[0;34m=\u001b[0m\u001b[0mhas_constant_size\u001b[0m\u001b[0;34m\u001b[0m\u001b[0;34m\u001b[0m\u001b[0m\n",
      "\u001b[0;32m<decorator-gen-128>\u001b[0m in \u001b[0;36mget_frame\u001b[0;34m(self, t)\u001b[0m\n",
      "\u001b[0;32m/usr/local/lib/python3.10/dist-packages/moviepy/decorators.py\u001b[0m in \u001b[0;36mwrapper\u001b[0;34m(f, *a, **kw)\u001b[0m\n\u001b[1;32m     87\u001b[0m         new_kw = {k: fun(v) if k in varnames else v\n\u001b[1;32m     88\u001b[0m                  for (k,v) in kw.items()}\n\u001b[0;32m---> 89\u001b[0;31m         \u001b[0;32mreturn\u001b[0m \u001b[0mf\u001b[0m\u001b[0;34m(\u001b[0m\u001b[0;34m*\u001b[0m\u001b[0mnew_a\u001b[0m\u001b[0;34m,\u001b[0m \u001b[0;34m**\u001b[0m\u001b[0mnew_kw\u001b[0m\u001b[0;34m)\u001b[0m\u001b[0;34m\u001b[0m\u001b[0;34m\u001b[0m\u001b[0m\n\u001b[0m\u001b[1;32m     90\u001b[0m     \u001b[0;32mreturn\u001b[0m \u001b[0mdecorator\u001b[0m\u001b[0;34m.\u001b[0m\u001b[0mdecorator\u001b[0m\u001b[0;34m(\u001b[0m\u001b[0mwrapper\u001b[0m\u001b[0;34m)\u001b[0m\u001b[0;34m\u001b[0m\u001b[0;34m\u001b[0m\u001b[0m\n\u001b[1;32m     91\u001b[0m \u001b[0;34m\u001b[0m\u001b[0m\n",
      "\u001b[0;32m/usr/local/lib/python3.10/dist-packages/moviepy/Clip.py\u001b[0m in \u001b[0;36mget_frame\u001b[0;34m(self, t)\u001b[0m\n\u001b[1;32m     91\u001b[0m                 \u001b[0;32mreturn\u001b[0m \u001b[0mframe\u001b[0m\u001b[0;34m\u001b[0m\u001b[0;34m\u001b[0m\u001b[0m\n\u001b[1;32m     92\u001b[0m         \u001b[0;32melse\u001b[0m\u001b[0;34m:\u001b[0m\u001b[0;34m\u001b[0m\u001b[0;34m\u001b[0m\u001b[0m\n\u001b[0;32m---> 93\u001b[0;31m             \u001b[0;32mreturn\u001b[0m \u001b[0mself\u001b[0m\u001b[0;34m.\u001b[0m\u001b[0mmake_frame\u001b[0m\u001b[0;34m(\u001b[0m\u001b[0mt\u001b[0m\u001b[0;34m)\u001b[0m\u001b[0;34m\u001b[0m\u001b[0;34m\u001b[0m\u001b[0m\n\u001b[0m\u001b[1;32m     94\u001b[0m \u001b[0;34m\u001b[0m\u001b[0m\n\u001b[1;32m     95\u001b[0m     \u001b[0;32mdef\u001b[0m \u001b[0mfl\u001b[0m\u001b[0;34m(\u001b[0m\u001b[0mself\u001b[0m\u001b[0;34m,\u001b[0m \u001b[0mfun\u001b[0m\u001b[0;34m,\u001b[0m \u001b[0mapply_to\u001b[0m\u001b[0;34m=\u001b[0m\u001b[0;32mNone\u001b[0m\u001b[0;34m,\u001b[0m \u001b[0mkeep_duration\u001b[0m\u001b[0;34m=\u001b[0m\u001b[0;32mTrue\u001b[0m\u001b[0;34m)\u001b[0m\u001b[0;34m:\u001b[0m\u001b[0;34m\u001b[0m\u001b[0;34m\u001b[0m\u001b[0m\n",
      "\u001b[0;31mTypeError\u001b[0m: 'VideoClip' object is not callable"
     ]
    }
   ],
   "source": [
    "def combine_clips(more_clips, num_slice_of_videolist, effect):\n",
    "    # Load the video clips from the file list and create subclips\n",
    "    clips = more_clips\n",
    "\n",
    "    # Apply effects to the clips based on num_slice_of_videolist and effect lists\n",
    "    processed_clips = []\n",
    "\n",
    "    for i in range(len(num_slice_of_videolist)):\n",
    "        effect_name = effect[i]\n",
    "        effect_func = globals()[effect_name]  # Get the effect function by name\n",
    "        slice_range = num_slice_of_videolist[i]\n",
    "        sliced_clips = clips[slice_range]\n",
    "\n",
    "        # Apply the effect function to the sliced clips\n",
    "        effect_clip = effect_func(sliced_clips)\n",
    "        processed_clips.append(effect_clip)\n",
    "\n",
    "    cliptransition = create_crossfade_video(processed_clips)\n",
    "\n",
    "    # Concatenate all the processed clips\n",
    "    final_clip = concatenate_videoclips([cliptransition])\n",
    "\n",
    "    # Export the final concatenated clip\n",
    "    final_clip.write_videofile(\"output.mp4\", codec=\"libx264\", bitrate=\"5000k\")\n",
    "\n",
    "num_slice_of_videolist = [slice(0, 2), slice(2, 5), slice(5, 8), slice(8, 10), slice(10, 12)]\n",
    "effects = ['create_crossfade_video', 'create_slidein', 'create_slidein', 'create_crossfade_video', 'create_slidein']\n",
    "\n",
    "combine_clips(video_clips, num_slice_of_videolist, effects)"
   ]
  },
  {
   "cell_type": "code",
   "execution_count": 9,
   "metadata": {
    "colab": {
     "base_uri": "https://localhost:8080/"
    },
    "id": "w67DGpBRE8DQ",
    "outputId": "08c54182-c8fc-49be-c790-84c9be85a5a4"
   },
   "outputs": [
    {
     "data": {
      "text/plain": [
       "['create_crossfade_video',\n",
       " 'create_slidein',\n",
       " 'create_crossfade_video',\n",
       " 'create_slidein',\n",
       " 'create_crossfade_video',\n",
       " 'create_slidein']"
      ]
     },
     "execution_count": 9,
     "metadata": {},
     "output_type": "execute_result"
    }
   ],
   "source": [
    "effect_list"
   ]
  },
  {
   "cell_type": "code",
   "execution_count": 4,
   "metadata": {
    "colab": {
     "base_uri": "https://localhost:8080/"
    },
    "id": "SIUngiV8nr8y",
    "outputId": "ebf964b5-4aa4-4622-bb64-28526c1c9f39"
   },
   "outputs": [
    {
     "name": "stdout",
     "output_type": "stream",
     "text": [
      "[<moviepy.video.compositing.CompositeVideoClip.CompositeVideoClip object at 0x000001574ADE9570>]\n",
      "[<moviepy.video.compositing.CompositeVideoClip.CompositeVideoClip object at 0x000001574ADE9570>, <moviepy.video.compositing.CompositeVideoClip.CompositeVideoClip object at 0x00000157256A4400>]\n",
      "[<moviepy.video.compositing.CompositeVideoClip.CompositeVideoClip object at 0x000001574ADE9570>, <moviepy.video.compositing.CompositeVideoClip.CompositeVideoClip object at 0x00000157256A4400>, <moviepy.video.compositing.CompositeVideoClip.CompositeVideoClip object at 0x00000157AF9C5BD0>]\n",
      "[<moviepy.video.compositing.CompositeVideoClip.CompositeVideoClip object at 0x000001574ADE9570>, <moviepy.video.compositing.CompositeVideoClip.CompositeVideoClip object at 0x00000157256A4400>, <moviepy.video.compositing.CompositeVideoClip.CompositeVideoClip object at 0x00000157AF9C5BD0>, <moviepy.video.compositing.CompositeVideoClip.CompositeVideoClip object at 0x0000015757667FD0>]\n",
      "[<moviepy.video.compositing.CompositeVideoClip.CompositeVideoClip object at 0x000001574ADE9570>, <moviepy.video.compositing.CompositeVideoClip.CompositeVideoClip object at 0x00000157256A4400>, <moviepy.video.compositing.CompositeVideoClip.CompositeVideoClip object at 0x00000157AF9C5BD0>, <moviepy.video.compositing.CompositeVideoClip.CompositeVideoClip object at 0x0000015757667FD0>, <moviepy.video.compositing.CompositeVideoClip.CompositeVideoClip object at 0x00000157B07FE050>]\n",
      "Moviepy - Building video output.mp4.\n",
      "MoviePy - Writing audio in outputTEMP_MPY_wvf_snd.mp3\n"
     ]
    },
    {
     "name": "stderr",
     "output_type": "stream",
     "text": [
      "                                                                                                                       \r"
     ]
    },
    {
     "name": "stdout",
     "output_type": "stream",
     "text": [
      "MoviePy - Done.\n",
      "Moviepy - Writing video output.mp4\n",
      "\n"
     ]
    },
    {
     "name": "stderr",
     "output_type": "stream",
     "text": [
      "                                                                                                                       \r"
     ]
    },
    {
     "name": "stdout",
     "output_type": "stream",
     "text": [
      "Moviepy - Done !\n",
      "Moviepy - video ready output.mp4\n"
     ]
    }
   ],
   "source": [
    "def combine_clips(more_clips, num_slice_of_videolist, effect):\n",
    "    # Load the video clips from the file list and create subclips\n",
    "    clips = more_clips\n",
    "\n",
    "    # Apply effects to the clips based on num_slice_of_videolist and effect lists\n",
    "    processed_clips = []\n",
    "\n",
    "    for i in range(len(num_slice_of_videolist)):\n",
    "        effect_name = effect[i]\n",
    "        effect_func = globals()[effect_name]  # Get the effect function by name\n",
    "        slice_range = num_slice_of_videolist[i]\n",
    "        sliced_clips = clips[slice_range]\n",
    "\n",
    "        # Apply the effect function to the sliced clips\n",
    "        effect_clip = effect_func(sliced_clips)\n",
    "        processed_clips.append(effect_clip)\n",
    "        print(processed_clips)\n",
    "\n",
    "    cliptransition = create_crossfade_video(processed_clips)\n",
    "\n",
    "    # Concatenate all the processed clips\n",
    "    final_clip = concatenate_videoclips([cliptransition],method=\"compose\")\n",
    "\n",
    "    # Export the final concatenated clip\n",
    "    final_clip.write_videofile(\"output.mp4\", codec=\"libx264\", bitrate=\"5000k\")\n",
    "\n",
    "num_slice_of_videolist = [slice(0, 2), slice(2, 5), slice(5, 8), slice(8, 10), slice(10, 12)]\n",
    "effects = ['create_crossfade_video', 'create_slidein', 'create_slidein', 'create_crossfade_video', 'create_slidein']\n",
    "\n",
    "combine_clips(video_clips, num_slice_of_videolist, effects)"
   ]
  },
  {
   "cell_type": "code",
   "execution_count": 39,
   "metadata": {
    "id": "6E6jbCgZ-Op0"
   },
   "outputs": [],
   "source": [
    "from moviepy.editor import *\n",
    "\n",
    "def create_crossfade_video1(clips):\n",
    "    padding = 0.6\n",
    "    video_fx_list = [clips[0]]\n",
    "    idx = clips[0].duration - padding\n",
    "\n",
    "    for video in clips[1:]:\n",
    "        video_fx_list.append(video.set_start(idx).crossfadein(padding))\n",
    "        idx += video.duration - padding\n",
    "\n",
    "    final_video = CompositeVideoClip(video_fx_list)\n",
    "    return final_video\n"
   ]
  },
  {
   "cell_type": "code",
   "execution_count": null,
   "metadata": {
    "colab": {
     "base_uri": "https://localhost:8080/"
    },
    "id": "_2suM6_5dnwG",
    "outputId": "27152bc9-ba1d-4aac-937a-285f1cb05420"
   },
   "outputs": [
    {
     "name": "stdout",
     "output_type": "stream",
     "text": [
      "[<moviepy.video.io.VideoFileClip.VideoFileClip object at 0x7c92beaa69b0>, <moviepy.video.io.VideoFileClip.VideoFileClip object at 0x7c92beaa6140>]\n",
      "[<moviepy.video.io.VideoFileClip.VideoFileClip object at 0x7c92beaa7be0>, <moviepy.video.io.VideoFileClip.VideoFileClip object at 0x7c92beaa5600>, <moviepy.video.io.VideoFileClip.VideoFileClip object at 0x7c92beaa6da0>]\n",
      "[<moviepy.video.io.VideoFileClip.VideoFileClip object at 0x7c92beaa6d10>, <moviepy.video.io.VideoFileClip.VideoFileClip object at 0x7c92beaa76d0>, <moviepy.video.io.VideoFileClip.VideoFileClip object at 0x7c92beaa4fa0>]\n",
      "[<moviepy.video.io.VideoFileClip.VideoFileClip object at 0x7c92beaa5a50>, <moviepy.video.io.VideoFileClip.VideoFileClip object at 0x7c92beaa4a60>]\n",
      "[<moviepy.video.io.VideoFileClip.VideoFileClip object at 0x7c92beaa51e0>, <moviepy.video.io.VideoFileClip.VideoFileClip object at 0x7c92beaa78b0>]\n"
     ]
    }
   ],
   "source": [
    "num_slice_of_videolist = [slice(0, 2), slice(2, 5), slice(5, 8), slice(8, 10), slice(10, 12)]\n",
    "for t in num_slice_of_videolist:\n",
    "  print(more_clips[t])"
   ]
  },
  {
   "cell_type": "code",
   "execution_count": 33,
   "metadata": {
    "colab": {
     "base_uri": "https://localhost:8080/"
    },
    "id": "2LIBFvOyD4jV",
    "outputId": "f5ce10bb-db04-4888-8360-83d7b20d1382"
   },
   "outputs": [
    {
     "name": "stdout",
     "output_type": "stream",
     "text": [
      "Requirement already satisfied: fastapi in /usr/local/lib/python3.10/dist-packages (0.99.1)\n",
      "Requirement already satisfied: uvicorn[standard] in /usr/local/lib/python3.10/dist-packages (0.23.0)\n",
      "Requirement already satisfied: python-multipart in /usr/local/lib/python3.10/dist-packages (0.0.6)\n",
      "Requirement already satisfied: python-jose[cryptography] in /usr/local/lib/python3.10/dist-packages (3.3.0)\n",
      "Requirement already satisfied: passlib[bcrypt] in /usr/local/lib/python3.10/dist-packages (1.7.4)\n",
      "Requirement already satisfied: pydantic!=1.8,!=1.8.1,<2.0.0,>=1.7.4 in /usr/local/lib/python3.10/dist-packages (from fastapi) (1.10.11)\n",
      "Requirement already satisfied: starlette<0.28.0,>=0.27.0 in /usr/local/lib/python3.10/dist-packages (from fastapi) (0.27.0)\n",
      "Requirement already satisfied: typing-extensions>=4.5.0 in /usr/local/lib/python3.10/dist-packages (from fastapi) (4.7.1)\n",
      "Requirement already satisfied: click>=7.0 in /usr/local/lib/python3.10/dist-packages (from uvicorn[standard]) (8.1.4)\n",
      "Requirement already satisfied: h11>=0.8 in /usr/local/lib/python3.10/dist-packages (from uvicorn[standard]) (0.14.0)\n",
      "Requirement already satisfied: httptools>=0.5.0 in /usr/local/lib/python3.10/dist-packages (from uvicorn[standard]) (0.6.0)\n",
      "Requirement already satisfied: python-dotenv>=0.13 in /usr/local/lib/python3.10/dist-packages (from uvicorn[standard]) (1.0.0)\n",
      "Requirement already satisfied: pyyaml>=5.1 in /usr/local/lib/python3.10/dist-packages (from uvicorn[standard]) (6.0)\n",
      "Requirement already satisfied: uvloop!=0.15.0,!=0.15.1,>=0.14.0 in /usr/local/lib/python3.10/dist-packages (from uvicorn[standard]) (0.17.0)\n",
      "Requirement already satisfied: watchfiles>=0.13 in /usr/local/lib/python3.10/dist-packages (from uvicorn[standard]) (0.19.0)\n",
      "Requirement already satisfied: websockets>=10.4 in /usr/local/lib/python3.10/dist-packages (from uvicorn[standard]) (11.0.3)\n",
      "Requirement already satisfied: ecdsa!=0.15 in /usr/local/lib/python3.10/dist-packages (from python-jose[cryptography]) (0.18.0)\n",
      "Requirement already satisfied: rsa in /usr/local/lib/python3.10/dist-packages (from python-jose[cryptography]) (4.9)\n",
      "Requirement already satisfied: pyasn1 in /usr/local/lib/python3.10/dist-packages (from python-jose[cryptography]) (0.5.0)\n",
      "Requirement already satisfied: cryptography>=3.4.0 in /usr/local/lib/python3.10/dist-packages (from python-jose[cryptography]) (41.0.2)\n",
      "Requirement already satisfied: bcrypt>=3.1.0 in /usr/local/lib/python3.10/dist-packages (from passlib[bcrypt]) (4.0.1)\n",
      "Requirement already satisfied: cffi>=1.12 in /usr/local/lib/python3.10/dist-packages (from cryptography>=3.4.0->python-jose[cryptography]) (1.15.1)\n",
      "Requirement already satisfied: six>=1.9.0 in /usr/local/lib/python3.10/dist-packages (from ecdsa!=0.15->python-jose[cryptography]) (1.16.0)\n",
      "Requirement already satisfied: anyio<5,>=3.4.0 in /usr/local/lib/python3.10/dist-packages (from starlette<0.28.0,>=0.27.0->fastapi) (3.7.1)\n",
      "Requirement already satisfied: idna>=2.8 in /usr/local/lib/python3.10/dist-packages (from anyio<5,>=3.4.0->starlette<0.28.0,>=0.27.0->fastapi) (3.4)\n",
      "Requirement already satisfied: sniffio>=1.1 in /usr/local/lib/python3.10/dist-packages (from anyio<5,>=3.4.0->starlette<0.28.0,>=0.27.0->fastapi) (1.3.0)\n",
      "Requirement already satisfied: exceptiongroup in /usr/local/lib/python3.10/dist-packages (from anyio<5,>=3.4.0->starlette<0.28.0,>=0.27.0->fastapi) (1.1.2)\n",
      "Requirement already satisfied: pycparser in /usr/local/lib/python3.10/dist-packages (from cffi>=1.12->cryptography>=3.4.0->python-jose[cryptography]) (2.21)\n"
     ]
    }
   ],
   "source": [
    "!pip install fastapi uvicorn[standard] python-multipart python-jose[cryptography] passlib[bcrypt]"
   ]
  },
  {
   "cell_type": "code",
   "execution_count": null,
   "metadata": {
    "id": "DeFnUdZTG5XR"
   },
   "outputs": [],
   "source": []
  },
  {
   "cell_type": "code",
   "execution_count": null,
   "metadata": {
    "id": "u2segyUNG6WY"
   },
   "outputs": [],
   "source": []
  },
  {
   "cell_type": "code",
   "execution_count": null,
   "metadata": {
    "id": "oZJoiUvdG6TA"
   },
   "outputs": [],
   "source": []
  },
  {
   "cell_type": "code",
   "execution_count": null,
   "metadata": {
    "id": "5aBoM1JFG6Ip"
   },
   "outputs": [],
   "source": []
  },
  {
   "cell_type": "code",
   "execution_count": null,
   "metadata": {
    "id": "oe33-yBFD4sG"
   },
   "outputs": [],
   "source": []
  },
  {
   "cell_type": "code",
   "execution_count": null,
   "metadata": {
    "id": "H6KGjYqXCEt2"
   },
   "outputs": [],
   "source": [
    "client.delete_collection('effects')"
   ]
  },
  {
   "cell_type": "code",
   "execution_count": null,
   "metadata": {
    "id": "-PGRuwfaDiDC"
   },
   "outputs": [],
   "source": [
    "!rm -rf dahyunvideo/"
   ]
  }
 ],
 "metadata": {
  "colab": {
   "provenance": []
  },
  "kernelspec": {
   "display_name": "Python 3 (ipykernel)",
   "language": "python",
   "name": "python3"
  },
  "language_info": {
   "codemirror_mode": {
    "name": "ipython",
    "version": 3
   },
   "file_extension": ".py",
   "mimetype": "text/x-python",
   "name": "python",
   "nbconvert_exporter": "python",
   "pygments_lexer": "ipython3",
   "version": "3.10.5"
  }
 },
 "nbformat": 4,
 "nbformat_minor": 4
}
