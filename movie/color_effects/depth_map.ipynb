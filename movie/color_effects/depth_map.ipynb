{
 "cells": [
  {
   "cell_type": "code",
   "execution_count": null,
   "id": "d4addfd8-c353-4d82-8418-ef8ba9b1bc96",
   "metadata": {},
   "outputs": [],
   "source": [
    "from PIL import Image\n",
    "import numpy as np\n",
    "import requests\n",
    "import torch\n",
    "\n",
    "from transformers import DPTForDepthEstimation, DPTFeatureExtractor\n",
    "# , low_cpu_mem_usage=True\n",
    "model = DPTForDepthEstimation.from_pretrained(\"Intel/dpt-hybrid-midas\").to('cpu')\n",
    "feature_extractor = DPTFeatureExtractor.from_pretrained(\"Intel/dpt-hybrid-midas\")\n",
    "\n",
    "url = \"http://images.cocodataset.org/val2017/000000039769.jpg\"\n",
    "image = Image.open(requests.get(url, stream=True).raw)\n",
    "\n",
    "# prepare image for the model\n",
    "inputs = feature_extractor(images=image, return_tensors=\"pt\")\n",
    "\n",
    "with torch.no_grad():\n",
    "    outputs = model(**inputs)\n",
    "    predicted_depth = outputs.predicted_depth\n",
    "\n",
    "# interpolate to original size\n",
    "prediction = torch.nn.functional.interpolate(\n",
    "    predicted_depth.unsqueeze(1),\n",
    "    size=image.size[::-1],\n",
    "    mode=\"bicubic\",\n",
    "    align_corners=False,\n",
    ")\n",
    "\n",
    "# visualize the prediction\n",
    "output = prediction.squeeze().cpu().numpy()\n",
    "formatted = (output * 255 / np.max(output)).astype(\"uint8\")\n",
    "depth = Image.fromarray(formatted)\n",
    "depth.show()\n"
   ]
  },
  {
   "cell_type": "code",
   "execution_count": 1,
   "id": "51cc55fc-53f8-4570-86e0-12c1c79efbd9",
   "metadata": {},
   "outputs": [
    {
     "name": "stderr",
     "output_type": "stream",
     "text": [
      "C:\\Users\\ALL USER\\AppData\\Roaming\\Python\\Python310\\site-packages\\transformers\\models\\dpt\\feature_extraction_dpt.py:28: FutureWarning: The class DPTFeatureExtractor is deprecated and will be removed in version 5 of Transformers. Please use DPTImageProcessor instead.\n",
      "  warnings.warn(\n"
     ]
    }
   ],
   "source": [
    "from PIL import Image\n",
    "import numpy as np\n",
    "import requests\n",
    "import torch\n",
    "\n",
    "from transformers import DPTForDepthEstimation, DPTFeatureExtractor\n",
    "# , low_cpu_mem_usage=True\n",
    "model = DPTForDepthEstimation.from_pretrained(\"Intel/dpt-hybrid-midas\").to('cpu')\n",
    "feature_extractor = DPTFeatureExtractor.from_pretrained(\"Intel/dpt-hybrid-midas\")"
   ]
  },
  {
   "cell_type": "code",
   "execution_count": 2,
   "id": "e37e508f-13c2-4253-b91c-ac469aef2e05",
   "metadata": {},
   "outputs": [],
   "source": [
    "\n",
    "image = Image.open('n.jpeg')\n",
    "\n",
    "# prepare image for the model\n",
    "inputs = feature_extractor(images=image, return_tensors=\"pt\")\n",
    "\n",
    "with torch.no_grad():\n",
    "    outputs = model(**inputs)\n",
    "    predicted_depth = outputs.predicted_depth\n",
    "\n",
    "# interpolate to original size\n",
    "prediction = torch.nn.functional.interpolate(\n",
    "    predicted_depth.unsqueeze(1),\n",
    "    size=image.size[::-1],\n",
    "    mode=\"bicubic\",\n",
    "    align_corners=False,\n",
    ")\n",
    "\n",
    "# visualize the prediction\n",
    "output = prediction.squeeze().cpu().numpy()\n",
    "formatted = (output * 255 / np.max(output)).astype(\"uint8\")\n",
    "depth = Image.fromarray(formatted)\n",
    "depth.show()\n"
   ]
  },
  {
   "cell_type": "code",
   "execution_count": 3,
   "id": "56ae43ab-0cfe-4225-a7c7-7a7c523a0381",
   "metadata": {},
   "outputs": [],
   "source": [
    "depth.save('depth.png')"
   ]
  },
  {
   "cell_type": "code",
   "execution_count": 3,
   "id": "7fef273e-d12c-4174-87cc-8fe4046d9c02",
   "metadata": {},
   "outputs": [],
   "source": [
    "del model"
   ]
  },
  {
   "cell_type": "code",
   "execution_count": null,
   "id": "f9081a94-96d8-4e93-9665-b0e88f6eacdc",
   "metadata": {},
   "outputs": [],
   "source": []
  }
 ],
 "metadata": {
  "kernelspec": {
   "display_name": "Python 3 (ipykernel)",
   "language": "python",
   "name": "python3"
  },
  "language_info": {
   "codemirror_mode": {
    "name": "ipython",
    "version": 3
   },
   "file_extension": ".py",
   "mimetype": "text/x-python",
   "name": "python",
   "nbconvert_exporter": "python",
   "pygments_lexer": "ipython3",
   "version": "3.10.5"
  }
 },
 "nbformat": 4,
 "nbformat_minor": 5
}
