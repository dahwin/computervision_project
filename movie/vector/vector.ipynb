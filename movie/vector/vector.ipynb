{
 "cells": [
  {
   "cell_type": "code",
   "execution_count": 2,
   "id": "3c9db450-fe2f-48d1-b26b-befc7f008d05",
   "metadata": {},
   "outputs": [
    {
     "name": "stdout",
     "output_type": "stream",
     "text": [
      "Moviepy - Building video dahwin.mp4.\n",
      "MoviePy - Writing audio in dahwinTEMP_MPY_wvf_snd.mp3\n"
     ]
    },
    {
     "name": "stderr",
     "output_type": "stream",
     "text": [
      "                                                                                                                       \r"
     ]
    },
    {
     "name": "stdout",
     "output_type": "stream",
     "text": [
      "MoviePy - Done.\n",
      "Moviepy - Writing video dahwin.mp4\n",
      "\n"
     ]
    },
    {
     "name": "stderr",
     "output_type": "stream",
     "text": [
      "                                                                                                                       \r"
     ]
    },
    {
     "name": "stdout",
     "output_type": "stream",
     "text": [
      "Moviepy - Done !\n",
      "Moviepy - video ready dahwin.mp4\n"
     ]
    }
   ],
   "source": [
    "import gizeh\n",
    "from moviepy.editor import *\n",
    "\n",
    "def make_frame(t):\n",
    "    surface = gizeh.Surface(width=720, height=1280)\n",
    "    line = gizeh.polyline(points=[(0, 1180), (720, 1180)], stroke_width=10, stroke=(1, 0, 0))\n",
    "    line.draw(surface)\n",
    "    return surface.get_npimage(transparent=True)\n",
    "\n",
    "original_clip = VideoFileClip(\"fancy.mp4\")\n",
    "\n",
    "graphics_clip_mask = VideoClip(lambda t: make_frame(t)[:, :, 3] / 255.0, \n",
    "                               duration=original_clip.duration, ismask=True)\n",
    "graphics_clip = VideoClip(lambda t: make_frame(t)[:, :, :3],\n",
    "                          duration=original_clip.duration).set_mask(graphics_clip_mask)\n",
    "\n",
    "final_clip = CompositeVideoClip(\n",
    "    [original_clip,\n",
    "     graphics_clip],\n",
    "    size=(720, 1280)\n",
    ")\n",
    "\n",
    "final_clip.write_videofile(\"dahwin.mp4\", fps=30)\n"
   ]
  },
  {
   "cell_type": "code",
   "execution_count": null,
   "id": "5c1fae88-2283-41bd-b410-9ad7a348afba",
   "metadata": {},
   "outputs": [],
   "source": []
  }
 ],
 "metadata": {
  "kernelspec": {
   "display_name": "Python 3 (ipykernel)",
   "language": "python",
   "name": "python3"
  },
  "language_info": {
   "codemirror_mode": {
    "name": "ipython",
    "version": 3
   },
   "file_extension": ".py",
   "mimetype": "text/x-python",
   "name": "python",
   "nbconvert_exporter": "python",
   "pygments_lexer": "ipython3",
   "version": "3.10.5"
  }
 },
 "nbformat": 4,
 "nbformat_minor": 5
}
