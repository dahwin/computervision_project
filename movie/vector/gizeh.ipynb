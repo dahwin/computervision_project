{
 "cells": [
  {
   "cell_type": "code",
   "execution_count": 1,
   "id": "5ed2c5fe-872f-45d6-8ac3-09561065d7c1",
   "metadata": {},
   "outputs": [
    {
     "data": {
      "text/html": [
       "<img  src=\"data:image/png;base64,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\">"
      ],
      "text/plain": [
       "<IPython.core.display.HTML object>"
      ]
     },
     "execution_count": 1,
     "metadata": {},
     "output_type": "execute_result"
    }
   ],
   "source": [
    "import gizeh as gz\n",
    "import numpy as np\n",
    "\n",
    "W, H = 500, 300\n",
    "r, gray = 25., .3\n",
    "\n",
    "surface = gz.Surface(W,H, bg_color=(1,1,0)) # yellow background\n",
    "\n",
    "N = 5\n",
    "for x, radius1 in zip(np.linspace(W/8., 7*W/8., N), np.logspace(-2, 2, N, base=2)*r):\n",
    "    gradient = gz.ColorGradient(type=\"radial\", stops_colors=[(0,(gray, gray, gray)), (1, (1, 1, 1))],\n",
    "                                xy1=[0, 0], xy2=[0, 0], xy3=[0, radius1])\n",
    "    gz.circle(r=r, xy=(x, H/2.), fill=gradient).draw(surface)\n",
    "surface.ipython_display()"
   ]
  },
  {
   "cell_type": "code",
   "execution_count": 1,
   "id": "e1ffa69d-9fa9-42df-99b5-ff06e9a57d6c",
   "metadata": {},
   "outputs": [],
   "source": [
    "import gizeh\n",
    "surface = gizeh.Surface(width=320, height=260) # dimensions in pixel\n",
    "circle = gizeh.circle (r=40, # radius, in pixels\n",
    "                       xy= [156, 200], # coordinates of the center\n",
    "                       fill= (1,0,0)) # 'red' in RGB coordinates\n",
    "circle.draw( surface ) # draw the circle on the surface\n",
    "surface.get_npimage() # export as a numpy array (we will use that)\n",
    "surface.write_to_png(\"my_drawing.png\") # export as a PNG"
   ]
  },
  {
   "cell_type": "code",
   "execution_count": 2,
   "id": "d200601e-4192-468b-ae9f-0a08807df2ab",
   "metadata": {},
   "outputs": [
    {
     "data": {
      "image/png": "[encoded data removed]",
      "text/plain": [
       "<PIL.PngImagePlugin.PngImageFile image mode=RGBA size=320x260>"
      ]
     },
     "metadata": {},
     "output_type": "display_data"
    }
   ],
   "source": [
    "from PIL import Image\n",
    "import IPython.display as display\n",
    "\n",
    "# Open the image file\n",
    "image = Image.open(\"my_drawing.png\")\n",
    "\n",
    "# Display the image using IPython.display\n",
    "display.display(image)\n"
   ]
  },
  {
   "cell_type": "code",
   "execution_count": 4,
   "id": "633274b5-d28b-4b0f-8aad-a2b53bc99a85",
   "metadata": {},
   "outputs": [
    {
     "name": "stdout",
     "output_type": "stream",
     "text": [
      "MoviePy - Building file my_animation.gif with imageio.\n"
     ]
    },
    {
     "name": "stderr",
     "output_type": "stream",
     "text": [
      "                                                                                                                       \r"
     ]
    }
   ],
   "source": [
    "import gizeh\n",
    "from moviepy.editor import VideoClip\n",
    "import numpy as np\n",
    "\n",
    "# Create a function to generate the frame for the animation\n",
    "def make_frame(t):\n",
    "    surface = gizeh.Surface(width=320, height=260)  # Create a new surface for each frame\n",
    "    radius = 40  # Radius of the circle\n",
    "    x = 156  # X-coordinate of the circle's center\n",
    "    y = 200 + 50 * np.sin(2 * np.pi * t)  # Y-coordinate with a sine wave animation\n",
    "    circle = gizeh.circle(r=radius, xy=[x, y], fill=(1, 0, 0))\n",
    "    circle.draw(surface)\n",
    "    return surface.get_npimage()\n",
    "\n",
    "# Create a VideoClip using the make_frame function\n",
    "clip = VideoClip(make_frame, duration=3)  # 3-second animation\n",
    "\n",
    "# Export the animation as a GIF\n",
    "clip.write_gif(\"my_animation.gif\", fps=24)  # export as GIF\n"
   ]
  },
  {
   "cell_type": "code",
   "execution_count": 5,
   "id": "5c53e087-9e2d-4a73-9aaf-1f928ed8cdfd",
   "metadata": {},
   "outputs": [
    {
     "data": {
      "image/png": "[encoded data removed]",
      "text/plain": [
       "<PIL.GifImagePlugin.GifImageFile image mode=P size=320x260>"
      ]
     },
     "metadata": {},
     "output_type": "display_data"
    }
   ],
   "source": [
    "from PIL import Image\n",
    "import IPython.display as display\n",
    "\n",
    "# Open the image file\n",
    "image = Image.open(\"my_animation.gif\")\n",
    "\n",
    "# Display the image using IPython.display\n",
    "display.display(image)"
   ]
  },
  {
   "cell_type": "markdown",
   "id": "c1fa70af-608e-4172-b068-cb5648f80d92",
   "metadata": {},
   "source": [
    "# E1"
   ]
  },
  {
   "cell_type": "code",
   "execution_count": 6,
   "id": "075f2c93-0499-4dac-8213-bfb9cc8033d8",
   "metadata": {},
   "outputs": [
    {
     "name": "stdout",
     "output_type": "stream",
     "text": [
      "MoviePy - Building file circle.gif with imageio.\n"
     ]
    },
    {
     "name": "stderr",
     "output_type": "stream",
     "text": [
      "                                                                                                                       \r"
     ]
    }
   ],
   "source": [
    "import gizeh\n",
    "import moviepy.editor as mpy\n",
    "\n",
    "W,H = 128,128 # width, height, in pixels\n",
    "duration = 2 # duration of the clip, in seconds\n",
    "\n",
    "def make_frame(t):\n",
    "    surface = gizeh.Surface(W,H)\n",
    "    radius = W*(1+ (t*(duration-t))**2 )/6\n",
    "    circle = gizeh.circle(radius, xy = (W/2,H/2), fill=(1,0,0))\n",
    "    circle.draw(surface)\n",
    "    return surface.get_npimage()\n",
    "\n",
    "clip = mpy.VideoClip(make_frame, duration=duration)\n",
    "clip.write_gif(\"circle.gif\",fps=15, opt=\"OptimizePlus\", fuzz=10)"
   ]
  },
  {
   "cell_type": "code",
   "execution_count": 7,
   "id": "2d5e6e13-20b2-4c2b-b081-400f62bd1981",
   "metadata": {},
   "outputs": [
    {
     "data": {
      "image/png": "[encoded data removed]",
      "text/plain": [
       "<PIL.GifImagePlugin.GifImageFile image mode=P size=128x128>"
      ]
     },
     "metadata": {},
     "output_type": "display_data"
    }
   ],
   "source": [
    "from PIL import Image\n",
    "import IPython.display as display\n",
    "\n",
    "# Open the image file\n",
    "image = Image.open(\"circle.gif\")\n",
    "\n",
    "# Display the image using IPython.display\n",
    "display.display(image)"
   ]
  },
  {
   "cell_type": "code",
   "execution_count": 9,
   "id": "9c410fda-0213-429b-992f-8461421a70b8",
   "metadata": {},
   "outputs": [
    {
     "name": "stdout",
     "output_type": "stream",
     "text": [
      "MoviePy - Building file circles.gif with imageio.\n"
     ]
    },
    {
     "name": "stderr",
     "output_type": "stream",
     "text": [
      "                                                                                                                       \r"
     ]
    }
   ],
   "source": [
    "import numpy as np\n",
    "import gizeh\n",
    "import moviepy.editor as mpy\n",
    "\n",
    "W,H = 1280,720\n",
    "duration = 2\n",
    "ncircles = 20 # Number of circles\n",
    "\n",
    "def make_frame(t):\n",
    "\n",
    "    surface = gizeh.Surface(W,H)\n",
    "\n",
    "    for i in range(ncircles):\n",
    "        angle = 2*np.pi*(1.0*i/ncircles+t/duration)\n",
    "        center = W*( 0.5+ gizeh.polar2cart(0.1,angle))\n",
    "        circle = gizeh.circle(r= W*(1.0-1.0*i/ncircles),\n",
    "                              xy= center, fill= (i%2,i%2,i%2))\n",
    "        circle.draw(surface)\n",
    "\n",
    "    return surface.get_npimage()\n",
    "\n",
    "clip = mpy.VideoClip(make_frame, duration=duration)\n",
    "clip.write_gif(\"circles.gif\",fps=15, opt=\"OptimizePlus\", fuzz=10)"
   ]
  },
  {
   "cell_type": "code",
   "execution_count": null,
   "id": "e18331a9-a4eb-4764-9b0c-3f1e2aac5ab9",
   "metadata": {},
   "outputs": [],
   "source": []
  }
 ],
 "metadata": {
  "kernelspec": {
   "display_name": "Python 3 (ipykernel)",
   "language": "python",
   "name": "python3"
  },
  "language_info": {
   "codemirror_mode": {
    "name": "ipython",
    "version": 3
   },
   "file_extension": ".py",
   "mimetype": "text/x-python",
   "name": "python",
   "nbconvert_exporter": "python",
   "pygments_lexer": "ipython3",
   "version": "3.10.5"
  }
 },
 "nbformat": 4,
 "nbformat_minor": 5
}
