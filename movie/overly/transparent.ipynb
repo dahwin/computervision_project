{
 "cells": [
  {
   "cell_type": "code",
   "execution_count": null,
   "id": "4cfe6576-bebf-4a53-bb32-63c4943ddd26",
   "metadata": {},
   "outputs": [],
   "source": [
    "from PIL import Image\n",
    "\n",
    "# Create an empty transparent image with RGBA mode (4 channels: Red, Green, Blue, Alpha)\n",
    "width, height = 640, 480  # Set the desired width and height\n",
    "transparent_image = Image.new('RGBA', (width, height), (0, 0, 0, 0))\n",
    "\n",
    "# Save the transparent image to a file (optional)\n",
    "transparent_image.save('empty_transparent.png')\n",
    "\n",
    "# Show the transparent image (optional)\n",
    "transparent_image.show()\n"
   ]
  },
  {
   "cell_type": "code",
   "execution_count": null,
   "id": "1a5bf0b1-ba48-44a2-bea6-f78c28d0025e",
   "metadata": {},
   "outputs": [],
   "source": [
    "from PIL import Image, ImageDraw\n",
    "\n",
    "# Set the dimensions and duration of the GIF\n",
    "width, height = 640, 480\n",
    "duration = 100  # in milliseconds (100ms = 10 frames per second)\n",
    "\n",
    "# Create a list to store frames\n",
    "frames = []\n",
    "\n",
    "# Create individual frames with transparent backgrounds\n",
    "for _ in range(10):  # Create 10 frames\n",
    "    # Create an empty transparent image with RGBA mode\n",
    "    transparent_frame = Image.new('RGBA', (width, height))\n",
    "    \n",
    "    # Add some content to each frame (optional)\n",
    "    draw = ImageDraw.Draw(transparent_frame)\n",
    "    draw.text((10, 10), \"Frame Content\", fill=(255, 255, 255, 255))\n",
    "    \n",
    "    # Append the frame to the list of frames\n",
    "    frames.append(transparent_frame)\n",
    "\n",
    "# Save the frames as an animated GIF\n",
    "frames[0].save('transparent_animation.gif', save_all=True, append_images=frames[1:], duration=duration, loop=0)\n"
   ]
  },
  {
   "cell_type": "code",
   "execution_count": null,
   "id": "df24f509-6925-4db6-ab8e-e890e5c3c885",
   "metadata": {},
   "outputs": [],
   "source": [
    "from PIL import Image\n",
    "\n",
    "# Set the dimensions and duration of the GIF\n",
    "width, height = 640, 480\n",
    "duration = 100  # in milliseconds (100ms = 10 frames per second)\n",
    "\n",
    "# Create a list to store frames\n",
    "frames = []\n",
    "\n",
    "# Create individual frames with transparent backgrounds\n",
    "for _ in range(10):  # Create 10 frames\n",
    "    # Create an empty transparent image with RGBA mode\n",
    "    transparent_frame = Image.new('RGBA', (width, height))\n",
    "    \n",
    "    # Append the frame to the list of frames\n",
    "    frames.append(transparent_frame)\n",
    "\n",
    "# Save the frames as an animated GIF\n",
    "frames[0].save('transparent_animation.gif', save_all=True, append_images=frames[1:], duration=duration, loop=0)"
   ]
  },
  {
   "cell_type": "code",
   "execution_count": 1,
   "id": "fec27b97-a289-4465-a643-c957c3534edf",
   "metadata": {},
   "outputs": [
    {
     "data": {
      "text/plain": [
       "2.42"
      ]
     },
     "execution_count": 1,
     "metadata": {},
     "output_type": "execute_result"
    }
   ],
   "source": [
    "from moviepy.editor import VideoFileClip, CompositeVideoClip\n",
    "\n",
    "# Load the video clip and the GIF\n",
    "video_clip = VideoFileClip(\"0.mp4\")\n",
    "gif_clip = VideoFileClip(\"rabbit.gif\", has_mask=True)\n",
    "gif_clip.duration"
   ]
  },
  {
   "cell_type": "code",
   "execution_count": 5,
   "id": "d652b208-1ad0-4868-b6c5-cbcb78c8dc73",
   "metadata": {},
   "outputs": [
    {
     "name": "stdout",
     "output_type": "stream",
     "text": [
      "Moviepy - Building video crossfade.mp4.\n",
      "MoviePy - Writing audio in crossfadeTEMP_MPY_wvf_snd.mp3\n"
     ]
    },
    {
     "name": "stderr",
     "output_type": "stream",
     "text": [
      "                                                                                                                       \r"
     ]
    },
    {
     "name": "stdout",
     "output_type": "stream",
     "text": [
      "MoviePy - Done.\n",
      "Moviepy - Writing video crossfade.mp4\n",
      "\n"
     ]
    },
    {
     "name": "stderr",
     "output_type": "stream",
     "text": [
      "                                                                                                                       \r"
     ]
    },
    {
     "name": "stdout",
     "output_type": "stream",
     "text": [
      "Moviepy - Done !\n",
      "Moviepy - video ready crossfade.mp4\n"
     ]
    }
   ],
   "source": [
    "from moviepy.editor import *\n",
    "\n",
    "padding = 2\n",
    "# Load the video clip and the GIF\n",
    "video_clip = VideoFileClip(\"0.mp4\")\n",
    "gif_clip = VideoFileClip(\"transparent_animation.gif\", has_mask=True)\n",
    "video_clips = [video_clip,gif_clip]\n",
    "\n",
    "video_fx_list = []\n",
    "\n",
    "for i, video in enumerate(video_clips):\n",
    "    if i > 0:\n",
    "        # Apply a crossfadein effect to the second video\n",
    "        video = video.crossfadein(padding)\n",
    "    video_fx_list.append(video)\n",
    "\n",
    "final_video = CompositeVideoClip(video_fx_list)\n",
    "final_video.write_videofile('crossfade.mp4', fps=video_clips[0].fps)  # Add any remaining params\n"
   ]
  },
  {
   "cell_type": "code",
   "execution_count": null,
   "id": "e5b751d0-d840-4b0d-86a2-2fac5ff2246f",
   "metadata": {},
   "outputs": [],
   "source": []
  }
 ],
 "metadata": {
  "kernelspec": {
   "display_name": "Python 3 (ipykernel)",
   "language": "python",
   "name": "python3"
  },
  "language_info": {
   "codemirror_mode": {
    "name": "ipython",
    "version": 3
   },
   "file_extension": ".py",
   "mimetype": "text/x-python",
   "name": "python",
   "nbconvert_exporter": "python",
   "pygments_lexer": "ipython3",
   "version": "3.10.5"
  }
 },
 "nbformat": 4,
 "nbformat_minor": 5
}
