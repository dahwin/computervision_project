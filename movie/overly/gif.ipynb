{
 "cells": [
  {
   "cell_type": "code",
   "execution_count": 2,
   "id": "95c0cef2-2bac-402c-8213-4dcf4851a39f",
   "metadata": {},
   "outputs": [
    {
     "name": "stdout",
     "output_type": "stream",
     "text": [
      "Moviepy - Building video output.mp4.\n",
      "MoviePy - Writing audio in outputTEMP_MPY_wvf_snd.mp3\n"
     ]
    },
    {
     "name": "stderr",
     "output_type": "stream",
     "text": [
      "                                                                                                                       \r"
     ]
    },
    {
     "name": "stdout",
     "output_type": "stream",
     "text": [
      "MoviePy - Done.\n",
      "Moviepy - Writing video output.mp4\n",
      "\n"
     ]
    },
    {
     "name": "stderr",
     "output_type": "stream",
     "text": [
      "                                                                                                                       \r"
     ]
    },
    {
     "name": "stdout",
     "output_type": "stream",
     "text": [
      "Moviepy - Done !\n",
      "Moviepy - video ready output.mp4\n"
     ]
    }
   ],
   "source": [
    "from moviepy.editor import VideoFileClip, ImageClip, clips_array\n",
    "\n",
    "# Load the video clip and the GIF\n",
    "video_clip = VideoFileClip(\"0.mp4\")\n",
    "gif_clip = ImageClip(\"rabbit.gif\")\n",
    "\n",
    "# Set the position where you want to overlay the GIF on the video\n",
    "x_position = 100  # Horizontal position (adjust as needed)\n",
    "y_position = 100  # Vertical position (adjust as needed)\n",
    "\n",
    "# Resize the GIF to fit the video dimensions (optional)\n",
    "gif_clip = gif_clip.resize(width=video_clip.w // 4)  # Adjust the size as needed\n",
    "\n",
    "# Overlay the GIF on top of the video\n",
    "final_clip = clips_array([[video_clip.set_position((0, 0)), gif_clip.set_position((x_position, y_position))]])\n",
    "final_clip.duration = video_clip.duration\\\n",
    "# Write the final result to a file\n",
    "final_clip.write_videofile(\"output.mp4\", codec=\"libx264\")\n"
   ]
  },
  {
   "cell_type": "code",
   "execution_count": 6,
   "id": "feb89d32-5df7-4653-be57-de962375413e",
   "metadata": {},
   "outputs": [
    {
     "name": "stdout",
     "output_type": "stream",
     "text": [
      "Moviepy - Building video output.mp4.\n",
      "MoviePy - Writing audio in outputTEMP_MPY_wvf_snd.mp3\n"
     ]
    },
    {
     "name": "stderr",
     "output_type": "stream",
     "text": [
      "                                                                                                                       \r"
     ]
    },
    {
     "name": "stdout",
     "output_type": "stream",
     "text": [
      "MoviePy - Done.\n",
      "Moviepy - Writing video output.mp4\n",
      "\n"
     ]
    },
    {
     "name": "stderr",
     "output_type": "stream",
     "text": [
      "                                                                                                                       \r"
     ]
    },
    {
     "name": "stdout",
     "output_type": "stream",
     "text": [
      "Moviepy - Done !\n",
      "Moviepy - video ready output.mp4\n"
     ]
    }
   ],
   "source": [
    "from moviepy.editor import VideoFileClip, CompositeVideoClip\n",
    "\n",
    "# Load the video clip and the GIF\n",
    "video_clip = VideoFileClip(\"0.mp4\")\n",
    "gif_clip = VideoFileClip(\"rabbit.gif\", has_mask=True)\n",
    "\n",
    "# Set the position where you want to overlay the GIF on the video\n",
    "x_position = 100  # Horizontal position (adjust as needed)\n",
    "y_position = 100  # Vertical position (adjust as needed)\n",
    "\n",
    "# Resize the GIF to fit the video dimensions (optional)\n",
    "gif_clip = gif_clip.resize(width=video_clip.w // 2)  # Adjust the size as needed\n",
    "\n",
    "# Overlay the GIF on top of the video\n",
    "final_clip = CompositeVideoClip([video_clip, gif_clip.set_position((x_position, y_position))])\n",
    "\n",
    "# Set the duration of the final clip to match the video's duration\n",
    "final_clip = final_clip.set_duration(video_clip.duration)\n",
    "\n",
    "# Write the final result to a file\n",
    "final_clip.write_videofile(\"output.mp4\", codec=\"libx264\")\n"
   ]
  },
  {
   "cell_type": "code",
   "execution_count": null,
   "id": "9a8d7e3a-8b17-4559-9ea3-46d3c043e974",
   "metadata": {},
   "outputs": [],
   "source": []
  }
 ],
 "metadata": {
  "kernelspec": {
   "display_name": "Python 3 (ipykernel)",
   "language": "python",
   "name": "python3"
  },
  "language_info": {
   "codemirror_mode": {
    "name": "ipython",
    "version": 3
   },
   "file_extension": ".py",
   "mimetype": "text/x-python",
   "name": "python",
   "nbconvert_exporter": "python",
   "pygments_lexer": "ipython3",
   "version": "3.10.5"
  }
 },
 "nbformat": 4,
 "nbformat_minor": 5
}
