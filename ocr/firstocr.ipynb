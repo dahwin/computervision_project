{
 "cells": [
  {
   "cell_type": "code",
   "execution_count": 87,
   "id": "b7b17597-6329-4d47-81f4-2dc716afd23d",
   "metadata": {},
   "outputs": [
    {
     "name": "stdout",
     "output_type": "stream",
     "text": [
      "[2023/02/02 21:28:37] ppocr DEBUG: Namespace(help='==SUPPRESS==', use_gpu=False, use_xpu=False, use_npu=False, ir_optim=True, use_tensorrt=False, min_subgraph_size=15, precision='fp32', gpu_mem=500, image_dir=None, page_num=0, det_algorithm='DB', det_model_dir='C:\\\\Users\\\\Pc/.paddleocr/whl\\\\det\\\\en\\\\en_PP-OCRv3_det_infer', det_limit_side_len=960, det_limit_type='max', det_box_type='quad', det_db_thresh=0.3, det_db_box_thresh=0.6, det_db_unclip_ratio=1.5, max_batch_size=10, use_dilation=False, det_db_score_mode='fast', det_east_score_thresh=0.8, det_east_cover_thresh=0.1, det_east_nms_thresh=0.2, det_sast_score_thresh=0.5, det_sast_nms_thresh=0.2, det_pse_thresh=0, det_pse_box_thresh=0.85, det_pse_min_area=16, det_pse_scale=1, scales=[8, 16, 32], alpha=1.0, beta=1.0, fourier_degree=5, rec_algorithm='SVTR_LCNet', rec_model_dir='C:\\\\Users\\\\Pc/.paddleocr/whl\\\\rec\\\\en\\\\en_PP-OCRv3_rec_infer', rec_image_inverse=True, rec_image_shape='3, 48, 320', rec_batch_num=6, max_text_length=25, rec_char_dict_path='C:\\\\Users\\\\Pc\\\\Desktop\\\\conputer_Vison\\\\paddle\\\\lib\\\\site-packages\\\\paddleocr\\\\ppocr\\\\utils\\\\en_dict.txt', use_space_char=True, vis_font_path='./doc/fonts/simfang.ttf', drop_score=0.5, e2e_algorithm='PGNet', e2e_model_dir=None, e2e_limit_side_len=768, e2e_limit_type='max', e2e_pgnet_score_thresh=0.5, e2e_char_dict_path='./ppocr/utils/ic15_dict.txt', e2e_pgnet_valid_set='totaltext', e2e_pgnet_mode='fast', use_angle_cls=False, cls_model_dir='C:\\\\Users\\\\Pc/.paddleocr/whl\\\\cls\\\\ch_ppocr_mobile_v2.0_cls_infer', cls_image_shape='3, 48, 192', label_list=['0', '180'], cls_batch_num=6, cls_thresh=0.9, enable_mkldnn=False, cpu_threads=10, use_pdserving=False, warmup=False, sr_model_dir=None, sr_image_shape='3, 32, 128', sr_batch_num=1, draw_img_save_dir='./inference_results', save_crop_res=False, crop_res_save_dir='./output', use_mp=False, total_process_num=1, process_id=0, benchmark=False, save_log_path='./log_output/', show_log=True, use_onnx=False, output='./output', table_max_len=488, table_algorithm='TableAttn', table_model_dir=None, merge_no_span_structure=True, table_char_dict_path=None, layout_model_dir=None, layout_dict_path=None, layout_score_threshold=0.5, layout_nms_threshold=0.5, kie_algorithm='LayoutXLM', ser_model_dir=None, re_model_dir=None, use_visual_backbone=True, ser_dict_path='../train_data/XFUND/class_list_xfun.txt', ocr_order_method=None, mode='structure', image_orientation=False, layout=True, table=True, ocr=True, recovery=False, use_pdf2docx_api=False, lang='en', det=True, rec=True, type='ocr', ocr_version='PP-OCRv3', structure_version='PP-StructureV2')\n",
      "[2023/02/02 21:28:38] ppocr WARNING: Since the angle classifier is not initialized, the angle classifier will not be uesd during the forward process\n",
      "[2023/02/02 21:28:39] ppocr DEBUG: dt_boxes num : 7, elapse : 0.9569129943847656\n",
      "[2023/02/02 21:28:44] ppocr DEBUG: rec_res num  : 7, elapse : 4.6663923263549805\n"
     ]
    }
   ],
   "source": [
    "'''dahyun+darwin = dahwin'''\n",
    "from paddleocr import PaddleOCR, draw_ocr\n",
    "from matplotlib import pyplot as plt\n",
    "import cv2\n",
    "\n",
    "ocr_moddle = PaddleOCR(lang='en')\n",
    "\n",
    "img = 'dahwinorc.jpg'\n",
    "\n",
    "result = ocr_moddle.ocr(img)"
   ]
  },
  {
   "cell_type": "code",
   "execution_count": 88,
   "id": "8fc6553c-6700-4bc0-abce-7cb36c6e16d5",
   "metadata": {},
   "outputs": [
    {
     "data": {
      "text/plain": [
       "[[[[[211.0, 56.0], [769.0, 56.0], [769.0, 83.0], [211.0, 83.0]],\n",
       "   ('TWICE THE 8TH MINI ALBUM', 0.940558671951294)],\n",
       "  [[[207.0, 101.0], [814.0, 102.0], [814.0, 140.0], [207.0, 139.0]],\n",
       "   ('Feel Special Official Photocard', 0.9671841263771057)],\n",
       "  [[[120.0, 135.0], [180.0, 135.0], [180.0, 152.0], [120.0, 152.0]],\n",
       "   ('TWICE', 0.9977802038192749)],\n",
       "  [[[442.0, 208.0], [510.0, 210.0], [510.0, 224.0], [442.0, 222.0]],\n",
       "   ('SOMEBODY', 0.9804516434669495)],\n",
       "  [[[438.0, 624.0], [469.0, 624.0], [469.0, 638.0], [438.0, 638.0]],\n",
       "   ('leel', 0.8357701897621155)],\n",
       "  [[[429.0, 635.0], [475.0, 635.0], [475.0, 646.0], [429.0, 646.0]],\n",
       "   ('special', 0.9446384310722351)],\n",
       "  [[[104.0, 800.0], [153.0, 800.0], [153.0, 811.0], [104.0, 811.0]],\n",
       "   ('DAYUN', 0.8425676226615906)]]]"
      ]
     },
     "execution_count": 88,
     "metadata": {},
     "output_type": "execute_result"
    }
   ],
   "source": [
    "result"
   ]
  },
  {
   "cell_type": "code",
   "execution_count": 89,
   "id": "16a9579f-f78e-42a4-9b98-2e35b03f61c4",
   "metadata": {},
   "outputs": [
    {
     "data": {
      "text/plain": [
       "list"
      ]
     },
     "execution_count": 89,
     "metadata": {},
     "output_type": "execute_result"
    }
   ],
   "source": [
    "type(result)"
   ]
  },
  {
   "cell_type": "code",
   "execution_count": 90,
   "id": "d8de8862-c758-42de-8f45-516408975b17",
   "metadata": {},
   "outputs": [
    {
     "data": {
      "text/plain": [
       "7"
      ]
     },
     "execution_count": 90,
     "metadata": {},
     "output_type": "execute_result"
    }
   ],
   "source": [
    "le = len(result[0])\n",
    "le"
   ]
  },
  {
   "cell_type": "code",
   "execution_count": 91,
   "id": "7351b7e9-d686-47fc-a2d3-2df224fc4302",
   "metadata": {},
   "outputs": [
    {
     "data": {
      "text/plain": [
       "'TWICE THE 8TH MINI ALBUM'"
      ]
     },
     "execution_count": 91,
     "metadata": {},
     "output_type": "execute_result"
    }
   ],
   "source": [
    "result[0][0][1][0]"
   ]
  },
  {
   "cell_type": "code",
   "execution_count": 93,
   "id": "8a5f1eb1-a6ad-48f8-ab81-2651545be7b2",
   "metadata": {},
   "outputs": [
    {
     "name": "stdout",
     "output_type": "stream",
     "text": [
      "TWICE THE 8TH MINI ALBUM\n",
      "Feel Special Official Photocard\n",
      "TWICE\n",
      "SOMEBODY\n",
      "leel\n",
      "special\n",
      "DAYUN\n"
     ]
    }
   ],
   "source": [
    "for i in range(le):\n",
    "    last = result[0][i][1][0]\n",
    "    print(last)\n",
    "\n",
    "    "
   ]
  },
  {
   "cell_type": "code",
   "execution_count": null,
   "id": "b99b6816-803b-4b47-ac17-d43588048e0b",
   "metadata": {},
   "outputs": [],
   "source": []
  }
 ],
 "metadata": {
  "kernelspec": {
   "display_name": "Python 3 (ipykernel)",
   "language": "python",
   "name": "python3"
  },
  "language_info": {
   "codemirror_mode": {
    "name": "ipython",
    "version": 3
   },
   "file_extension": ".py",
   "mimetype": "text/x-python",
   "name": "python",
   "nbconvert_exporter": "python",
   "pygments_lexer": "ipython3",
   "version": "3.10.8"
  }
 },
 "nbformat": 4,
 "nbformat_minor": 5
}
