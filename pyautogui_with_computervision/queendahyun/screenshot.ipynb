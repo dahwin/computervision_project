{
 "cells": [
  {
   "cell_type": "code",
   "execution_count": 1,
   "id": "594eb624-327d-4818-97b3-4915147ca471",
   "metadata": {},
   "outputs": [
    {
     "name": "stdout",
     "output_type": "stream",
     "text": [
      "Screenshot saved as 'screenshot.png'.\n"
     ]
    }
   ],
   "source": [
    "from PIL import ImageGrab\n",
    "import time\n",
    "time.sleep(10)\n",
    "# Capture the entire screen\n",
    "screenshot = ImageGrab.grab()\n",
    "\n",
    "# Save the screenshot\n",
    "screenshot.save(\"screenshot.png\")\n",
    "\n",
    "print(\"Screenshot saved as 'screenshot.png'.\")"
   ]
  },
  {
   "cell_type": "code",
   "execution_count": null,
   "id": "3ce96369-2bed-45ef-ae6f-f7a0815e79ad",
   "metadata": {},
   "outputs": [],
   "source": []
  },
  {
   "cell_type": "code",
   "execution_count": null,
   "id": "1b84166e-0eab-4653-82cf-ef59e1d1e118",
   "metadata": {},
   "outputs": [],
   "source": []
  },
  {
   "cell_type": "code",
   "execution_count": null,
   "id": "8ef300c8-87ca-443c-a144-c0709748fd7f",
   "metadata": {},
   "outputs": [],
   "source": []
  },
  {
   "cell_type": "code",
   "execution_count": 4,
   "id": "610c681b-13f9-4608-9dbf-0a6491b151ac",
   "metadata": {},
   "outputs": [],
   "source": [
    "import pyautogui\n",
    "import time\n",
    "time.sleep(10)\n",
    "# Press and hold the \"shift\" key\n",
    "pyautogui.keyDown('shift')\n",
    "\n",
    "# Wait for a certain amount of time (e.g., 2 seconds)\n",
    "time.sleep(2)\n",
    "\n",
    "# Release the \"shift\" key\n",
    "pyautogui.keyUp('shift')\n"
   ]
  },
  {
   "cell_type": "code",
   "execution_count": null,
   "id": "00c976a9-1e45-4c70-aee7-9eb2fc995cda",
   "metadata": {},
   "outputs": [],
   "source": []
  }
 ],
 "metadata": {
  "kernelspec": {
   "display_name": "Python 3 (ipykernel)",
   "language": "python",
   "name": "python3"
  },
  "language_info": {
   "codemirror_mode": {
    "name": "ipython",
    "version": 3
   },
   "file_extension": ".py",
   "mimetype": "text/x-python",
   "name": "python",
   "nbconvert_exporter": "python",
   "pygments_lexer": "ipython3",
   "version": "3.10.5"
  }
 },
 "nbformat": 4,
 "nbformat_minor": 5
}
