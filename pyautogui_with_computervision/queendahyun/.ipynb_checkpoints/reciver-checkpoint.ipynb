{
 "cells": [
  {
   "cell_type": "code",
   "execution_count": 1,
   "id": "f3f9c7ed-a367-4f24-9089-6acd5447fb4c",
   "metadata": {},
   "outputs": [
    {
     "name": "stderr",
     "output_type": "stream",
     "text": [
      "INFO:     Started server process [11452]\n",
      "INFO:     Waiting for application startup.\n",
      "INFO:     Application startup complete.\n",
      "INFO:     Uvicorn running on http://127.0.0.1:8000 (Press CTRL+C to quit)\n"
     ]
    },
    {
     "name": "stdout",
     "output_type": "stream",
     "text": [
      "INFO:     127.0.0.1:65520 - \"GET / HTTP/1.1\" 200 OK\n",
      "INFO:     127.0.0.1:65520 - \"GET /favicon.ico HTTP/1.1\" 404 Not Found\n",
      "INFO:     127.0.0.1:65521 - \"POST /object HTTP/1.1\" 404 Not Found\n"
     ]
    },
    {
     "name": "stderr",
     "output_type": "stream",
     "text": [
      "INFO:     Shutting down\n",
      "INFO:     Waiting for application shutdown.\n",
      "INFO:     Application shutdown complete.\n",
      "INFO:     Finished server process [11452]\n"
     ]
    }
   ],
   "source": [
    "from fastapi import FastAPI\n",
    "import uvicorn\n",
    "import nest_asyncio\n",
    "nest_asyncio.apply()\n",
    "from groq import Groq\n",
    "import os\n",
    "import threading\n",
    "\n",
    "os.environ['GROQ_API_KEY'] = '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'\n",
    "client = Groq()\n",
    "import asyncio\n",
    "\n",
    "dahwin = FastAPI()\n",
    "\n",
    "\n",
    "\n",
    "\n",
    "\n",
    "@dahwin.get('/')\n",
    "async def index():\n",
    "    return {'Dahwin Universe': 'Hello Everything!'}\n",
    "\n",
    "\n",
    "@dahwin.post('/send_position')\n",
    "async def frames_meaning_endpoint(data: dict):\n",
    "    global frames_meaning\n",
    "    frames_meaning = data.get('dahwin')\n",
    "    print(frames_meaning)\n",
    "\n",
    "\n",
    "\n",
    "if __name__ == '__main__':\n",
    "    # Start the FastAPI server\n",
    "    uvicorn.run(dahwin, host='127.0.0.1', port=8000)\n"
   ]
  },
  {
   "cell_type": "code",
   "execution_count": null,
   "id": "52c952ef-f80f-4e1a-af4b-3a73333cfe1e",
   "metadata": {},
   "outputs": [],
   "source": []
  }
 ],
 "metadata": {
  "kernelspec": {
   "display_name": "Python 3 (ipykernel)",
   "language": "python",
   "name": "python3"
  },
  "language_info": {
   "codemirror_mode": {
    "name": "ipython",
    "version": 3
   },
   "file_extension": ".py",
   "mimetype": "text/x-python",
   "name": "python",
   "nbconvert_exporter": "python",
   "pygments_lexer": "ipython3",
   "version": "3.10.5"
  }
 },
 "nbformat": 4,
 "nbformat_minor": 5
}
