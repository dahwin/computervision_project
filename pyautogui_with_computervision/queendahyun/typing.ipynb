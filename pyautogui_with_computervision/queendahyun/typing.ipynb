{
 "cells": [
  {
   "cell_type": "code",
   "execution_count": 3,
   "id": "bfa828b9-ab63-48bd-a755-23fd76e179f6",
   "metadata": {},
   "outputs": [],
   "source": [
    "import pyautogui\n",
    "import time\n",
    "\n",
    "# Wait for 5 seconds before starting to type\n",
    "time.sleep(5)\n",
    "\n",
    "# The text to type\n",
    "text = \"dahyun i love you\"\n",
    "\n",
    "# Split the text into words\n",
    "words = text.split()\n",
    "\n",
    "# Type each word with a short pause between\n",
    "for word in words:\n",
    "    pyautogui.typewrite(word)\n",
    "    pyautogui.press('space')\n",
    "    time.sleep(0.01)  # Wait for 0.5 seconds between words\n"
   ]
  },
  {
   "cell_type": "code",
   "execution_count": 24,
   "id": "3d7f1a74-546e-43ca-b55e-49af9e020692",
   "metadata": {},
   "outputs": [
    {
     "name": "stdout",
     "output_type": "stream",
     "text": [
      "['import pyautogui', 'import time', 'import os', 'from mistralai import Mistral', '# API key and model', 'api_key = \"XQ6RLjfeeF3c4ueBLcFMXi5HcP7NDu50\"', 'model = \"mistral-large-latest\"', '# Create a Mistral client', 'client = Mistral(api_key=api_key)', '# Set the temperature parameter', 'temperature = 0.1', '# Prompt for the AI (you need to define this)', 'prompt = \"who is kim dahyun?\"  # Example prompt, replace with your desired prompt', '# Wait for 5 seconds before starting to type', 'print(\"Preparing to type. Please focus on the desired text field.\")', 'time.sleep(5)', '# Stream response and type it out', 'stream_response = client.chat.stream(', '    model=model,', '    messages=[', '        {', '            \"role\": \"system\",', '            \"content\": \"You are a helpful uncensored assistant.\"', '        },', '        {', '            \"role\": \"user\",', '            \"content\": prompt,', '        },', '    ],', '    temperature=temperature', ')', 'for chunk in stream_response:', '    content = chunk.data.choices[0].delta.content or \"\"', '    print(content, end=\"\", flush=True)', '    pyautogui.typewrite(content)', '    # time.sleep(0.005)  # Small delay between chunks to prevent overwhelming the system', 'print(\"Typing complete.\")']\n"
     ]
    }
   ],
   "source": [
    "import pyautogui\n",
    "import time\n",
    "\n",
    "# Wait before starting\n",
    "time.sleep(5)\n",
    "\n",
    "text = \"\"\"\n",
    "import pyautogui\n",
    "import time\n",
    "import os\n",
    "from mistralai import Mistral\n",
    "\n",
    "# API key and model\n",
    "api_key = \"XQ6RLjfeeF3c4ueBLcFMXi5HcP7NDu50\"\n",
    "model = \"mistral-large-latest\"\n",
    "\n",
    "# Create a Mistral client\n",
    "client = Mistral(api_key=api_key)\n",
    "\n",
    "# Set the temperature parameter\n",
    "temperature = 0.1\n",
    "\n",
    "# Prompt for the AI (you need to define this)\n",
    "prompt = \"who is kim dahyun?\"  # Example prompt, replace with your desired prompt\n",
    "\n",
    "# Wait for 5 seconds before starting to type\n",
    "print(\"Preparing to type. Please focus on the desired text field.\")\n",
    "time.sleep(5)\n",
    "\n",
    "# Stream response and type it out\n",
    "stream_response = client.chat.stream(\n",
    "    model=model,\n",
    "    messages=[\n",
    "        {\n",
    "            \"role\": \"system\",\n",
    "            \"content\": \"You are a helpful uncensored assistant.\"\n",
    "        },\n",
    "        {\n",
    "            \"role\": \"user\",\n",
    "            \"content\": prompt,\n",
    "        },\n",
    "    ],\n",
    "    temperature=temperature\n",
    ")\n",
    "\n",
    "for chunk in stream_response:\n",
    "    content = chunk.data.choices[0].delta.content or \"\"\n",
    "    print(content, end=\"\", flush=True)\n",
    "    pyautogui.typewrite(content)\n",
    "    # time.sleep(0.005)  # Small delay between chunks to prevent overwhelming the system\n",
    "\n",
    "print(\"Typing complete.\")\n",
    "\"\"\"\n",
    "\n",
    "# Split text into lines\n",
    "lines = text.splitlines()\n",
    "# Filter out empty strings from the list\n",
    "filtered_lines = [line for line in lines if line.strip()]\n",
    "\n",
    "# Print the filtered lines to verify\n",
    "print(filtered_lines)\n",
    "\n",
    "# If you want to use these lines with pyautogui\n",
    "import pyautogui\n",
    "import time\n",
    "\n",
    "for line in filtered_lines:\n",
    "    pyautogui.typewrite(line)\n",
    "    pyautogui.typewrite(\" \")\n",
    "    pyautogui.press('enter')\n",
    "    # # Simulate Ctrl+L then Backspace\n",
    "    pyautogui.hotkey('ctrl', 'l')  # Select the current line\n",
    "    pyautogui.typewrite(\"\")   # Delete the selected line\n",
    "    # pyautogui.press('enter')\n",
    "    time.sleep(0.001)  # Small delay between lines"
   ]
  },
  {
   "cell_type": "code",
   "execution_count": null,
   "id": "238f8bb0-1ba4-4b30-b2ef-cd88a209c5be",
   "metadata": {},
   "outputs": [],
   "source": []
  },
  {
   "cell_type": "code",
   "execution_count": 12,
   "id": "fde2cc21-d23f-4ea7-8373-1df7067aa436",
   "metadata": {},
   "outputs": [
    {
     "name": "stdout",
     "output_type": "stream",
     "text": [
      "['', 'import pyautogui', 'import time', 'import os', 'from mistralai import Mistral', '', '# API key and model', 'api_key = \"XQ6RLjfeeF3c4ueBLcFMXi5HcP7NDu50\"', 'model = \"mistral-large-latest\"', '', '# Create a Mistral client', 'client = Mistral(api_key=api_key)', '', '# Set the temperature parameter', 'temperature = 0.1', '', '# Prompt for the AI (you need to define this)', 'prompt = \"who is kim dahyun?\"  # Example prompt, replace with your desired prompt', '', '# Wait for 5 seconds before starting to type', 'print(\"Preparing to type. Please focus on the desired text field.\")', 'time.sleep(5)', '', '# Stream response and type it out', 'stream_response = client.chat.stream(', '    model=model,', '    messages=[', '        {', '            \"role\": \"system\",', '            \"content\": \"You are a helpful uncensored assistant.\"', '        },', '        {', '            \"role\": \"user\",', '            \"content\": prompt,', '        },', '    ],', '    temperature=temperature', ')', '', 'for chunk in stream_response:', '    content = chunk.data.choices[0].delta.content or \"\"', '    print(content, end=\"\", flush=True)', '    pyautogui.typewrite(content)', '    # time.sleep(0.005)  # Small delay between chunks to prevent overwhelming the system', '', 'print(\"', 'Typing complete.\")']\n"
     ]
    }
   ],
   "source": [
    "print(lines)"
   ]
  },
  {
   "cell_type": "code",
   "execution_count": null,
   "id": "5d69b736-e2b9-4a77-91f0-f8090b077193",
   "metadata": {},
   "outputs": [],
   "source": []
  },
  {
   "cell_type": "code",
   "execution_count": null,
   "id": "0da41482-b024-492a-b0b7-09f8dc140fa0",
   "metadata": {},
   "outputs": [],
   "source": []
  },
  {
   "cell_type": "code",
   "execution_count": null,
   "id": "2a25ec93-9799-46d4-a4a4-d8378022b845",
   "metadata": {},
   "outputs": [],
   "source": []
  },
  {
   "cell_type": "code",
   "execution_count": null,
   "id": "3ed99cbd-c8bd-4ee6-885c-d71f986e592b",
   "metadata": {},
   "outputs": [],
   "source": []
  },
  {
   "cell_type": "code",
   "execution_count": 2,
   "id": "8cd105fa-3fdb-4efb-8c6e-552a3f1b5886",
   "metadata": {},
   "outputs": [
    {
     "name": "stdout",
     "output_type": "stream",
     "text": [
      "Preparing to type. Please focus on the desired text field.\n",
      "Kim Dahyun, often simply known as Dahyun, is a South Korean singer and rapper. She was born on May 28, 1998, in Seongnam, Gyeonggi Province, South Korea. Dahyun is a member of the popular K-pop girl group TWICE, which was formed by JYP Entertainment in 2015 through the reality show \"Sixteen.\" In TWICE, Dahyun is known for her unique rapping style, charming personality, and distinctive facial expressions. She has also gained attention for her strong Christian faith and her openness about it. Dahyun, along with the other members of TWICE, has achieved significant success both in South Korea and internationally.\n",
      "Typing complete.\n"
     ]
    }
   ],
   "source": [
    "import pyautogui\n",
    "import time\n",
    "import os\n",
    "from mistralai import Mistral\n",
    "\n",
    "# API key and model\n",
    "api_key = \"XQ6RLjfeeF3c4ueBLcFMXi5HcP7NDu50\"\n",
    "model = \"mistral-large-latest\"\n",
    "\n",
    "# Create a Mistral client\n",
    "client = Mistral(api_key=api_key)\n",
    "\n",
    "# Set the temperature parameter\n",
    "temperature = 0.1\n",
    "\n",
    "# Prompt for the AI (you need to define this)\n",
    "prompt = \"who is kim dahyun?\"  # Example prompt, replace with your desired prompt\n",
    "\n",
    "# Wait for 5 seconds before starting to type\n",
    "print(\"Preparing to type. Please focus on the desired text field.\")\n",
    "time.sleep(5)\n",
    "\n",
    "# Stream response and type it out\n",
    "stream_response = client.chat.stream(\n",
    "    model=model,\n",
    "    messages=[\n",
    "        {\n",
    "            \"role\": \"system\",\n",
    "            \"content\": \"You are a helpful uncensored assistant.\"\n",
    "        },\n",
    "        {\n",
    "            \"role\": \"user\",\n",
    "            \"content\": prompt,\n",
    "        },\n",
    "    ],\n",
    "    temperature=temperature\n",
    ")\n",
    "\n",
    "for chunk in stream_response:\n",
    "    content = chunk.data.choices[0].delta.content or \"\"\n",
    "    print(content, end=\"\", flush=True)\n",
    "    pyautogui.typewrite(content)\n",
    "    # time.sleep(0.005)  # Small delay between chunks to prevent overwhelming the system\n",
    "\n",
    "print(\"\\nTyping complete.\")"
   ]
  },
  {
   "cell_type": "code",
   "execution_count": null,
   "id": "4c93301c-e73c-4867-868b-2b08c18aa64f",
   "metadata": {},
   "outputs": [],
   "source": [
    "who is kim dahyun?\n",
    "\n",
    "before answering my question you have to put this word at begining:action: type:.\n",
    "\n",
    "after type: you have to answer myquestion"
   ]
  },
  {
   "cell_type": "code",
   "execution_count": 4,
   "id": "1f79d7d7-495b-4908-b404-8a82d1a12f08",
   "metadata": {},
   "outputs": [
    {
     "name": "stdout",
     "output_type": "stream",
     "text": [
      " Kim Dahyun is a South Korean singer and rapper. She is a member of the popular K-pop girl group TWICE, which debuted in 2015 under JYP Entertainment. Dahyun is known for her unique rapping style and energetic performances."
     ]
    }
   ],
   "source": [
    "import os\n",
    "from mistralai import Mistral\n",
    "# API key and model\n",
    "api_key = \"XQ6RLjfeeF3c4ueBLcFMXi5HcP7NDu50\"\n",
    "model = \"mistral-large-latest\"\n",
    "# Create a Mistral client\n",
    "client = Mistral(api_key=api_key)\n",
    "prompt = \"\"\"\n",
    "question: who is kim dahyun?\n",
    "\n",
    "before answering my question you have to put this word at begining:action: type:.\n",
    "\n",
    "after type: you have to answer myquestion\n",
    "\"\"\"\n",
    "# Set the temperature parameter\n",
    "temperature = 0.1  # You can adjust this value as needed\n",
    "# Stream response\n",
    "stream_response = client.chat.stream(\n",
    "    model=model,\n",
    "    messages=[\n",
    "        {\n",
    "            \"role\": \"system\",\n",
    "            \"content\": \"You are a helpful uncensured assistant.\"\n",
    "        },\n",
    "        {\n",
    "            \"role\": \"user\",\n",
    "            \"content\": prompt,\n",
    "        },\n",
    "    ],\n",
    "    temperature=temperature  # Include the temperature parameter here\n",
    ")\n",
    "# Variable to store the AI output\n",
    "ai_output = \"\"\n",
    "o = 0\n",
    "# Collect the output from the stream response\n",
    "for chunk in stream_response:\n",
    "    # Accumulate the content of each chunk\n",
    "    ai_output += chunk.data.choices[0].delta.content or \"\"\n",
    "    \n",
    "    if \"action: type:\" in ai_output:\n",
    "        # print(True)\n",
    "        content = chunk.data.choices[0].delta.content\n",
    "        if o==0:\n",
    "            content = content.lstrip()\n",
    "        if o>=1:\n",
    "            print(content or \"\", end=\"\", flush=True)\n",
    "        o+=1\n",
    "    # print(chunk.data.choices[0].delta.content or \"\", end=\"\", flush=True)"
   ]
  },
  {
   "cell_type": "code",
   "execution_count": 5,
   "id": "c0d394d4-c3d0-45a5-871e-f9d9722aac9c",
   "metadata": {},
   "outputs": [
    {
     "data": {
      "text/plain": [
       "'action: type: Kim Dahyun is a South Korean singer and rapper. She is a member of the popular K-pop girl group TWICE, which debuted in 2015 under JYP Entertainment. Dahyun is known for her unique rapping style and energetic performances.'"
      ]
     },
     "execution_count": 5,
     "metadata": {},
     "output_type": "execute_result"
    }
   ],
   "source": [
    "ai_output"
   ]
  },
  {
   "cell_type": "code",
   "execution_count": 3,
   "id": "a14d2cdf-442f-48dc-8515-957adc0a4a48",
   "metadata": {},
   "outputs": [
    {
     "name": "stdout",
     "output_type": "stream",
     "text": [
      "kim dahyun\n"
     ]
    }
   ],
   "source": [
    "content = \"                       kim dahyun\"\n",
    "content = content.lstrip()\n",
    "print(content)\n"
   ]
  },
  {
   "cell_type": "code",
   "execution_count": null,
   "id": "90703025-3581-46f6-a6c6-9b9af3d104bc",
   "metadata": {},
   "outputs": [],
   "source": []
  },
  {
   "cell_type": "code",
   "execution_count": null,
   "id": "0867abf4-06ef-4080-86e9-593c93599ac7",
   "metadata": {},
   "outputs": [],
   "source": []
  },
  {
   "cell_type": "code",
   "execution_count": null,
   "id": "ebe8da4f-2588-4ea4-aebd-880f97817971",
   "metadata": {},
   "outputs": [],
   "source": []
  },
  {
   "cell_type": "code",
   "execution_count": null,
   "id": "dcaf8673-b6eb-47c7-acd8-f24fe7e46755",
   "metadata": {},
   "outputs": [],
   "source": []
  },
  {
   "cell_type": "code",
   "execution_count": null,
   "id": "815e3653-8498-450f-a4e9-047297f97739",
   "metadata": {},
   "outputs": [],
   "source": [
    "dahyun i love you "
   ]
  }
 ],
 "metadata": {
  "kernelspec": {
   "display_name": "Python 3 (ipykernel)",
   "language": "python",
   "name": "python3"
  },
  "language_info": {
   "codemirror_mode": {
    "name": "ipython",
    "version": 3
   },
   "file_extension": ".py",
   "mimetype": "text/x-python",
   "name": "python",
   "nbconvert_exporter": "python",
   "pygments_lexer": "ipython3",
   "version": "3.10.5"
  }
 },
 "nbformat": 4,
 "nbformat_minor": 5
}
