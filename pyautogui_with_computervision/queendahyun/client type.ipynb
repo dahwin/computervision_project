{
 "cells": [
  {
   "cell_type": "code",
   "execution_count": 2,
   "id": "49ca082a-fd62-4820-a55d-887a9e5f48ce",
   "metadata": {},
   "outputs": [
    {
     "name": "stdout",
     "output_type": "stream",
     "text": [
      "In the heart of Seoul, amidst the bright city lights and the bustling crowds, there lived a girl named Kim Dahyun. Known for her vibrant energy and captivating smile, Dahyun was a rising star in the K-pop world. Her voice had a unique charm that resonated with everyone who heard it, and her playful yet sincere personality made her a favorite among fans. "
     ]
    }
   ],
   "source": [
    "import asyncio\n",
    "import aiohttp\n",
    "import nest_asyncio\n",
    "nest_asyncio.apply()\n",
    "async def main():\n",
    "    async with aiohttp.ClientSession() as session:\n",
    "        async with session.get(\"http://localhost:8000/stream\") as response:\n",
    "            async for chunk in response.content.iter_any():\n",
    "                print(chunk.decode(), end='', flush=True)\n",
    "\n",
    "if __name__ == \"__main__\":\n",
    "    asyncio.run(main())"
   ]
  },
  {
   "cell_type": "code",
   "execution_count": null,
   "id": "4afd1abb-c5d7-4007-8806-8c76c43366a4",
   "metadata": {},
   "outputs": [
    {
     "name": "stderr",
     "output_type": "stream",
     "text": [
      "INFO:     Started server process [2372]\n",
      "INFO:     Waiting for application startup.\n",
      "INFO:     Application startup complete.\n",
      "INFO:     Uvicorn running on http://0.0.0.0:8000 (Press CTRL+C to quit)\n"
     ]
    },
    {
     "name": "stdout",
     "output_type": "stream",
     "text": [
      ": type: \n",
      "\n",
      "Kim Dahyun is a South Korean singer and rapper. She is best known as a member of the popular K-pop girl group TWICE, formed by JYP Entertainment in 2015.  Dahyun is recognized for her energetic and playful personality, often referred to as the \"eagle\" of the group due to her sharp eyesight. She is also known for her rapping skills and her bright smile.\n",
      "INFO:     127.0.0.1:64755 - \"POST /receive_stream HTTP/1.1\" 200 OK\n",
      " \n",
      "\n",
      "Kim Dahyun is a South Korean singer and rapper. She is best known as a member of the popular K-pop girl group TWICE, formed by JYP Entertainment in 2015.  Dahyun is recognized for her bubbly personality, energetic performances, and distinctive rapping style. She is often referred to as the \"eagle\" of the group due to her sharp vision.  She is also known for her pale skin and her talent for playing the piano.\n",
      "INFO:     127.0.0.1:64765 - \"POST /receive_stream HTTP/1.1\" 200 OK\n",
      " \n",
      "\n",
      "Kim Dahyun is a South Korean singer and rapper. She is best known as a member of the popular K-pop girl group TWICE, formed by JYP Entertainment in 2015.  Dahyun is recognized for her energetic and playful personality, often referred to as the \"eagle\" of the group due to her sharp eyesight. She is also known for her rapping skills and her bright smile.\n",
      "INFO:     127.0.0.1:64770 - \"POST /receive_stream HTTP/1.1\" 200 OK\n",
      "INFO:     127.0.0.1:64774 - \"POST /receive_stream HTTP/1.1\" 200 OK\n",
      " \n",
      "\n",
      "Kim Dahyun is a South Korean singer and member of the popular K-pop girl group TWICE, formed by JYP Entertainment in 2015. She is known for her bubbly personality, energetic performances, and distinctive rapping style.  She's often referred to as the \"eagle\" of the group due to her sharp eyesight. Dahyun is also recognized for her variety skills and comedic timing, making her a popular figure on Korean variety shows.\n",
      "INFO:     127.0.0.1:64843 - \"POST /receive_stream HTTP/1.1\" 200 OK\n",
      "INFO:     127.0.0.1:64892 - \"POST /receive_stream HTTP/1.1\" 200 OK\n",
      "INFO:     127.0.0.1:64898 - \"POST /receive_stream HTTP/1.1\" 200 OK\n",
      "INFO:     127.0.0.1:64904 - \"POST /receive_stream HTTP/1.1\" 200 OK\n",
      " youtube.com\n",
      "INFO:     127.0.0.1:64909 - \"POST /receive_stream HTTP/1.1\" 200 OK\n",
      " youtube\n",
      "INFO:     127.0.0.1:64915 - \"POST /receive_stream HTTP/1.1\" 200 OK\n",
      " youtube\n",
      "INFO:     127.0.0.1:64926 - \"POST /receive_stream HTTP/1.1\" 200 OK\n",
      " youtube\n",
      "INFO:     127.0.0.1:64930 - \"POST /receive_stream HTTP/1.1\" 200 OK\n",
      " youtube\n",
      "INFO:     127.0.0.1:64956 - \"POST /receive_stream HTTP/1.1\" 200 OK\n",
      " \n",
      "\n",
      "Kim Dahyun is a South Korean singer and member of the popular K-pop girl group TWICE, formed by JYP Entertainment. She is known for her bubbly personality, energetic performances, and distinctive white skin.  Dahyun is one of the group's main rappers and vocalists. She is also known for her \"eagle dance\" which went viral and helped bring attention to TWICE before their debut. \n",
      "\n",
      "Here are some key facts about Kim Dahyun:\n",
      "\n",
      "* **Full Name:** Kim Da-hyun (김다현)\n",
      "* **Born:** May 28, 1998, in Seongnam, Gyeonggi-do, South Korea\n",
      "* **Position in TWICE:** Lead Rapper, Sub Vocalist\n",
      "* **Known for:** Her bright and cheerful personality, rapping skills, \"eagle dance,\" and pale complexion.\n",
      "\n",
      "Dahyun is a beloved member of TWICE and is known for her strong stage presence and ability to connect with fans. She has contributed to the group's success with her talent and charm.\n",
      "INFO:     127.0.0.1:64965 - \"POST /receive_stream HTTP/1.1\" 200 OK\n",
      " youtube.com\n",
      "INFO:     127.0.0.1:51440 - \"POST /receive_stream HTTP/1.1\" 200 OK\n",
      " youtube.com\n",
      "INFO:     127.0.0.1:51452 - \"POST /receive_stream HTTP/1.1\" 200 OK\n"
     ]
    }
   ],
   "source": [
    "from fastapi import FastAPI, Request\n",
    "from fastapi.responses import JSONResponse\n",
    "import asyncio\n",
    "import nest_asyncio\n",
    "import pyautogui\n",
    "nest_asyncio.apply()\n",
    "\n",
    "app = FastAPI()\n",
    "\n",
    "@app.post(\"/receive_stream\")\n",
    "async def receive_stream(request: Request):\n",
    "    received_text = \"\"\n",
    "    async for chunk in request.stream():\n",
    "        received_text += chunk.decode()\n",
    "        content = chunk.decode()\n",
    "        pyautogui.typewrite(content)\n",
    "        print(content, end='', flush=True)  # Print each chunk as it's received\n",
    "    pyautogui.press('enter')\n",
    "\n",
    "\n",
    "if __name__ == \"__main__\":\n",
    "    import uvicorn\n",
    "    uvicorn.run(app, host=\"0.0.0.0\", port=8000)"
   ]
  },
  {
   "cell_type": "code",
   "execution_count": null,
   "id": "0ae544a1-8465-46ba-b643-266d861c9867",
   "metadata": {},
   "outputs": [],
   "source": []
  }
 ],
 "metadata": {
  "kernelspec": {
   "display_name": "Python 3 (ipykernel)",
   "language": "python",
   "name": "python3"
  },
  "language_info": {
   "codemirror_mode": {
    "name": "ipython",
    "version": 3
   },
   "file_extension": ".py",
   "mimetype": "text/x-python",
   "name": "python",
   "nbconvert_exporter": "python",
   "pygments_lexer": "ipython3",
   "version": "3.10.5"
  }
 },
 "nbformat": 4,
 "nbformat_minor": 5
}
