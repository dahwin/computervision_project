{
 "cells": [
  {
   "cell_type": "code",
   "execution_count": 3,
   "id": "acfaf277-72d1-4d4c-acc9-ff66ac0f5176",
   "metadata": {},
   "outputs": [
    {
     "name": "stdout",
     "output_type": "stream",
     "text": [
      "0.12824749946594238\n"
     ]
    }
   ],
   "source": [
    "import asyncio\n",
    "import httpx\n",
    "import nest_asyncio\n",
    "nest_asyncio.apply()\n",
    "import time\n",
    "def send_to_server_async(text):\n",
    "    async def send_to_server(text):\n",
    "        time.sleep(5)\n",
    "        data = {'dahwin': text}  # Include the 'name' field in the JSON data\n",
    "        s = time.time()\n",
    "        url = 'http://127.0.0.1:8000/send_position'\n",
    "        async with httpx.AsyncClient() as client:\n",
    "            response = await client.post(url, json=data)\n",
    "\n",
    "        e = time.time()\n",
    "        l = e - s\n",
    "        print(l)\n",
    "\n",
    "    asyncio.run(send_to_server(text))\n",
    "text = 'x=1837, y=1013'\n",
    "send_to_server_async(text)\n"
   ]
  },
  {
   "cell_type": "code",
   "execution_count": null,
   "id": "36d3349a-7f8d-4c27-b81b-209db5ad5c18",
   "metadata": {},
   "outputs": [],
   "source": []
  }
 ],
 "metadata": {
  "kernelspec": {
   "display_name": "Python 3 (ipykernel)",
   "language": "python",
   "name": "python3"
  },
  "language_info": {
   "codemirror_mode": {
    "name": "ipython",
    "version": 3
   },
   "file_extension": ".py",
   "mimetype": "text/x-python",
   "name": "python",
   "nbconvert_exporter": "python",
   "pygments_lexer": "ipython3",
   "version": "3.10.5"
  }
 },
 "nbformat": 4,
 "nbformat_minor": 5
}
