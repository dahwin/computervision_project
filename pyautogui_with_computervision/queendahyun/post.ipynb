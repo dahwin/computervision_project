{
 "cells": [
  {
   "cell_type": "code",
   "execution_count": 22,
   "id": "acfaf277-72d1-4d4c-acc9-ff66ac0f5176",
   "metadata": {},
   "outputs": [
    {
     "name": "stdout",
     "output_type": "stream",
     "text": [
      "x=215, y=1056\n",
      "1.0626521110534668\n"
     ]
    }
   ],
   "source": [
    "import asyncio\n",
    "import httpx\n",
    "import nest_asyncio\n",
    "nest_asyncio.apply()\n",
    "import time\n",
    "def send_to_server_async(text):\n",
    "    async def send_to_server(text):\n",
    "        time.sleep(5)\n",
    "        data = {'dahwin': text}  # Include the 'name' field in the JSON data\n",
    "        s = time.time()\n",
    "        url = 'https://7ed3-27-147-206-228.ngrok-free.app/send_position'\n",
    "        async with httpx.AsyncClient() as client:\n",
    "            response = await client.post(url, json=data)\n",
    "\n",
    "        e = time.time()\n",
    "        l = e - s\n",
    "        print(l)\n",
    "\n",
    "    asyncio.run(send_to_server(text))\n",
    "text = 'x=1837, y=1013'\n",
    "bbox = [132.1320597330729, 693.2001953125, 154.91220092773438, 715.70263671875]\n",
    "original_width, original_height = 1280, 720\n",
    "new_width, new_height = 1920, 1080\n",
    "\n",
    "# Calculate scaling factors\n",
    "scale_x = new_width / original_width\n",
    "scale_y = new_height / original_height\n",
    "\n",
    "# Apply scaling to the bounding box coordinates\n",
    "x1_new = bbox[0] * scale_x\n",
    "y1_new = bbox[1] * scale_y\n",
    "x2_new = bbox[2] * scale_x\n",
    "y2_new = bbox[3] * scale_y\n",
    "\n",
    "# Create new bounding box\n",
    "new_bbox = [x1_new, y1_new, x2_new, y2_new]\n",
    "\n",
    "bbox = new_bbox\n",
    "x_min, y_min, x_max, y_max = bbox\n",
    "\n",
    "x_center = int((x_min + x_max) / 2)\n",
    "y_center = int((y_min + y_max) / 2)\n",
    "text = f'x={x_center}, y={y_center}'\n",
    "print(text)\n",
    "send_to_server_async(text)\n"
   ]
  },
  {
   "cell_type": "code",
   "execution_count": 5,
   "id": "36d3349a-7f8d-4c27-b81b-209db5ad5c18",
   "metadata": {},
   "outputs": [
    {
     "name": "stdout",
     "output_type": "stream",
     "text": [
      "x=22.0, y=30.0\n"
     ]
    }
   ],
   "source": [
    "bbox = [0, 25, 44, 35]\n",
    "\n",
    "x_min, y_min, x_max, y_max = bbox\n",
    "\n",
    "x_center = (x_min + x_max) / 2\n",
    "y_center = (y_min + y_max) / 2\n",
    "text = f'x={x_center}, y={y_center}'\n",
    "print(text)"
   ]
  },
  {
   "cell_type": "code",
   "execution_count": 8,
   "id": "9d0803fc-8be3-4923-b729-58def98988c5",
   "metadata": {},
   "outputs": [
    {
     "data": {
      "text/plain": [
       "2"
      ]
     },
     "execution_count": 8,
     "metadata": {},
     "output_type": "execute_result"
    }
   ],
   "source": [
    "int(2.2)"
   ]
  },
  {
   "cell_type": "code",
   "execution_count": 19,
   "id": "cf655513-ab0f-4756-961a-0b471bd4857a",
   "metadata": {},
   "outputs": [
    {
     "name": "stdout",
     "output_type": "stream",
     "text": [
      "Original bounding box: [132.1320597330729, 693.2001953125, 154.91220092773438, 715.70263671875]\n",
      "New bounding box: [198.19808959960938, 1039.80029296875, 232.36830139160156, 1073.553955078125]\n",
      "Clicked at: (215.28319549560547, 1056.6771240234375)\n"
     ]
    }
   ],
   "source": [
    "import pyautogui\n",
    "\n",
    "# Define the bounding box\n",
    "bbox = [132.1320597330729, 693.2001953125, 154.91220092773438, 715.70263671875]\n",
    "# Original bounding box and image dimensions\n",
    "bbox = [132.1320597330729, 693.2001953125, 154.91220092773438, 715.70263671875]\n",
    "original_width, original_height = 1280, 720\n",
    "new_width, new_height = 1920, 1080\n",
    "\n",
    "# Calculate scaling factors\n",
    "scale_x = new_width / original_width\n",
    "scale_y = new_height / original_height\n",
    "\n",
    "# Apply scaling to the bounding box coordinates\n",
    "x1_new = bbox[0] * scale_x\n",
    "y1_new = bbox[1] * scale_y\n",
    "x2_new = bbox[2] * scale_x\n",
    "y2_new = bbox[3] * scale_y\n",
    "\n",
    "# Create new bounding box\n",
    "new_bbox = [x1_new, y1_new, x2_new, y2_new]\n",
    "\n",
    "print(\"Original bounding box:\", bbox)\n",
    "print(\"New bounding box:\", new_bbox)\n",
    "\n",
    "bbox = new_bbox\n",
    "# Calculate the center of the bounding box\n",
    "center_x = (bbox[0] + bbox[2]) / 2\n",
    "center_y = (bbox[1] + bbox[3]) / 2\n",
    "time.sleep(5)\n",
    "# Move the mouse to the center and click\n",
    "pyautogui.moveTo(center_x, center_y)\n",
    "pyautogui.click()\n",
    "\n",
    "print(f\"Clicked at: ({center_x}, {center_y})\")\n"
   ]
  },
  {
   "cell_type": "code",
   "execution_count": null,
   "id": "06b39a40-3287-4ae8-a5b2-623387b512f4",
   "metadata": {},
   "outputs": [],
   "source": []
  }
 ],
 "metadata": {
  "kernelspec": {
   "display_name": "Python 3 (ipykernel)",
   "language": "python",
   "name": "python3"
  },
  "language_info": {
   "codemirror_mode": {
    "name": "ipython",
    "version": 3
   },
   "file_extension": ".py",
   "mimetype": "text/x-python",
   "name": "python",
   "nbconvert_exporter": "python",
   "pygments_lexer": "ipython3",
   "version": "3.10.5"
  }
 },
 "nbformat": 4,
 "nbformat_minor": 5
}
