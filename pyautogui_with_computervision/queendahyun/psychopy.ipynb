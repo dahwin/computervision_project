{
 "cells": [
  {
   "cell_type": "code",
   "execution_count": null,
   "id": "fa35216c-afd1-44ef-ad8f-1326f741bcac",
   "metadata": {},
   "outputs": [],
   "source": [
    "from psychopy import visual, core, event\n",
    "import random\n",
    "\n",
    "# Set up the window\n",
    "win = visual.Window([800,600], fullscr=False, color=\"black\", units=\"pix\")\n",
    "\n",
    "# Prepare stimuli\n",
    "instructions = visual.TextStim(win, text=\"Name the COLOR of the word, not the word itself.\\n\\nPress any key to begin.\")\n",
    "feedback = visual.TextStim(win, text=\"\")\n",
    "\n",
    "# Define color words and their corresponding colors\n",
    "color_words = ['RED', 'GREEN', 'BLUE', 'YELLOW']\n",
    "colors = ['red', 'green', 'blue', 'yellow']\n",
    "\n",
    "# Create trials\n",
    "num_trials = 10\n",
    "trials = []\n",
    "for i in range(num_trials):\n",
    "    word = random.choice(color_words)\n",
    "    color = random.choice(colors)\n",
    "    trials.append({'word': word, 'color': color})\n",
    "\n",
    "# Show instructions\n",
    "instructions.draw()\n",
    "win.flip()\n",
    "event.waitKeys()\n",
    "\n",
    "# Run trials\n",
    "for trial in trials:\n",
    "    # Create and display the stimulus\n",
    "    stimulus = visual.TextStim(win, text=trial['word'], color=trial['color'], height=50)\n",
    "    stimulus.draw()\n",
    "    win.flip()\n",
    "    \n",
    "    # Wait for response\n",
    "    clock = core.Clock()\n",
    "    keys = event.waitKeys(keyList=['r', 'g', 'b', 'y', 'escape'])\n",
    "    rt = clock.getTime()\n",
    "    \n",
    "    # Check if response is correct\n",
    "    correct_response = trial['color'][0].lower()\n",
    "    if keys[0] == 'escape':\n",
    "        break\n",
    "    elif keys[0] == correct_response:\n",
    "        feedback.text = f\"Correct! RT: {rt:.2f}s\"\n",
    "    else:\n",
    "        feedback.text = f\"Incorrect. RT: {rt:.2f}s\"\n",
    "    \n",
    "    # Display feedback\n",
    "    feedback.draw()\n",
    "    win.flip()\n",
    "    core.wait(1.0)\n",
    "\n",
    "# Clean up\n",
    "win.close()"
   ]
  },
  {
   "cell_type": "code",
   "execution_count": null,
   "id": "361cc78f-fade-454a-a22a-552d34018ba4",
   "metadata": {},
   "outputs": [],
   "source": []
  }
 ],
 "metadata": {
  "kernelspec": {
   "display_name": "Python 3 (ipykernel)",
   "language": "python",
   "name": "python3"
  },
  "language_info": {
   "codemirror_mode": {
    "name": "ipython",
    "version": 3
   },
   "file_extension": ".py",
   "mimetype": "text/x-python",
   "name": "python",
   "nbconvert_exporter": "python",
   "pygments_lexer": "ipython3",
   "version": "3.10.5"
  }
 },
 "nbformat": 4,
 "nbformat_minor": 5
}
