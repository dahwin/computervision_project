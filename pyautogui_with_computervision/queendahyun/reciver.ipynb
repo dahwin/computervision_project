{
 "cells": [
  {
   "cell_type": "code",
   "execution_count": null,
   "id": "f3f9c7ed-a367-4f24-9089-6acd5447fb4c",
   "metadata": {},
   "outputs": [
    {
     "name": "stderr",
     "output_type": "stream",
     "text": [
      "INFO:     Started server process [23328]\n",
      "INFO:     Waiting for application startup.\n",
      "INFO:     Application startup complete.\n",
      "INFO:     Uvicorn running on http://127.0.0.1:8000 (Press CTRL+C to quit)\n"
     ]
    },
    {
     "name": "stdout",
     "output_type": "stream",
     "text": [
      "x=221, y=1055\n",
      "221 1055\n",
      "INFO:     34.171.65.178:0 - \"POST /send_position HTTP/1.1\" 200 OK\n",
      "x=171, y=1060\n",
      "171 1060\n",
      "INFO:     34.171.65.178:0 - \"POST /send_position HTTP/1.1\" 200 OK\n",
      "x=126, y=272\n",
      "126 272\n",
      "INFO:     34.171.65.178:0 - \"POST /send_position HTTP/1.1\" 200 OK\n",
      "x=760, y=21\n",
      "760 21\n",
      "INFO:     34.171.65.178:0 - \"POST /send_position HTTP/1.1\" 200 OK\n",
      "x=760, y=21\n",
      "760 21\n",
      "INFO:     34.171.65.178:0 - \"POST /send_position HTTP/1.1\" 200 OK\n",
      "x=1225, y=117\n",
      "1225 117\n",
      "INFO:     34.171.65.178:0 - \"POST /send_position HTTP/1.1\" 200 OK\n",
      "x=1080, y=21\n",
      "1080 21\n",
      "INFO:     34.171.65.178:0 - \"POST /send_position HTTP/1.1\" 200 OK\n",
      "x=1736, y=118\n",
      "1736 118\n",
      "INFO:     34.171.65.178:0 - \"POST /send_position HTTP/1.1\" 200 OK\n",
      "x=1736, y=118\n",
      "1736 118\n",
      "INFO:     34.171.65.178:0 - \"POST /send_position HTTP/1.1\" 200 OK\n",
      "x=652, y=571\n",
      "652 571\n",
      "INFO:     34.171.65.178:0 - \"POST /send_position HTTP/1.1\" 200 OK\n"
     ]
    }
   ],
   "source": [
    "from fastapi import FastAPI\n",
    "import uvicorn\n",
    "import nest_asyncio\n",
    "nest_asyncio.apply()\n",
    "from groq import Groq\n",
    "import os\n",
    "import threading\n",
    "import pyautogui\n",
    "os.environ['GROQ_API_KEY'] = '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'\n",
    "client = Groq()\n",
    "import asyncio\n",
    "\n",
    "dahwin = FastAPI()\n",
    "\n",
    "\n",
    "\n",
    "\n",
    "\n",
    "@dahwin.get('/')\n",
    "async def index():\n",
    "    return {'Dahwin Universe': 'Hello Everything!'}\n",
    "\n",
    "\n",
    "@dahwin.post('/send_position')\n",
    "async def frames_meaning_endpoint(data: dict):\n",
    "    global x_y_position\n",
    "    x_y_position = data.get('dahwin')\n",
    "    \n",
    "    print(x_y_position)\n",
    "    # Extract the x and y values from the text\n",
    "    # Split the text at ', ' and then split each part at '=' to get the numbers\n",
    "    x, y = x_y_position.split(', ')\n",
    "    x = int(x.split('=')[1])\n",
    "    y = int(y.split('=')[1])\n",
    "    print(x, y)\n",
    "    \n",
    "    # Click at the extracted coordinates\n",
    "    pyautogui.click(x, y)\n",
    "\n",
    "if __name__ == '__main__':\n",
    "    # Start the FastAPI server\n",
    "    uvicorn.run(dahwin, host='127.0.0.1', port=8000)\n"
   ]
  },
  {
   "cell_type": "code",
   "execution_count": 5,
   "id": "52c952ef-f80f-4e1a-af4b-3a73333cfe1e",
   "metadata": {},
   "outputs": [],
   "source": [
    "import pyautogui\n",
    "import time\n",
    "\n",
    "# Wait for 5 seconds\n",
    "time.sleep(5)\n",
    "\n",
    "# The input text with coordinates\n",
    "text = 'x=1837, y=1013'\n",
    "\n"
   ]
  },
  {
   "cell_type": "code",
   "execution_count": 1,
   "id": "a1d427c7-bb71-4de8-9d77-db35a79e3cc3",
   "metadata": {},
   "outputs": [
    {
     "name": "stdout",
     "output_type": "stream",
     "text": [
      "x = 80, y = 14\n"
     ]
    }
   ],
   "source": [
    "import pyautogui\n",
    "import time\n",
    "\n",
    "# Wait for 5 seconds\n",
    "time.sleep(5)\n",
    "# Bounding box in the format [x1, y1, x2, y2]\n",
    "bbox = [45, 7, 115, 21]\n",
    "\n",
    "# Extract the coordinates\n",
    "x1, y1, x2, y2 = bbox\n",
    "\n",
    "# Calculate the center coordinates\n",
    "x = (x1 + x2) // 2\n",
    "y = (y1 + y2) // 2\n",
    "\n",
    "print(f\"x = {x}, y = {y}\")\n",
    "\n",
    "pyautogui.click(x, y)"
   ]
  },
  {
   "cell_type": "code",
   "execution_count": 1,
   "id": "a508fff6-c369-4f47-a4c0-e57c7b7cad2e",
   "metadata": {},
   "outputs": [
    {
     "name": "stderr",
     "output_type": "stream",
     "text": [
      "t=2024-08-13T19:28:02+0600 lvl=warn msg=\"ngrok config file found at legacy location, move to XDG location\" xdg_path=\"C:\\\\Users\\\\ALL USER\\\\AppData\\\\Local/ngrok/ngrok.yml\" legacy_path=\"C:\\\\Users\\\\ALL USER\\\\.ngrok2\\\\ngrok.yml\"\n"
     ]
    },
    {
     "data": {
      "text/plain": [
       "<NgrokTunnel: \"https://a214-27-147-206-228.ngrok-free.app\" -> \"http://localhost:8000\">"
      ]
     },
     "execution_count": 1,
     "metadata": {},
     "output_type": "execute_result"
    },
    {
     "name": "stderr",
     "output_type": "stream",
     "text": [
      "t=2024-08-13T19:28:49+0600 lvl=warn msg=\"failed to open private leg\" id=842821bbea8a privaddr=localhost:8000 err=\"dial tcp [::1]:8000: connectex: No connection could be made because the target machine actively refused it.\"\n"
     ]
    }
   ],
   "source": [
    "from pyngrok import ngrok\n",
    "\n",
    "# Setting an auth token allows us to open multiple\n",
    "# tunnels at the same time\n",
    "# ngrok.set_auth_token(\"2R1tsuod04ayFPLUINN1J0J5qpJ_89tdxKVwtCs9F7kvG1uhv\")\n",
    "ngrok.set_auth_token(\"2YGG5TlGcsNjutkY1hua39OM2gv_7XdWGdMHeh6KY4AqMjGiD\")\n",
    "# ngrok.set_auth_token(\"2QWsRU60eUFpOOpFSSkHEqocwAv_2WW7UbufSLbszD94BLGzr\")\n",
    "\n",
    "# <NgrokTunnel: \"http://<public_sub2>.ngrok.io\" -> \"http://localhost:8000\">\n",
    "\n",
    "# Start ngrok with the custom configuration file\n",
    "ngrok_tunnel2 = ngrok.connect(8000)\n",
    "ngrok_tunnel2"
   ]
  },
  {
   "cell_type": "code",
   "execution_count": null,
   "id": "06062339-d9ee-43b9-b084-dc193668affb",
   "metadata": {},
   "outputs": [],
   "source": []
  }
 ],
 "metadata": {
  "kernelspec": {
   "display_name": "Python 3 (ipykernel)",
   "language": "python",
   "name": "python3"
  },
  "language_info": {
   "codemirror_mode": {
    "name": "ipython",
    "version": 3
   },
   "file_extension": ".py",
   "mimetype": "text/x-python",
   "name": "python",
   "nbconvert_exporter": "python",
   "pygments_lexer": "ipython3",
   "version": "3.10.5"
  }
 },
 "nbformat": 4,
 "nbformat_minor": 5
}
